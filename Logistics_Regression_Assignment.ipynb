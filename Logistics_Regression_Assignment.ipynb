{
  "nbformat": 4,
  "nbformat_minor": 0,
  "metadata": {
    "colab": {
      "provenance": []
    },
    "kernelspec": {
      "name": "python3",
      "display_name": "Python 3"
    },
    "language_info": {
      "name": "python"
    }
  },
  "cells": [
    {
      "cell_type": "markdown",
      "source": [
        "#**THEORY :**\n",
        "\n",
        "##Q1)What is Logistic Regression, and how does it differ from Linear Regression?\n",
        "\n",
        "###ANS:Logistic Regression is a classification algorithm used for binary and multiclass classification tasks. Unlike Linear Regression, which predicts continuous values, Logistic Regression predicts probabilities and applies the sigmoid function to map outputs between ***0*** and ***1***."
      ],
      "metadata": {
        "id": "X46o5Zw-n31c"
      }
    },
    {
      "cell_type": "markdown",
      "source": [
        "##Q2)What is the mathematical equation of Logistic Regression?\n",
        "\n",
        "###ANS:\n",
        "![Screenshot 2025-02-16 130142.png](data:image/png;base64,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)\n",
        "###Where P(Y=1∣X) is the probability that 𝑌 is 1 given 𝑋 and β 0 ,β 1,...βn  are the coefficients."
      ],
      "metadata": {
        "id": "XfP0_e2hos1C"
      }
    },
    {
      "cell_type": "markdown",
      "source": [
        "##Q3)Why do we use the Sigmoid function in Logistic Regression?\n",
        "\n",
        "###ANS:The sigmoid function maps any real number to a range between ***0*** and ***1***, making it suitable for probability estimation in classification problems."
      ],
      "metadata": {
        "id": "cSjZD40Qn3ex"
      }
    },
    {
      "cell_type": "markdown",
      "source": [
        "##Q4)What is the cost function of Logistic Regression?\n",
        "\n",
        "###ANS:The cost function is the log loss (binary cross-entropy):\n",
        "![Screenshot 2025-02-16 135308.png](data:image/png;base64,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)\n",
        "\n",
        "##where ***ℎ𝜃(𝑥)*** is the predicted probability.\n"
      ],
      "metadata": {
        "id": "NHSJ4MN810Uo"
      }
    },
    {
      "cell_type": "markdown",
      "source": [
        "##Q5)What is Regularization in Logistic Regression? Why is it needed?\n",
        "\n",
        "###ANS:Regularization (L1/L2) prevents overfitting by penalizing large coefficients, leading to a more generalized model.\n",
        "\n"
      ],
      "metadata": {
        "id": "wc4s98Rt2TK4"
      }
    },
    {
      "cell_type": "markdown",
      "source": [
        "##Q6)Explain the difference between Lasso, Ridge, and Elastic Net regression.\n",
        "\n",
        "###ANS:\n",
        "\n",
        "*   **Lasso (L1 Regularization)**: Shrinks coefficients and can set some to zero (feature selection).\n",
        "\n",
        "*   **Ridge (L2 Regularization)**: Shrinks coefficients but does not eliminate them.\n",
        "*  **Elastic Net**: Combines L1 and L2, balancing sparsity and coefficient shrinkage.\n",
        "\n"
      ],
      "metadata": {
        "id": "mfO8iDOX2Tv7"
      }
    },
    {
      "cell_type": "markdown",
      "source": [
        "##Q7)When should we use Elastic Net instead of Lasso or Ridge?\n",
        "\n",
        "###ANS:When there are correlated features, Elastic Net is preferred as it retains grouped variables, unlike Lasso, which selects only one."
      ],
      "metadata": {
        "id": "7AhE_-O241M3"
      }
    },
    {
      "cell_type": "markdown",
      "source": [
        "##Q8)What is the impact of the regularization parameter (λ) in Logistic Regression?\n",
        "\n",
        "###ANS:Higher λ increases regularization, reducing overfitting but increasing bias. Lower λ reduces regularization, risking overfitting."
      ],
      "metadata": {
        "id": "adImgbct48vC"
      }
    },
    {
      "cell_type": "markdown",
      "source": [
        "##Q9.What are the key assumptions of Logistic Regression?\n",
        "\n",
        "###ANS:\n",
        "\n",
        "*   The outcome variable is binary or multinomial.\n",
        "\n",
        "*   Independent variables are not highly correlated (multicollinearity).\n",
        "\n",
        "*  Linear relationship between independent variables and log-odds.\n",
        "\n",
        "*   Large sample size for better performance.\n",
        "\n"
      ],
      "metadata": {
        "id": "Xf2Tu8ba5Xag"
      }
    },
    {
      "cell_type": "markdown",
      "source": [
        "##Q10)What are some alternatives to Logistic Regression for classification tasks?\n",
        "\n",
        "###ANS:\n",
        "\n",
        "*   Decision Trees\n",
        "\n",
        "*   Random Forest\n",
        "\n",
        "*   Support Vector Machines (SVM)\n",
        "\n",
        "*   Naïve Bayes\n",
        "\n",
        "*  Neural Networks\n",
        "\n"
      ],
      "metadata": {
        "id": "C22fugVY5w6n"
      }
    },
    {
      "cell_type": "markdown",
      "source": [
        "##Q11)What are Classification Evaluation Metrics?\n",
        "\n",
        "###ANS:\n",
        "\n",
        "*   Accuracy\n",
        "\n",
        "*   Precision\n",
        "\n",
        "*   Recall\n",
        "\n",
        "*   F1-score\n",
        "\n",
        "*  ROC-AUC\n",
        "\n",
        "*   Log-loss\n",
        "\n"
      ],
      "metadata": {
        "id": "CQv3mFP26Q98"
      }
    },
    {
      "cell_type": "markdown",
      "source": [
        "##Q12)How does class imbalance affect Logistic Regression?\n",
        "\n",
        "###ANS:\n",
        "\n",
        "*   Biases predictions toward the majority class.\n",
        "\n",
        "*  Leads to misleading accuracy scores.\n",
        "\n",
        "*  Solutions: Resampling, using class weights, or alternative metrics like F1-score.\n",
        "\n"
      ],
      "metadata": {
        "id": "b4jmDLx4hj-f"
      }
    },
    {
      "cell_type": "markdown",
      "source": [
        "##Q13)What is Hyperparameter Tuning in Logistic Regression?\n",
        "\n",
        "###ANS:Adjusting hyperparameters like regularization strength (C), solver choice, and penalty type (L1/L2) to optimize model performance.\n",
        "\n"
      ],
      "metadata": {
        "id": "97YLgfQTh-0g"
      }
    },
    {
      "cell_type": "markdown",
      "source": [
        "##Q14)What are different solvers in Logistic Regression? Which one should be used?\n",
        "\n",
        "###ANS:\n",
        "\n",
        "*   **liblinear**: Good for small datasets.\n",
        "\n",
        "*   **saga**: Works with L1, L2, and Elastic Net for large datasets.\n",
        "\n",
        "*   **lbfgs**: Default, used for multiclass.\n",
        "\n",
        "*   **newton-cg**: Works well for L2-regularized problems.\n",
        "\n"
      ],
      "metadata": {
        "id": "8KCPfLKaicig"
      }
    },
    {
      "cell_type": "markdown",
      "source": [
        "##Q15)How is Logistic Regression extended for multiclass classification?\n",
        "\n",
        "###ANS:\n",
        "\n",
        "*   **One-vs-Rest (OvR)**: Fits a binary classifier for each class.\n",
        "\n",
        "*   **Softmax Regression**: Computes probabilities for all classes at once.\n",
        "\n"
      ],
      "metadata": {
        "id": "jXFJ6b8yjPya"
      }
    },
    {
      "cell_type": "markdown",
      "source": [
        "##Q16)What are the advantages and disadvantages of Logistic Regression?\n",
        "\n",
        "###ANS:\n",
        "\n",
        "*  **Advantages**: Simple, interpretable, efficient for small datasets.\n",
        "\n",
        "*  **Disadvantages**: Assumes linearity, struggles with complex data.\n",
        "\n",
        "\n",
        "\n"
      ],
      "metadata": {
        "id": "pyrn3Ng8jjMn"
      }
    },
    {
      "cell_type": "markdown",
      "source": [
        "##Q17)What are some use cases of Logistic Regression?\n",
        "\n",
        "###ANS:\n",
        "\n",
        "*  Medical diagnosis (e.g., predicting disease risk).\n",
        "\n",
        "*   Spam detection.\n",
        "\n",
        "*   Credit risk analysis.\n",
        "\n"
      ],
      "metadata": {
        "id": "DJ2hcqdSidGe"
      }
    },
    {
      "cell_type": "markdown",
      "source": [
        "##Q18)What is the difference between Softmax Regression and Logistic Regression?\n",
        "\n",
        "###ANS:\n",
        "\n",
        "*   Logistic Regression is for binary classification.\n",
        "\n",
        "*  Softmax Regression is for multiclass classification and assigns probabilities across multiple classes.\n",
        "\n"
      ],
      "metadata": {
        "id": "MDUMQGihkePz"
      }
    },
    {
      "cell_type": "markdown",
      "source": [
        "##Q19)How do we choose between One-vs-Rest (OvR) and Softmax for multiclass classification?\n",
        "\n",
        "###ANS:\n",
        "\n",
        "*   **OvR**: Better for imbalanced classes, faster for large datasets.\n",
        "\n",
        "*   **Softmax**: More efficient when all classes are equally important.\n",
        "\n"
      ],
      "metadata": {
        "id": "Xko1hjX1k1sT"
      }
    },
    {
      "cell_type": "markdown",
      "source": [
        "##Q20)How do we interpret coefficients in Logistic Regression?\n",
        "\n",
        "###ANS: The coefficient 𝛽𝑖 represents the change in log-odds for a one-unit increase in 𝑋𝑖.\n",
        "\n",
        "*  **Positive 𝛽𝑖**\n",
        ": Increases the probability of the positive class.\n",
        "*   **Negative 𝛽𝑖**\n",
        ": Decreases the probability of the positive class.\n",
        "\n"
      ],
      "metadata": {
        "id": "_2GoyOQNl8sX"
      }
    },
    {
      "cell_type": "markdown",
      "source": [
        "#**PRACTICALS :**\n",
        "\n",
        "##Q1)Write a Python program that loads a dataset, splits it into training and testing sets, applies Logistic Regression, and prints the model accuracy."
      ],
      "metadata": {
        "id": "R_qFcpAbUiUF"
      }
    },
    {
      "cell_type": "code",
      "execution_count": 2,
      "metadata": {
        "colab": {
          "base_uri": "https://localhost:8080/"
        },
        "id": "UKKCvO9CUTGj",
        "outputId": "1bac3d0f-0aea-4736-95f7-8ed76c558021"
      },
      "outputs": [
        {
          "output_type": "stream",
          "name": "stdout",
          "text": [
            "Model Accuracy: 0.65\n"
          ]
        }
      ],
      "source": [
        "import pandas as pd\n",
        "import numpy as np\n",
        "from sklearn.model_selection import train_test_split\n",
        "from sklearn.linear_model import LogisticRegression\n",
        "from sklearn.metrics import accuracy_score\n",
        "\n",
        "# Generating a sample dataset (Replace with actual dataset)\n",
        "data = {\n",
        "    'Feature1': np.random.rand(100),\n",
        "    'Feature2': np.random.rand(100),\n",
        "    'Label': np.random.randint(0, 2, 100)\n",
        "}\n",
        "\n",
        "df = pd.DataFrame(data)\n",
        "\n",
        "# Splitting dataset into features and target variable\n",
        "X = df[['Feature1', 'Feature2']]\n",
        "y = df['Label']\n",
        "\n",
        "# Splitting into training and testing sets (80% training, 20% testing)\n",
        "X_train, X_test, y_train, y_test = train_test_split(X, y, test_size=0.2, random_state=42)\n",
        "\n",
        "# Initializing and training the logistic regression model\n",
        "model = LogisticRegression()\n",
        "model.fit(X_train, y_train)\n",
        "\n",
        "# Making predictions\n",
        "y_pred = model.predict(X_test)\n",
        "\n",
        "# Evaluating model accuracy\n",
        "accuracy = accuracy_score(y_test, y_pred)\n",
        "\n",
        "print(f\"Model Accuracy: {accuracy:.2f}\")\n"
      ]
    },
    {
      "cell_type": "markdown",
      "source": [
        "##Q2)Write a Python program to apply L1 regularization (Lasso) on a dataset using LogisticRegression (penalty='l1') and print the model accuracy."
      ],
      "metadata": {
        "id": "PUq0DX3eY3W9"
      }
    },
    {
      "cell_type": "code",
      "source": [
        "import pandas as pd\n",
        "import numpy as np\n",
        "from sklearn.model_selection import train_test_split\n",
        "from sklearn.linear_model import LogisticRegression\n",
        "from sklearn.metrics import accuracy_score\n",
        "from sklearn.preprocessing import StandardScaler\n",
        "\n",
        "# Generating a sample dataset (Replace with actual dataset)\n",
        "data = {\n",
        "    'Feature1': np.random.rand(100),\n",
        "    'Feature2': np.random.rand(100),\n",
        "    'Label': np.random.randint(0, 2, 100)\n",
        "}\n",
        "\n",
        "df = pd.DataFrame(data)\n",
        "\n",
        "# Splitting dataset into features and target variable\n",
        "X = df[['Feature1', 'Feature2']]\n",
        "y = df['Label']\n",
        "\n",
        "# Splitting into training and testing sets (80% training, 20% testing)\n",
        "X_train, X_test, y_train, y_test = train_test_split(X, y, test_size=0.2, random_state=42)\n",
        "\n",
        "# Standardizing features for better performance with L1 regularization\n",
        "scaler = StandardScaler()\n",
        "X_train = scaler.fit_transform(X_train)\n",
        "X_test = scaler.transform(X_test)\n",
        "\n",
        "# Initializing and training Logistic Regression with L1 regularization\n",
        "model = LogisticRegression(penalty='l1', solver='liblinear')\n",
        "model.fit(X_train, y_train)\n",
        "\n",
        "# Making predictions\n",
        "y_pred = model.predict(X_test)\n",
        "\n",
        "# Evaluating model accuracy\n",
        "accuracy = accuracy_score(y_test, y_pred)\n",
        "\n",
        "print(f\"Model Accuracy with L1 Regularization: {accuracy:.2f}\")\n"
      ],
      "metadata": {
        "colab": {
          "base_uri": "https://localhost:8080/"
        },
        "id": "lCWjXXzhY97c",
        "outputId": "7a60247b-0454-4129-e836-19397ee83c1d"
      },
      "execution_count": 3,
      "outputs": [
        {
          "output_type": "stream",
          "name": "stdout",
          "text": [
            "Model Accuracy with L1 Regularization: 0.55\n"
          ]
        }
      ]
    },
    {
      "cell_type": "markdown",
      "source": [
        "##Q3)Write a Python program to train Logistic Regression with L2 regularization (Ridge) using LogisticRegression(penalty='l2') and print model accuracy and coefficients."
      ],
      "metadata": {
        "id": "xIoddQzrZBcl"
      }
    },
    {
      "cell_type": "code",
      "source": [
        "import pandas as pd\n",
        "import numpy as np\n",
        "from sklearn.model_selection import train_test_split\n",
        "from sklearn.linear_model import LogisticRegression\n",
        "from sklearn.metrics import accuracy_score\n",
        "from sklearn.preprocessing import StandardScaler\n",
        "\n",
        "# Generating a sample dataset\n",
        "data = {\n",
        "    'Feature1': np.random.rand(100),\n",
        "    'Feature2': np.random.rand(100),\n",
        "    'Label': np.random.randint(0, 2, 100)\n",
        "}\n",
        "\n",
        "df = pd.DataFrame(data)\n",
        "\n",
        "# Splitting dataset into features and target variable\n",
        "X = df[['Feature1', 'Feature2']]\n",
        "y = df['Label']\n",
        "\n",
        "# Splitting into training and testing sets (80% training, 20% testing)\n",
        "X_train, X_test, y_train, y_test = train_test_split(X, y, test_size=0.2, random_state=42)\n",
        "\n",
        "# Standardizing features for better performance with L2 regularization\n",
        "scaler = StandardScaler()\n",
        "X_train = scaler.fit_transform(X_train)\n",
        "X_test = scaler.transform(X_test)\n",
        "\n",
        "# Initializing and training Logistic Regression with L2 regularization\n",
        "model = LogisticRegression(penalty='l2', solver='lbfgs')\n",
        "model.fit(X_train, y_train)\n",
        "\n",
        "# Making predictions\n",
        "y_pred = model.predict(X_test)\n",
        "\n",
        "# Evaluating model accuracy\n",
        "accuracy = accuracy_score(y_test, y_pred)\n",
        "\n",
        "print(f\"Model Accuracy with L2 Regularization: {accuracy:.2f}\")\n",
        "print(\"Model Coefficients:\", model.coef_)\n"
      ],
      "metadata": {
        "colab": {
          "base_uri": "https://localhost:8080/"
        },
        "id": "3QGARNJZZJ38",
        "outputId": "6791a611-786e-4e1c-961c-a1bd70693694"
      },
      "execution_count": 4,
      "outputs": [
        {
          "output_type": "stream",
          "name": "stdout",
          "text": [
            "Model Accuracy with L2 Regularization: 0.30\n",
            "Model Coefficients: [[ 0.4555029  -0.24346504]]\n"
          ]
        }
      ]
    },
    {
      "cell_type": "markdown",
      "source": [
        "##Q4)Write a Python program to train Logistic Regression with Elastic Net Regularization (penalty='elasticnet')."
      ],
      "metadata": {
        "id": "5jzk7Fc6ZMgc"
      }
    },
    {
      "cell_type": "code",
      "source": [
        "import pandas as pd\n",
        "import numpy as np\n",
        "from sklearn.model_selection import train_test_split\n",
        "from sklearn.linear_model import LogisticRegression\n",
        "from sklearn.metrics import accuracy_score\n",
        "from sklearn.preprocessing import StandardScaler\n",
        "\n",
        "# Generating a sample dataset\n",
        "data = {\n",
        "    'Feature1': np.random.rand(100),\n",
        "    'Feature2': np.random.rand(100),\n",
        "    'Label': np.random.randint(0, 2, 100)\n",
        "}\n",
        "\n",
        "df = pd.DataFrame(data)\n",
        "\n",
        "# Splitting dataset into features and target variable\n",
        "X = df[['Feature1', 'Feature2']]\n",
        "y = df['Label']\n",
        "\n",
        "# Splitting into training and testing sets\n",
        "X_train, X_test, y_train, y_test = train_test_split(X, y, test_size=0.2, random_state=42)\n",
        "\n",
        "# Standardizing features\n",
        "scaler = StandardScaler()\n",
        "X_train = scaler.fit_transform(X_train)\n",
        "X_test = scaler.transform(X_test)\n",
        "\n",
        "# Initializing and training Logistic Regression with Elastic Net regularization\n",
        "model = LogisticRegression(penalty='elasticnet', solver='saga', l1_ratio=0.5)  # l1_ratio controls L1 vs L2 mix\n",
        "model.fit(X_train, y_train)\n",
        "\n",
        "# Making predictions\n",
        "y_pred = model.predict(X_test)\n",
        "\n",
        "# Evaluating model accuracy\n",
        "accuracy = accuracy_score(y_test, y_pred)\n",
        "\n",
        "print(f\"Model Accuracy with Elastic Net Regularization: {accuracy:.2f}\")\n"
      ],
      "metadata": {
        "colab": {
          "base_uri": "https://localhost:8080/"
        },
        "id": "4sq3e00XZaLc",
        "outputId": "6c900339-da0b-4dcd-d7ee-9010419124ba"
      },
      "execution_count": 5,
      "outputs": [
        {
          "output_type": "stream",
          "name": "stdout",
          "text": [
            "Model Accuracy with Elastic Net Regularization: 0.55\n"
          ]
        }
      ]
    },
    {
      "cell_type": "markdown",
      "source": [
        "##Q5)Write a Python program to train a Logistic Regression model for multiclass classification using multi_class='ovr'."
      ],
      "metadata": {
        "id": "-y4yJTWrZhe8"
      }
    },
    {
      "cell_type": "code",
      "source": [
        "import pandas as pd\n",
        "import numpy as np\n",
        "from sklearn.model_selection import train_test_split\n",
        "from sklearn.linear_model import LogisticRegression\n",
        "from sklearn.metrics import accuracy_score\n",
        "from sklearn.preprocessing import StandardScaler\n",
        "\n",
        "# Generating a sample dataset with three classes\n",
        "data = {\n",
        "    'Feature1': np.random.rand(150),\n",
        "    'Feature2': np.random.rand(150),\n",
        "    'Label': np.random.choice([0, 1, 2], 150)  # Three classes: 0, 1, and 2\n",
        "}\n",
        "\n",
        "df = pd.DataFrame(data)\n",
        "\n",
        "# Splitting dataset into features and target variable\n",
        "X = df[['Feature1', 'Feature2']]\n",
        "y = df['Label']\n",
        "\n",
        "# Splitting into training and testing sets\n",
        "X_train, X_test, y_train, y_test = train_test_split(X, y, test_size=0.2, random_state=42)\n",
        "\n",
        "# Standardizing features\n",
        "scaler = StandardScaler()\n",
        "X_train = scaler.fit_transform(X_train)\n",
        "X_test = scaler.transform(X_test)\n",
        "\n",
        "# Initializing and training Logistic Regression for multiclass classification (One-vs-Rest)\n",
        "model = LogisticRegression(multi_class='ovr', solver='lbfgs')\n",
        "model.fit(X_train, y_train)\n",
        "\n",
        "# Making predictions\n",
        "y_pred = model.predict(X_test)\n",
        "\n",
        "# Evaluating model accuracy\n",
        "accuracy = accuracy_score(y_test, y_pred)\n",
        "\n",
        "print(f\"Model Accuracy for Multiclass (One-vs-Rest): {accuracy:.2f}\")\n"
      ],
      "metadata": {
        "colab": {
          "base_uri": "https://localhost:8080/"
        },
        "id": "G-xVmSs8Zn4e",
        "outputId": "fb59ce1d-6f3a-4ba3-8f93-fd9d25a23370"
      },
      "execution_count": 6,
      "outputs": [
        {
          "output_type": "stream",
          "name": "stdout",
          "text": [
            "Model Accuracy for Multiclass (One-vs-Rest): 0.43\n"
          ]
        },
        {
          "output_type": "stream",
          "name": "stderr",
          "text": [
            "/usr/local/lib/python3.11/dist-packages/sklearn/linear_model/_logistic.py:1256: FutureWarning: 'multi_class' was deprecated in version 1.5 and will be removed in 1.7. Use OneVsRestClassifier(LogisticRegression(..)) instead. Leave it to its default value to avoid this warning.\n",
            "  warnings.warn(\n"
          ]
        }
      ]
    },
    {
      "cell_type": "markdown",
      "source": [
        "##Q6)Write a Python program to apply GridSearchCV to tune the hyperparameters (C and penalty) of Logistic Regression. Print the best parameters and accuracy."
      ],
      "metadata": {
        "id": "7UPrN2YuZsEs"
      }
    },
    {
      "cell_type": "code",
      "source": [
        "import pandas as pd\n",
        "import numpy as np\n",
        "from sklearn.model_selection import train_test_split, GridSearchCV\n",
        "from sklearn.linear_model import LogisticRegression\n",
        "from sklearn.preprocessing import StandardScaler\n",
        "from sklearn.metrics import accuracy_score\n",
        "\n",
        "# Generating a sample dataset\n",
        "data = {\n",
        "    'Feature1': np.random.rand(100),\n",
        "    'Feature2': np.random.rand(100),\n",
        "    'Label': np.random.randint(0, 2, 100)\n",
        "}\n",
        "\n",
        "df = pd.DataFrame(data)\n",
        "\n",
        "# Splitting dataset into features and target variable\n",
        "X = df[['Feature1', 'Feature2']]\n",
        "y = df['Label']\n",
        "\n",
        "# Splitting into training and testing sets\n",
        "X_train, X_test, y_train, y_test = train_test_split(X, y, test_size=0.2, random_state=42)\n",
        "\n",
        "# Standardizing features\n",
        "scaler = StandardScaler()\n",
        "X_train = scaler.fit_transform(X_train)\n",
        "X_test = scaler.transform(X_test)\n",
        "\n",
        "# Defining parameter grid\n",
        "param_grid = {\n",
        "    'C': [0.1, 1, 10],\n",
        "    'penalty': ['l1', 'l2']\n",
        "}\n",
        "\n",
        "# Initializing and training Logistic Regression with GridSearchCV\n",
        "model = GridSearchCV(LogisticRegression(solver='liblinear'), param_grid, cv=5)\n",
        "model.fit(X_train, y_train)\n",
        "\n",
        "# Best parameters and model accuracy\n",
        "best_params = model.best_params_\n",
        "best_model = model.best_estimator_\n",
        "y_pred = best_model.predict(X_test)\n",
        "accuracy = accuracy_score(y_test, y_pred)\n",
        "\n",
        "print(f\"Best Parameters: {best_params}\")\n",
        "print(f\"Model Accuracy: {accuracy:.2f}\")\n"
      ],
      "metadata": {
        "colab": {
          "base_uri": "https://localhost:8080/"
        },
        "id": "3_DxEhKYZvfb",
        "outputId": "044bebb1-a8ed-4c1f-c8c8-82892806b32f"
      },
      "execution_count": 7,
      "outputs": [
        {
          "output_type": "stream",
          "name": "stdout",
          "text": [
            "Best Parameters: {'C': 1, 'penalty': 'l1'}\n",
            "Model Accuracy: 0.70\n"
          ]
        }
      ]
    },
    {
      "cell_type": "markdown",
      "source": [
        "##Q7)Write a Python program to evaluate Logistic Regression using Stratified K-Fold Cross-Validation. Print the average accuracy."
      ],
      "metadata": {
        "id": "RQfzdBUjZ1AU"
      }
    },
    {
      "cell_type": "code",
      "source": [
        "import pandas as pd\n",
        "import numpy as np\n",
        "from sklearn.model_selection import StratifiedKFold, cross_val_score\n",
        "from sklearn.linear_model import LogisticRegression\n",
        "from sklearn.preprocessing import StandardScaler\n",
        "\n",
        "# Generating a sample dataset\n",
        "data = {\n",
        "    'Feature1': np.random.rand(100),\n",
        "    'Feature2': np.random.rand(100),\n",
        "    'Label': np.random.randint(0, 2, 100)\n",
        "}\n",
        "\n",
        "df = pd.DataFrame(data)\n",
        "\n",
        "# Splitting dataset into features and target variable\n",
        "X = df[['Feature1', 'Feature2']]\n",
        "y = df['Label']\n",
        "\n",
        "# Standardizing features\n",
        "scaler = StandardScaler()\n",
        "X = scaler.fit_transform(X)\n",
        "\n",
        "# Applying Stratified K-Fold Cross-Validation\n",
        "skf = StratifiedKFold(n_splits=5, shuffle=True, random_state=42)\n",
        "model = LogisticRegression()\n",
        "\n",
        "# Cross-validation scores\n",
        "scores = cross_val_score(model, X, y, cv=skf)\n",
        "\n",
        "# Printing average accuracy\n",
        "print(f\"Average Accuracy from Stratified K-Fold CV: {scores.mean():.2f}\")\n"
      ],
      "metadata": {
        "colab": {
          "base_uri": "https://localhost:8080/"
        },
        "id": "W4zC_IjVZ_J8",
        "outputId": "2b2fc8df-67bd-4f0c-9d24-90d94a69a4ac"
      },
      "execution_count": 8,
      "outputs": [
        {
          "output_type": "stream",
          "name": "stdout",
          "text": [
            "Average Accuracy from Stratified K-Fold CV: 0.56\n"
          ]
        }
      ]
    },
    {
      "cell_type": "markdown",
      "source": [
        "##Q8)Write a Python program to load a dataset from a CSV file, apply Logistic Regression, and evaluate its accuracy."
      ],
      "metadata": {
        "id": "wfh8xndWaDuT"
      }
    },
    {
      "cell_type": "code",
      "source": [
        "import pandas as pd\n",
        "from sklearn.model_selection import train_test_split\n",
        "from sklearn.linear_model import LogisticRegression\n",
        "from sklearn.metrics import accuracy_score\n",
        "from sklearn.preprocessing import StandardScaler  # For feature scaling (important for Logistic Regression)\n",
        "\n",
        "def logistic_regression_model(csv_file_path, target_column):\n",
        "    \"\"\"\n",
        "    Loads a dataset from a CSV file, applies Logistic Regression, and evaluates its accuracy.\n",
        "\n",
        "    Args:\n",
        "        csv_file_path (str): The path to the CSV file.\n",
        "        target_column (str): The name of the target column (the column you're trying to predict).\n",
        "\n",
        "    Returns:\n",
        "        tuple: A tuple containing the trained Logistic Regression model and the accuracy score.\n",
        "               Returns None if there's an error loading the data.\n",
        "    \"\"\"\n",
        "    try:\n",
        "        # 1. Load the dataset\n",
        "        data = pd.read_csv(csv_file_path)\n",
        "\n",
        "        # 2. Separate features (X) and target (y)\n",
        "        X = data.drop(target_column, axis=1)  # Features (all columns except the target)\n",
        "        y = data[target_column]             # Target variable\n",
        "\n",
        "        # 3. Feature Scaling (Crucial for Logistic Regression performance)\n",
        "        scaler = StandardScaler()\n",
        "        X_scaled = scaler.fit_transform(X)   # Fit and transform the features\n",
        "\n",
        "        # 4. Split data into training and testing sets\n",
        "        X_train, X_test, y_train, y_test = train_test_split(X_scaled, y, test_size=0.2, random_state=42)  # 80% train, 20% test\n",
        "\n",
        "        # 5. Create and train the Logistic Regression model\n",
        "        model = LogisticRegression(max_iter=1000) # Increased max_iter for convergence if needed\n",
        "        model.fit(X_train, y_train)\n",
        "\n",
        "        # 6. Make predictions on the test set\n",
        "        y_pred = model.predict(X_test)\n",
        "\n",
        "        # 7. Evaluate the model's accuracy\n",
        "        accuracy = accuracy_score(y_test, y_pred)\n",
        "\n",
        "        return model, accuracy\n",
        "\n",
        "    except FileNotFoundError:\n",
        "        print(f\"Error: CSV file not found at {csv_file_path}\")\n",
        "        return None\n",
        "    except KeyError:\n",
        "        print(f\"Error: Target column '{target_column}' not found in CSV.\")\n",
        "        return None\n",
        "    except Exception as e: # Catching other potential errors during data loading/processing\n",
        "        print(f\"An error occurred: {e}\")\n",
        "        return None\n",
        "\n",
        "\n",
        "\n",
        "# Example usage:\n",
        "file_path = \"your_dataset.csv\"  # Replace with the actual path to your CSV file\n",
        "target = \"your_target_column\"   # Replace with the name of your target column\n",
        "\n",
        "result = logistic_regression_model(file_path, target)\n",
        "\n",
        "if result:\n",
        "    trained_model, accuracy = result\n",
        "    print(f\"Trained Logistic Regression model: {trained_model}\")\n",
        "    print(f\"Accuracy: {accuracy}\")"
      ],
      "metadata": {
        "colab": {
          "base_uri": "https://localhost:8080/"
        },
        "id": "7J8Zt0M0fBx2",
        "outputId": "47491f6e-0c51-4ce6-d056-76acdef6f0bc"
      },
      "execution_count": 9,
      "outputs": [
        {
          "output_type": "stream",
          "name": "stdout",
          "text": [
            "Error: CSV file not found at your_dataset.csv\n"
          ]
        }
      ]
    },
    {
      "cell_type": "markdown",
      "source": [
        "##Q9)Write a Python program to apply RandomizedSearchCV for tuning hyperparameters (C, penalty, solver) in Logistic Regression. Print the best parameters and accuracy."
      ],
      "metadata": {
        "id": "WqLh7PBifU9W"
      }
    },
    {
      "cell_type": "code",
      "source": [
        "import pandas as pd\n",
        "import numpy as np\n",
        "from sklearn.model_selection import train_test_split, RandomizedSearchCV\n",
        "from sklearn.linear_model import LogisticRegression\n",
        "from sklearn.preprocessing import StandardScaler\n",
        "from sklearn.metrics import accuracy_score\n",
        "from scipy.stats import uniform\n",
        "\n",
        "# Generating a sample dataset\n",
        "data = {\n",
        "    'Feature1': np.random.rand(100),\n",
        "    'Feature2': np.random.rand(100),\n",
        "    'Label': np.random.randint(0, 2, 100)\n",
        "}\n",
        "\n",
        "df = pd.DataFrame(data)\n",
        "\n",
        "# Splitting dataset into features and target variable\n",
        "X = df[['Feature1', 'Feature2']]\n",
        "y = df['Label']\n",
        "\n",
        "# Splitting into training and testing sets\n",
        "X_train, X_test, y_train, y_test = train_test_split(X, y, test_size=0.2, random_state=42)\n",
        "\n",
        "# Standardizing features\n",
        "scaler = StandardScaler()\n",
        "X_train = scaler.fit_transform(X_train)\n",
        "X_test = scaler.transform(X_test)\n",
        "\n",
        "# Defining parameter grid\n",
        "param_dist = {\n",
        "    'C': uniform(0.1, 10),\n",
        "    'penalty': ['l1', 'l2'],\n",
        "    'solver': ['liblinear', 'saga']\n",
        "}\n",
        "\n",
        "# Initializing and training Logistic Regression with RandomizedSearchCV\n",
        "model = RandomizedSearchCV(LogisticRegression(), param_dist, cv=5, n_iter=10, random_state=42)\n",
        "model.fit(X_train, y_train)\n",
        "\n",
        "# Best parameters and model accuracy\n",
        "best_params = model.best_params_\n",
        "best_model = model.best_estimator_\n",
        "y_pred = best_model.predict(X_test)\n",
        "accuracy = accuracy_score(y_test, y_pred)\n",
        "\n",
        "print(f\"Best Parameters: {best_params}\")\n",
        "print(f\"Model Accuracy: {accuracy:.2f}\")\n"
      ],
      "metadata": {
        "colab": {
          "base_uri": "https://localhost:8080/"
        },
        "id": "kEKS0V8CfZed",
        "outputId": "2799cbcf-eb1b-4c5d-87be-8335c303e654"
      },
      "execution_count": 10,
      "outputs": [
        {
          "output_type": "stream",
          "name": "stdout",
          "text": [
            "Best Parameters: {'C': 7.41993941811405, 'penalty': 'l1', 'solver': 'liblinear'}\n",
            "Model Accuracy: 0.25\n"
          ]
        }
      ]
    },
    {
      "cell_type": "markdown",
      "source": [
        "##Q10)Write a Python program to implement One-vs-One (OvO) Multiclass Logistic Regression and print accuracy.\n"
      ],
      "metadata": {
        "id": "RipRAjrkfciO"
      }
    },
    {
      "cell_type": "code",
      "source": [
        "import pandas as pd\n",
        "import numpy as np\n",
        "from sklearn.model_selection import train_test_split\n",
        "from sklearn.linear_model import LogisticRegression\n",
        "from sklearn.metrics import accuracy_score\n",
        "from sklearn.preprocessing import StandardScaler\n",
        "\n",
        "def ovo_logistic_regression(csv_file_path, target_column):\n",
        "    try:\n",
        "        data = pd.read_csv(csv_file_path)\n",
        "        X = data.drop(target_column, axis=1)\n",
        "        y = data[target_column]\n",
        "\n",
        "        scaler = StandardScaler()\n",
        "        X_scaled = scaler.fit_transform(X)\n",
        "\n",
        "        X_train, X_test, y_train, y_test = train_test_split(X_scaled, y, test_size=0.2, random_state=42)\n",
        "\n",
        "        classes = np.unique(y_train)\n",
        "        models = {}\n",
        "\n",
        "        for i in range(len(classes)):\n",
        "            for j in range(i + 1, len(classes)):\n",
        "                class_i = classes[i]\n",
        "                class_j = classes[j]\n",
        "\n",
        "                # Filter data for the two classes\n",
        "                binary_mask_train = (y_train == class_i) | (y_train == class_j)\n",
        "                X_train_binary = X_train[binary_mask_train]\n",
        "                y_train_binary = y_train[binary_mask_train]\n",
        "\n",
        "                model_name = f\"{class_i}_vs_{class_j}\"\n",
        "                models[model_name] = LogisticRegression(max_iter=1000)\n",
        "                models[model_name].fit(X_train_binary, y_train_binary)\n",
        "\n",
        "        predictions = []\n",
        "        for x in X_test:\n",
        "            votes = {}\n",
        "            for i in range(len(classes)):\n",
        "                for j in range(i + 1, len(classes)):\n",
        "                    class_i = classes[i]\n",
        "                    class_j = classes[j]\n",
        "                    model_name = f\"{class_i}_vs_{class_j}\"\n",
        "                    model = models[model_name]\n",
        "\n",
        "                    binary_x = np.array([x]) # Reshape for prediction\n",
        "                    prediction = model.predict(binary_x)[0]\n",
        "\n",
        "                    if prediction in votes:\n",
        "                        votes[prediction] += 1\n",
        "                    else:\n",
        "                        votes[prediction] = 1\n",
        "\n",
        "            predicted_class = max(votes, key=votes.get) if votes else None # Handle empty votes\n",
        "            predictions.append(predicted_class)\n",
        "\n",
        "        accuracy = accuracy_score(y_test, predictions) if predictions else 0 # Handle empty predictions\n",
        "\n",
        "        return accuracy\n",
        "\n",
        "    except FileNotFoundError:\n",
        "        print(f\"Error: CSV file not found at {csv_file_path}\")\n",
        "        return None\n",
        "    except KeyError:\n",
        "        print(f\"Error: Target column '{target_column}' not found in CSV.\")\n",
        "        return None\n",
        "    except Exception as e:\n",
        "        print(f\"An error occurred: {e}\")\n",
        "        return None\n",
        "\n",
        "\n",
        "\n",
        "file_path = \"your_dataset.csv\"  # Replace with your file path\n",
        "target = \"your_target_column\"   # Replace with your target column\n",
        "\n",
        "accuracy = ovo_logistic_regression(file_path, target)\n",
        "\n",
        "if accuracy is not None:\n",
        "    print(f\"One-vs-One Logistic Regression Accuracy: {accuracy}\")"
      ],
      "metadata": {
        "colab": {
          "base_uri": "https://localhost:8080/"
        },
        "id": "shdJap1kf_-V",
        "outputId": "2c352474-e705-4d4f-b127-212b8b571143"
      },
      "execution_count": 11,
      "outputs": [
        {
          "output_type": "stream",
          "name": "stdout",
          "text": [
            "Error: CSV file not found at your_dataset.csv\n"
          ]
        }
      ]
    },
    {
      "cell_type": "markdown",
      "source": [
        "##Q11)Write a Python program to train a Logistic Regression model and visualize the confusion matrix for binary classification."
      ],
      "metadata": {
        "id": "IQqNg2MdgFKV"
      }
    },
    {
      "cell_type": "code",
      "source": [
        "import pandas as pd\n",
        "import numpy as np\n",
        "import matplotlib.pyplot as plt\n",
        "import seaborn as sns\n",
        "from sklearn.model_selection import train_test_split\n",
        "from sklearn.linear_model import LogisticRegression\n",
        "from sklearn.metrics import confusion_matrix\n",
        "\n",
        "# Generating a sample dataset\n",
        "data = {\n",
        "    'Feature1': np.random.rand(100),\n",
        "    'Feature2': np.random.rand(100),\n",
        "    'Label': np.random.randint(0, 2, 100)\n",
        "}\n",
        "\n",
        "df = pd.DataFrame(data)\n",
        "\n",
        "# Splitting dataset into features and target variable\n",
        "X = df[['Feature1', 'Feature2']]\n",
        "y = df['Label']\n",
        "\n",
        "# Splitting into training and testing sets\n",
        "X_train, X_test, y_train, y_test = train_test_split(X, y, test_size=0.2, random_state=42)\n",
        "\n",
        "# Initializing and training Logistic Regression\n",
        "model = LogisticRegression()\n",
        "model.fit(X_train, y_train)\n",
        "\n",
        "# Making predictions\n",
        "y_pred = model.predict(X_test)\n",
        "\n",
        "# Creating the confusion matrix\n",
        "cm = confusion_matrix(y_test, y_pred)\n",
        "\n",
        "# Visualizing the confusion matrix\n",
        "plt.figure(figsize=(6, 4))\n",
        "sns.heatmap(cm, annot=True, fmt=\"d\", cmap=\"Blues\")\n",
        "plt.xlabel(\"Predicted Label\")\n",
        "plt.ylabel(\"True Label\")\n",
        "plt.title(\"Confusion Matrix\")\n",
        "plt.show()\n"
      ],
      "metadata": {
        "colab": {
          "base_uri": "https://localhost:8080/",
          "height": 410
        },
        "id": "jKYZhHcsgHMd",
        "outputId": "074b6d4c-7cce-44bd-c178-a2bdf66e9a3a"
      },
      "execution_count": 12,
      "outputs": [
        {
          "output_type": "display_data",
          "data": {
            "text/plain": [
              "<Figure size 600x400 with 2 Axes>"
            ],
            "image/png": "[encoded data removed]"
          },
          "metadata": {}
        }
      ]
    },
    {
      "cell_type": "markdown",
      "source": [
        "##Q12)Write a Python program to train a Logistic Regression model and evaluate its performance using Precision, Recall, and F1-Score."
      ],
      "metadata": {
        "id": "Dh7iAn4mgNJ9"
      }
    },
    {
      "cell_type": "code",
      "source": [
        "import pandas as pd\n",
        "import numpy as np\n",
        "from sklearn.model_selection import train_test_split\n",
        "from sklearn.linear_model import LogisticRegression\n",
        "from sklearn.metrics import precision_score, recall_score, f1_score\n",
        "\n",
        "# Generating a sample dataset\n",
        "data = {\n",
        "    'Feature1': np.random.rand(100),\n",
        "    'Feature2': np.random.rand(100),\n",
        "    'Label': np.random.randint(0, 2, 100)\n",
        "}\n",
        "\n",
        "df = pd.DataFrame(data)\n",
        "\n",
        "# Splitting dataset into features and target variable\n",
        "X = df[['Feature1', 'Feature2']]\n",
        "y = df['Label']\n",
        "\n",
        "# Splitting into training and testing sets\n",
        "X_train, X_test, y_train, y_test = train_test_split(X, y, test_size=0.2, random_state=42)\n",
        "\n",
        "# Initializing and training Logistic Regression\n",
        "model = LogisticRegression()\n",
        "model.fit(X_train, y_train)\n",
        "\n",
        "# Making predictions\n",
        "y_pred = model.predict(X_test)\n",
        "\n",
        "# Evaluating performance\n",
        "precision = precision_score(y_test, y_pred)\n",
        "recall = recall_score(y_test, y_pred)\n",
        "f1 = f1_score(y_test, y_pred)\n",
        "\n",
        "print(f\"Precision: {precision:.2f}\")\n",
        "print(f\"Recall: {recall:.2f}\")\n",
        "print(f\"F1-Score: {f1:.2f}\")\n"
      ],
      "metadata": {
        "colab": {
          "base_uri": "https://localhost:8080/"
        },
        "id": "Bj-pMRiwgQUd",
        "outputId": "1d95403f-79b8-40b1-c880-cdeae7b97093"
      },
      "execution_count": 13,
      "outputs": [
        {
          "output_type": "stream",
          "name": "stdout",
          "text": [
            "Precision: 0.45\n",
            "Recall: 0.50\n",
            "F1-Score: 0.48\n"
          ]
        }
      ]
    },
    {
      "cell_type": "markdown",
      "source": [
        "##Q13)Write a Python program to train a Logistic Regression model on an imbalanced dataset and apply class weights to improve model performance."
      ],
      "metadata": {
        "id": "r295g_PZgUs1"
      }
    },
    {
      "cell_type": "code",
      "source": [
        "import pandas as pd\n",
        "import numpy as np\n",
        "from sklearn.model_selection import train_test_split\n",
        "from sklearn.linear_model import LogisticRegression\n",
        "from sklearn.utils import class_weight\n",
        "from sklearn.metrics import accuracy_score\n",
        "\n",
        "# Generating an imbalanced dataset\n",
        "data = {\n",
        "    'Feature1': np.random.rand(1000),\n",
        "    'Feature2': np.random.rand(1000),\n",
        "    'Label': np.concatenate((np.zeros(900), np.ones(100)))  # Imbalanced: 90% class 0, 10% class 1\n",
        "}\n",
        "\n",
        "df = pd.DataFrame(data)\n",
        "\n",
        "# Splitting dataset into features and target variable\n",
        "X = df[['Feature1', 'Feature2']]\n",
        "y = df['Label']\n",
        "\n",
        "# Splitting into training and testing sets\n",
        "X_train, X_test, y_train, y_test = train_test_split(X, y, test_size=0.2, random_state=42)\n",
        "\n",
        "# Computing class weights\n",
        "weights = class_weight.compute_class_weight('balanced', classes=np.unique(y), y=y)\n",
        "class_weights = {0: weights[0], 1: weights[1]}\n",
        "\n",
        "# Initializing and training Logistic Regression with class weights\n",
        "model = LogisticRegression(class_weight=class_weights)\n",
        "model.fit(X_train, y_train)\n",
        "\n",
        "# Making predictions\n",
        "y_pred = model.predict(X_test)\n",
        "\n",
        "# Evaluating model accuracy\n",
        "accuracy = accuracy_score(y_test, y_pred)\n",
        "\n",
        "print(f\"Model Accuracy with Class Weights: {accuracy:.2f}\")\n"
      ],
      "metadata": {
        "colab": {
          "base_uri": "https://localhost:8080/"
        },
        "id": "Jb-UMwR8gY91",
        "outputId": "96482d38-82e4-4662-a4d9-6758681ce241"
      },
      "execution_count": 14,
      "outputs": [
        {
          "output_type": "stream",
          "name": "stdout",
          "text": [
            "Model Accuracy with Class Weights: 0.58\n"
          ]
        }
      ]
    },
    {
      "cell_type": "markdown",
      "source": [
        "##Q14)Write a Python program to train Logistic Regression on the Titanic dataset, handle missing values, and evaluate performance.\n"
      ],
      "metadata": {
        "id": "jJTagnNqgcaM"
      }
    },
    {
      "cell_type": "code",
      "source": [
        "import pandas as pd\n",
        "import numpy as np\n",
        "from sklearn.model_selection import train_test_split\n",
        "from sklearn.linear_model import LogisticRegression\n",
        "from sklearn.impute import SimpleImputer\n",
        "from sklearn.metrics import accuracy_score\n",
        "\n",
        "# Load Titanic dataset\n",
        "df = pd.read_csv(\"https://raw.githubusercontent.com/datasciencedojo/datasets/master/titanic.csv\")\n",
        "\n",
        "# Selecting relevant features\n",
        "df = df[['Pclass', 'Age', 'SibSp', 'Parch', 'Fare', 'Survived']]\n",
        "\n",
        "# Handling missing values\n",
        "imputer = SimpleImputer(strategy='mean')\n",
        "df[['Age']] = imputer.fit_transform(df[['Age']])\n",
        "\n",
        "# Splitting into features and target variable\n",
        "X = df.drop(columns=['Survived'])\n",
        "y = df['Survived']\n",
        "\n",
        "# Splitting into training and testing sets\n",
        "X_train, X_test, y_train, y_test = train_test_split(X, y, test_size=0.2, random_state=42)\n",
        "\n",
        "# Initializing and training Logistic Regression\n",
        "model = LogisticRegression()\n",
        "model.fit(X_train, y_train)\n",
        "\n",
        "# Making predictions\n",
        "y_pred = model.predict(X_test)\n",
        "\n",
        "# Evaluating model accuracy\n",
        "accuracy = accuracy_score(y_test, y_pred)\n",
        "\n",
        "print(f\"Model Accuracy on Titanic Dataset: {accuracy:.2f}\")\n"
      ],
      "metadata": {
        "colab": {
          "base_uri": "https://localhost:8080/"
        },
        "id": "xTORzoU3ge-M",
        "outputId": "781a1ded-4727-427f-d93c-b3c2e88b882a"
      },
      "execution_count": 15,
      "outputs": [
        {
          "output_type": "stream",
          "name": "stdout",
          "text": [
            "Model Accuracy on Titanic Dataset: 0.73\n"
          ]
        }
      ]
    },
    {
      "cell_type": "markdown",
      "source": [
        "##Q15)Write a Python program to apply feature scaling (standardization) before training a Logistic Regression model. Compare accuracy on results with and without scaling."
      ],
      "metadata": {
        "id": "CP2tJW_Sgjxl"
      }
    },
    {
      "cell_type": "code",
      "source": [
        "import pandas as pd\n",
        "import numpy as np\n",
        "from sklearn.model_selection import train_test_split\n",
        "from sklearn.linear_model import LogisticRegression\n",
        "from sklearn.preprocessing import StandardScaler\n",
        "from sklearn.metrics import accuracy_score\n",
        "\n",
        "# Generating a sample dataset\n",
        "data = {\n",
        "    'Feature1': np.random.rand(100),\n",
        "    'Feature2': np.random.rand(100),\n",
        "    'Label': np.random.randint(0, 2, 100)\n",
        "}\n",
        "\n",
        "df = pd.DataFrame(data)\n",
        "\n",
        "# Splitting dataset into features and target variable\n",
        "X = df[['Feature1', 'Feature2']]\n",
        "y = df['Label']\n",
        "\n",
        "# Splitting into training and testing sets\n",
        "X_train, X_test, y_train, y_test = train_test_split(X, y, test_size=0.2, random_state=42)\n",
        "\n",
        "# Training Logistic Regression without scaling\n",
        "model_no_scaling = LogisticRegression()\n",
        "model_no_scaling.fit(X_train, y_train)\n",
        "y_pred_no_scaling = model_no_scaling.predict(X_test)\n",
        "accuracy_no_scaling = accuracy_score(y_test, y_pred_no_scaling)\n",
        "\n",
        "# Applying Standardization\n",
        "scaler = StandardScaler()\n",
        "X_train_scaled = scaler.fit_transform(X_train)\n",
        "X_test_scaled = scaler.transform(X_test)\n",
        "\n",
        "# Training Logistic Regression with scaling\n",
        "model_scaled = LogisticRegression()\n",
        "model_scaled.fit(X_train_scaled, y_train)\n",
        "y_pred_scaled = model_scaled.predict(X_test_scaled)\n",
        "accuracy_scaled = accuracy_score(y_test, y_pred_scaled)\n",
        "\n",
        "print(f\"Accuracy Without Scaling: {accuracy_no_scaling:.2f}\")\n",
        "print(f\"Accuracy With Scaling: {accuracy_scaled:.2f}\")\n"
      ],
      "metadata": {
        "colab": {
          "base_uri": "https://localhost:8080/"
        },
        "id": "SZ_FCl2cgn2M",
        "outputId": "fa69d2af-87fa-4d0c-97f3-c03cd4f000df"
      },
      "execution_count": 16,
      "outputs": [
        {
          "output_type": "stream",
          "name": "stdout",
          "text": [
            "Accuracy Without Scaling: 0.40\n",
            "Accuracy With Scaling: 0.40\n"
          ]
        }
      ]
    },
    {
      "cell_type": "markdown",
      "source": [
        "##Q16)Write a Python program to train a Logistic Regression model and evaluate its performance using ROC-AUC score."
      ],
      "metadata": {
        "id": "lQc7pe9Pgq2E"
      }
    },
    {
      "cell_type": "code",
      "source": [
        "import pandas as pd\n",
        "import numpy as np\n",
        "from sklearn.model_selection import train_test_split\n",
        "from sklearn.linear_model import LogisticRegression\n",
        "from sklearn.metrics import roc_auc_score\n",
        "\n",
        "# Generating a sample dataset\n",
        "data = {\n",
        "    'Feature1': np.random.rand(100),\n",
        "    'Feature2': np.random.rand(100),\n",
        "    'Label': np.random.randint(0, 2, 100)\n",
        "}\n",
        "\n",
        "df = pd.DataFrame(data)\n",
        "\n",
        "# Splitting dataset into features and target variable\n",
        "X = df[['Feature1', 'Feature2']]\n",
        "y = df['Label']\n",
        "\n",
        "# Splitting into training and testing sets\n",
        "X_train, X_test, y_train, y_test = train_test_split(X, y, test_size=0.2, random_state=42)\n",
        "\n",
        "# Initializing and training Logistic Regression\n",
        "model = LogisticRegression()\n",
        "model.fit(X_train, y_train)\n",
        "\n",
        "# Making predictions\n",
        "y_pred_proba = model.predict_proba(X_test)[:, 1]\n",
        "\n",
        "# Evaluating ROC-AUC score\n",
        "roc_auc = roc_auc_score(y_test, y_pred_proba)\n",
        "\n",
        "print(f\"ROC-AUC Score: {roc_auc:.2f}\")\n"
      ],
      "metadata": {
        "colab": {
          "base_uri": "https://localhost:8080/"
        },
        "id": "iYrgRL-zgtz8",
        "outputId": "82e946c5-fc70-4665-9c94-83b4cccaa8bb"
      },
      "execution_count": 17,
      "outputs": [
        {
          "output_type": "stream",
          "name": "stdout",
          "text": [
            "ROC-AUC Score: 0.57\n"
          ]
        }
      ]
    },
    {
      "cell_type": "markdown",
      "source": [
        "##Q17)Write a Python program to train Logistic Regression using a custom learning rate (C=0.5) and evaluate its accuracy."
      ],
      "metadata": {
        "id": "7CsTbuMIgwwc"
      }
    },
    {
      "cell_type": "code",
      "source": [
        "import pandas as pd\n",
        "import numpy as np\n",
        "from sklearn.model_selection import train_test_split\n",
        "from sklearn.linear_model import LogisticRegression\n",
        "from sklearn.metrics import accuracy_score\n",
        "\n",
        "# Generating a sample dataset\n",
        "data = {\n",
        "    'Feature1': np.random.rand(100),\n",
        "    'Feature2': np.random.rand(100),\n",
        "    'Label': np.random.randint(0, 2, 100)\n",
        "}\n",
        "\n",
        "df = pd.DataFrame(data)\n",
        "\n",
        "# Splitting dataset into features and target variable\n",
        "X = df[['Feature1', 'Feature2']]\n",
        "y = df['Label']\n",
        "\n",
        "# Splitting into training and testing sets\n",
        "X_train, X_test, y_train, y_test = train_test_split(X, y, test_size=0.2, random_state=42)\n",
        "\n",
        "# Initializing and training Logistic Regression with custom learning rate\n",
        "model = LogisticRegression(C=0.5)\n",
        "model.fit(X_train, y_train)\n",
        "\n",
        "# Making predictions\n",
        "y_pred = model.predict(X_test)\n",
        "\n",
        "# Evaluating accuracy\n",
        "accuracy = accuracy_score(y_test, y_pred)\n",
        "\n",
        "print(f\"Model Accuracy with C=0.5: {accuracy:.2f}\")\n"
      ],
      "metadata": {
        "colab": {
          "base_uri": "https://localhost:8080/"
        },
        "id": "Hn3prlWkgy38",
        "outputId": "3ae0ec6c-19fa-4e9a-a514-49bd0e94f60a"
      },
      "execution_count": 18,
      "outputs": [
        {
          "output_type": "stream",
          "name": "stdout",
          "text": [
            "Model Accuracy with C=0.5: 0.40\n"
          ]
        }
      ]
    },
    {
      "cell_type": "markdown",
      "source": [
        "##Q18)Write a Python program to train Logistic Regression and identify important features based on model coefficients."
      ],
      "metadata": {
        "id": "4AVzQJ-jg29V"
      }
    },
    {
      "cell_type": "code",
      "source": [
        "import pandas as pd\n",
        "import numpy as np\n",
        "from sklearn.model_selection import train_test_split\n",
        "from sklearn.linear_model import LogisticRegression\n",
        "\n",
        "# Generating a sample dataset\n",
        "data = {\n",
        "    'Feature1': np.random.rand(100),\n",
        "    'Feature2': np.random.rand(100),\n",
        "    'Feature3': np.random.rand(100),\n",
        "    'Feature4': np.random.rand(100),\n",
        "    'Label': np.random.randint(0, 2, 100)\n",
        "}\n",
        "\n",
        "df = pd.DataFrame(data)\n",
        "\n",
        "# Splitting dataset into features and target variable\n",
        "X = df.drop(columns=['Label'])\n",
        "y = df['Label']\n",
        "\n",
        "# Splitting into training and testing sets\n",
        "X_train, X_test, y_train, y_test = train_test_split(X, y, test_size=0.2, random_state=42)\n",
        "\n",
        "# Initializing and training Logistic Regression\n",
        "model = LogisticRegression()\n",
        "model.fit(X_train, y_train)\n",
        "\n",
        "# Extracting feature importance\n",
        "feature_importance = pd.DataFrame({'Feature': X.columns, 'Importance': model.coef_[0]})\n",
        "feature_importance = feature_importance.sort_values(by='Importance', ascending=False)\n",
        "\n",
        "print(feature_importance)\n"
      ],
      "metadata": {
        "colab": {
          "base_uri": "https://localhost:8080/"
        },
        "id": "-2db9JT1g5ic",
        "outputId": "5e128694-7aa8-4b70-c03b-3b43ad4688a4"
      },
      "execution_count": 19,
      "outputs": [
        {
          "output_type": "stream",
          "name": "stdout",
          "text": [
            "    Feature  Importance\n",
            "1  Feature2    0.449538\n",
            "3  Feature4    0.206269\n",
            "0  Feature1    0.050208\n",
            "2  Feature3   -0.341115\n"
          ]
        }
      ]
    },
    {
      "cell_type": "markdown",
      "source": [
        "##Q19)Write a Python program to train Logistic Regression and evaluate robustness using Cohen's Kappa Score."
      ],
      "metadata": {
        "id": "uiWmIAvNg9qU"
      }
    },
    {
      "cell_type": "code",
      "source": [
        "import pandas as pd\n",
        "import numpy as np\n",
        "from sklearn.model_selection import train_test_split\n",
        "from sklearn.linear_model import LogisticRegression\n",
        "from sklearn.metrics import cohen_kappa_score\n",
        "\n",
        "# Generating a sample dataset\n",
        "data = {\n",
        "    'Feature1': np.random.rand(100),\n",
        "    'Feature2': np.random.rand(100),\n",
        "    'Label': np.random.randint(0, 2, 100)\n",
        "}\n",
        "\n",
        "df = pd.DataFrame(data)\n",
        "\n",
        "# Splitting dataset into features and target variable\n",
        "X = df[['Feature1', 'Feature2']]\n",
        "y = df['Label']\n",
        "\n",
        "# Splitting into training and testing sets\n",
        "X_train, X_test, y_train, y_test = train_test_split(X, y, test_size=0.2, random_state=42)\n",
        "\n",
        "# Initializing and training Logistic Regression\n",
        "model = LogisticRegression()\n",
        "model.fit(X_train, y_train)\n",
        "\n",
        "# Making predictions\n",
        "y_pred = model.predict(X_test)\n",
        "\n",
        "# Evaluating Cohen's Kappa Score\n",
        "kappa_score = cohen_kappa_score(y_test, y_pred)\n",
        "\n",
        "print(f\"Cohen's Kappa Score: {kappa_score:.2f}\")\n"
      ],
      "metadata": {
        "colab": {
          "base_uri": "https://localhost:8080/"
        },
        "id": "Al8WWpW5hBls",
        "outputId": "e7be125f-3339-4cea-c8d0-169ebaa9800f"
      },
      "execution_count": 20,
      "outputs": [
        {
          "output_type": "stream",
          "name": "stdout",
          "text": [
            "Cohen's Kappa Score: -0.04\n"
          ]
        }
      ]
    },
    {
      "cell_type": "markdown",
      "source": [
        "##Q20)Write a Python program to train Logistic Regression and visualize the Precision-Recall Curve for binary classification."
      ],
      "metadata": {
        "id": "F4Q1KNFmhErU"
      }
    },
    {
      "cell_type": "code",
      "source": [
        "import pandas as pd\n",
        "import numpy as np\n",
        "import matplotlib.pyplot as plt\n",
        "from sklearn.model_selection import train_test_split\n",
        "from sklearn.linear_model import LogisticRegression\n",
        "from sklearn.metrics import precision_recall_curve\n",
        "\n",
        "# Generating a sample dataset\n",
        "data = {\n",
        "    'Feature1': np.random.rand(100),\n",
        "    'Feature2': np.random.rand(100),\n",
        "    'Label': np.random.randint(0, 2, 100)\n",
        "}\n",
        "\n",
        "df = pd.DataFrame(data)\n",
        "\n",
        "# Splitting dataset into features and target variable\n",
        "X = df[['Feature1', 'Feature2']]\n",
        "y = df['Label']\n",
        "\n",
        "# Splitting into training and testing sets\n",
        "X_train, X_test, y_train, y_test = train_test_split(X, y, test_size=0.2, random_state=42)\n",
        "\n",
        "# Initializing and training Logistic Regression\n",
        "model = LogisticRegression()\n",
        "model.fit(X_train, y_train)\n",
        "\n",
        "# Getting prediction probabilities\n",
        "y_scores = model.predict_proba(X_test)[:, 1]\n",
        "\n",
        "# Computing Precision-Recall curve\n",
        "precision, recall, _ = precision_recall_curve(y_test, y_scores)\n",
        "\n",
        "# Plotting Precision-Recall curve\n",
        "plt.plot(recall, precision, marker='.')\n",
        "plt.xlabel('Recall')\n",
        "plt.ylabel('Precision')\n",
        "plt.title('Precision-Recall Curve')\n",
        "plt.show()\n"
      ],
      "metadata": {
        "colab": {
          "base_uri": "https://localhost:8080/",
          "height": 472
        },
        "id": "QeWz9tuehIGc",
        "outputId": "959224ba-ee42-42d6-db79-d83c71bf1458"
      },
      "execution_count": 21,
      "outputs": [
        {
          "output_type": "display_data",
          "data": {
            "text/plain": [
              "<Figure size 640x480 with 1 Axes>"
            ],
            "image/png": "[encoded data removed]"
          },
          "metadata": {}
        }
      ]
    },
    {
      "cell_type": "markdown",
      "source": [
        "##Q21)Write a Python program to train Logistic Regression with different solvers (liblinear, saga, lbfgs) and compare accuracy.\n"
      ],
      "metadata": {
        "id": "-zS11b37hOWM"
      }
    },
    {
      "cell_type": "code",
      "source": [
        "import pandas as pd\n",
        "import numpy as np\n",
        "from sklearn.model_selection import train_test_split\n",
        "from sklearn.linear_model import LogisticRegression\n",
        "from sklearn.metrics import accuracy_score\n",
        "\n",
        "# Generating a sample dataset\n",
        "data = {\n",
        "    'Feature1': np.random.rand(200),\n",
        "    'Feature2': np.random.rand(200),\n",
        "    'Label': np.random.randint(0, 2, 200)\n",
        "}\n",
        "\n",
        "df = pd.DataFrame(data)\n",
        "\n",
        "# Splitting dataset into features and target variable\n",
        "X = df[['Feature1', 'Feature2']]\n",
        "y = df['Label']\n",
        "\n",
        "# Splitting into training and testing sets\n",
        "X_train, X_test, y_train, y_test = train_test_split(X, y, test_size=0.2, random_state=42)\n",
        "\n",
        "# List of solvers to test\n",
        "solvers = ['liblinear', 'saga', 'lbfgs']\n",
        "\n",
        "# Training and evaluating models with different solvers\n",
        "for solver in solvers:\n",
        "    model = LogisticRegression(solver=solver)\n",
        "    model.fit(X_train, y_train)\n",
        "    y_pred = model.predict(X_test)\n",
        "    accuracy = accuracy_score(y_test, y_pred)\n",
        "    print(f\"Accuracy with {solver}: {accuracy:.2f}\")\n"
      ],
      "metadata": {
        "colab": {
          "base_uri": "https://localhost:8080/"
        },
        "id": "ZvOOBL_5hRt6",
        "outputId": "8e57d32a-14d8-429b-9160-c1645bef4652"
      },
      "execution_count": 22,
      "outputs": [
        {
          "output_type": "stream",
          "name": "stdout",
          "text": [
            "Accuracy with liblinear: 0.50\n",
            "Accuracy with saga: 0.50\n",
            "Accuracy with lbfgs: 0.50\n"
          ]
        }
      ]
    },
    {
      "cell_type": "markdown",
      "source": [
        "##Q22)Write a Python program to train Logistic Regression and evaluate robustness using cross-validation.\n"
      ],
      "metadata": {
        "id": "AHg32IZRhWNT"
      }
    },
    {
      "cell_type": "code",
      "source": [
        "import pandas as pd\n",
        "import numpy as np\n",
        "from sklearn.model_selection import cross_val_score\n",
        "from sklearn.linear_model import LogisticRegression\n",
        "\n",
        "# Generating a sample dataset\n",
        "data = {\n",
        "    'Feature1': np.random.rand(200),\n",
        "    'Feature2': np.random.rand(200),\n",
        "    'Label': np.random.randint(0, 2, 200)\n",
        "}\n",
        "\n",
        "df = pd.DataFrame(data)\n",
        "\n",
        "# Splitting dataset into features and target variable\n",
        "X = df[['Feature1', 'Feature2']]\n",
        "y = df['Label']\n",
        "\n",
        "# Initializing Logistic Regression model\n",
        "model = LogisticRegression()\n",
        "\n",
        "# Performing cross-validation\n",
        "cv_scores = cross_val_score(model, X, y, cv=5)\n",
        "\n",
        "print(f\"Cross-validation scores: {cv_scores}\")\n",
        "print(f\"Mean accuracy: {cv_scores.mean():.2f}\")\n"
      ],
      "metadata": {
        "colab": {
          "base_uri": "https://localhost:8080/"
        },
        "id": "WrHOp_RZhZLw",
        "outputId": "a8228da2-209c-49a8-c8f7-56a5ca36df50"
      },
      "execution_count": 23,
      "outputs": [
        {
          "output_type": "stream",
          "name": "stdout",
          "text": [
            "Cross-validation scores: [0.55  0.6   0.525 0.475 0.55 ]\n",
            "Mean accuracy: 0.54\n"
          ]
        }
      ]
    },
    {
      "cell_type": "markdown",
      "source": [
        "##Q23)Write a Python program to train Logistic Regression on both raw and transformed data. Compare the accuracy."
      ],
      "metadata": {
        "id": "Ew9kzfo4hdHs"
      }
    },
    {
      "cell_type": "code",
      "source": [
        "import pandas as pd\n",
        "import numpy as np\n",
        "from sklearn.model_selection import train_test_split\n",
        "from sklearn.preprocessing import StandardScaler\n",
        "from sklearn.linear_model import LogisticRegression\n",
        "from sklearn.metrics import accuracy_score\n",
        "\n",
        "# Generating a sample dataset\n",
        "data = {\n",
        "    'Feature1': np.random.rand(200),\n",
        "    'Feature2': np.random.rand(200),\n",
        "    'Label': np.random.randint(0, 2, 200)\n",
        "}\n",
        "\n",
        "df = pd.DataFrame(data)\n",
        "\n",
        "# Splitting dataset into features and target variable\n",
        "X = df[['Feature1', 'Feature2']]\n",
        "y = df['Label']\n",
        "\n",
        "# Splitting into training and testing sets\n",
        "X_train, X_test, y_train, y_test = train_test_split(X, y, test_size=0.2, random_state=42)\n",
        "\n",
        "# Training Logistic Regression on raw data\n",
        "model_raw = LogisticRegression()\n",
        "model_raw.fit(X_train, y_train)\n",
        "y_pred_raw = model_raw.predict(X_test)\n",
        "accuracy_raw = accuracy_score(y_test, y_pred_raw)\n",
        "\n",
        "# Standardizing the data\n",
        "scaler = StandardScaler()\n",
        "X_train_scaled = scaler.fit_transform(X_train)\n",
        "X_test_scaled = scaler.transform(X_test)\n",
        "\n",
        "# Training Logistic Regression on transformed data\n",
        "model_scaled = LogisticRegression()\n",
        "model_scaled.fit(X_train_scaled, y_train)\n",
        "y_pred_scaled = model_scaled.predict(X_test_scaled)\n",
        "accuracy_scaled = accuracy_score(y_test, y_pred_scaled)\n",
        "\n",
        "print(f\"Accuracy on raw data: {accuracy_raw:.2f}\")\n",
        "print(f\"Accuracy on transformed data: {accuracy_scaled:.2f}\")\n"
      ],
      "metadata": {
        "colab": {
          "base_uri": "https://localhost:8080/"
        },
        "id": "2HzTKalqhgqr",
        "outputId": "582c25cb-8a56-4b7d-e186-4a98ae7339af"
      },
      "execution_count": 24,
      "outputs": [
        {
          "output_type": "stream",
          "name": "stdout",
          "text": [
            "Accuracy on raw data: 0.47\n",
            "Accuracy on transformed data: 0.47\n"
          ]
        }
      ]
    },
    {
      "cell_type": "markdown",
      "source": [
        "##Q24)Write a Python program to train Logistic Regression and find the optimal C (regularization strength) using cross-validation."
      ],
      "metadata": {
        "id": "G0__ccaRhlb0"
      }
    },
    {
      "cell_type": "code",
      "source": [
        "import pandas as pd\n",
        "import numpy as np\n",
        "from sklearn.model_selection import GridSearchCV\n",
        "from sklearn.linear_model import LogisticRegression\n",
        "\n",
        "# Generating a sample dataset\n",
        "data = {\n",
        "    'Feature1': np.random.rand(200),\n",
        "    'Feature2': np.random.rand(200),\n",
        "    'Label': np.random.randint(0, 2, 200)\n",
        "}\n",
        "\n",
        "df = pd.DataFrame(data)\n",
        "\n",
        "# Splitting dataset into features and target variable\n",
        "X = df[['Feature1', 'Feature2']]\n",
        "y = df['Label']\n",
        "\n",
        "# Defining parameter grid for hyperparameter tuning\n",
        "param_grid = {'C': [0.01, 0.1, 1, 10, 100]}\n",
        "\n",
        "# Performing GridSearchCV to find optimal C\n",
        "grid_search = GridSearchCV(LogisticRegression(), param_grid, cv=5)\n",
        "grid_search.fit(X, y)\n",
        "\n",
        "print(f\"Best C value: {grid_search.best_params_['C']}\")\n",
        "print(f\"Best cross-validation score: {grid_search.best_score_:.2f}\")\n"
      ],
      "metadata": {
        "colab": {
          "base_uri": "https://localhost:8080/"
        },
        "id": "6d3c04URhneV",
        "outputId": "e6047dc3-d9b7-49cc-ea07-ac9893ed7915"
      },
      "execution_count": 25,
      "outputs": [
        {
          "output_type": "stream",
          "name": "stdout",
          "text": [
            "Best C value: 0.01\n",
            "Best cross-validation score: 0.52\n"
          ]
        }
      ]
    },
    {
      "cell_type": "markdown",
      "source": [
        "##Q25)Write a Python program to train Logistic Regression, save the trained model using Joblib, and load it again to make predictions."
      ],
      "metadata": {
        "id": "p4p1XOKPhu0E"
      }
    },
    {
      "cell_type": "code",
      "source": [
        "import pandas as pd\n",
        "import numpy as np\n",
        "import joblib\n",
        "from sklearn.model_selection import train_test_split\n",
        "from sklearn.linear_model import LogisticRegression\n",
        "from sklearn.metrics import accuracy_score\n",
        "\n",
        "# Generating a sample dataset\n",
        "data = {\n",
        "    'Feature1': np.random.rand(200),\n",
        "    'Feature2': np.random.rand(200),\n",
        "    'Label': np.random.randint(0, 2, 200)\n",
        "}\n",
        "\n",
        "df = pd.DataFrame(data)\n",
        "\n",
        "# Splitting dataset into features and target variable\n",
        "X = df[['Feature1', 'Feature2']]\n",
        "y = df['Label']\n",
        "\n",
        "# Splitting into training and testing sets\n",
        "X_train, X_test, y_train, y_test = train_test_split(X, y, test_size=0.2, random_state=42)\n",
        "\n",
        "# Training Logistic Regression\n",
        "model = LogisticRegression()\n",
        "model.fit(X_train, y_train)\n",
        "\n",
        "# Saving the trained model\n",
        "joblib.dump(model, \"logistic_regression_model.pkl\")\n",
        "\n",
        "# Loading the saved model\n",
        "loaded_model = joblib.load(\"logistic_regression_model.pkl\")\n",
        "\n",
        "# Making predictions with the loaded model\n",
        "y_pred = loaded_model.predict(X_test)\n",
        "\n",
        "# Evaluating accuracy\n",
        "accuracy = accuracy_score(y_test, y_pred)\n",
        "print(f\"Accuracy of loaded model: {accuracy:.2f}\")\n"
      ],
      "metadata": {
        "colab": {
          "base_uri": "https://localhost:8080/"
        },
        "id": "_UTud_oQhxZz",
        "outputId": "54f63587-8e5d-497a-d4ee-e898af1ff20c"
      },
      "execution_count": 26,
      "outputs": [
        {
          "output_type": "stream",
          "name": "stdout",
          "text": [
            "Accuracy of loaded model: 0.40\n"
          ]
        }
      ]
    }
  ]
}
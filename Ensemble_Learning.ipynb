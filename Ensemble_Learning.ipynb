{
  "nbformat": 4,
  "nbformat_minor": 0,
  "metadata": {
    "colab": {
      "provenance": []
    },
    "kernelspec": {
      "name": "python3",
      "display_name": "Python 3"
    },
    "language_info": {
      "name": "python"
    }
  },
  "cells": [
    {
      "cell_type": "markdown",
      "source": [
        "#**THEORETICAL**\n",
        "\n",
        "#Q1. Can we use Bagging for regression problems?\n",
        "\n",
        "##ANS: Yes, Bagging can be used for regression problems. It is known as Bagging Regressor, where the method combines predictions from multiple regression models to improve the accuracy and stability of the model.\n"
      ],
      "metadata": {
        "id": "YKorB-056hQ8"
      }
    },
    {
      "cell_type": "markdown",
      "source": [
        "#Q2. What is the difference between multiple model training and single model training?\n",
        "\n",
        "##ANS: Multiple model training involves training several independent models (often the same type) on different subsets of the data or with varying parameters, while single model training uses one model trained on the entire dataset. Multiple models help in reducing overfitting and increasing robustness."
      ],
      "metadata": {
        "id": "btBHglbMp_2q"
      }
    },
    {
      "cell_type": "markdown",
      "source": [
        "#Q3. Explain the concept of feature randomness in Random Forest.\n",
        "\n",
        "##ANS: Feature randomness in Random Forest refers to the process of selecting a random subset of features at each split of the decision tree. This randomness helps in reducing the correlation between trees, improving generalization and preventing overfitting."
      ],
      "metadata": {
        "id": "RMwK2f6pqTiG"
      }
    },
    {
      "cell_type": "markdown",
      "source": [
        "#Q4. What is OOB (Out-of-Bag) Score?\n",
        "\n",
        "##ANS: OOB score is an estimate of the model's performance using the samples that are not included in the bootstrap sample for a particular tree. These samples are used to validate the model, providing an out-of-sample evaluation without needing a separate test set."
      ],
      "metadata": {
        "id": "RLKpFbyLqg4h"
      }
    },
    {
      "cell_type": "markdown",
      "source": [
        "#Q5. How can you measure the importance of features in a Random Forest model?\n",
        "\n",
        "##ANS: Feature importance in Random Forest can be measured by evaluating how much each feature contributes to the reduction in the impurity (such as Gini or entropy) when splitting the nodes in decision trees. A higher reduction indicates a more important feature."
      ],
      "metadata": {
        "id": "XQZv2mIsqxEB"
      }
    },
    {
      "cell_type": "markdown",
      "source": [
        "#Q6. Explain the working principle of a Bagging Classifier.\n",
        "\n",
        "##ANS: A Bagging Classifier works by training multiple instances of the same classification algorithm on different bootstrap samples (random subsets with replacement) of the dataset. The predictions of these individual classifiers are combined using majority voting or averaging to make the final prediction."
      ],
      "metadata": {
        "id": "jiU24816rDmg"
      }
    },
    {
      "cell_type": "markdown",
      "source": [
        "#Q7. How do you evaluate a Bagging Classifier’s performance?\n",
        "\n",
        "##ANS: A Bagging Classifier’s performance is typically evaluated using metrics such as accuracy, precision, recall, F1-score, or area under the ROC curve (AUC) based on the problem type. Cross-validation can also be used for more reliable performance estimation."
      ],
      "metadata": {
        "id": "SwXsS5w3rNxU"
      }
    },
    {
      "cell_type": "markdown",
      "source": [
        "#Q8. How does a Bagging Regressor work?\n",
        "\n",
        "##ANS: A Bagging Regressor works similarly to a Bagging Classifier but with regression models. It trains multiple regression models on different bootstrap samples of the dataset and averages the individual predictions to make the final prediction, reducing variance and improving generalization."
      ],
      "metadata": {
        "id": "XPSS4SOJrdD2"
      }
    },
    {
      "cell_type": "markdown",
      "source": [
        "#Q9. What is the main advantage of ensemble techniques?\n",
        "\n",
        "##ANS: The main advantage of ensemble techniques is that they combine the predictions of multiple models to produce a more accurate and robust result than individual models. They help in reducing variance, bias, or both, leading to improved performance."
      ],
      "metadata": {
        "id": "T8tW0c-lr0yh"
      }
    },
    {
      "cell_type": "markdown",
      "source": [
        "#Q10. What is the main challenge of ensemble methods?\n",
        "\n",
        "##ANS: One of the main challenges of ensemble methods is computational complexity. Training multiple models can be resource-intensive and time-consuming, especially with large datasets and complex models."
      ],
      "metadata": {
        "id": "iw9CtHA4sEiz"
      }
    },
    {
      "cell_type": "markdown",
      "source": [
        "#Q11. Explain the key idea behind ensemble techniques.\n",
        "\n",
        "##ANS: The key idea behind ensemble techniques is to combine the predictions of several base models to improve the overall model's accuracy and robustness. The individual models may have strengths and weaknesses, but together they can achieve better performance than any single model."
      ],
      "metadata": {
        "id": "_Q_7IEqysQN0"
      }
    },
    {
      "cell_type": "markdown",
      "source": [
        "#Q12. What is a Random Forest Classifier?\n",
        "\n",
        "##ANS: A Random Forest Classifier is an ensemble method that builds multiple decision trees using different subsets of the data and features. The final prediction is made by aggregating the outputs of all the trees, usually by majority voting in the case of classification tasks."
      ],
      "metadata": {
        "id": "4cRIfox4scoE"
      }
    },
    {
      "cell_type": "markdown",
      "source": [
        "#Q13. What are the main types of ensemble techniques?\n",
        "\n",
        "##ANS: The main types of ensemble techniques are:\n",
        "\n",
        "*  **Bagging** (Bootstrap Aggregating): Reduces variance by training multiple models on different subsets of the data.\n",
        "\n",
        "*   **Boosting**: Focuses on correcting the errors of previous models by giving higher weight to misclassified instances.\n",
        "*  **Stacking**: Combines multiple models’ predictions using another model (meta-learner) to make the final prediction.\n",
        "\n"
      ],
      "metadata": {
        "id": "SfRSXpcaspX2"
      }
    },
    {
      "cell_type": "markdown",
      "source": [
        "#Q14. What is ensemble learning in machine learning?\n",
        "\n",
        "##ANS: Ensemble learning is a machine learning technique where multiple models are trained and combined to solve a particular problem, aiming to improve performance over individual models. The goal is to reduce errors by leveraging the strengths of each model."
      ],
      "metadata": {
        "id": "MHxqUpgHtKyE"
      }
    },
    {
      "cell_type": "markdown",
      "source": [
        "#Q15. When should we avoid using ensemble methods?\n",
        "\n",
        "##ANS: Ensemble methods should be avoided when the computational cost of training and predicting with multiple models is prohibitive, or when the dataset is too small and the benefits of combining models don’t outweigh the added complexity."
      ],
      "metadata": {
        "id": "DbzDRPkBtVgI"
      }
    },
    {
      "cell_type": "markdown",
      "source": [
        "#Q16. How does Bagging help in reducing overfitting?\n",
        "\n",
        "##ANS: Bagging helps reduce overfitting by averaging the predictions of multiple models trained on different subsets of the data. This reduces the variance of the final model and helps avoid fitting noise or outliers present in the training data."
      ],
      "metadata": {
        "id": "kHlOkr7itjhi"
      }
    },
    {
      "cell_type": "markdown",
      "source": [
        "#Q17. Why is Random Forest better than a single Decision Tree?\n",
        "\n",
        "##ANS: Random Forest is better than a single Decision Tree because it reduces the risk of overfitting and increases accuracy. By averaging multiple trees, it can handle variations in the data more effectively and generalizes better than a single tree, which can easily overfit."
      ],
      "metadata": {
        "id": "RfrPHUhRtxXa"
      }
    },
    {
      "cell_type": "markdown",
      "source": [
        "#Q18. What is the role of bootstrap sampling in Bagging?\n",
        "\n",
        "##ANS: Bootstrap sampling in Bagging involves creating random subsets of the dataset by sampling with replacement. Each model is trained on a different subset of the data, ensuring diversity among the models and helping to reduce variance in the final prediction."
      ],
      "metadata": {
        "id": "vIGZN042t7R9"
      }
    },
    {
      "cell_type": "markdown",
      "source": [
        "#Q19. What are some real-world applications of ensemble techniques?\n",
        "\n",
        "##ANS: Real-world applications of ensemble techniques include:\n",
        "\n",
        "*   **Financial markets**: Predicting stock prices and trends.\n",
        "\n",
        "*  **Medical diagnostics**: Classifying diseases based on patient data.\n",
        "\n",
        "*  **E-commerce**: Product recommendation systems.\n",
        "*   **Image and speech recognition** : Enhancing accuracy in pattern recognition tasks.\n",
        "\n",
        "\n",
        "\n"
      ],
      "metadata": {
        "id": "7Bi71n-IuIfd"
      }
    },
    {
      "cell_type": "markdown",
      "source": [
        "#Q20. What is the difference between Bagging and Boosting?\n",
        "\n",
        "##ANS: The main difference between **Bagging** and **Boosting** lies in how models are trained:\n",
        "\n",
        "*   **Bagging** trains multiple models independently on different data subsets and combines their predictions.\n",
        "\n",
        "*   **Boosting** trains models sequentially, where each model tries to correct the errors made by the previous model, giving more importance to harder-to-predict cases.\n",
        "\n"
      ],
      "metadata": {
        "id": "ks0opUGLu_S5"
      }
    },
    {
      "cell_type": "markdown",
      "source": [
        "##**Practical**\n",
        "\n",
        "\n",
        "##Q21: Train a Bagging Classifier using Decision Trees on a sample dataset and print model accuracy."
      ],
      "metadata": {
        "id": "bJJl0u-78vb4"
      }
    },
    {
      "cell_type": "code",
      "source": [
        "from sklearn.ensemble import BaggingClassifier\n",
        "from sklearn.tree import DecisionTreeClassifier\n",
        "from sklearn.model_selection import train_test_split\n",
        "from sklearn.metrics import accuracy_score\n",
        "from sklearn.datasets import make_classification\n",
        "\n",
        "# Generate synthetic dataset\n",
        "X, y = make_classification(n_samples=1000, n_features=20, random_state=42)\n",
        "\n",
        "# Split into training and testing sets\n",
        "X_train, X_test, y_train, y_test = train_test_split(X, y, test_size=0.2, random_state=42)\n",
        "\n",
        "# Define and train the BaggingClassifier\n",
        "model = BaggingClassifier(estimator=DecisionTreeClassifier(), n_estimators=10, random_state=42)\n",
        "model.fit(X_train, y_train)\n",
        "\n",
        "# Make predictions\n",
        "y_pred = model.predict(X_test)\n",
        "\n",
        "# Print accuracy\n",
        "print(\"Accuracy:\", accuracy_score(y_test, y_pred))\n"
      ],
      "metadata": {
        "colab": {
          "base_uri": "https://localhost:8080/"
        },
        "id": "n27sZjTq-Hpr",
        "outputId": "3caa0d18-8512-49ee-dd8f-ab7ad4fdf0e4"
      },
      "execution_count": null,
      "outputs": [
        {
          "output_type": "stream",
          "name": "stdout",
          "text": [
            "Accuracy: 0.885\n"
          ]
        }
      ]
    },
    {
      "cell_type": "markdown",
      "source": [
        "##Q22: Train a Bagging Regressor using Decision Trees and evaluate using Mean Squared Error (MSE)."
      ],
      "metadata": {
        "id": "yYpgZHop-M4t"
      }
    },
    {
      "cell_type": "code",
      "source": [
        "from sklearn.ensemble import BaggingRegressor\n",
        "from sklearn.tree import DecisionTreeRegressor\n",
        "from sklearn.model_selection import train_test_split\n",
        "from sklearn.metrics import mean_squared_error\n",
        "from sklearn.datasets import make_regression\n",
        "\n",
        "# Generate synthetic dataset\n",
        "X, y = make_regression(n_samples=1000, n_features=20, noise=0.1, random_state=42)\n",
        "\n",
        "# Split into training and testing sets\n",
        "X_train, X_test, y_train, y_test = train_test_split(X, y, test_size=0.2, random_state=42)\n",
        "\n",
        "# Define and train the BaggingRegressor\n",
        "model = BaggingRegressor(estimator=DecisionTreeRegressor(), n_estimators=10, random_state=42)\n",
        "model.fit(X_train, y_train)\n",
        "\n",
        "# Make predictions\n",
        "y_pred = model.predict(X_test)\n",
        "\n",
        "# Print Mean Squared Error\n",
        "print(\"MSE:\", mean_squared_error(y_test, y_pred))\n"
      ],
      "metadata": {
        "colab": {
          "base_uri": "https://localhost:8080/"
        },
        "id": "iA6qZ1v0-ZI1",
        "outputId": "09f92365-81ef-44d9-ea19-5efab40f3e19"
      },
      "execution_count": null,
      "outputs": [
        {
          "output_type": "stream",
          "name": "stdout",
          "text": [
            "MSE: 7484.147276569565\n"
          ]
        }
      ]
    },
    {
      "cell_type": "markdown",
      "source": [
        "##Q23: Train a Random Forest Classifier on the Breast Cancer dataset and print feature importance scores."
      ],
      "metadata": {
        "id": "k3nokrmd-c4n"
      }
    },
    {
      "cell_type": "code",
      "source": [
        "from sklearn.ensemble import RandomForestClassifier\n",
        "from sklearn.datasets import load_breast_cancer\n",
        "\n",
        "data = load_breast_cancer()\n",
        "X, y = data.data, data.target\n",
        "\n",
        "model = RandomForestClassifier(n_estimators=100, random_state=42)\n",
        "model.fit(X, y)\n",
        "print(\"Feature Importance Scores:\", model.feature_importances_)\n"
      ],
      "metadata": {
        "colab": {
          "base_uri": "https://localhost:8080/"
        },
        "id": "e5h0_tK9-h53",
        "outputId": "982dc825-2594-4a7b-a7a9-d4eda590118e"
      },
      "execution_count": null,
      "outputs": [
        {
          "output_type": "stream",
          "name": "stdout",
          "text": [
            "Feature Importance Scores: [0.03484323 0.01522515 0.06799034 0.06046164 0.00795845 0.01159704\n",
            " 0.06691736 0.10704566 0.00342279 0.00261508 0.0142637  0.00374427\n",
            " 0.01008506 0.02955283 0.00472157 0.00561183 0.00581969 0.00375975\n",
            " 0.00354597 0.00594233 0.08284828 0.01748526 0.0808497  0.13935694\n",
            " 0.01223202 0.01986386 0.03733871 0.13222509 0.00817908 0.00449731]\n"
          ]
        }
      ]
    },
    {
      "cell_type": "markdown",
      "source": [
        "##Q24: Train a Random Forest Regressor and compare its performance with a single Decision Tree."
      ],
      "metadata": {
        "id": "DEq0_A4h-lp_"
      }
    },
    {
      "cell_type": "code",
      "source": [
        "from sklearn.ensemble import RandomForestRegressor\n",
        "from sklearn.tree import DecisionTreeRegressor\n",
        "\n",
        "rf_model = RandomForestRegressor(n_estimators=100, random_state=42)\n",
        "dt_model = DecisionTreeRegressor(random_state=42)\n",
        "\n",
        "rf_model.fit(X_train, y_train)\n",
        "dt_model.fit(X_train, y_train)\n",
        "\n",
        "rf_pred = rf_model.predict(X_test)\n",
        "dt_pred = dt_model.predict(X_test)\n",
        "\n",
        "print(\"RF MSE:\", mean_squared_error(y_test, rf_pred))\n",
        "print(\"DT MSE:\", mean_squared_error(y_test, dt_pred))\n"
      ],
      "metadata": {
        "colab": {
          "base_uri": "https://localhost:8080/"
        },
        "id": "YwMlkN_c-onh",
        "outputId": "01da3ccd-04e6-4e93-d06d-8e0f087f6131"
      },
      "execution_count": null,
      "outputs": [
        {
          "output_type": "stream",
          "name": "stdout",
          "text": [
            "RF MSE: 7055.507694741972\n",
            "DT MSE: 20519.297540712625\n"
          ]
        }
      ]
    },
    {
      "cell_type": "markdown",
      "source": [
        "##Q25: Compute the Out-of-Bag (OOB) Score for a Random Forest Classifier."
      ],
      "metadata": {
        "id": "-xPEt-bP-rra"
      }
    },
    {
      "cell_type": "code",
      "source": [
        "from sklearn.ensemble import RandomForestClassifier\n",
        "from sklearn.model_selection import train_test_split\n",
        "from sklearn.datasets import make_classification\n",
        "\n",
        "# Generate synthetic dataset\n",
        "X, y = make_classification(n_samples=1000, n_features=20, random_state=42)\n",
        "\n",
        "# Split into training and testing sets\n",
        "X_train, X_test, y_train, y_test = train_test_split(X, y, test_size=0.2, random_state=42)\n",
        "\n",
        "# Define and train the RandomForestClassifier with OOB score enabled\n",
        "model = RandomForestClassifier(n_estimators=100, oob_score=True, random_state=42, bootstrap=True)\n",
        "model.fit(X_train, y_train)\n",
        "\n",
        "# Print Out-of-Bag Score\n",
        "print(\"OOB Score:\", model.oob_score_)\n"
      ],
      "metadata": {
        "colab": {
          "base_uri": "https://localhost:8080/"
        },
        "id": "by_74O1J-5l8",
        "outputId": "699a8507-e05b-4539-95de-b4650e37101b"
      },
      "execution_count": null,
      "outputs": [
        {
          "output_type": "stream",
          "name": "stdout",
          "text": [
            "OOB Score: 0.89\n"
          ]
        }
      ]
    },
    {
      "cell_type": "markdown",
      "source": [
        "##Q26: Train a Bagging Classifier using SVM as a base estimator and print accuracy."
      ],
      "metadata": {
        "id": "3-i0fdwa_BgL"
      }
    },
    {
      "cell_type": "code",
      "source": [
        "from sklearn.ensemble import BaggingClassifier\n",
        "from sklearn.svm import SVC\n",
        "from sklearn.model_selection import train_test_split\n",
        "from sklearn.metrics import accuracy_score\n",
        "from sklearn.datasets import make_classification\n",
        "\n",
        "# Generate synthetic dataset\n",
        "X, y = make_classification(n_samples=1000, n_features=20, random_state=42)\n",
        "\n",
        "# Split into training and testing sets\n",
        "X_train, X_test, y_train, y_test = train_test_split(X, y, test_size=0.2, random_state=42)\n",
        "\n",
        "# Define and train the BaggingClassifier with SVC as base estimator\n",
        "model = BaggingClassifier(estimator=SVC(), n_estimators=10, random_state=42)\n",
        "model.fit(X_train, y_train)\n",
        "\n",
        "# Make predictions\n",
        "y_pred = model.predict(X_test)\n",
        "\n",
        "# Print accuracy\n",
        "print(\"Accuracy:\", accuracy_score(y_test, y_pred))\n"
      ],
      "metadata": {
        "colab": {
          "base_uri": "https://localhost:8080/"
        },
        "id": "HCIhHg-s_Mo-",
        "outputId": "6205d717-be32-4c18-c8b9-90ec44ad12f8"
      },
      "execution_count": null,
      "outputs": [
        {
          "output_type": "stream",
          "name": "stdout",
          "text": [
            "Accuracy: 0.87\n"
          ]
        }
      ]
    },
    {
      "cell_type": "markdown",
      "source": [
        "##Q27: Train a Random Forest Classifier with different numbers of trees and compare accuracy."
      ],
      "metadata": {
        "id": "tMOjC1cS_QL1"
      }
    },
    {
      "cell_type": "code",
      "source": [
        "for n in [10, 50, 100, 200]:\n",
        "    model = RandomForestClassifier(n_estimators=n, random_state=42)\n",
        "    model.fit(X_train, y_train)\n",
        "    y_pred = model.predict(X_test)\n",
        "    print(f\"n_estimators={n}, Accuracy:\", accuracy_score(y_test, y_pred))\n"
      ],
      "metadata": {
        "colab": {
          "base_uri": "https://localhost:8080/"
        },
        "id": "r4pjxWOy_V80",
        "outputId": "d31584de-e7fb-40f5-b262-88ecd1cc7f3a"
      },
      "execution_count": null,
      "outputs": [
        {
          "output_type": "stream",
          "name": "stdout",
          "text": [
            "n_estimators=10, Accuracy: 0.855\n",
            "n_estimators=50, Accuracy: 0.88\n",
            "n_estimators=100, Accuracy: 0.9\n",
            "n_estimators=200, Accuracy: 0.89\n"
          ]
        }
      ]
    },
    {
      "cell_type": "markdown",
      "source": [
        "##Q28: Train a Bagging Classifier using Logistic Regression as a base estimator and print AUC score."
      ],
      "metadata": {
        "id": "7g07zruN_Yee"
      }
    },
    {
      "cell_type": "code",
      "source": [
        "from sklearn.linear_model import LogisticRegression\n",
        "from sklearn.metrics import roc_auc_score\n",
        "\n",
        "model = BaggingClassifier(estimator=LogisticRegression(), n_estimators=10, random_state=42)\n",
        "model.fit(X_train, y_train)\n",
        "y_pred_prob = model.predict_proba(X_test)[:, 1]\n",
        "print(\"AUC Score:\", roc_auc_score(y_test, y_pred_prob))\n"
      ],
      "metadata": {
        "colab": {
          "base_uri": "https://localhost:8080/"
        },
        "id": "O8VUJjbP_a35",
        "outputId": "3dbc72c9-d4f4-4dd6-87b3-edf4fc244f23"
      },
      "execution_count": null,
      "outputs": [
        {
          "output_type": "stream",
          "name": "stdout",
          "text": [
            "AUC Score: 0.9225203497135966\n"
          ]
        }
      ]
    },
    {
      "cell_type": "markdown",
      "source": [
        "##Q29: Train a Random Forest Regressor and analyze feature importance scores."
      ],
      "metadata": {
        "id": "4M18bDA3_yey"
      }
    },
    {
      "cell_type": "code",
      "source": [
        "rf_model = RandomForestRegressor(n_estimators=100, random_state=42)\n",
        "rf_model.fit(X_train, y_train)\n",
        "print(\"Feature Importance Scores:\", rf_model.feature_importances_)\n"
      ],
      "metadata": {
        "colab": {
          "base_uri": "https://localhost:8080/"
        },
        "id": "f-1xpbPT_6UA",
        "outputId": "3425cd53-de37-49d5-c506-58f3684c3f5f"
      },
      "execution_count": null,
      "outputs": [
        {
          "output_type": "stream",
          "name": "stdout",
          "text": [
            "Feature Importance Scores: [0.00871783 0.0153229  0.01734636 0.01171458 0.01056074 0.62262553\n",
            " 0.01565511 0.01408617 0.01224897 0.01312505 0.0088828  0.02392149\n",
            " 0.01674666 0.01036746 0.12081239 0.01434272 0.0147293  0.01346628\n",
            " 0.02271187 0.0126158 ]\n"
          ]
        }
      ]
    },
    {
      "cell_type": "markdown",
      "source": [
        "##Q30: Train an ensemble model using both Bagging and Random Forest and compare accuracy."
      ],
      "metadata": {
        "id": "SP2KerNJ_88K"
      }
    },
    {
      "cell_type": "code",
      "source": [
        "bagging_model = BaggingClassifier(estimator=DecisionTreeClassifier(), n_estimators=10, random_state=42)\n",
        "rf_model = RandomForestClassifier(n_estimators=100, random_state=42)\n",
        "\n",
        "bagging_model.fit(X_train, y_train)\n",
        "rf_model.fit(X_train, y_train)\n",
        "\n",
        "bagging_acc = accuracy_score(y_test, bagging_model.predict(X_test))\n",
        "rf_acc = accuracy_score(y_test, rf_model.predict(X_test))\n",
        "\n",
        "print(\"Bagging Accuracy:\", bagging_acc)\n",
        "print(\"Random Forest Accuracy:\", rf_acc)\n"
      ],
      "metadata": {
        "colab": {
          "base_uri": "https://localhost:8080/"
        },
        "id": "-n2t_v22AAka",
        "outputId": "58150004-9db6-4051-e1a6-0b3bc52c830f"
      },
      "execution_count": null,
      "outputs": [
        {
          "output_type": "stream",
          "name": "stdout",
          "text": [
            "Bagging Accuracy: 0.885\n",
            "Random Forest Accuracy: 0.9\n"
          ]
        }
      ]
    },
    {
      "cell_type": "markdown",
      "source": [
        "##Q31: Train a Random Forest Classifier and tune hyperparameters using GridSearchCV."
      ],
      "metadata": {
        "id": "VzeenwWlAGxr"
      }
    },
    {
      "cell_type": "code",
      "source": [
        "from sklearn.model_selection import GridSearchCV\n",
        "\n",
        "param_grid = {'n_estimators': [10, 50, 100], 'max_depth': [None, 10, 20]}\n",
        "grid_search = GridSearchCV(RandomForestClassifier(random_state=42), param_grid, cv=5)\n",
        "grid_search.fit(X_train, y_train)\n",
        "\n",
        "print(\"Best Parameters:\", grid_search.best_params_)\n",
        "print(\"Best Accuracy:\", grid_search.best_score_)\n"
      ],
      "metadata": {
        "colab": {
          "base_uri": "https://localhost:8080/"
        },
        "id": "qd6QmCedAJJU",
        "outputId": "f8326670-b50f-4ed9-fb21-2e1425b90d01"
      },
      "execution_count": null,
      "outputs": [
        {
          "output_type": "stream",
          "name": "stdout",
          "text": [
            "Best Parameters: {'max_depth': None, 'n_estimators': 100}\n",
            "Best Accuracy: 0.89125\n"
          ]
        }
      ]
    },
    {
      "cell_type": "markdown",
      "source": [
        "##Q32: Train a Bagging Regressor with different numbers of base estimators and compare performance."
      ],
      "metadata": {
        "id": "vivU9N9nAS5F"
      }
    },
    {
      "cell_type": "code",
      "source": [
        "for n in [10, 50, 100]:\n",
        "    model = BaggingRegressor(estimator=DecisionTreeRegressor(), n_estimators=n, random_state=42)\n",
        "    model.fit(X_train, y_train)\n",
        "    print(f\"n_estimators={n}, MSE:\", mean_squared_error(y_test, model.predict(X_test)))\n"
      ],
      "metadata": {
        "colab": {
          "base_uri": "https://localhost:8080/"
        },
        "id": "y4eeogYKAUWm",
        "outputId": "d8a4443c-c90d-4b00-d5ee-dd47f1d0a673"
      },
      "execution_count": null,
      "outputs": [
        {
          "output_type": "stream",
          "name": "stdout",
          "text": [
            "n_estimators=10, MSE: 0.09740000000000001\n",
            "n_estimators=50, MSE: 0.08930199999999999\n",
            "n_estimators=100, MSE: 0.0862045\n"
          ]
        }
      ]
    },
    {
      "cell_type": "markdown",
      "source": [
        "##Q33: Train a Bagging Classifier and analyze misclassified samples."
      ],
      "metadata": {
        "id": "lZW-uwRmAZz-"
      }
    },
    {
      "cell_type": "code",
      "source": [
        "y_pred = model.predict(X_test)\n",
        "misclassified = X_test[y_test != y_pred]\n",
        "print(\"Misclassified Samples:\", misclassified[:5])\n"
      ],
      "metadata": {
        "colab": {
          "base_uri": "https://localhost:8080/"
        },
        "id": "EVlVmIS_AbGv",
        "outputId": "d4dbb913-bf48-4209-a262-036f632a21a7"
      },
      "execution_count": null,
      "outputs": [
        {
          "output_type": "stream",
          "name": "stdout",
          "text": [
            "Misclassified Samples: [[-9.05336168e-01  4.09146664e-02  9.01619449e-01 -5.78651054e-01\n",
            "  -1.97072128e+00  6.64751585e-02 -1.42166905e+00 -7.22300188e-01\n",
            "   8.70178175e-01 -1.18049849e+00  2.26315953e-01  4.96346411e-01\n",
            "  -8.66925239e-01 -7.60192322e-01 -1.71047718e-01  6.93495821e-01\n",
            "  -1.45528898e+00 -2.65522861e-01 -2.35298234e-03 -3.09328493e-01]\n",
            " [-1.79619721e-01  7.24605915e-01  4.61078032e-01  1.78304110e-03\n",
            "   8.08571007e-01  5.54728884e-01  2.50628232e-01 -6.02624305e-01\n",
            "   1.21844464e-01  2.12455623e+00 -2.64355833e-01 -7.74203818e-01\n",
            "  -5.00261017e-01 -1.05921171e+00 -2.36328101e+00 -5.16116642e-01\n",
            "   1.72569379e+00 -2.77381494e+00  1.62167161e-01  1.22885655e+00]\n",
            " [ 2.89064299e+00  8.38689386e-01 -8.17095459e-01  2.52231480e-01\n",
            "   9.39029157e-01 -8.12270810e-01  1.88670448e-01 -7.15337569e-01\n",
            "  -3.67863294e-01 -3.35762004e-03  6.20997566e-01  2.74311287e+00\n",
            "   1.48615924e+00  1.54891795e+00 -1.17953018e+00 -1.95007793e+00\n",
            "   7.03795884e-01  1.48452077e+00  6.63880594e-01  5.13587588e-02]\n",
            " [-2.05292522e-01 -2.62176356e-01  4.80611215e-01 -3.68883103e-01\n",
            "   1.01607719e-01 -6.44778397e-01  1.52085123e+00  1.78202411e+00\n",
            "  -6.76339716e-01  1.13705886e+00  1.44030902e-01  1.81184776e-02\n",
            "   1.46343565e+00 -2.95075986e-02  1.33013728e+00  1.47010834e-01\n",
            "   1.48443404e+00 -9.11280057e-01  8.67218780e-02 -1.48729588e-01]\n",
            " [-9.36213191e-02 -2.55673679e-01  8.49456255e-01 -1.85805610e-01\n",
            "   2.84689404e-02  3.65369020e-01 -1.86583976e+00 -1.22656058e+00\n",
            "   1.74142490e-02 -4.78696381e-01  9.79035825e-01 -6.43153997e-01\n",
            "  -9.08652282e-01 -6.06854332e-02  2.33612346e-01  2.09616128e+00\n",
            "   9.07860638e-01 -1.15365935e+00 -2.40936956e-01  8.43410322e-02]]\n"
          ]
        }
      ]
    },
    {
      "cell_type": "markdown",
      "source": [
        "##Q34: Train a Bagging Classifier and compare its performance with a single Decision Tree Classifier."
      ],
      "metadata": {
        "id": "uUitIyR1AeI-"
      }
    },
    {
      "cell_type": "code",
      "source": [
        "from sklearn.ensemble import BaggingClassifier\n",
        "from sklearn.tree import DecisionTreeClassifier\n",
        "from sklearn.model_selection import train_test_split\n",
        "from sklearn.metrics import accuracy_score\n",
        "from sklearn.datasets import make_classification\n",
        "\n",
        "# Generate synthetic dataset\n",
        "X, y = make_classification(n_samples=1000, n_features=20, random_state=42)\n",
        "\n",
        "# Split into training and testing sets\n",
        "X_train, X_test, y_train, y_test = train_test_split(X, y, test_size=0.2, random_state=42)\n",
        "\n",
        "# Train a single Decision Tree Classifier\n",
        "dt_model = DecisionTreeClassifier(random_state=42)\n",
        "dt_model.fit(X_train, y_train)\n",
        "\n",
        "# Train a Bagging Classifier with Decision Trees\n",
        "bagging_model = BaggingClassifier(estimator=DecisionTreeClassifier(), n_estimators=10, random_state=42)\n",
        "bagging_model.fit(X_train, y_train)\n",
        "\n",
        "# Compute accuracy scores\n",
        "dt_acc = accuracy_score(y_test, dt_model.predict(X_test))\n",
        "bagging_acc = accuracy_score(y_test, bagging_model.predict(X_test))\n",
        "\n",
        "# Print accuracy\n",
        "print(\"Decision Tree Accuracy:\", dt_acc)\n",
        "print(\"Bagging Accuracy:\", bagging_acc)\n"
      ],
      "metadata": {
        "colab": {
          "base_uri": "https://localhost:8080/"
        },
        "id": "Q-OEdXJ2A2A5",
        "outputId": "ad5295e8-df5f-4503-ce50-e2767768b0ba"
      },
      "execution_count": null,
      "outputs": [
        {
          "output_type": "stream",
          "name": "stdout",
          "text": [
            "Decision Tree Accuracy: 0.875\n",
            "Bagging Accuracy: 0.885\n"
          ]
        }
      ]
    },
    {
      "cell_type": "markdown",
      "source": [
        "##Q35: Train a Random Forest Classifier and visualize the confusion matrix."
      ],
      "metadata": {
        "id": "XYRk-LEDA8MJ"
      }
    },
    {
      "cell_type": "code",
      "source": [
        "from sklearn.ensemble import BaggingClassifier\n",
        "from sklearn.tree import DecisionTreeClassifier\n",
        "from sklearn.model_selection import train_test_split\n",
        "from sklearn.metrics import confusion_matrix\n",
        "import seaborn as sns\n",
        "import matplotlib.pyplot as plt\n",
        "from sklearn.datasets import make_classification\n",
        "\n",
        "# Generate synthetic dataset\n",
        "X, y = make_classification(n_samples=1000, n_features=20, random_state=42)\n",
        "\n",
        "# Split into training and testing sets\n",
        "X_train, X_test, y_train, y_test = train_test_split(X, y, test_size=0.2, random_state=42)\n",
        "\n",
        "# Train a Bagging Classifier with Decision Trees\n",
        "model = BaggingClassifier(estimator=DecisionTreeClassifier(), n_estimators=10, random_state=42)\n",
        "model.fit(X_train, y_train)\n",
        "\n",
        "# Make predictions\n",
        "y_pred = model.predict(X_test)\n",
        "\n",
        "# Compute confusion matrix\n",
        "cm = confusion_matrix(y_test, y_pred)\n",
        "\n",
        "# Plot confusion matrix as heatmap\n",
        "sns.heatmap(cm, annot=True, fmt='d', cmap=\"Blues\")\n",
        "plt.xlabel(\"Predicted\")\n",
        "plt.ylabel(\"Actual\")\n",
        "plt.title(\"Confusion Matrix\")\n",
        "plt.show()\n"
      ],
      "metadata": {
        "colab": {
          "base_uri": "https://localhost:8080/",
          "height": 472
        },
        "id": "H1yezVkNGjI7",
        "outputId": "a7cde564-c34b-4546-e0ec-62c3b0e9684c"
      },
      "execution_count": null,
      "outputs": [
        {
          "output_type": "display_data",
          "data": {
            "text/plain": [
              "<Figure size 640x480 with 2 Axes>"
            ],
            "image/png": "[encoded data removed]"
          },
          "metadata": {}
        }
      ]
    },
    {
      "cell_type": "markdown",
      "source": [
        "##Q36: Train a Stacking Classifier using Decision Trees, SVM, and Logistic Regression, and compare accuracy."
      ],
      "metadata": {
        "id": "KU2AvVEgGmQr"
      }
    },
    {
      "cell_type": "code",
      "source": [
        "from sklearn.ensemble import StackingClassifier\n",
        "\n",
        "estimators = [\n",
        "    ('dt', DecisionTreeClassifier()),\n",
        "    ('svm', SVC(probability=True)),\n",
        "    ('lr', LogisticRegression())\n",
        "]\n",
        "\n",
        "model = StackingClassifier(estimators=estimators, final_estimator=LogisticRegression())\n",
        "model.fit(X_train, y_train)\n",
        "print(\"Accuracy:\", accuracy_score(y_test, model.predict(X_test)))\n"
      ],
      "metadata": {
        "colab": {
          "base_uri": "https://localhost:8080/"
        },
        "id": "gGCy-o6TGp6c",
        "outputId": "934ce0e3-f3b6-47ae-c827-b2e8a671acce"
      },
      "execution_count": null,
      "outputs": [
        {
          "output_type": "stream",
          "name": "stdout",
          "text": [
            "Accuracy: 0.855\n"
          ]
        }
      ]
    },
    {
      "cell_type": "markdown",
      "source": [
        "##Q37: Train a Random Forest Classifier and print the top 5 most important features."
      ],
      "metadata": {
        "id": "2d0WuXB3GsNC"
      }
    },
    {
      "cell_type": "code",
      "source": [
        "import numpy as np\n",
        "\n",
        "importance = rf_model.feature_importances_\n",
        "indices = np.argsort(importance)[::-1]\n",
        "print(\"Top 5 Features:\", indices[:5])\n"
      ],
      "metadata": {
        "colab": {
          "base_uri": "https://localhost:8080/"
        },
        "id": "H9mt1QaWGu1r",
        "outputId": "a34137e1-33a8-4d39-89a4-2cc498eecb0a"
      },
      "execution_count": null,
      "outputs": [
        {
          "output_type": "stream",
          "name": "stdout",
          "text": [
            "Top 5 Features: [ 5 18  1 14 11]\n"
          ]
        }
      ]
    },
    {
      "cell_type": "markdown",
      "source": [
        "##Q38: Train a Bagging Classifier and evaluate performance using Precision, Recall, and F1-score."
      ],
      "metadata": {
        "id": "UCs7__uUGxV7"
      }
    },
    {
      "cell_type": "code",
      "source": [
        "from sklearn.metrics import precision_score, recall_score, f1_score\n",
        "\n",
        "y_pred = model.predict(X_test)\n",
        "print(\"Precision:\", precision_score(y_test, y_pred))\n",
        "print(\"Recall:\", recall_score(y_test, y_pred))\n",
        "print(\"F1 Score:\", f1_score(y_test, y_pred))\n"
      ],
      "metadata": {
        "colab": {
          "base_uri": "https://localhost:8080/"
        },
        "id": "DfdzuVHkG0f7",
        "outputId": "f00276d2-9a32-40ff-d082-3343c4aa30b7"
      },
      "execution_count": null,
      "outputs": [
        {
          "output_type": "stream",
          "name": "stdout",
          "text": [
            "Precision: 0.8823529411764706\n",
            "Recall: 0.8411214953271028\n",
            "F1 Score: 0.861244019138756\n"
          ]
        }
      ]
    },
    {
      "cell_type": "markdown",
      "source": [
        "##Q39: Train a Random Forest Classifier and analyze the effect of max_depth on accuracy."
      ],
      "metadata": {
        "id": "GJnCWeqIG2tz"
      }
    },
    {
      "cell_type": "code",
      "source": [
        "for depth in [None, 5, 10, 20]:\n",
        "    model = RandomForestClassifier(n_estimators=100, max_depth=depth, random_state=42)\n",
        "    model.fit(X_train, y_train)\n",
        "    print(f\"max_depth={depth}, Accuracy:\", accuracy_score(y_test, model.predict(X_test)))\n"
      ],
      "metadata": {
        "colab": {
          "base_uri": "https://localhost:8080/"
        },
        "id": "EydPWJbhG5ID",
        "outputId": "6ca73ddb-f2c7-4689-865a-e9ae509215de"
      },
      "execution_count": null,
      "outputs": [
        {
          "output_type": "stream",
          "name": "stdout",
          "text": [
            "max_depth=None, Accuracy: 0.9\n",
            "max_depth=5, Accuracy: 0.88\n",
            "max_depth=10, Accuracy: 0.885\n",
            "max_depth=20, Accuracy: 0.9\n"
          ]
        }
      ]
    },
    {
      "cell_type": "markdown",
      "source": [
        "##Q40: Train a Bagging Regressor using different base estimators and compare performance."
      ],
      "metadata": {
        "id": "64xJcUkSG72j"
      }
    },
    {
      "cell_type": "code",
      "source": [
        "from sklearn.ensemble import BaggingRegressor\n",
        "from sklearn.tree import DecisionTreeRegressor\n",
        "from sklearn.neighbors import KNeighborsRegressor\n",
        "from sklearn.model_selection import train_test_split\n",
        "from sklearn.metrics import mean_squared_error\n",
        "from sklearn.datasets import make_regression\n",
        "\n",
        "# Generate synthetic dataset\n",
        "X, y = make_regression(n_samples=1000, n_features=20, noise=0.1, random_state=42)\n",
        "\n",
        "# Split into training and testing sets\n",
        "X_train, X_test, y_train, y_test = train_test_split(X, y, test_size=0.2, random_state=42)\n",
        "\n",
        "# Train BaggingRegressor with different estimators\n",
        "for estimator in [DecisionTreeRegressor(), KNeighborsRegressor()]:\n",
        "    model = BaggingRegressor(estimator=estimator, n_estimators=10, random_state=42)\n",
        "    model.fit(X_train, y_train)\n",
        "    print(f\"Estimator={estimator.__class__.__name__}, MSE:\", mean_squared_error(y_test, model.predict(X_test)))\n"
      ],
      "metadata": {
        "colab": {
          "base_uri": "https://localhost:8080/"
        },
        "id": "lZhvHhX2Hdya",
        "outputId": "e0899ecf-cebb-496f-aeda-bfacffa7399e"
      },
      "execution_count": null,
      "outputs": [
        {
          "output_type": "stream",
          "name": "stdout",
          "text": [
            "Estimator=DecisionTreeRegressor, MSE: 7484.147276569565\n",
            "Estimator=KNeighborsRegressor, MSE: 14688.318331938306\n"
          ]
        }
      ]
    },
    {
      "cell_type": "markdown",
      "source": [
        "##Q41: Train a Random Forest Classifier and evaluate its performance using ROC-AUC Score."
      ],
      "metadata": {
        "id": "z7bUQXc8Hrya"
      }
    },
    {
      "cell_type": "code",
      "source": [
        "from sklearn.ensemble import RandomForestClassifier\n",
        "from sklearn.model_selection import train_test_split\n",
        "from sklearn.metrics import roc_auc_score\n",
        "from sklearn.datasets import make_classification\n",
        "\n",
        "# Generate synthetic dataset\n",
        "X, y = make_classification(n_samples=1000, n_features=20, random_state=42, n_classes=2)\n",
        "\n",
        "# Split into training and testing sets\n",
        "X_train, X_test, y_train, y_test = train_test_split(X, y, test_size=0.2, random_state=42)\n",
        "\n",
        "# Train a Random Forest Classifier\n",
        "rf_model = RandomForestClassifier(n_estimators=100, random_state=42)\n",
        "rf_model.fit(X_train, y_train)\n",
        "\n",
        "# Predict probabilities\n",
        "y_pred_prob = rf_model.predict_proba(X_test)[:, 1]\n",
        "\n",
        "# Compute ROC-AUC Score\n",
        "auc_score = roc_auc_score(y_test, y_pred_prob)\n",
        "\n",
        "# Print result\n",
        "print(\"ROC-AUC Score:\", auc_score)\n"
      ],
      "metadata": {
        "colab": {
          "base_uri": "https://localhost:8080/"
        },
        "id": "tBA__j_2II1y",
        "outputId": "4510c64c-bafd-4659-935b-93de6c943b3f"
      },
      "execution_count": null,
      "outputs": [
        {
          "output_type": "stream",
          "name": "stdout",
          "text": [
            "ROC-AUC Score: 0.9379459350819013\n"
          ]
        }
      ]
    },
    {
      "cell_type": "markdown",
      "source": [
        "##Q42: Train a Bagging Classifier and evaluate its performance using cross-validation."
      ],
      "metadata": {
        "id": "1_gOntAcIPlK"
      }
    },
    {
      "cell_type": "code",
      "source": [
        "from sklearn.model_selection import cross_val_score\n",
        "\n",
        "scores = cross_val_score(model, X, y, cv=5)\n",
        "print(\"Cross-Validation Accuracy:\", scores.mean())\n"
      ],
      "metadata": {
        "colab": {
          "base_uri": "https://localhost:8080/"
        },
        "id": "m3UueOxYIQ3C",
        "outputId": "e51433db-2bae-41ce-a48a-b431b3b80fc3"
      },
      "execution_count": null,
      "outputs": [
        {
          "output_type": "stream",
          "name": "stdout",
          "text": [
            "Cross-Validation Accuracy: 0.43813982962800624\n"
          ]
        }
      ]
    },
    {
      "cell_type": "markdown",
      "source": [
        "##Q43: Train a Random Forest Classifier and plot the Precision-Recall curve."
      ],
      "metadata": {
        "id": "GypfebvuIUHK"
      }
    },
    {
      "cell_type": "code",
      "source": [
        "from sklearn.ensemble import RandomForestClassifier\n",
        "from sklearn.model_selection import train_test_split\n",
        "from sklearn.metrics import precision_recall_curve\n",
        "import matplotlib.pyplot as plt\n",
        "from sklearn.datasets import make_classification\n",
        "\n",
        "# Generate synthetic dataset\n",
        "X, y = make_classification(n_samples=1000, n_features=20, random_state=42, n_classes=2)\n",
        "\n",
        "# Split into training and testing sets\n",
        "X_train, X_test, y_train, y_test = train_test_split(X, y, test_size=0.2, random_state=42)\n",
        "\n",
        "# Train a Random Forest Classifier\n",
        "rf_model = RandomForestClassifier(n_estimators=100, random_state=42)\n",
        "rf_model.fit(X_train, y_train)\n",
        "\n",
        "# Predict probabilities\n",
        "y_pred_prob = rf_model.predict_proba(X_test)[:, 1]\n",
        "\n",
        "# Compute Precision-Recall curve\n",
        "precision, recall, _ = precision_recall_curve(y_test, y_pred_prob)\n",
        "\n",
        "# Plot Precision-Recall curve\n",
        "plt.plot(recall, precision)\n",
        "plt.xlabel(\"Recall\")\n",
        "plt.ylabel(\"Precision\")\n",
        "plt.title(\"Precision-Recall Curve\")\n",
        "plt.show()\n"
      ],
      "metadata": {
        "colab": {
          "base_uri": "https://localhost:8080/",
          "height": 472
        },
        "id": "N0HQRLkhIx65",
        "outputId": "e4d433c6-f1e3-4620-d1a3-c3e509c90f1e"
      },
      "execution_count": null,
      "outputs": [
        {
          "output_type": "display_data",
          "data": {
            "text/plain": [
              "<Figure size 640x480 with 1 Axes>"
            ],
            "image/png": "[encoded data removed]"
          },
          "metadata": {}
        }
      ]
    },
    {
      "cell_type": "markdown",
      "source": [
        "##Q44: Train a Stacking Classifier with Random Forest and Logistic Regression and compare accuracy."
      ],
      "metadata": {
        "id": "51AALbJqI0f6"
      }
    },
    {
      "cell_type": "code",
      "source": [
        "estimators = [('rf', RandomForestClassifier()), ('lr', LogisticRegression())]\n",
        "model = StackingClassifier(estimators=estimators, final_estimator=LogisticRegression())\n",
        "model.fit(X_train, y_train)\n",
        "print(\"Accuracy:\", accuracy_score(y_test, model.predict(X_test)))\n"
      ],
      "metadata": {
        "colab": {
          "base_uri": "https://localhost:8080/"
        },
        "id": "l-An1a0OI4yx",
        "outputId": "196c7689-77bd-4f90-dbd2-d228cd804b75"
      },
      "execution_count": null,
      "outputs": [
        {
          "output_type": "stream",
          "name": "stdout",
          "text": [
            "Accuracy: 0.885\n"
          ]
        }
      ]
    },
    {
      "cell_type": "markdown",
      "source": [
        "##Q45: Train a Bagging Regressor with different levels of bootstrap samples and compare performance."
      ],
      "metadata": {
        "id": "A4nNkL52I-m5"
      }
    },
    {
      "cell_type": "code",
      "source": [
        "for bootstrap in [True, False]:\n",
        "    model = BaggingRegressor(n_estimators=10, bootstrap=bootstrap, random_state=42)\n",
        "    model.fit(X_train, y_train)\n",
        "    print(f\"Bootstrap={bootstrap}, MSE:\", mean_squared_error(y_test, model.predict(X_test)))\n"
      ],
      "metadata": {
        "colab": {
          "base_uri": "https://localhost:8080/"
        },
        "id": "-ONcupStI_9B",
        "outputId": "e1a0d307-6e47-4ad3-f049-5ad3802ea498"
      },
      "execution_count": null,
      "outputs": [
        {
          "output_type": "stream",
          "name": "stdout",
          "text": [
            "Bootstrap=True, MSE: 0.09740000000000001\n",
            "Bootstrap=False, MSE: 0.12335000000000002\n"
          ]
        }
      ]
    }
  ]
}
{
  "nbformat": 4,
  "nbformat_minor": 0,
  "metadata": {
    "colab": {
      "provenance": []
    },
    "kernelspec": {
      "name": "python3",
      "display_name": "Python 3"
    },
    "language_info": {
      "name": "python"
    }
  },
  "cells": [
    {
      "cell_type": "markdown",
      "source": [
        "#Q1. Explain the properties of the F-distribution.\n",
        "\n",
        "##ANS: The main properties of the F-distribution:\n",
        "\n",
        "###**1.Positively Skewed Distribution**\n",
        "\n",
        "*   The F-distribution is ***positively skewed*** (right-skewed), meaning it has a long tail extending to the right. This shape reflects the fact that the ratio of variances (or variance-based measures) can result in large values but cannot be less than zero.\n",
        "* As the sample sizes (degrees of freedom) increase, the skewness decreases, and the F-distribution approaches a more symmetric, normal-like shape. For small sample sizes, however, the skewness is more pronounced.\n",
        "\n",
        "###**2.Non-Negative Values**\n",
        "\n",
        "*   The F-distribution only takes on ***non-negative values*** (i.e., values greater than or equal to zero). This is because it represents a ratio of variances, and variances cannot be negative. The distribution starts at zero and extends indefinitely to the right.\n",
        "\n",
        "###**3.Degrees of Freedom Dependence**\n",
        "\n",
        "*   The F-distribution is defined by two sets of ***degrees of freedom*** : one for the numerator (related to the between-group variance in ANOVA or the first sample in a two-sample variance test) and one for the denominator (related to the within-group variance or the second sample in a two-sample test).\n",
        "*  These degrees of freedom determine the exact shape of the F-distribution. Larger degrees of freedom in the numerator or denominator tend to make the distribution less skewed and more concentrated around 1.\n",
        "\n",
        "###**4.Right-Tail Critical Values**\n",
        "\n",
        "*  The F-distribution is typically used in hypothesis testing with a ***right-tail critical region***. This is because tests involving the F-distribution often assess whether an observed variance ratio is significantly large. For instance, in ANOVA, a large F-value suggests that the between-group variance is much greater than the within-group variance, indicating significant group differences.\n",
        "*  In some tests, such as variance comparison, a two-tailed F-test can be performed by considering both the upper and lower tails, but this is less common.\n",
        "\n",
        "###**5.Application in Hypothesis Testing**\n",
        "\n",
        "*   The F-distribution provides critical values for hypothesis testing in various statistical tests (e.g., ANOVA, regression). It is particularly useful because its values correspond to specific significance levels (e.g., 5% or 1%) for given degrees of freedom, enabling researchers to determine whether an observed F-statistic falls within the rejection region.\n",
        "\n",
        "\n",
        "\n",
        "\n",
        "\n",
        "\n",
        "\n",
        "\n",
        "\n",
        "\n"
      ],
      "metadata": {
        "id": "GPzcIc5KA2pw"
      }
    },
    {
      "cell_type": "markdown",
      "source": [
        "#Q2. In which types of statistical tests is the F-distribution used, and why is it appropriate for these tests?\n",
        "\n",
        "##ANS: The main types of tests that utilize the F-distribution and why it is appropriate for these tests:\n",
        "\n",
        "###**1.Analysis of Variance (ANOVA)**\n",
        "\n",
        "*   **Purpose** : ANOVA uses the F-distribution to determine if there are statistically significant differences between the means of three or more groups.\n",
        "*  **Why it’s Appropriate**: In ANOVA, the F-statistic is calculated as the ratio of the ***between-group variance*** (how much the group means differ from the overall mean) to the ***within-group variance*** (the variability within each group). The F-distribution is well-suited here because it is designed for testing ratios of variances. A large F-value suggests that the variation between groups is more than would be expected by chance, leading to the rejection of the null hypothesis that all group means are equal.\n",
        "\n",
        "###**2.F-Test for Comparing Two Variances**\n",
        "\n",
        "*   **Purpose** : The F-test for variances is used to compare the variances of two independent populations to determine if they are significantly different.\n",
        "*   **Why it’s Appropriate**:This test calculates an F-statistic as the ratio of the variances of the two samples. Since the F-distribution models the behavior of variance ratios, it provides the appropriate critical values and p-values for determining whether the observed ratio of variances is likely due to random chance or represents a true difference in population variances.\n",
        "\n",
        "###**3.Regression Analysis**\n",
        "\n",
        "*  **Purpose** : In regression analysis, the F-test is used to assess the overall significance of a regression model. Specifically, it tests whether the independent variables in the model collectively explain a significant portion of the variability in the dependent variable.\n",
        "*   **Why it’s Appropriate** : The F-statistic in regression is calculated as the ratio of the ***model variance*** (variability explained by the regression model) to the ***residual variance*** (variability not explained by the model). The F-distribution helps determine whether the observed variance explained by the model is statistically significant compared to the unexplained variance. A significant F-statistic indicates that the independent variables have predictive power over the dependent variable.\n",
        "\n",
        "###**4.Nested Model Comparison (e.g., Partial F-Tests)**\n",
        "\n",
        "*   **Purpose** : The F-distribution is also used in comparing nested regression models (models where one is a subset of the other) to test if the addition of new predictors significantly improves model fit.\n",
        "*   **Why it’s Appropriate** : A partial F-test evaluates the increase in explained variance when new predictors are added to a model, relative to the unexplained variance. The F-distribution is appropriate because it tests whether the additional predictors account for a significant proportion of the total variance, given the model's complexity.\n",
        "\n",
        "\n",
        "\n",
        "\n",
        "\n",
        "\n",
        "\n"
      ],
      "metadata": {
        "id": "Twb0u9AvGG-b"
      }
    },
    {
      "cell_type": "markdown",
      "source": [
        "#Q3. What are the key assumptions required for conducting an F-test to compare the variances of two populations?\n",
        "\n",
        "##ANS: The main assumptions required for conducting an F-test:\n",
        "\n",
        "###**1.Normality of the Populations**\n",
        "\n",
        "*  The F-test assumes that both populations being compared are normally distributed. This means that the distribution of values within each population should follow a bell-shaped, symmetric curve.\n",
        "*  Normality is important because the F-test is sensitive to deviations from normality, especially with small sample sizes. If the distributions are not normal, the test may produce incorrect results, often inflating the Type I error rate (false positives).\n",
        "\n",
        "###**2.Independence of Samples**\n",
        "\n",
        "*   The samples taken from each population should be ***independent*** of each other. Independence means that there is no relationship or influence between the data points in one sample and those in the other.\n",
        "*   Independence is essential because any correlation between the samples can distort the test statistic, leading to inaccurate conclusions about variance differences.\n",
        "\n",
        "###**3.Random Sampling**\n",
        "\n",
        "*   The data should be collected through ***random sampling*** from each population. Random sampling helps ensure that the samples are representative of their respective populations, allowing for generalizable results.\n",
        "*  If the samples are not randomly selected, any observed variance differences may be due to sampling bias rather than genuine differences in population variances.\n",
        "\n",
        "###**4.Ratio of Variances Only Positive**\n",
        "\n",
        "*   Since the F-test involves a ***ratio of variances***, it only applies to situations where variances are positive. Variance, as a measure of spread, cannot be negative; thus, this test is only meaningful when both populations have positive variances.\n",
        "*  This is not typically a practical issue, as variance is usually positive, but it’s still an underlying assumption in the theoretical formulation of the test.\n",
        "\n",
        "\n",
        "\n",
        "\n",
        "\n",
        "\n",
        "\n",
        "\n"
      ],
      "metadata": {
        "id": "dnrWAR3NKeLj"
      }
    },
    {
      "cell_type": "markdown",
      "source": [
        "#Q4. What is the purpose of ANOVA, and how does it differ from a t-test?\n",
        "\n",
        "##ANS: The purpose of ANOVA (Analysis of Variance) is to test whether there are statistically significant differences among the means of three or more independent groups. ANOVA assesses whether observed differences between group means are likely due to random chance or to an actual effect of the grouping factor. This method is widely used in experimental design and data analysis, particularly when comparing multiple groups or treatment levels.\n",
        "\n",
        "##**Key Differences Between ANOVA and a t-Test**\n",
        "\n",
        "###1.Number of Groups Compared:\n",
        "\n",
        "*  **ANOVA**: Designed to compare the means of **three or more groups**. While it can also compare two groups, it is most useful and efficient for multiple groups.\n",
        "*   **t-Test**: Primarily used to compare the means of **two groups**. There are two main types of t-tests: the independent t-test (for comparing two independent groups) and the paired t-test (for comparing two related or repeated measures).\n",
        "\n",
        "###2.Type of Hypothesis:\n",
        "\n",
        "*  **ANOVA**: Tests a global hypothesis about multiple groups at once. Specifically, it tests whether at least one group mean is significantly different from the others, without specifying which one. If ANOVA indicates a significant difference, additional post-hoc tests can be performed to pinpoint which groups differ.\n",
        "* **t-Test**: Tests a specific hypothesis about two groups, such as whether one group has a higher or lower mean than the other. This means each t-test provides direct information about a pairwise comparison, rather than an overall assessment.\n",
        "\n",
        "###3.Control of Type I Error:\n",
        "\n",
        "*   **ANOVA**: By performing a single test to assess differences across multiple groups, ANOVA controls the Type I error rate. If we conducted multiple pairwise t-tests instead, the risk of making at least one Type I error (false positive) increases with each test. ANOVA keeps this error rate at the desired significance level (e.g., 5%) across all groups in one unified test.\n",
        "*  **t-Test**: When used repeatedly across multiple pairs, the cumulative Type I error rate increases, which is why a t-test is not ideal for comparing more than two groups independently.\n",
        "\n",
        "###4.Calculation and Interpretation:\n",
        "\n",
        "*   **ANOVA**: Calculates the **F-statistic**, which is the ratio of between-group variance to within-group variance. A high F-statistic suggests that the variation among group means is greater than what would be expected due to random chance. ANOVA results typically include an F-statistic and a p-value, with significant results suggesting that not all group means are equal.\n",
        "*   **t-Test**: Calculates the **t-statistic**, which reflects the difference between two group means relative to the variability within each group. A high t-statistic (in absolute value) indicates that the difference between two means is unlikely to have arisen by chance. The t-test produces a p-value associated with this t-statistic to determine significance.\n",
        "\n",
        "\n",
        "\n",
        "\n",
        "\n",
        "\n"
      ],
      "metadata": {
        "id": "NhfaJjA_A1jy"
      }
    },
    {
      "cell_type": "markdown",
      "source": [
        "#Q5. Explain when and why you would use a one-way ANOVA instead of multiple t-tests when comparing more  than two groups.\n",
        "\n",
        "##ANS:A one-way ANOVA is preferable over multiple t-tests when comparing more than two groups for several important reasons, primarily related to efficiency, statistical power, and control over the probability of Type I errors.\n",
        "\n",
        "##**1.When to Use a One-Way ANOVA**\n",
        "\n",
        "*   **Number of Groups**: A one-way ANOVA is suitable when you want to compare the means of ***three or more independent groups*** on a single outcome or dependent variable.\n",
        "\n",
        "*  **Independent Variable**: The groups being compared are typically defined by levels of a single independent variable (or factor), such as different treatments, locations, or time periods.\n",
        "\n",
        "*  **Assumptions**: One-way ANOVA assumes that the data within each group are\n",
        "normally distributed, that variances are approximately equal across groups (homogeneity of variance), and that the observations are independent.\n",
        "\n",
        "##**2.Why Use a One-Way ANOVA Instead of Multiple t-Tests**\n",
        "\n",
        "*   **Control of Type I Error Rate**: One of the main reasons to use a one-way ANOVA instead of multiple t-tests is to control the probability of making a ***Type I error*** (false positive). When conducting multiple t-tests, the probability of at least one Type I error increases with each test due to the cumulative error rate. For example, if you perform three pairwise t-tests at a 5% significance level, the likelihood of making at least one Type I error is higher than 5%. ANOVA controls this error rate by performing a single overall test, keeping the significance level at the desired threshold.\n",
        "*   **Increased Efficiency and Simplicity**: Running multiple t-tests for all possible pairs can be cumbersome and inefficient as the number of groups increases. A one-way ANOVA allows for an efficient and straightforward comparison by testing all group means simultaneously in a single test.\n",
        "\n",
        "*   **Overall Assessment of Group Differences**: ANOVA provides an overall assessment of whether there are statistically significant differences among the group means, without needing to specify which groups are different from each other initially. If ANOVA reveals a significant result, further post-hoc tests can be conducted to identify the specific groups with significant differences, if needed\n",
        "*   **Consistency with Parametric Assumptions**: ANOVA methods are designed to handle multiple groups while maintaining assumptions about the distribution and variance of data across groups. Multiple t-tests increase the chances of violating these assumptions, as variances can differ more noticeably between specific pairs when tested independently.\n",
        "\n",
        "\n",
        "\n",
        "\n"
      ],
      "metadata": {
        "id": "XCaU_-swA1GY"
      }
    },
    {
      "cell_type": "markdown",
      "source": [
        "#Q6. Explain how variance is partitioned in ANOVA into between-group variance and within-group variance. How does this partitioning contribute to the calculation of the F-statistic?\n",
        "\n",
        "##ANS: In ANOVA (Analysis of Variance), variance is partitioned into two components: between-group variance and within-group variance. This partitioning helps us understand the sources of variation in the data and is critical for testing whether the means of different groups are statistically different from each other.\n",
        "\n",
        "###**1. Between-Group Variance**\n",
        "\n",
        "*  Between-group variance represents the variation due to the differences in the group means relative to the overall mean of the entire dataset (also known as the grand mean). It reflects how much the group means deviate from the grand mean, indicating how much variation is explained by the grouping factor (e.g., treatment, group membership).\n",
        "*   **Calculation**: It is calculated by measuring how much each group mean deviates from the overall grand mean, weighted by the number of observations in each group. Mathematically, it is the sum of squared deviations between the group means and the grand mean, divided by the degrees of freedom for the groups (i.e., the number of groups minus 1).\n",
        "\n",
        "* **Formula**:\n",
        "\n",
        "![Screenshot 2024-11-25 155737.png](data:image/png;base64,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)\n",
        "\n",
        "###**2.Within-Group Variance**\n",
        "\n",
        "*   Within-group variance represents the variation within each group due to random error or individual differences in the data that are not explained by the group membership. This reflects how much the data points within each group deviate from their respective group mean.\n",
        "*   **Calculation**: It is calculated by measuring the deviations of individual data points from their respective group means. These deviations are summed across all groups and then divided by the degrees of freedom within the groups (i.e., total number of observations minus the number of groups).\n",
        "\n",
        "*  **Formula**\n",
        "\n",
        "\n",
        "![Screenshot 2024-11-25 164241.png](data:image/png;base64,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)\n",
        "\n",
        "\n",
        "###**3.Partitioning of Variance in ANOVA**\n",
        "\n",
        "*   The total variance in the dataset is the sum of the between-group variance and within-group variance:\n",
        "\n",
        "  ***Total variance = Between-group variance + Within-group variance***\n",
        "\n",
        "The total variance is essentially how much all the data points deviate from the grand mean, while the between-group variance explains how much of this variation is due to differences in group means, and the within-group variance captures the variation within the groups due to individual differences.\n",
        "\n",
        "###**4.Contribution to the F-statistic Calculation**\n",
        "The F-statistic is the ratio of between-group variance to within-group variance:\n",
        "\n",
        "\n",
        "![Screenshot 2024-11-25 165513.png](data:image/png;base64,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)\n",
        "\n",
        "This ratio is used to test the null hypothesis that all group means are equal. Here's why this ratio is important:\n",
        "\n",
        "*   If the between-group variance is much larger than the within-group variance, it suggests that the group means are significantly different from each other, and thus, we may reject the null hypothesis.\n",
        "*  Conversely, if the within-group variance is large relative to the between-group variance, it suggests that most of the variation in the data is due to individual differences within groups, and thus, the group means are likely similar, leading to failure to reject the null hypothesis.\n",
        "\n",
        "\n",
        "\n"
      ],
      "metadata": {
        "id": "7RkGp73tA0ds"
      }
    },
    {
      "cell_type": "markdown",
      "source": [
        "#Q7. Compare the classical (frequentist) approach to ANOVA with the Bayesian approach. What are the key differences in terms of how they handle uncertainty, parameter estimation, and hypothesis testing?\n",
        "\n",
        "##ANS: The classical (frequentist) approach to ANOVA and the Bayesian approach to ANOVA differ fundamentally in their philosophies of probability, handling of uncertainty, parameter estimation, and hypothesis testing.\n",
        "\n",
        "###**1.Handling of Uncertainty**\n",
        "\n",
        "*  **Frequentist ANOVA**: In the frequentist framework, probability is understood as the long-run frequency of events. Uncertainty is treated by assuming that there is a fixed **\"true\"** effect size or parameter in the population, which we estimate through sample data. Confidence intervals are used to express uncertainty around estimates, indicating a range within which we expect the true parameter to fall, given repeated sampling.\n",
        "*  **Bayesian ANOVA**: In Bayesian analysis, probability is interpreted as a degree of belief or certainty about a parameter, which can vary and be updated as new data is observed. Bayesian ANOVA incorporates prior knowledge or beliefs about parameters using prior distributions and updates these beliefs based on observed data to create a posterior distribution. This posterior distribution represents the updated uncertainty around the parameters.\n",
        "\n",
        "###**2.Parameter Estimation**\n",
        "\n",
        "*   **Frequentist ANOVA**: Parameters are estimated by maximizing likelihood, often through least squares for ANOVA, to find point estimates of means and variances across groups. Estimates are based on the observed data alone, and there is no incorporation of prior knowledge or information. The focus is on finding a single best estimate and using sampling distributions to create confidence intervals around these estimates.\n",
        "*   **Bayesian ANOVA**: Parameters are estimated using both the observed data and prior distributions. The posterior distribution, which combines prior beliefs with the observed data, provides a full distribution of possible parameter values, not just a single point estimate. This allows for direct probability statements about the parameters (e.g., the probability that a certain mean difference is above a threshold).\n",
        "\n",
        "###**3.Hypothesis Testing**\n",
        "\n",
        "*   **Frequentist ANOVA**: Hypothesis testing involves comparing between-group variance to within-group variance to determine if at least one group mean is significantly different. This is done using the F-statistic and a p-value. The null hypothesis is rejected if the p-value is below a chosen significance level (e.g., 0.05), indicating that observed differences are unlikely to be due to chance alone. This approach is generally restricted to answering yes-or-no questions about significance.\n",
        "*   **Bayesian ANOVA**: Hypothesis testing in Bayesian ANOVA involves evaluating the posterior distribution to assess the probability of different hypotheses. Instead of p-values, Bayes factors are often used to compare the evidence for different models or hypotheses. This approach can provide direct evidence for or against a hypothesis, with Bayes factors quantifying the relative support for one hypothesis over another. Bayesian methods allow for a more nuanced interpretation, such as determining the probability that one group mean is higher than another, rather than relying on a strict cutoff.\n",
        "\n",
        "###**4.Interpretation of Results**\n",
        "\n",
        "*   **Frequentist ANOVA**: The interpretation of frequentist ANOVA results focuses on statistical significance. Results are often summarized in terms of p-values and confidence intervals, but these do not provide a probability of the null or alternative hypothesis being true.\n",
        "*   **Bayesian ANOVA**: Bayesian ANOVA provides probabilistic interpretations, with the posterior distribution directly reflecting the credibility of different parameter values. Results are often interpreted in terms of credible intervals, which are ranges where the parameter likely falls, given the observed data and prior beliefs.\n",
        "\n",
        "\n",
        "\n",
        "\n",
        "\n"
      ],
      "metadata": {
        "id": "Oh5jXWmdAzpm"
      }
    },
    {
      "cell_type": "markdown",
      "source": [
        "#Q8. You have two sets of data representing the incomes of two different professions:\n",
        "\n",
        "*   Profession A: [48, 52, 55, 60, 62]\n",
        "*   Profession B: [45, 50, 55, 52, 47]\n",
        "Perform an F-test to determine if the variances of the two professions'\n",
        "incomes are equal. What are your conclusions based on the F-test?\n",
        "\n",
        "#Task: Use Python to calculate the F-statistic and p-value for the given data.\n",
        "\n",
        "#Objective: Gain experience in performing F-tests and interpreting the results in terms of variance comparison.\n",
        "\n"
      ],
      "metadata": {
        "id": "lK3bzFtV8Fap"
      }
    },
    {
      "cell_type": "code",
      "source": [
        "import numpy as np\n",
        "from scipy import stats\n",
        "\n",
        "# Income data for the two professions\n",
        "profession_a = [48, 52, 55, 60, 62]\n",
        "profession_b = [45, 50, 55, 52, 47]\n",
        "\n",
        "# Calculate sample variances\n",
        "var_a = np.var(profession_a, ddof=1)\n",
        "var_b = np.var(profession_b, ddof=1)\n",
        "\n",
        "# Calculate the F-statistic for the variances\n",
        "f_statistic = var_a / var_b\n",
        "\n",
        "# Degrees of freedom for both samples\n",
        "dfn = len(profession_a) - 1  # Degrees of freedom for Profession A\n",
        "dfd = len(profession_b) - 1  # Degrees of freedom for Profession B\n",
        "\n",
        "# Calculate the p-value for a two-tailed F-test\n",
        "p_value = 2 * min(stats.f.cdf(f_statistic, dfn=dfn, dfd=dfd),\n",
        "                  1 - stats.f.cdf(f_statistic, dfn=dfn, dfd=dfd))\n",
        "\n",
        "# Display results\n",
        "f_statistic, p_value\n"
      ],
      "metadata": {
        "colab": {
          "base_uri": "https://localhost:8080/"
        },
        "id": "KB0emDce8BE0",
        "outputId": "244eade4-6cd2-4b90-a007-6f28faa93aaf"
      },
      "execution_count": 1,
      "outputs": [
        {
          "output_type": "execute_result",
          "data": {
            "text/plain": [
              "(2.089171974522293, 0.49304859900533904)"
            ]
          },
          "metadata": {},
          "execution_count": 1
        }
      ]
    },
    {
      "cell_type": "markdown",
      "source": [
        "#Q9. Conduct a one-way ANOVA to test whether there are any statistically significant differences in average heights between three different regions with the following data:\n",
        "\n",
        "*  Region A: [160, 162, 165, 158, 164]\n",
        "*  Region B: [172, 175, 170, 168, 174]\n",
        "*  Region C: [180, 182, 179, 185, 183]\n",
        "\n",
        "\n",
        "#Task: Write Python code to perform the one-way ANOVA and interpret the results\n",
        "#Objective: Learn how to perform one-way ANOVA using Python and interpret F-statistic and p-value."
      ],
      "metadata": {
        "id": "PPliqrXH8bJG"
      }
    },
    {
      "cell_type": "code",
      "source": [
        "import scipy.stats as stats\n",
        "\n",
        "# Heights data for the three regions\n",
        "region_a = [160, 162, 165, 158, 164]\n",
        "region_b = [172, 175, 170, 168, 174]\n",
        "region_c = [180, 182, 179, 185, 183]\n",
        "\n",
        "# Perform the one-way ANOVA\n",
        "f_statistic, p_value = stats.f_oneway(region_a, region_b, region_c)\n",
        "\n",
        "# Output the results\n",
        "print(\"F-statistic:\", f_statistic)\n",
        "print(\"p-value:\", p_value)\n"
      ],
      "metadata": {
        "colab": {
          "base_uri": "https://localhost:8080/"
        },
        "id": "SwsP0uPa8bmk",
        "outputId": "aef48b71-50b8-47dc-ac55-2c9900608818"
      },
      "execution_count": null,
      "outputs": [
        {
          "output_type": "stream",
          "name": "stdout",
          "text": [
            "F-statistic: 67.87330316742101\n",
            "p-value: 2.870664187937026e-07\n"
          ]
        }
      ]
    }
  ]
}
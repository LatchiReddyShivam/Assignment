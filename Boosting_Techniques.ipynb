{
  "nbformat": 4,
  "nbformat_minor": 0,
  "metadata": {
    "colab": {
      "provenance": []
    },
    "kernelspec": {
      "name": "python3",
      "display_name": "Python 3"
    },
    "language_info": {
      "name": "python"
    }
  },
  "cells": [
    {
      "cell_type": "markdown",
      "source": [
        "#**THEORETICAL**\n",
        "\n",
        "#Q1. What is Boosting in Machine Learning?\n",
        "\n",
        "##ANS: Boosting is an ensemble learning technique that improves the accuracy of models by training weak learners sequentially. Each model focuses on the errors of the previous ones, adjusting the sample weights to improve performance on misclassified instances."
      ],
      "metadata": {
        "id": "DUGXrjPU1a1d"
      }
    },
    {
      "cell_type": "markdown",
      "source": [
        "#Q2. How does Boosting differ from Bagging?\n",
        "\n",
        "##ANS: Boosting focuses on training models sequentially, where each new model corrects the errors of the previous one, while Bagging trains multiple models independently in parallel and aggregates their results, reducing variance without necessarily improving bias."
      ],
      "metadata": {
        "id": "4kUZOEPLPR4d"
      }
    },
    {
      "cell_type": "markdown",
      "source": [
        "#Q3. What is the key idea behind AdaBoost?\n",
        "\n",
        "##ANS: AdaBoost (Adaptive Boosting) builds models sequentially, assigning higher weights to misclassified instances so that the next model focuses more on those difficult examples. The final prediction is a weighted combination of all weak learners."
      ],
      "metadata": {
        "id": "EBIoMdr_Pd0x"
      }
    },
    {
      "cell_type": "markdown",
      "source": [
        "#Q4. Explain the working of AdaBoost with an example.\n",
        "\n",
        "##ANS: Suppose we use AdaBoost with decision stumps (one-level decision trees) to classify spam emails. Initially, all emails have equal importance. After the first model misclassifies some spam emails as non-spam, those samples receive higher weights. The next model prioritizes these misclassified examples. This process repeats, and the final decision is made based on a weighted vote of all models."
      ],
      "metadata": {
        "id": "tXB8U7UhPptW"
      }
    },
    {
      "cell_type": "markdown",
      "source": [
        "#Q5. What is Gradient Boosting, and how is it different from AdaBoost?\n",
        "\n",
        "##ANS: Gradient Boosting optimizes a loss function by iteratively adding weak models that correct residual errors of previous models, while AdaBoost focuses on updating sample weights. Gradient Boosting relies on gradient descent for error minimization, whereas AdaBoost adjusts weights based on misclassification rates."
      ],
      "metadata": {
        "id": "hshx28nXP0PU"
      }
    },
    {
      "cell_type": "markdown",
      "source": [
        "#Q6. What is the loss function in Gradient Boosting?\n",
        "\n",
        "##ANS: The loss function in Gradient Boosting depends on the task:\n",
        "\n",
        "*  **For regression**: Mean Squared Error (MSE) or Mean Absolute Error (MAE).\n",
        "*   **For classification**: Log Loss (Cross-Entropy). The algorithm minimizes this loss by fitting models to the negative gradient of the function.\n",
        "\n"
      ],
      "metadata": {
        "id": "_TGU4fnkQARm"
      }
    },
    {
      "cell_type": "markdown",
      "source": [
        "#Q7. How does XGBoost improve over traditional Gradient Boosting?\n",
        "\n",
        "##ANS: XGBoost enhances Gradient Boosting by incorporating:\n",
        "\n",
        "*   Regularization (L1 & L2) to reduce overfitting.\n",
        "\n",
        "*  Parallelization for faster computations.\n",
        "\n",
        "*  Efficient handling of missing values.\n",
        "\n",
        "*   Tree pruning to avoid unnecessary splits.\n",
        "*   Weighted quantile sketch for optimized feature selection.\n",
        "\n"
      ],
      "metadata": {
        "id": "3UndEOyBQZb_"
      }
    },
    {
      "cell_type": "markdown",
      "source": [
        "#Q8. What is the difference between **XGBoost** and **CatBoost**?\n",
        "\n",
        "##ANS:  \n",
        "*  **XGBoost** is efficient in handling large datasets and numerical features but requires preprocessing for categorical variables.\n",
        "*  **CatBoost** is optimized for categorical features, using an innovative encoding method to handle categorical data without explicit transformation.\n",
        "\n"
      ],
      "metadata": {
        "id": "EkPBoUfVRigP"
      }
    },
    {
      "cell_type": "markdown",
      "source": [
        "#Q9. What are some real-world applications of Boosting techniques?\n",
        "\n",
        "##ANS:\n",
        "\n",
        "*   **Finance**: Fraud detection in credit card transactions.\n",
        "\n",
        "*  **Healthcare**: Disease prediction based on patient history.\n",
        "\n",
        "*   **Marketing**: Customer churn prediction in e-commerce.\n",
        "*   **Search engines**: Ranking web pages effectively.\n",
        "\n",
        "\n",
        "*   **Cybersecurity**: Identifying phishing attacks.  \n",
        "\n",
        "\n",
        "\n",
        "\n",
        "\n",
        "\n"
      ],
      "metadata": {
        "id": "Qx3KsbaISTQb"
      }
    },
    {
      "cell_type": "markdown",
      "source": [
        "#Q10. How does regularization help in XGBoost?\n",
        "\n",
        "##ANS: XGBoost applies L1 (Lasso) and L2 (Ridge) regularization to control complexity and prevent overfitting. This ensures that the model generalizes well to new data rather than memorizing the training data.\n",
        "\n"
      ],
      "metadata": {
        "id": "NVQ3Qc8XTDQ-"
      }
    },
    {
      "cell_type": "markdown",
      "source": [
        "#Q11. What are some hyperparameters to tune in Gradient Boosting models?\n",
        "\n",
        "##ANS:\n",
        "\n",
        "*  **Learning rate**: Controls the step size of updates.\n",
        "\n",
        "*   **Number of estimators**: The total weak learners in the ensemble.\n",
        "\n",
        "*   **Max depth**: Restricts tree complexity to prevent overfitting.\n",
        "*  **Subsample**: Fraction of data used for training each model.\n",
        "\n",
        "\n",
        "*   **Min child weight**: Prevents splitting on noisy samples.\n",
        "\n",
        "\n",
        "* **Gamma**: Controls minimum loss reduction for node splitting.  \n",
        "\n",
        "\n",
        "\n",
        "\n",
        "\n"
      ],
      "metadata": {
        "id": "DrbkuXZhTZKu"
      }
    },
    {
      "cell_type": "markdown",
      "source": [
        "#Q12. What is the concept of Feature Importance in Boosting?\n",
        "\n",
        "##ANS: Feature Importance in Boosting measures how much a particular feature contributes to the model’s decision-making. It is calculated based on:\n",
        "\n",
        "*  **Gain**: Contribution of a feature in reducing loss.\n",
        "\n",
        "*  **Frequency**: How often a feature is used for splitting.\n",
        "*  **Cover**: The number of samples impacted by the feature\n",
        "\n",
        "\n",
        "\n"
      ],
      "metadata": {
        "id": "qWAC5fL_UGnx"
      }
    },
    {
      "cell_type": "markdown",
      "source": [
        "#Q13. Why is CatBoost efficient for categorical data?\n",
        "\n",
        "##ANS: CatBoost efficiently handles categorical data using its unique \"***Ordered Boosting*** \" and \"***Target-Based Encoding*** \" methods, which avoid overfitting and improve performance without requiring explicit one-hot encoding or label encoding."
      ],
      "metadata": {
        "id": "VF8xG3l8UtY0"
      }
    },
    {
      "cell_type": "markdown",
      "source": [
        "##**PRACTICAL**\n",
        "\n",
        "\n",
        "##Q14. Train an AdaBoost Classifier on a dataset and display the accuracy."
      ],
      "metadata": {
        "id": "znf1BMC88wPI"
      }
    },
    {
      "cell_type": "code",
      "source": [
        "from sklearn.ensemble import AdaBoostClassifier\n",
        "from sklearn.datasets import make_classification\n",
        "from sklearn.model_selection import train_test_split\n",
        "from sklearn.metrics import accuracy_score\n",
        "\n",
        "X, y = make_classification(n_samples=1000, n_features=20, random_state=42)\n",
        "X_train, X_test, y_train, y_test = train_test_split(X, y, test_size=0.2, random_state=42)\n",
        "\n",
        "model = AdaBoostClassifier(n_estimators=50, random_state=42)\n",
        "model.fit(X_train, y_train)\n",
        "y_pred = model.predict(X_test)\n",
        "\n",
        "print(\"Accuracy:\", accuracy_score(y_test, y_pred))\n"
      ],
      "metadata": {
        "colab": {
          "base_uri": "https://localhost:8080/"
        },
        "id": "b9aUF8yo80s3",
        "outputId": "f9bab2e5-363c-4456-cb73-313291955f18"
      },
      "execution_count": 6,
      "outputs": [
        {
          "output_type": "stream",
          "name": "stdout",
          "text": [
            "Accuracy: 0.875\n"
          ]
        }
      ]
    },
    {
      "cell_type": "markdown",
      "source": [
        "##Q15. Train an AdaBoost Regressor and compute the Mean Absolute Error (MAE)."
      ],
      "metadata": {
        "id": "c1kAgS9M9IVo"
      }
    },
    {
      "cell_type": "code",
      "source": [
        "from sklearn.ensemble import AdaBoostRegressor\n",
        "from sklearn.datasets import make_regression\n",
        "from sklearn.model_selection import train_test_split\n",
        "from sklearn.metrics import mean_absolute_error\n",
        "\n",
        "X, y = make_regression(n_samples=1000, n_features=20, random_state=42)\n",
        "X_train, X_test, y_train, y_test = train_test_split(X, y, test_size=0.2, random_state=42)\n",
        "\n",
        "model = AdaBoostRegressor(n_estimators=50, random_state=42)\n",
        "model.fit(X_train, y_train)\n",
        "y_pred = model.predict(X_test)\n",
        "\n",
        "print(\"MAE:\", mean_absolute_error(y_test, y_pred))\n"
      ],
      "metadata": {
        "colab": {
          "base_uri": "https://localhost:8080/"
        },
        "id": "ZNmvMQ0m9Jfv",
        "outputId": "be9edfe8-a32e-450b-a0ac-cf4ac06a3166"
      },
      "execution_count": 7,
      "outputs": [
        {
          "output_type": "stream",
          "name": "stdout",
          "text": [
            "MAE: 78.98841371615133\n"
          ]
        }
      ]
    },
    {
      "cell_type": "markdown",
      "source": [
        "##Q16. Train a Gradient Boosting Classifier on the Breast Cancer dataset and display feature importance."
      ],
      "metadata": {
        "id": "1DBIzYmX9NH4"
      }
    },
    {
      "cell_type": "code",
      "source": [
        "from sklearn.ensemble import GradientBoostingClassifier\n",
        "from sklearn.datasets import load_breast_cancer\n",
        "import pandas as pd\n",
        "\n",
        "data = load_breast_cancer()\n",
        "X, y = data.data, data.target\n",
        "\n",
        "model = GradientBoostingClassifier(n_estimators=100, random_state=42)\n",
        "model.fit(X, y)\n",
        "\n",
        "feature_importance = pd.Series(model.feature_importances_, index=data.feature_names)\n",
        "print(\"Feature Importance:\\n\", feature_importance.sort_values(ascending=False))\n"
      ],
      "metadata": {
        "colab": {
          "base_uri": "https://localhost:8080/"
        },
        "id": "Y6acHS7k9PJX",
        "outputId": "092d511c-87a7-4d73-de22-8a31177436d7"
      },
      "execution_count": 8,
      "outputs": [
        {
          "output_type": "stream",
          "name": "stdout",
          "text": [
            "Feature Importance:\n",
            " worst radius               0.443226\n",
            "worst perimeter            0.150528\n",
            "mean concave points        0.131765\n",
            "worst concave points       0.126940\n",
            "worst texture              0.035036\n",
            "worst area                 0.029426\n",
            "mean texture               0.027852\n",
            "worst concavity            0.013858\n",
            "area error                 0.008327\n",
            "worst smoothness           0.007256\n",
            "concave points error       0.004433\n",
            "texture error              0.004086\n",
            "radius error               0.003067\n",
            "concavity error            0.002133\n",
            "symmetry error             0.001846\n",
            "perimeter error            0.001739\n",
            "mean compactness           0.001431\n",
            "fractal dimension error    0.001280\n",
            "mean symmetry              0.000936\n",
            "worst compactness          0.000777\n",
            "compactness error          0.000694\n",
            "mean area                  0.000647\n",
            "mean concavity             0.000567\n",
            "smoothness error           0.000526\n",
            "worst fractal dimension    0.000494\n",
            "mean perimeter             0.000323\n",
            "mean fractal dimension     0.000262\n",
            "mean radius                0.000262\n",
            "worst symmetry             0.000183\n",
            "mean smoothness            0.000100\n",
            "dtype: float64\n"
          ]
        }
      ]
    },
    {
      "cell_type": "markdown",
      "source": [
        "##Q17. Train a Gradient Boosting Regressor and compute the R-Squared Score."
      ],
      "metadata": {
        "id": "eVJMUes09SSn"
      }
    },
    {
      "cell_type": "code",
      "source": [
        "from sklearn.ensemble import GradientBoostingRegressor\n",
        "from sklearn.datasets import make_regression\n",
        "from sklearn.model_selection import train_test_split\n",
        "from sklearn.metrics import r2_score\n",
        "\n",
        "X, y = make_regression(n_samples=1000, n_features=20, random_state=42)\n",
        "X_train, X_test, y_train, y_test = train_test_split(X, y, test_size=0.2, random_state=42)\n",
        "\n",
        "model = GradientBoostingRegressor(n_estimators=100, random_state=42)\n",
        "model.fit(X_train, y_train)\n",
        "y_pred = model.predict(X_test)\n",
        "\n",
        "print(\"R-Squared Score:\", r2_score(y_test, y_pred))\n"
      ],
      "metadata": {
        "colab": {
          "base_uri": "https://localhost:8080/"
        },
        "id": "sp4T9ncc9TTn",
        "outputId": "292dd050-393c-4ece-f663-d53ded2f80b1"
      },
      "execution_count": 9,
      "outputs": [
        {
          "output_type": "stream",
          "name": "stdout",
          "text": [
            "R-Squared Score: 0.9063009871726728\n"
          ]
        }
      ]
    },
    {
      "cell_type": "markdown",
      "source": [
        "##Q18. Train an XGBoost Classifier and compare accuracy with Gradient Boosting."
      ],
      "metadata": {
        "id": "yFuwLj5a9WkQ"
      }
    },
    {
      "cell_type": "code",
      "source": [
        "from xgboost import XGBClassifier\n",
        "from sklearn.ensemble import GradientBoostingClassifier\n",
        "from sklearn.datasets import make_classification\n",
        "from sklearn.model_selection import train_test_split\n",
        "from sklearn.metrics import accuracy_score\n",
        "\n",
        "X, y = make_classification(n_samples=1000, n_features=20, random_state=42)\n",
        "X_train, X_test, y_train, y_test = train_test_split(X, y, test_size=0.2, random_state=42)\n",
        "\n",
        "xgb = XGBClassifier(use_label_encoder=False, eval_metric='logloss')\n",
        "xgb.fit(X_train, y_train)\n",
        "y_pred_xgb = xgb.predict(X_test)\n",
        "\n",
        "gb = GradientBoostingClassifier(n_estimators=100, random_state=42)\n",
        "gb.fit(X_train, y_train)\n",
        "y_pred_gb = gb.predict(X_test)\n",
        "\n",
        "print(\"XGBoost Accuracy:\", accuracy_score(y_test, y_pred_xgb))\n",
        "print(\"Gradient Boosting Accuracy:\", accuracy_score(y_test, y_pred_gb))\n"
      ],
      "metadata": {
        "colab": {
          "base_uri": "https://localhost:8080/"
        },
        "id": "zyaU4ZJp9Xrv",
        "outputId": "7c391b62-89ea-4fbf-d1f9-46f1e4961d45"
      },
      "execution_count": 10,
      "outputs": [
        {
          "output_type": "stream",
          "name": "stderr",
          "text": [
            "/usr/local/lib/python3.11/dist-packages/xgboost/core.py:158: UserWarning: [11:03:50] WARNING: /workspace/src/learner.cc:740: \n",
            "Parameters: { \"use_label_encoder\" } are not used.\n",
            "\n",
            "  warnings.warn(smsg, UserWarning)\n"
          ]
        },
        {
          "output_type": "stream",
          "name": "stdout",
          "text": [
            "XGBoost Accuracy: 0.895\n",
            "Gradient Boosting Accuracy: 0.915\n"
          ]
        }
      ]
    },
    {
      "cell_type": "markdown",
      "source": [
        "##Q19. Train a CatBoost Classifier and compute the F1-Score."
      ],
      "metadata": {
        "id": "xYarOK1W9bt4"
      }
    },
    {
      "cell_type": "code",
      "source": [
        "!pip install catboost  # Install CatBoost\n",
        "\n",
        "import numpy as np\n",
        "from catboost import CatBoostClassifier\n",
        "from sklearn.model_selection import train_test_split\n",
        "from sklearn.metrics import f1_score\n",
        "from sklearn.datasets import make_classification\n",
        "\n",
        "# Generate a sample dataset (replace with your actual data)\n",
        "X, y = make_classification(n_samples=1000, n_features=20, random_state=42)\n",
        "\n",
        "# Split the data into training and testing sets\n",
        "X_train, X_test, y_train, y_test = train_test_split(X, y, test_size=0.2, random_state=42)\n",
        "\n",
        "# Initialize and train the CatBoost Classifier\n",
        "model = CatBoostClassifier(\n",
        "    iterations=100,  # Adjust as needed\n",
        "    learning_rate=0.1,  # Adjust as needed\n",
        "    depth=6,  # Adjust as needed\n",
        "    loss_function='Logloss',  # For binary classification\n",
        "    verbose=0,  # Suppress training output (set to True for verbose)\n",
        "    random_state=42,\n",
        ")\n",
        "\n",
        "model.fit(X_train, y_train)\n",
        "\n",
        "# Make predictions on the test set\n",
        "y_pred = model.predict(X_test)\n",
        "\n",
        "# Calculate the F1-score\n",
        "f1 = f1_score(y_test, y_pred)\n",
        "\n",
        "# Print the F1-score\n",
        "print(f\"F1-score: {f1}\")"
      ],
      "metadata": {
        "colab": {
          "base_uri": "https://localhost:8080/"
        },
        "id": "SpAmt8Ye-TaX",
        "outputId": "39499207-f962-404c-fa0f-1367c069e9db"
      },
      "execution_count": 11,
      "outputs": [
        {
          "output_type": "stream",
          "name": "stdout",
          "text": [
            "Collecting catboost\n",
            "  Downloading catboost-1.2.7-cp311-cp311-manylinux2014_x86_64.whl.metadata (1.2 kB)\n",
            "Requirement already satisfied: graphviz in /usr/local/lib/python3.11/dist-packages (from catboost) (0.20.3)\n",
            "Requirement already satisfied: matplotlib in /usr/local/lib/python3.11/dist-packages (from catboost) (3.10.0)\n",
            "Requirement already satisfied: numpy<2.0,>=1.16.0 in /usr/local/lib/python3.11/dist-packages (from catboost) (1.26.4)\n",
            "Requirement already satisfied: pandas>=0.24 in /usr/local/lib/python3.11/dist-packages (from catboost) (2.2.2)\n",
            "Requirement already satisfied: scipy in /usr/local/lib/python3.11/dist-packages (from catboost) (1.14.1)\n",
            "Requirement already satisfied: plotly in /usr/local/lib/python3.11/dist-packages (from catboost) (5.24.1)\n",
            "Requirement already satisfied: six in /usr/local/lib/python3.11/dist-packages (from catboost) (1.17.0)\n",
            "Requirement already satisfied: python-dateutil>=2.8.2 in /usr/local/lib/python3.11/dist-packages (from pandas>=0.24->catboost) (2.8.2)\n",
            "Requirement already satisfied: pytz>=2020.1 in /usr/local/lib/python3.11/dist-packages (from pandas>=0.24->catboost) (2025.1)\n",
            "Requirement already satisfied: tzdata>=2022.7 in /usr/local/lib/python3.11/dist-packages (from pandas>=0.24->catboost) (2025.1)\n",
            "Requirement already satisfied: contourpy>=1.0.1 in /usr/local/lib/python3.11/dist-packages (from matplotlib->catboost) (1.3.1)\n",
            "Requirement already satisfied: cycler>=0.10 in /usr/local/lib/python3.11/dist-packages (from matplotlib->catboost) (0.12.1)\n",
            "Requirement already satisfied: fonttools>=4.22.0 in /usr/local/lib/python3.11/dist-packages (from matplotlib->catboost) (4.56.0)\n",
            "Requirement already satisfied: kiwisolver>=1.3.1 in /usr/local/lib/python3.11/dist-packages (from matplotlib->catboost) (1.4.8)\n",
            "Requirement already satisfied: packaging>=20.0 in /usr/local/lib/python3.11/dist-packages (from matplotlib->catboost) (24.2)\n",
            "Requirement already satisfied: pillow>=8 in /usr/local/lib/python3.11/dist-packages (from matplotlib->catboost) (11.1.0)\n",
            "Requirement already satisfied: pyparsing>=2.3.1 in /usr/local/lib/python3.11/dist-packages (from matplotlib->catboost) (3.2.1)\n",
            "Requirement already satisfied: tenacity>=6.2.0 in /usr/local/lib/python3.11/dist-packages (from plotly->catboost) (9.0.0)\n",
            "Downloading catboost-1.2.7-cp311-cp311-manylinux2014_x86_64.whl (98.7 MB)\n",
            "\u001b[2K   \u001b[90m━━━━━━━━━━━━━━━━━━━━━━━━━━━━━━━━━━━━━━━━\u001b[0m \u001b[32m98.7/98.7 MB\u001b[0m \u001b[31m8.6 MB/s\u001b[0m eta \u001b[36m0:00:00\u001b[0m\n",
            "\u001b[?25hInstalling collected packages: catboost\n",
            "Successfully installed catboost-1.2.7\n",
            "F1-score: 0.8921568627450981\n"
          ]
        }
      ]
    },
    {
      "cell_type": "markdown",
      "source": [
        "##Q20. Train an XGBoost Regressor and compute the Mean Squared Error (MSE)."
      ],
      "metadata": {
        "id": "Ju498ilN-due"
      }
    },
    {
      "cell_type": "code",
      "source": [
        "from xgboost import XGBRegressor\n",
        "from sklearn.datasets import make_regression\n",
        "from sklearn.model_selection import train_test_split\n",
        "from sklearn.metrics import mean_squared_error\n",
        "\n",
        "X, y = make_regression(n_samples=1000, n_features=20, random_state=42)\n",
        "X_train, X_test, y_train, y_test = train_test_split(X, y, test_size=0.2, random_state=42)\n",
        "\n",
        "model = XGBRegressor()\n",
        "model.fit(X_train, y_train)\n",
        "y_pred = model.predict(X_test)\n",
        "\n",
        "print(\"MSE:\", mean_squared_error(y_test, y_pred))\n"
      ],
      "metadata": {
        "colab": {
          "base_uri": "https://localhost:8080/"
        },
        "id": "D5zT39Aa-_9O",
        "outputId": "57827659-dea7-400a-b1f7-e9727ad1ce1e"
      },
      "execution_count": 12,
      "outputs": [
        {
          "output_type": "stream",
          "name": "stdout",
          "text": [
            "MSE: 6528.914936401449\n"
          ]
        }
      ]
    },
    {
      "cell_type": "markdown",
      "source": [
        "##Q21. Train an AdaBoost Classifier and visualize feature importance."
      ],
      "metadata": {
        "id": "-2JcjYTA_D2X"
      }
    },
    {
      "cell_type": "code",
      "source": [
        "import matplotlib.pyplot as plt\n",
        "from sklearn.ensemble import AdaBoostClassifier\n",
        "from sklearn.datasets import make_classification\n",
        "from sklearn.model_selection import train_test_split\n",
        "\n",
        "# Generate dataset\n",
        "X, y = make_classification(n_samples=1000, n_features=20, random_state=42)\n",
        "\n",
        "# Split data into train and test sets\n",
        "X_train, X_test, y_train, y_test = train_test_split(X, y, test_size=0.2, random_state=42)\n",
        "\n",
        "# Train AdaBoost Classifier\n",
        "model = AdaBoostClassifier(n_estimators=50, random_state=42)\n",
        "model.fit(X_train, y_train)\n",
        "\n",
        "# Plot feature importance\n",
        "plt.figure(figsize=(10, 5))\n",
        "plt.bar(range(len(model.feature_importances_)), model.feature_importances_)\n",
        "plt.xlabel(\"Feature Index\")\n",
        "plt.ylabel(\"Importance\")\n",
        "plt.title(\"Feature Importance - AdaBoost Classifier\")\n",
        "plt.tight_layout()\n",
        "plt.show()\n"
      ],
      "metadata": {
        "colab": {
          "base_uri": "https://localhost:8080/",
          "height": 507
        },
        "id": "yFGfmR8o_PBm",
        "outputId": "4ba4f263-49d3-4821-e49b-5285c4bdcff4"
      },
      "execution_count": 13,
      "outputs": [
        {
          "output_type": "display_data",
          "data": {
            "text/plain": [
              "<Figure size 1000x500 with 1 Axes>"
            ],
            "image/png": "[encoded data removed]"
          },
          "metadata": {}
        }
      ]
    },
    {
      "cell_type": "markdown",
      "source": [
        "##Q22. Train a Gradient Boosting Regressor and plot learning curves."
      ],
      "metadata": {
        "id": "Gx97bIUV_VIe"
      }
    },
    {
      "cell_type": "code",
      "source": [
        "import matplotlib.pyplot as plt\n",
        "from sklearn.ensemble import GradientBoostingRegressor\n",
        "\n",
        "train_sizes = [1, 10, 50, 100, 200, 500, 800]\n",
        "train_scores = []\n",
        "\n",
        "for size in train_sizes:\n",
        "    model = GradientBoostingRegressor(n_estimators=100, random_state=42)\n",
        "    model.fit(X_train[:size], y_train[:size])\n",
        "    train_scores.append(model.score(X_test, y_test))\n",
        "\n",
        "plt.plot(train_sizes, train_scores, marker='o')\n",
        "plt.xlabel(\"Training Size\")\n",
        "plt.ylabel(\"Score\")\n",
        "plt.title(\"Learning Curve - Gradient Boosting Regressor\")\n",
        "plt.show()\n"
      ],
      "metadata": {
        "colab": {
          "base_uri": "https://localhost:8080/",
          "height": 472
        },
        "id": "zVS_KGIT_WB1",
        "outputId": "639ed08f-d570-4917-be8d-aedecd9af82a"
      },
      "execution_count": 14,
      "outputs": [
        {
          "output_type": "display_data",
          "data": {
            "text/plain": [
              "<Figure size 640x480 with 1 Axes>"
            ],
            "image/png": "[encoded data removed]"
          },
          "metadata": {}
        }
      ]
    },
    {
      "cell_type": "markdown",
      "source": [
        "##Q23. Train an XGBoost Classifier and visualize feature importance."
      ],
      "metadata": {
        "id": "IHBdeZ6J_aoV"
      }
    },
    {
      "cell_type": "code",
      "source": [
        "from xgboost import plot_importance\n",
        "\n",
        "model = XGBClassifier(use_label_encoder=False, eval_metric='logloss')\n",
        "model.fit(X_train, y_train)\n",
        "\n",
        "plot_importance(model)\n",
        "plt.show()\n"
      ],
      "metadata": {
        "colab": {
          "base_uri": "https://localhost:8080/",
          "height": 541
        },
        "id": "u7ryctIo_bXd",
        "outputId": "f9829fb5-433e-431e-be70-706cd43740fe"
      },
      "execution_count": 15,
      "outputs": [
        {
          "output_type": "stream",
          "name": "stderr",
          "text": [
            "/usr/local/lib/python3.11/dist-packages/xgboost/core.py:158: UserWarning: [11:04:47] WARNING: /workspace/src/learner.cc:740: \n",
            "Parameters: { \"use_label_encoder\" } are not used.\n",
            "\n",
            "  warnings.warn(smsg, UserWarning)\n"
          ]
        },
        {
          "output_type": "display_data",
          "data": {
            "text/plain": [
              "<Figure size 640x480 with 1 Axes>"
            ],
            "image/png": "[encoded data removed]"
          },
          "metadata": {}
        }
      ]
    },
    {
      "cell_type": "markdown",
      "source": [
        "##Q24. Train a CatBoost Classifier and plot the confusion matrix."
      ],
      "metadata": {
        "id": "XX_MI7PS_eI2"
      }
    },
    {
      "cell_type": "code",
      "source": [
        "from catboost import CatBoostClassifier\n",
        "from sklearn.metrics import confusion_matrix\n",
        "import seaborn as sns\n",
        "import matplotlib.pyplot as plt\n",
        "\n",
        "model = CatBoostClassifier(iterations=100, verbose=0)\n",
        "model.fit(X_train, y_train)\n",
        "y_pred = model.predict(X_test)\n",
        "\n",
        "cm = confusion_matrix(y_test, y_pred)\n",
        "sns.heatmap(cm, annot=True, fmt=\"d\", cmap=\"Blues\")\n",
        "plt.xlabel(\"Predicted\")\n",
        "plt.ylabel(\"Actual\")\n",
        "plt.title(\"Confusion Matrix - CatBoost Classifier\")\n",
        "plt.show()\n"
      ],
      "metadata": {
        "colab": {
          "base_uri": "https://localhost:8080/",
          "height": 472
        },
        "id": "o5P89dgi_gzl",
        "outputId": "e848c2de-f03b-40ea-ed57-ede744d15696"
      },
      "execution_count": 16,
      "outputs": [
        {
          "output_type": "display_data",
          "data": {
            "text/plain": [
              "<Figure size 640x480 with 2 Axes>"
            ],
            "image/png": "[encoded data removed]"
          },
          "metadata": {}
        }
      ]
    },
    {
      "cell_type": "markdown",
      "source": [
        "##Q25. Train an AdaBoost Classifier with different estimators and compare accuracy."
      ],
      "metadata": {
        "id": "DTFN7u_T_kmm"
      }
    },
    {
      "cell_type": "code",
      "source": [
        "estimators = [10, 50, 100, 200]\n",
        "for n in estimators:\n",
        "    model = AdaBoostClassifier(n_estimators=n, random_state=42)\n",
        "    model.fit(X_train, y_train)\n",
        "    y_pred = model.predict(X_test)\n",
        "    print(f\"Accuracy with {n} estimators:\", accuracy_score(y_test, y_pred))\n"
      ],
      "metadata": {
        "colab": {
          "base_uri": "https://localhost:8080/"
        },
        "id": "qWNbyE5C_meN",
        "outputId": "fddbfe9b-ed23-4f17-e90b-0a6e8799a382"
      },
      "execution_count": 17,
      "outputs": [
        {
          "output_type": "stream",
          "name": "stdout",
          "text": [
            "Accuracy with 10 estimators: 0.86\n",
            "Accuracy with 50 estimators: 0.875\n",
            "Accuracy with 100 estimators: 0.865\n",
            "Accuracy with 200 estimators: 0.865\n"
          ]
        }
      ]
    },
    {
      "cell_type": "markdown",
      "source": [
        "##Q26. Train a Gradient Boosting Classifier and visualize the ROC curve."
      ],
      "metadata": {
        "id": "-8mQ-5CM_qiu"
      }
    },
    {
      "cell_type": "code",
      "source": [
        "from sklearn.metrics import roc_curve, auc\n",
        "\n",
        "model = GradientBoostingClassifier(n_estimators=100, random_state=42)\n",
        "model.fit(X_train, y_train)\n",
        "y_scores = model.predict_proba(X_test)[:, 1]\n",
        "\n",
        "fpr, tpr, _ = roc_curve(y_test, y_scores)\n",
        "roc_auc = auc(fpr, tpr)\n",
        "\n",
        "plt.plot(fpr, tpr, label=f\"ROC curve (area = {roc_auc:.2f})\")\n",
        "plt.plot([0, 1], [0, 1], linestyle=\"--\")\n",
        "plt.xlabel(\"False Positive Rate\")\n",
        "plt.ylabel(\"True Positive Rate\")\n",
        "plt.title(\"ROC Curve - Gradient Boosting Classifier\")\n",
        "plt.legend()\n",
        "plt.show()\n"
      ],
      "metadata": {
        "colab": {
          "base_uri": "https://localhost:8080/",
          "height": 472
        },
        "id": "KQZOoOTh_riF",
        "outputId": "a54c8916-64d5-4765-a73d-e6712b23be54"
      },
      "execution_count": 18,
      "outputs": [
        {
          "output_type": "display_data",
          "data": {
            "text/plain": [
              "<Figure size 640x480 with 1 Axes>"
            ],
            "image/png": "[encoded data removed]"
          },
          "metadata": {}
        }
      ]
    },
    {
      "cell_type": "markdown",
      "source": [
        "##Q27. Train an XGBoost Regressor and tune the learning rate using GridSearchCV."
      ],
      "metadata": {
        "id": "uOfxJHLO_vOe"
      }
    },
    {
      "cell_type": "code",
      "source": [
        "from sklearn.model_selection import GridSearchCV\n",
        "\n",
        "param_grid = {\"learning_rate\": [0.01, 0.1, 0.2, 0.3]}\n",
        "model = XGBRegressor()\n",
        "grid_search = GridSearchCV(model, param_grid, scoring=\"neg_mean_squared_error\", cv=5)\n",
        "grid_search.fit(X_train, y_train)\n",
        "\n",
        "print(\"Best Learning Rate:\", grid_search.best_params_[\"learning_rate\"])\n"
      ],
      "metadata": {
        "colab": {
          "base_uri": "https://localhost:8080/"
        },
        "id": "JcAZpbCb_wSF",
        "outputId": "7bf80864-054d-49dd-99a5-61e5190a0e00"
      },
      "execution_count": 19,
      "outputs": [
        {
          "output_type": "stream",
          "name": "stdout",
          "text": [
            "Best Learning Rate: 0.1\n"
          ]
        }
      ]
    },
    {
      "cell_type": "markdown",
      "source": [
        "##Q28. Train a CatBoost Classifier on an imbalanced dataset and evaluate using class weighting."
      ],
      "metadata": {
        "id": "CMss7a-l_34d"
      }
    },
    {
      "cell_type": "code",
      "source": [
        "model = CatBoostClassifier(iterations=100, class_weights=[1, 5], verbose=0)\n",
        "model.fit(X_train, y_train)\n",
        "y_pred = model.predict(X_test)\n",
        "\n",
        "print(\"Accuracy:\", accuracy_score(y_test, y_pred))\n"
      ],
      "metadata": {
        "colab": {
          "base_uri": "https://localhost:8080/"
        },
        "id": "8nF5zinS_4_1",
        "outputId": "f1970358-c253-47f4-9a66-5a612647c4c0"
      },
      "execution_count": 20,
      "outputs": [
        {
          "output_type": "stream",
          "name": "stdout",
          "text": [
            "Accuracy: 0.85\n"
          ]
        }
      ]
    },
    {
      "cell_type": "markdown",
      "source": [
        "##Q29. Train an AdaBoost Classifier and analyze the effect of different learning rates."
      ],
      "metadata": {
        "id": "oov6Jjpl_8Fd"
      }
    },
    {
      "cell_type": "code",
      "source": [
        "learning_rates = [0.01, 0.1, 0.5, 1.0]\n",
        "for lr in learning_rates:\n",
        "    model = AdaBoostClassifier(n_estimators=50, learning_rate=lr, random_state=42)\n",
        "    model.fit(X_train, y_train)\n",
        "    y_pred = model.predict(X_test)\n",
        "    print(f\"Accuracy with learning rate {lr}:\", accuracy_score(y_test, y_pred))\n"
      ],
      "metadata": {
        "colab": {
          "base_uri": "https://localhost:8080/"
        },
        "id": "vNA2S_jI_9C-",
        "outputId": "b15a4a53-af96-47c4-c963-b21a14fe688e"
      },
      "execution_count": 21,
      "outputs": [
        {
          "output_type": "stream",
          "name": "stdout",
          "text": [
            "Accuracy with learning rate 0.01: 0.86\n",
            "Accuracy with learning rate 0.1: 0.86\n",
            "Accuracy with learning rate 0.5: 0.86\n",
            "Accuracy with learning rate 1.0: 0.875\n"
          ]
        }
      ]
    },
    {
      "cell_type": "markdown",
      "source": [
        "##Q30. Train an XGBoost Classifier for multi-class classification and evaluate using log-loss."
      ],
      "metadata": {
        "id": "Oj8loxoD__oU"
      }
    },
    {
      "cell_type": "code",
      "source": [
        "from sklearn.datasets import make_classification\n",
        "from sklearn.model_selection import train_test_split\n",
        "from sklearn.metrics import log_loss\n",
        "from xgboost import XGBClassifier\n",
        "\n",
        "# Generate dataset with enough informative features\n",
        "X, y = make_classification(n_samples=1000, n_features=20, n_informative=5, n_classes=3, random_state=42)\n",
        "\n",
        "# Split data into train and test sets\n",
        "X_train, X_test, y_train, y_test = train_test_split(X, y, test_size=0.2, random_state=42)\n",
        "\n",
        "# Train XGBoost Classifier\n",
        "model = XGBClassifier(objective=\"multi:softprob\", use_label_encoder=False, eval_metric=\"mlogloss\")\n",
        "model.fit(X_train, y_train)\n",
        "\n",
        "# Predict probabilities\n",
        "y_pred_proba = model.predict_proba(X_test)\n",
        "\n",
        "# Compute Log-Loss\n",
        "print(\"Log-Loss:\", log_loss(y_test, y_pred_proba))\n"
      ],
      "metadata": {
        "colab": {
          "base_uri": "https://localhost:8080/"
        },
        "id": "LIj-aYBgAauV",
        "outputId": "087742b3-7589-4070-ab06-1908c7e1339e"
      },
      "execution_count": 22,
      "outputs": [
        {
          "output_type": "stream",
          "name": "stderr",
          "text": [
            "/usr/local/lib/python3.11/dist-packages/xgboost/core.py:158: UserWarning: [11:05:51] WARNING: /workspace/src/learner.cc:740: \n",
            "Parameters: { \"use_label_encoder\" } are not used.\n",
            "\n",
            "  warnings.warn(smsg, UserWarning)\n"
          ]
        },
        {
          "output_type": "stream",
          "name": "stdout",
          "text": [
            "Log-Loss: 0.42837528138155884\n"
          ]
        }
      ]
    }
  ]
}
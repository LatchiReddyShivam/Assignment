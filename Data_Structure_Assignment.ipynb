{
  "nbformat": 4,
  "nbformat_minor": 0,
  "metadata": {
    "colab": {
      "provenance": []
    },
    "kernelspec": {
      "name": "python3",
      "display_name": "Python 3"
    },
    "language_info": {
      "name": "python"
    }
  },
  "cells": [
    {
      "cell_type": "markdown",
      "source": [
        "#Q1.Discuss string slicing and provide examples.\n",
        "\n",
        "#ANS: String slicing in Python is a technique used to extract a portion of a string. It allows you to access a substring by specifying a range of indices. This is a powerful feature for string manipulation, making it easy to work with specific parts of a string.\n",
        "\n",
        "##**Basic Syntax of String Slicing**\n",
        "###***Syntax*** :\n"
      ],
      "metadata": {
        "id": "CJjnkwDfMcxx"
      }
    },
    {
      "cell_type": "code",
      "source": [
        "string[start:stop:step]\n"
      ],
      "metadata": {
        "id": "TFRgxqM_cgYf"
      },
      "execution_count": null,
      "outputs": []
    },
    {
      "cell_type": "markdown",
      "source": [
        "\n",
        "*   ***Start*** : The index where the slice begins (inclusive). If omitted, the slice starts from the beginning of the string.\n",
        "\n",
        "*   ***Stop*** : The index where the slice ends (exclusive). If omitted, the slice goes until the end of the string.\n",
        "* ***Step*** : The step size, which determines how many characters to skip. If omitted, the default step size is 1.\n",
        "\n",
        "#***Examples of String Slicing***\n",
        "\n",
        "##1.Basic Slicing"
      ],
      "metadata": {
        "id": "6sqxPkmycjtI"
      }
    },
    {
      "cell_type": "code",
      "source": [
        "text = \"Hello, World!\"\n",
        "slice1 = text[0:5]\n",
        "print(slice1)\n"
      ],
      "metadata": {
        "colab": {
          "base_uri": "https://localhost:8080/"
        },
        "id": "4TWJEb7cexru",
        "outputId": "e801a884-61bd-4832-df8c-8663e684f2dc"
      },
      "execution_count": 68,
      "outputs": [
        {
          "output_type": "stream",
          "name": "stdout",
          "text": [
            "Hello\n"
          ]
        }
      ]
    },
    {
      "cell_type": "markdown",
      "source": [
        "Explanation: The slice \"[0:5]\" starts at index 0 and stops at index 5 (not including index 5). It extracts the substring \"***Hello*** \".\n",
        "\n",
        "##2.Omitting the ***'start'*** and ***'stop'*** Values"
      ],
      "metadata": {
        "id": "QrrJ-0HcfH6q"
      }
    },
    {
      "cell_type": "code",
      "source": [
        "text = \"Python Programming\"\n",
        "slice2 = text[:6]\n",
        "slice3 = text[7:]\n",
        "print(slice2)\n",
        "print(slice3)\n"
      ],
      "metadata": {
        "colab": {
          "base_uri": "https://localhost:8080/"
        },
        "id": "W54-nKhhgiJP",
        "outputId": "f3a0cc21-d786-4f4f-a8e3-62f466bbc136"
      },
      "execution_count": 69,
      "outputs": [
        {
          "output_type": "stream",
          "name": "stdout",
          "text": [
            "Python\n",
            "Programming\n"
          ]
        }
      ]
    },
    {
      "cell_type": "markdown",
      "source": [
        "Explanation:\n",
        "\n",
        "*   The slice \"[:6]\" omits the ***'start'*** index, so it starts from the beginning of the string and stops at index 6, extracting \"Python\".\n",
        "* The slice \"[7:]\" omits the ***'stop'*** index, so it starts at index 7 and goes to the end of the string, extracting \"Programming\".\n",
        "\n",
        "##3.Using a Negative Index\n",
        "\n"
      ],
      "metadata": {
        "id": "Q0781DW1gzXB"
      }
    },
    {
      "cell_type": "code",
      "source": [
        "text = \"Python\"\n",
        "slice4 = text[-6:-3]\n",
        "print(slice4)\n"
      ],
      "metadata": {
        "colab": {
          "base_uri": "https://localhost:8080/"
        },
        "id": "NitqrQzOkMl3",
        "outputId": "139dec72-93ee-4ec2-c40a-77b6935a2022"
      },
      "execution_count": 70,
      "outputs": [
        {
          "output_type": "stream",
          "name": "stdout",
          "text": [
            "Pyt\n"
          ]
        }
      ]
    },
    {
      "cell_type": "markdown",
      "source": [
        "Explanation: Python allows the use of negative indices, where '-1' refers to the last character, '-2' to the second-last, and so on. The slice \"[-6:-3]\" extracts \"Pyt\".\n",
        "\n",
        "##4.Using the 'step' Parameter"
      ],
      "metadata": {
        "id": "HGnfX2YBkO2J"
      }
    },
    {
      "cell_type": "code",
      "source": [
        "text = \"abcdefgh\"\n",
        "slice5 = text[::2]\n",
        "slice6 = text[::-1]\n",
        "print(slice5)\n",
        "print(slice6)\n"
      ],
      "metadata": {
        "colab": {
          "base_uri": "https://localhost:8080/"
        },
        "id": "e8eQV7_YmHWH",
        "outputId": "12f55f05-1716-463c-c059-1f40bdce4035"
      },
      "execution_count": 71,
      "outputs": [
        {
          "output_type": "stream",
          "name": "stdout",
          "text": [
            "aceg\n",
            "hgfedcba\n"
          ]
        }
      ]
    },
    {
      "cell_type": "markdown",
      "source": [
        "Explanation:\n",
        "\n",
        "*   The slice \"[::2]\" extracts every second character from the string, resulting in **\"aceg\"**.\n",
        "*  The slice \"[::-1]\" reverses the string by stepping backward through the string with a step size of -1, resulting in **\"hgfedcba\"**.\n",
        "\n",
        "##5.Slicing with Both Positive and Negative Indices\n",
        "\n",
        "\n"
      ],
      "metadata": {
        "id": "MFTtk5CAmT1d"
      }
    },
    {
      "cell_type": "code",
      "source": [
        "text = \"MyLife MyRules\"\n",
        "slice7 = text[1:-2]\n",
        "print(slice7)\n"
      ],
      "metadata": {
        "colab": {
          "base_uri": "https://localhost:8080/"
        },
        "id": "gnRPufKcnR8d",
        "outputId": "a0828a32-dcf7-42f1-82c4-1d7b976b9e57"
      },
      "execution_count": 72,
      "outputs": [
        {
          "output_type": "stream",
          "name": "stdout",
          "text": [
            "yLife MyRul\n"
          ]
        }
      ]
    },
    {
      "cell_type": "markdown",
      "source": [
        "Explanation: The slice \"[1:-2]\" starts at index 1 and stops two characters from the end. It extracts **\"yLife  MyRul\"**.\n",
        "\n",
        "String slicing is an essential feature in Python that provides a flexible and efficient way to access and manipulate substrings. Whether you're extracting parts of a string, reversing it, or selecting specific characters, string slicing offers a concise and readable method to achieve your goals in Python programming."
      ],
      "metadata": {
        "id": "MsBvg9QOnzrB"
      }
    },
    {
      "cell_type": "markdown",
      "source": [
        "#Q2.Explain the key features of lists in Python.\n",
        "\n",
        "#ANS: Python lists are versatile and powerful data structures that allow you to store and manipulate a collection of items. Below are the key features of lists in Python:\n",
        "\n",
        "##**1.ORDERED COLLECTION**\n",
        "Lists maintain the order of elements. The order in which you insert items into the list is preserved, and you can access elements using their index.\n",
        "\n",
        "###***Example*** :"
      ],
      "metadata": {
        "id": "hetXNU4Bot8d"
      }
    },
    {
      "cell_type": "code",
      "source": [
        "fruits = [\"apple\", \"banana\", \"cherry\"]\n",
        "print(fruits[0])\n"
      ],
      "metadata": {
        "colab": {
          "base_uri": "https://localhost:8080/"
        },
        "id": "_B1Zbgulp6Ft",
        "outputId": "b007268f-5971-4390-9098-4407c11162f6"
      },
      "execution_count": 73,
      "outputs": [
        {
          "output_type": "stream",
          "name": "stdout",
          "text": [
            "apple\n"
          ]
        }
      ]
    },
    {
      "cell_type": "markdown",
      "source": [
        "##**2.MUTABLE**\n",
        "Lists are mutable, meaning you can change their content after creation. This includes adding, removing, or modifying elements.\n",
        "\n",
        "###***Example*** :"
      ],
      "metadata": {
        "id": "9Xclj7YFqKj9"
      }
    },
    {
      "cell_type": "code",
      "source": [
        "numbers = [1, 2, 3]\n",
        "numbers[1] = 5 # Modifying the second element\n",
        "print(numbers)\n"
      ],
      "metadata": {
        "colab": {
          "base_uri": "https://localhost:8080/"
        },
        "id": "aS_x2ji0qxkr",
        "outputId": "f576d673-ce1d-4e52-d912-6ce60d2412fc"
      },
      "execution_count": 74,
      "outputs": [
        {
          "output_type": "stream",
          "name": "stdout",
          "text": [
            "[1, 5, 3]\n"
          ]
        }
      ]
    },
    {
      "cell_type": "markdown",
      "source": [
        "##**3.HETEROGENOUS ELEMENTS**\n",
        "A list can contain elements of different data types, such as integers, strings, floats, and even other lists.\n",
        "\n",
        "###***Example*** :"
      ],
      "metadata": {
        "id": "l8fxDzqKq_LQ"
      }
    },
    {
      "cell_type": "code",
      "source": [
        "mixed_list = [1, \"hello\", 3.14, [2, 4, 6]]\n",
        "print(mixed_list)\n"
      ],
      "metadata": {
        "colab": {
          "base_uri": "https://localhost:8080/"
        },
        "id": "a_Wa1aOZrdqQ",
        "outputId": "9029a72d-1c83-4b20-8474-3c7e142e69fa"
      },
      "execution_count": 75,
      "outputs": [
        {
          "output_type": "stream",
          "name": "stdout",
          "text": [
            "[1, 'hello', 3.14, [2, 4, 6]]\n"
          ]
        }
      ]
    },
    {
      "cell_type": "markdown",
      "source": [
        "##**4.DYNAMIC SIZE**\n",
        "Lists in Python can grow and shrink dynamically as elements are added or removed. You don't need to declare the size of a list when you create it.\n",
        "\n",
        "###***Example*** :"
      ],
      "metadata": {
        "id": "YdEa-IFkrnmp"
      }
    },
    {
      "cell_type": "code",
      "source": [
        "letters = [\"a\", \"b\"]\n",
        "letters.append(\"c\") # Adding an element\n",
        "print(letters)\n"
      ],
      "metadata": {
        "colab": {
          "base_uri": "https://localhost:8080/"
        },
        "id": "0PCVLJ5br36l",
        "outputId": "373c0d7d-3fce-4bc3-ad60-5ad0afe3a780"
      },
      "execution_count": 76,
      "outputs": [
        {
          "output_type": "stream",
          "name": "stdout",
          "text": [
            "['a', 'b', 'c']\n"
          ]
        }
      ]
    },
    {
      "cell_type": "markdown",
      "source": [
        "##**5.INDEXING AND SLICING**\n",
        "\n",
        "Lists support indexing and slicing, allowing you to access and manipulate specific elements or sublists.\n",
        "\n",
        "###***Example*** :"
      ],
      "metadata": {
        "id": "QEyuZLJtr8mQ"
      }
    },
    {
      "cell_type": "code",
      "source": [
        "animals = [\"cat\", \"dog\", \"bird\", \"fish\"]\n",
        "print(animals[2])\n",
        "print(animals[1:3])\n"
      ],
      "metadata": {
        "colab": {
          "base_uri": "https://localhost:8080/"
        },
        "id": "C9EyY8F1r73o",
        "outputId": "a368895b-33ab-40ec-bd6f-f7b164584468"
      },
      "execution_count": 77,
      "outputs": [
        {
          "output_type": "stream",
          "name": "stdout",
          "text": [
            "bird\n",
            "['dog', 'bird']\n"
          ]
        }
      ]
    },
    {
      "cell_type": "markdown",
      "source": [
        "##**6.BUILT-IN FUNCTION AND METHODS**\n",
        "\n",
        "Python provides a variety of built-in functions and methods that can be used with lists, such as ***'len()'***, ***'append()'***, ***'remove()'***, ***'sort()'***, and ***'reverse()'***.\n",
        "\n",
        "###***Example*** :"
      ],
      "metadata": {
        "id": "80TOp809r6wN"
      }
    },
    {
      "cell_type": "code",
      "source": [
        "colors = [\"red\", \"blue\", \"green\"]\n",
        "colors.append(\"yellow\") # Adding an element\n",
        "colors.sort() # Sorting the list\n",
        "print(colors)\n"
      ],
      "metadata": {
        "colab": {
          "base_uri": "https://localhost:8080/"
        },
        "id": "4OOdR1QbsBGN",
        "outputId": "681952a1-5dec-439a-de8e-5b5dd5679a9f"
      },
      "execution_count": 78,
      "outputs": [
        {
          "output_type": "stream",
          "name": "stdout",
          "text": [
            "['blue', 'green', 'red', 'yellow']\n"
          ]
        }
      ]
    },
    {
      "cell_type": "markdown",
      "source": [
        "##**7.LIST COMPREHENSIONS**\n",
        "List comprehensions provide a concise way to create lists based on existing lists. They are useful for applying a function or filter to the elements of a list.\n",
        "\n",
        "###***Example*** :"
      ],
      "metadata": {
        "id": "TaY_VnyRt3h2"
      }
    },
    {
      "cell_type": "code",
      "source": [
        "numbers = [1, 2, 3, 4, 5]\n",
        "squares = [x**2 for x in numbers] # List comprehension to square each number\n",
        "print(squares)\n"
      ],
      "metadata": {
        "colab": {
          "base_uri": "https://localhost:8080/"
        },
        "id": "02sHXqXAt4Jz",
        "outputId": "20e7de0e-4e70-4f47-c391-8939939f276c"
      },
      "execution_count": 79,
      "outputs": [
        {
          "output_type": "stream",
          "name": "stdout",
          "text": [
            "[1, 4, 9, 16, 25]\n"
          ]
        }
      ]
    },
    {
      "cell_type": "markdown",
      "source": [
        "##**8.NESTING**\n",
        " Lists can be nested, meaning a list can contain other lists as elements, allowing for the creation of complex data structures like matrices.\n",
        "\n",
        "###***Example*** :"
      ],
      "metadata": {
        "id": "8q5_eE2it4tN"
      }
    },
    {
      "cell_type": "code",
      "source": [
        "matrix = [[1, 2, 3], [4, 5, 6], [7, 8, 9]]\n",
        "print(matrix[1][2])"
      ],
      "metadata": {
        "colab": {
          "base_uri": "https://localhost:8080/"
        },
        "id": "qLZTQ0Qrt5Mz",
        "outputId": "6c860682-7fa7-4329-c186-7f5af61b564a"
      },
      "execution_count": 80,
      "outputs": [
        {
          "output_type": "stream",
          "name": "stdout",
          "text": [
            "6\n"
          ]
        }
      ]
    },
    {
      "cell_type": "markdown",
      "source": [
        "##**9.SUPPORTS ITERATIONS**\n",
        "\n",
        "Lists can be easily iterated over using loops, which makes them ideal for tasks that require processing each element in a sequence.\n",
        "\n",
        "###***Example*** :"
      ],
      "metadata": {
        "id": "3lQcCdZbt6QG"
      }
    },
    {
      "cell_type": "code",
      "source": [
        "for fruit in [\"apple\", \"banana\", \"cherry\"]:\n",
        "    print(fruit)\n"
      ],
      "metadata": {
        "colab": {
          "base_uri": "https://localhost:8080/"
        },
        "id": "pOy4mWs7t60p",
        "outputId": "19035703-c5a3-4994-d56a-97f9aef77eff"
      },
      "execution_count": 81,
      "outputs": [
        {
          "output_type": "stream",
          "name": "stdout",
          "text": [
            "apple\n",
            "banana\n",
            "cherry\n"
          ]
        }
      ]
    },
    {
      "cell_type": "markdown",
      "source": [
        "##**10.VERSATILE USAGE**\n",
        "\n",
        "Lists are used in various scenarios, such as storing items, passing multiple values between functions, implementing stacks and queues, and more.\n",
        "\n",
        "###***Example*** :"
      ],
      "metadata": {
        "id": "NGNpBJYCt72B"
      }
    },
    {
      "cell_type": "code",
      "source": [
        "stack = []\n",
        "stack.append(1) # Pushing onto the stack\n",
        "stack.append(2)\n",
        "stack.pop() # Poping from the stack\n",
        "print(stack)\n"
      ],
      "metadata": {
        "colab": {
          "base_uri": "https://localhost:8080/"
        },
        "id": "UkCe8BNGwy6L",
        "outputId": "5ec3e704-3bc3-4892-8e80-898b429dc702"
      },
      "execution_count": 82,
      "outputs": [
        {
          "output_type": "stream",
          "name": "stdout",
          "text": [
            "[1]\n"
          ]
        }
      ]
    },
    {
      "cell_type": "markdown",
      "source": [
        "Lists in Python are flexible, powerful, and easy to use. They serve as an essential tool for managing and manipulating collections of data in various forms, from simple sequences to complex nested structures. Understanding and utilizing these features will help you effectively manage data in Python.\n",
        "\n"
      ],
      "metadata": {
        "id": "mJO2dq9BxR5A"
      }
    },
    {
      "cell_type": "markdown",
      "source": [
        "#Q3.  Describe how to access, modify and delete elements in a list with examples.\n",
        "\n",
        "#ANS: **ACCESSING ELEMENTS IN LIST**\n",
        "\n",
        "In Python, lists are ordered collections of items that can be accessed using their indices. Indexing starts from **'0'** for the first element, **'1'** for the second, and so on. Negative indices count from the end of the list, with **'-1'** representing the last element.\n",
        "\n",
        "###***Example*** :"
      ],
      "metadata": {
        "id": "tOfoIb0zXn4V"
      }
    },
    {
      "cell_type": "code",
      "source": [
        "animals = ['cat', 'dog', 'rabbit', 'fish']\n",
        "# Accessing elements by Index\n",
        "print(animals[0])\n",
        "print(animals[2])\n",
        "# Accessing elements with Negative indices\n",
        "print(animals[-1])\n",
        "print(animals[-3])\n",
        "# Slicing the list\n",
        "print(animals[1:3])\n",
        "print(animals[:2])\n",
        "print(animals[2:])\n"
      ],
      "metadata": {
        "colab": {
          "base_uri": "https://localhost:8080/"
        },
        "id": "B-4EIPEVuymq",
        "outputId": "1e8c55f9-d2fc-4abf-b446-f2a72d7b452c"
      },
      "execution_count": null,
      "outputs": [
        {
          "output_type": "stream",
          "name": "stdout",
          "text": [
            "cat\n",
            "rabbit\n",
            "fish\n",
            "dog\n",
            "['dog', 'rabbit']\n",
            "['cat', 'dog']\n",
            "['rabbit', 'fish']\n"
          ]
        }
      ]
    },
    {
      "cell_type": "markdown",
      "source": [
        "#**MODIFYING ELEMENTS IN LIST**\n",
        "\n",
        "Python lists are mutable, meaning you can change their contents. This includes updating elements, adding new ones, and replacing a range of elements.\n",
        "\n",
        "###***Example*** :"
      ],
      "metadata": {
        "id": "KdlWCiokvaGf"
      }
    },
    {
      "cell_type": "code",
      "source": [
        "#Initial list\n",
        "fruits = ['apple', 'banana', 'cherry']\n",
        "# Modifying an element\n",
        "fruits[1] = 'blueberry'\n",
        "print(fruits)\n",
        "# Modifying a slice of element\n",
        "fruits[1:3] = ['orange', 'pear']\n",
        "print(fruits)\n",
        "# Appending an element\n",
        "fruits.append('kiwi')\n",
        "print(fruits)\n",
        "# Inserting an element\n",
        "fruits.insert(2, 'grapefruit')\n",
        "print(fruits)\n",
        "# Extending the list\n",
        "more_fruits = ['mango', 'pineapple']\n",
        "fruits.extend(more_fruits)\n",
        "print(fruits)\n"
      ],
      "metadata": {
        "colab": {
          "base_uri": "https://localhost:8080/"
        },
        "id": "QdNowWBHv0HY",
        "outputId": "ffa064af-559f-495f-cb92-ed9a1ecc68fc"
      },
      "execution_count": null,
      "outputs": [
        {
          "output_type": "stream",
          "name": "stdout",
          "text": [
            "['apple', 'blueberry', 'cherry']\n",
            "['apple', 'orange', 'pear']\n",
            "['apple', 'orange', 'pear', 'kiwi']\n",
            "['apple', 'orange', 'grapefruit', 'pear', 'kiwi']\n",
            "['apple', 'orange', 'grapefruit', 'pear', 'kiwi', 'mango', 'pineapple']\n"
          ]
        }
      ]
    },
    {
      "cell_type": "markdown",
      "source": [
        "#**DELETING ELEMENTS FROM A LIST**\n",
        "\n",
        "You can remove elements from a list in different ways: by index, by value, or by using methods that modify the list.\n",
        "\n",
        "###***Example*** :"
      ],
      "metadata": {
        "id": "TMoxamfbwrQ_"
      }
    },
    {
      "cell_type": "code",
      "source": [
        "# Initial list\n",
        "items = ['pen', 'notebook', 'eraser', 'sharpener']\n",
        "# Deleting an element by Index\n",
        "del items[1]\n",
        "print(items)\n",
        "# Removing an element by Value\n",
        "items.remove('eraser')\n",
        "print(items)\n",
        "# Popping the last element\n",
        "last_item = items.pop()\n",
        "print(last_item)\n",
        "print(items)\n",
        "# Popping an element by Index\n",
        "second_item = items.pop(0)\n",
        "print(second_item)\n",
        "print(items)\n"
      ],
      "metadata": {
        "colab": {
          "base_uri": "https://localhost:8080/"
        },
        "id": "ujsHlyvnxhgw",
        "outputId": "c546ff09-3485-4958-f678-b978d06bbcee"
      },
      "execution_count": 83,
      "outputs": [
        {
          "output_type": "stream",
          "name": "stdout",
          "text": [
            "['pen', 'eraser', 'sharpener']\n",
            "['pen', 'sharpener']\n",
            "sharpener\n",
            "['pen']\n",
            "pen\n",
            "[]\n"
          ]
        }
      ]
    },
    {
      "cell_type": "markdown",
      "source": [
        "##***Summary***\n",
        "\n",
        "1.   ***Accessing Elements:***\n",
        "\n",
        "*   Use positive indices to access elements from the start of the list.\n",
        "\n",
        "*   Use negative indices to access elements from the end.\n",
        "*   Use slicing to obtain a sublist or a specific range of elements.\n",
        "\n",
        "2.  ***Modifying Elements:***\n",
        "\n",
        "*   Assign new values to specific indices to update elements.\n",
        "\n",
        "*  Replace a range of elements using slicing.\n",
        "*   Use methods like ***'append()'*** to add elements, ***'insert()'*** to place elements at a specific index, and ***'extend()'*** to concatenate lists.\n",
        "\n",
        "3. ***Deleting Elements:***\n",
        "\n",
        "*  Use ***'del'*** to remove an element by its index.\n",
        "*  Use ***'remove()'*** to delete an element by its value.\n",
        "*  Use ***'pop()'*** to remove an element by index and optionally get the removed element.\n",
        "\n",
        "\n",
        "\n",
        "\n",
        "\n"
      ],
      "metadata": {
        "id": "Q7DbtmkyyLBp"
      }
    },
    {
      "cell_type": "markdown",
      "source": [
        "#Q4.Compare and contrast tuples and lists with examples.\n",
        "#ANS: Tuples and lists are used to store collections of items, but they have distinct characteristics and use cases.\n",
        "\n",
        "##1.**MUTABILITY**\n",
        "###**LIST**\n",
        "\n",
        "* ***Mutable:*** Lists can be changed after they are created. You can add, remove, or modify elements.\n",
        "\n",
        "####***Example*** :\n",
        "\n"
      ],
      "metadata": {
        "id": "HP96zn8_3ci2"
      }
    },
    {
      "cell_type": "code",
      "source": [
        "# Create a list\n",
        "my_list = [1, 2, 3]\n",
        "print(my_list)\n",
        "# Modify an element\n",
        "my_list[1] = 4\n",
        "print(my_list)\n",
        "# Append an element\n",
        "my_list.append(5)\n",
        "print(my_list)\n"
      ],
      "metadata": {
        "colab": {
          "base_uri": "https://localhost:8080/"
        },
        "id": "cX7GzZcF8vpo",
        "outputId": "5e2bd2c6-8f99-426e-859b-12eb888793c4"
      },
      "execution_count": 84,
      "outputs": [
        {
          "output_type": "stream",
          "name": "stdout",
          "text": [
            "[1, 2, 3]\n",
            "[1, 4, 3]\n",
            "[1, 4, 3, 5]\n"
          ]
        }
      ]
    },
    {
      "cell_type": "markdown",
      "source": [
        "###**TUPLES**\n",
        "\n",
        "*   ***Immutable:*** Tuples cannot be changed after they are created. Once a tuple is defined, you cannot alter its content (add, remove, or modify elements).\n",
        "\n",
        "####***Example*** :\n",
        "\n"
      ],
      "metadata": {
        "id": "PvQ6gGMv894z"
      }
    },
    {
      "cell_type": "code",
      "source": [
        "# Create a tuple\n",
        "my_tuple = (1, 2, 3)\n",
        "print(my_tuple)\n",
        "\n",
        "# Attempt to modify an element will raise an error\n",
        "# my_tuple[1] = 4  # TypeError: 'tuple' object does not support item assignment\n",
        "\n",
        "# Attempt to append an element will raise an error\n",
        "# my_tuple.append(5)  # AttributeError: 'tuple' object has no attribute 'append'\n"
      ],
      "metadata": {
        "colab": {
          "base_uri": "https://localhost:8080/"
        },
        "id": "0sXRa7-L1bi5",
        "outputId": "3d995934-49f6-4d74-dc3b-2f9e5f460777"
      },
      "execution_count": 85,
      "outputs": [
        {
          "output_type": "stream",
          "name": "stdout",
          "text": [
            "(1, 2, 3)\n"
          ]
        }
      ]
    },
    {
      "cell_type": "markdown",
      "source": [
        "##2.**SYNTAX**\n",
        "###**LIST**\n",
        "\n",
        "* Defined using square brackets **' [ ] '**.\n",
        "\n",
        "####***Example*** :\n",
        "\n"
      ],
      "metadata": {
        "id": "gIufvtH3-_jj"
      }
    },
    {
      "cell_type": "code",
      "source": [
        "my_list = [1, 2, 3, 4]\n"
      ],
      "metadata": {
        "id": "ydc9k2KJAYv9"
      },
      "execution_count": 86,
      "outputs": []
    },
    {
      "cell_type": "markdown",
      "source": [
        "###**TUPLES**\n",
        "\n",
        "*  Defined using parentheses '**( )**'. A single-element tuple needs a trailing comma.\n",
        "\n",
        "\n",
        "\n",
        "####***Example*** :\n"
      ],
      "metadata": {
        "id": "9TV6BRX9Ag5d"
      }
    },
    {
      "cell_type": "code",
      "source": [
        "my_tuple = (1, 2, 3, 4)\n",
        "single_element_tuple = (1,)\n"
      ],
      "metadata": {
        "id": "lGj555JGBhLn"
      },
      "execution_count": 119,
      "outputs": []
    },
    {
      "cell_type": "markdown",
      "source": [
        "##3.**PERFORMANCE**\n",
        "###**LIST**\n",
        "\n",
        "*   Lists generally have more overhead because they are designed to be mutable, which can affect performance, especially when handling large amounts of data.\n",
        "\n",
        "###**TUPLES**\n",
        "\n",
        "*  Tuples are typically faster than lists due to their immutability. Since their content cannot be changed, the internal structure is simpler and more efficient.\n",
        "\n",
        "####***Example*** :\n",
        "\n",
        "\n",
        "\n",
        "\n",
        "\n"
      ],
      "metadata": {
        "id": "XcAooVALHY92"
      }
    },
    {
      "cell_type": "code",
      "source": [
        "import timeit\n",
        "list_time = timeit.timeit('my_list = [1, 2, 3, 4, 5]', number=1000000)\n",
        "tuple_time = timeit.timeit('my_tuple = (1, 2, 3, 4, 5)', number=1000000)\n",
        "\n",
        "print(\"List creation time:\", list_time)\n",
        "print(\"Tuple creation time:\", tuple_time)\n"
      ],
      "metadata": {
        "colab": {
          "base_uri": "https://localhost:8080/"
        },
        "id": "cx27rh9mIjnw",
        "outputId": "2d511e4b-dce8-4ad4-a2cc-906fc0b2fcdc"
      },
      "execution_count": 88,
      "outputs": [
        {
          "output_type": "stream",
          "name": "stdout",
          "text": [
            "List creation time: 0.07088282699987758\n",
            "Tuple creation time: 0.019624986000053468\n"
          ]
        }
      ]
    },
    {
      "cell_type": "markdown",
      "source": [
        "#4.**USE CASES**\n",
        "\n",
        "##**LIST**\n",
        "\n",
        "*   Best suited for collections of items where you might need to change, add, or remove elements. Lists are generally used when you need a dynamic, modifiable sequence.\n",
        "\n",
        "####***Example*** :\n",
        "\n"
      ],
      "metadata": {
        "id": "qkvFtxIRJA-4"
      }
    },
    {
      "cell_type": "code",
      "source": [
        "# List of task to be updated\n",
        "tasks = ['buy groceries', 'call mom', 'write report']\n",
        "tasks.append('finish project')\n",
        "tasks[1] = 'call dad'\n",
        "print(tasks)\n"
      ],
      "metadata": {
        "id": "NAiJcOt7J65x",
        "colab": {
          "base_uri": "https://localhost:8080/"
        },
        "outputId": "c5b2919f-d6bb-41f5-c8c8-196a94a1f96b"
      },
      "execution_count": 122,
      "outputs": [
        {
          "output_type": "stream",
          "name": "stdout",
          "text": [
            "['buy groceries', 'call dad', 'write report', 'finish project']\n"
          ]
        }
      ]
    },
    {
      "cell_type": "markdown",
      "source": [
        "##**TUPLES**\n",
        "\n",
        "*  Ideal for fixed collections of items. Tuples are often used for heterogeneous data (e.g., a record with different types) and can be used as dictionary keys due to their immutability.\n",
        "\n",
        "####***Example*** :\n",
        "\n",
        "\n"
      ],
      "metadata": {
        "id": "-TzQijikKCVe"
      }
    },
    {
      "cell_type": "code",
      "source": [
        "# A Tuple representing a point in 2d space\n",
        "point = (10, 20)\n",
        "# A Tuple representing a record\n",
        "record = ('John', 'Doe', 30)\n",
        "print(point)\n",
        "print(record)"
      ],
      "metadata": {
        "id": "m8_53RE6Ke21",
        "colab": {
          "base_uri": "https://localhost:8080/"
        },
        "outputId": "3cafde89-9b41-4733-9032-c7108f55e6e3"
      },
      "execution_count": 118,
      "outputs": [
        {
          "output_type": "stream",
          "name": "stdout",
          "text": [
            "(10, 20)\n",
            "('John', 'Doe', 30)\n"
          ]
        }
      ]
    },
    {
      "cell_type": "markdown",
      "source": [
        "#5.**METHODS**\n",
        "\n",
        "##**LIST**\n",
        "\n",
        "* Lists have several methods for modification, such as ***'append()'***, ***'remove()'***, ***'extend()'***, and ***'pop()'***.\n",
        "\n",
        "####***Example*** :\n"
      ],
      "metadata": {
        "id": "jnfpSIEMKple"
      }
    },
    {
      "cell_type": "code",
      "source": [
        "my_list = [1, 2, 3]\n",
        "my_list.append(4) # Adds 4 to the end\n",
        "my_list.remove(2) # Removes the first occurrence of 2\n",
        "print(my_list)\n"
      ],
      "metadata": {
        "colab": {
          "base_uri": "https://localhost:8080/"
        },
        "id": "UvTdNg6HLbBy",
        "outputId": "77cd2c9f-8e0c-4ec9-db00-4dd0a3499a44"
      },
      "execution_count": 91,
      "outputs": [
        {
          "output_type": "stream",
          "name": "stdout",
          "text": [
            "[1, 3, 4]\n"
          ]
        }
      ]
    },
    {
      "cell_type": "markdown",
      "source": [
        "##**TUPLES**\n",
        "\n",
        "* Tuples have fewer methods available. They primarily support methods like ***'count()'*** and ***'index()'***, but no methods for modification.\n",
        "\n",
        "####***Example*** :\n",
        "\n",
        "\n"
      ],
      "metadata": {
        "id": "RsNryiLbLl1C"
      }
    },
    {
      "cell_type": "code",
      "source": [
        "my_tuple = (1, 2, 3, 1, 2, 3)\n",
        "count_1 = my_tuple.count(1) # Counts occurrence of 1\n",
        "index_2 = my_tuple.index(2) # Finds the first index of 2\n",
        "print(count_1)\n",
        "print(index_2)\n"
      ],
      "metadata": {
        "colab": {
          "base_uri": "https://localhost:8080/"
        },
        "id": "Bgxg3FeuMZ8_",
        "outputId": "3c73b88b-11c1-4562-82e1-89556b4a1849"
      },
      "execution_count": null,
      "outputs": [
        {
          "output_type": "stream",
          "name": "stdout",
          "text": [
            "2\n",
            "1\n"
          ]
        }
      ]
    },
    {
      "cell_type": "markdown",
      "source": [
        "Lists are mutable, versatile, and suitable for collections where data might change. They offer a broad range of methods and operations for modification and management.\n",
        "Tuples are immutable, memory-efficient, and ideal for fixed collections or when you need to ensure data integrity. They are also hashable and can be used as dictionary keys.\n",
        "Choosing between lists and tuples depends on your specific needs for data manipulation, performance considerations, and the nature of the data you are working with."
      ],
      "metadata": {
        "id": "PFwoPy9-Mi6B"
      }
    },
    {
      "cell_type": "markdown",
      "source": [
        "#Q5.Describe the key features of sets and provide examples of their use.\n",
        "#ANS: KEY FEATURES OF SETS :\n",
        "\n",
        "1.  **Uniqueness of Elements**\n",
        "\n",
        " *  Sets automatically enforce that all elements are unique. Duplicate elements are not allowed, and if you try to add a duplicate, it will be ignored.\n",
        "\n",
        "####***Example*** :\n",
        "\n"
      ],
      "metadata": {
        "id": "zORp5k8jNB5h"
      }
    },
    {
      "cell_type": "code",
      "source": [
        "# Create a list\n",
        "my_set = {1, 2, 3, 4}\n",
        "# Adding duplicate elements\n",
        "my_set.add(3) # duplicate element, won't be added\n",
        "my_set.add(5) # New element, will be added\n",
        "\n",
        "print(my_set)\n"
      ],
      "metadata": {
        "colab": {
          "base_uri": "https://localhost:8080/"
        },
        "id": "ht7t_WmC_KSq",
        "outputId": "fb4f6437-d407-41e6-b993-10a68761d7fc"
      },
      "execution_count": null,
      "outputs": [
        {
          "output_type": "stream",
          "name": "stdout",
          "text": [
            "{1, 2, 3, 4, 5}\n"
          ]
        }
      ]
    },
    {
      "cell_type": "markdown",
      "source": [
        "2. **Unordered Collection**\n",
        "\n",
        " *  Sets are unordered collections. The order of elements in a set is not guaranteed and can change. This means you cannot access elements by index.\n",
        "\n",
        "####***Example*** :\n",
        "\n",
        "\n",
        "\n",
        "\n"
      ],
      "metadata": {
        "id": "puKLTZX4_X1-"
      }
    },
    {
      "cell_type": "code",
      "source": [
        "# Create a set\n",
        "my_set = {3, 1, 4, 2}\n",
        "# Elements are not in order of insertion\n",
        "print(my_set)\n"
      ],
      "metadata": {
        "colab": {
          "base_uri": "https://localhost:8080/"
        },
        "id": "eLdCXvOHAan7",
        "outputId": "a10d6d2b-eb3e-479a-f084-0d553f3b8252"
      },
      "execution_count": null,
      "outputs": [
        {
          "output_type": "stream",
          "name": "stdout",
          "text": [
            "{1, 2, 3, 4}\n"
          ]
        }
      ]
    },
    {
      "cell_type": "markdown",
      "source": [
        "3. **Mutable**\n",
        "\n",
        " * Sets are mutable, meaning you can add or remove elements after the set is created. However, the elements themselves must be immutable (e.g., numbers, strings, tuples).\n",
        "\n",
        "####***Example*** :\n",
        "\n",
        "\n",
        "\n",
        "\n"
      ],
      "metadata": {
        "id": "Y4bLZhh8Aonh"
      }
    },
    {
      "cell_type": "code",
      "source": [
        "# Create a set\n",
        "my_set = {1, 2, 3}\n",
        "# Adding an element\n",
        "my_set.add(4)\n",
        "print(my_set)\n",
        "# Removing an element\n",
        "my_set.remove(2)\n",
        "print(my_set)\n"
      ],
      "metadata": {
        "colab": {
          "base_uri": "https://localhost:8080/"
        },
        "id": "EIYugu9VBWGU",
        "outputId": "3b9507b6-6773-47eb-caee-66181da227b5"
      },
      "execution_count": null,
      "outputs": [
        {
          "output_type": "stream",
          "name": "stdout",
          "text": [
            "{1, 2, 3, 4}\n",
            "{1, 3, 4}\n"
          ]
        }
      ]
    },
    {
      "cell_type": "markdown",
      "source": [
        "4. **Support for Mathematical Set Operations**\n",
        "\n",
        "  *   Sets support operations like union, intersection, difference, and symmetric difference. These operations are similar to mathematical set operations.\n",
        "\n",
        "####***Example*** :\n",
        "\n",
        "\n",
        "\n",
        "\n"
      ],
      "metadata": {
        "id": "v8I19CtwCF-7"
      }
    },
    {
      "cell_type": "code",
      "source": [
        "# Create two sets\n",
        "set1 = {1, 2, 3, 4}\n",
        "set2 = {3, 4, 5, 6}\n",
        "\n",
        "# Union\n",
        "union_set = set1.union(set2)\n",
        "print(union_set)\n",
        "\n",
        "# Intersection\n",
        "intersection_set = set1.intersection(set2)\n",
        "print(intersection_set)\n",
        "\n",
        "# Difference\n",
        "difference_set = set1.difference(set2)\n",
        "print(difference_set)\n",
        "\n",
        "# Symmetric Difference\n",
        "symmetric_difference_set = set1.symmetric_difference(set2)\n",
        "print(symmetric_difference_set)\n"
      ],
      "metadata": {
        "colab": {
          "base_uri": "https://localhost:8080/"
        },
        "id": "7S2EgLZYtxh7",
        "outputId": "46536733-0bca-4f32-80c3-4357474e04e3"
      },
      "execution_count": null,
      "outputs": [
        {
          "output_type": "stream",
          "name": "stdout",
          "text": [
            "{1, 2, 3, 4, 5, 6}\n",
            "{3, 4}\n",
            "{1, 2}\n",
            "{1, 2, 5, 6}\n"
          ]
        }
      ]
    },
    {
      "cell_type": "markdown",
      "source": [
        "5. **Efficient Membership Testing**\n",
        "\n",
        " * Checking if an element is in a set is very efficient, typically with O(1) average time complexity due to the underlying hash table implementation.\n",
        "\n",
        "####***Example*** :\n",
        "\n",
        "\n",
        "\n"
      ],
      "metadata": {
        "id": "l2bJNRcKvX4X"
      }
    },
    {
      "cell_type": "code",
      "source": [
        "# Create a set\n",
        "my_set = {1, 2, 3, 4, 5}\n",
        "\n",
        "# Membership testing\n",
        "print(3 in my_set)\n",
        "print(6 in my_set)\n"
      ],
      "metadata": {
        "colab": {
          "base_uri": "https://localhost:8080/"
        },
        "id": "zNRS-up0v9bX",
        "outputId": "4dcf724d-3e41-4e8c-9ed9-0cecc6d63c68"
      },
      "execution_count": 100,
      "outputs": [
        {
          "output_type": "stream",
          "name": "stdout",
          "text": [
            "True\n",
            "False\n"
          ]
        }
      ]
    },
    {
      "cell_type": "markdown",
      "source": [
        "6. **No Indexing or Slicing**\n",
        "\n",
        " *  Unlike lists and tuples, sets do not support indexing, slicing, or other sequence-like behavior. This is because sets are unordered collections.\n",
        "\n",
        "####***Example*** :\n",
        "\n",
        "\n",
        "\n",
        "\n",
        "\n"
      ],
      "metadata": {
        "id": "NNSSRamowJ08"
      }
    },
    {
      "cell_type": "code",
      "source": [
        "# Create a set\n",
        "my_set = {10, 20, 30, 40}\n",
        "\n",
        "# Indexing or slicing will raise an error\n",
        "# print(my_set[1])  # TypeError: 'set' object is not subscriptable\n"
      ],
      "metadata": {
        "id": "XEvFz00zwsSM"
      },
      "execution_count": 99,
      "outputs": []
    },
    {
      "cell_type": "markdown",
      "source": [
        "7. **Frozen Sets**\n",
        "\n",
        " *  Python also offers ***'frozenset'***, which is an immutable version of a set. Once created, you cannot add or remove elements from a ***'frozenset'***.\n",
        "\n",
        "####***Example*** :\n",
        "\n",
        "\n",
        "\n",
        "\n"
      ],
      "metadata": {
        "id": "Ihd02tHLxLvF"
      }
    },
    {
      "cell_type": "code",
      "source": [
        "# Create a frozenset\n",
        "frozen_set = frozenset([1, 2, 3, 4])\n",
        "\n",
        "# Attempting to modify a frozenset will raise an error\n",
        "# frozen_set.add(5)  # AttributeError: 'frozenset' object has no attribute 'add'\n",
        "\n",
        "print(frozen_set)\n"
      ],
      "metadata": {
        "colab": {
          "base_uri": "https://localhost:8080/"
        },
        "id": "8jL_8B5PxzGA",
        "outputId": "69fcd126-07eb-46a0-e299-727a044b838e"
      },
      "execution_count": 98,
      "outputs": [
        {
          "output_type": "stream",
          "name": "stdout",
          "text": [
            "frozenset({1, 2, 3, 4})\n"
          ]
        }
      ]
    },
    {
      "cell_type": "markdown",
      "source": [
        "#PRACTICAL USES OF SETS\n",
        "\n",
        "1.  **Removing Duplicates**\n",
        "\n",
        " * Sets are commonly used to remove duplicate items from a list or other iterable, since they automatically ensure all elements are unique.\n",
        "\n",
        "\n",
        "\n",
        "\n"
      ],
      "metadata": {
        "id": "wLSXc8Htx4JL"
      }
    },
    {
      "cell_type": "code",
      "source": [
        "# Original list with duplicates\n",
        "my_list = [1, 2, 2, 3, 4, 4, 5]\n",
        "\n",
        "# Remove duplicates by converting to a set\n",
        "unique_set = set(my_list)\n",
        "print(unique_set)\n"
      ],
      "metadata": {
        "colab": {
          "base_uri": "https://localhost:8080/"
        },
        "id": "AWXg6Kx9yW0_",
        "outputId": "dc5e0c39-8ba2-4371-f249-734280049135"
      },
      "execution_count": 97,
      "outputs": [
        {
          "output_type": "stream",
          "name": "stdout",
          "text": [
            "{1, 2, 3, 4, 5}\n"
          ]
        }
      ]
    },
    {
      "cell_type": "markdown",
      "source": [
        "2. **Set Operations in Algorithms**\n",
        "\n",
        " *  Set operations are useful in various algorithms, such as finding common elements between datasets or filtering unique items.\n",
        "\n",
        "####***Example*** :\n",
        "\n",
        "\n",
        "\n",
        "\n"
      ],
      "metadata": {
        "id": "GSKJo7P8yeee"
      }
    },
    {
      "cell_type": "code",
      "source": [
        "# Finding common elements between two lists\n",
        "list1 = [1, 2, 3, 4]\n",
        "list2 = [3, 4, 5, 6]\n",
        "\n",
        "common_elements = set(list1).intersection(list2)\n",
        "print(common_elements)\n"
      ],
      "metadata": {
        "colab": {
          "base_uri": "https://localhost:8080/"
        },
        "id": "sq63L7E8zDU5",
        "outputId": "0ca4fdc9-5b32-4271-fef0-ef7357e0b666"
      },
      "execution_count": 96,
      "outputs": [
        {
          "output_type": "stream",
          "name": "stdout",
          "text": [
            "{3, 4}\n"
          ]
        }
      ]
    },
    {
      "cell_type": "markdown",
      "source": [
        "3. **Fast Membership Tests**\n",
        "\n",
        " * When checking membership or existence of elements in large collections, sets provide a fast and efficient way to perform these checks.\n",
        "\n",
        "####***Example*** :\n",
        "\n",
        "\n",
        "\n",
        "\n",
        "\n"
      ],
      "metadata": {
        "id": "LrJorxS_zMGg"
      }
    },
    {
      "cell_type": "code",
      "source": [
        "# Fast membership test\n",
        "my_set = {100, 200, 300, 400}\n",
        "is_present = 200 in my_set\n",
        "print(is_present)\n"
      ],
      "metadata": {
        "colab": {
          "base_uri": "https://localhost:8080/"
        },
        "id": "eQ716xLzzs3D",
        "outputId": "a14b3aff-8877-478b-e48d-b00e48133659"
      },
      "execution_count": 101,
      "outputs": [
        {
          "output_type": "stream",
          "name": "stdout",
          "text": [
            "True\n"
          ]
        }
      ]
    },
    {
      "cell_type": "markdown",
      "source": [
        "4. **Mathematical Set Theory Applications**\n",
        "\n",
        " * Sets are used in various applications involving set theory, such as Venn diagrams, data analysis, and problem-solving where group membership and relationships are important.\n",
        "\n",
        "####***Example*** :\n",
        "\n",
        "\n",
        "\n",
        "\n"
      ],
      "metadata": {
        "id": "y_BZ0x6uz0Zv"
      }
    },
    {
      "cell_type": "code",
      "source": [
        "# Finding elements in one set but not the other\n",
        "set_a = {1, 2, 3, 4, 5}\n",
        "set_b = {4, 5, 6, 7, 8}\n",
        "\n",
        "exclusive_to_a = set_a.difference(set_b)\n",
        "print(exclusive_to_a)\n"
      ],
      "metadata": {
        "colab": {
          "base_uri": "https://localhost:8080/"
        },
        "id": "mjb64uSO0PiM",
        "outputId": "9eea6bd8-339f-4736-c71f-3b85d05dea55"
      },
      "execution_count": 102,
      "outputs": [
        {
          "output_type": "stream",
          "name": "stdout",
          "text": [
            "{1, 2, 3}\n"
          ]
        }
      ]
    },
    {
      "cell_type": "markdown",
      "source": [
        "sets are powerful and versatile for managing collections of unique elements, performing set operations, and achieving efficient membership testing. Their immutability (for **'frozensets'**), unique constraints, and support for mathematical operations make them a valuable tool in Python programming."
      ],
      "metadata": {
        "id": "AuAY8ndY0biD"
      }
    },
    {
      "cell_type": "markdown",
      "source": [
        "#Q6.Discuss the use cases of tuples and sets in Python programming.\n",
        "\n",
        "#ANS: **Use Cases of Tuples in Python**\n",
        "Tuples are immutable sequences that are often used in Python programming when the collection of items should not be changed after creation. Below are some common use cases of tuples:\n",
        "\n",
        "##1. **RETURNING MULTIPLE VALUES FROM A FUNCTION**\n",
        "\n",
        "*  Functions in Python can return multiple values as a tuple. This is a convenient way to return multiple pieces of related information without having to create a custom class or use a list.\n",
        "\n",
        "####***Example*** :\n",
        "\n"
      ],
      "metadata": {
        "id": "rQc9yiYu017G"
      }
    },
    {
      "cell_type": "code",
      "source": [
        "def get_coordinates():\n",
        "    return (10, 20, 30) # Returning multiple values as Tuples\n",
        "\n",
        "x, y, z = get_coordinates()\n",
        "print(x, y, z)\n"
      ],
      "metadata": {
        "colab": {
          "base_uri": "https://localhost:8080/"
        },
        "id": "SNSBdH8B2QSM",
        "outputId": "22c042ba-7661-4148-c5b1-5c172b90cdb4"
      },
      "execution_count": 103,
      "outputs": [
        {
          "output_type": "stream",
          "name": "stdout",
          "text": [
            "10 20 30\n"
          ]
        }
      ]
    },
    {
      "cell_type": "markdown",
      "source": [
        "##2. **USING TUPLES AS DICTIONARY KEYS**\n",
        "\n",
        "*  Since tuples are immutable and hashable, they can be used as keys in dictionaries. This is useful when you need a composite key, such as combining multiple elements to form a unique identifier.\n",
        "\n",
        "####***Example*** :\n",
        "\n",
        "\n"
      ],
      "metadata": {
        "id": "r9q4O4Rq5Ahs"
      }
    },
    {
      "cell_type": "code",
      "source": [
        "locations = {\n",
        "    (40.7128, -74.0060): \"New York\",\n",
        "    (34.0522, -118.2437): \"Los Angeles\"\n",
        "}\n",
        "print(locations[(40.7128, -74.0060)])\n"
      ],
      "metadata": {
        "colab": {
          "base_uri": "https://localhost:8080/"
        },
        "id": "-Tmc1Rx36DdB",
        "outputId": "725675cf-73fe-44d3-887e-2af99e013d70"
      },
      "execution_count": 104,
      "outputs": [
        {
          "output_type": "stream",
          "name": "stdout",
          "text": [
            "New York\n"
          ]
        }
      ]
    },
    {
      "cell_type": "markdown",
      "source": [
        "##3. **STORING FIXED DATA**\n",
        "\n",
        "*  Tuples are ideal for storing data that is logically related and should remain unchanged. For instance, you might use a tuple to store the dimensions of a rectangle (width, height) or the RGB values of a color.\n",
        "\n",
        "####***Example*** :\n",
        "\n"
      ],
      "metadata": {
        "id": "6IKdettm6IQ2"
      }
    },
    {
      "cell_type": "code",
      "source": [
        "dimensions = (1920, 1080)  # Width and height of a screen\n",
        "color = (255, 0, 0)  # RGB values for red\n",
        "print(color)"
      ],
      "metadata": {
        "id": "LpL6mrhq6cV8",
        "colab": {
          "base_uri": "https://localhost:8080/"
        },
        "outputId": "0ed8338d-4f00-43d2-e4b0-2ac44e226dc1"
      },
      "execution_count": 123,
      "outputs": [
        {
          "output_type": "stream",
          "name": "stdout",
          "text": [
            "(255, 0, 0)\n"
          ]
        }
      ]
    },
    {
      "cell_type": "markdown",
      "source": [
        "##4. **UNPACKING**\n",
        "\n",
        "\n",
        "* Tuples support unpacking, which allows you to assign values to multiple variables simultaneously. This is particularly useful in loops or when working with functions that return multiple values.\n",
        "\n",
        "\n",
        "\n",
        "####***Example*** :"
      ],
      "metadata": {
        "id": "7037so346kHA"
      }
    },
    {
      "cell_type": "code",
      "source": [
        "point = (4, 5)\n",
        "x, y = point\n",
        "print(x, y)"
      ],
      "metadata": {
        "colab": {
          "base_uri": "https://localhost:8080/"
        },
        "id": "Mgd4r0AK63or",
        "outputId": "8d54c786-893c-428c-db95-59a39309e58d"
      },
      "execution_count": 124,
      "outputs": [
        {
          "output_type": "stream",
          "name": "stdout",
          "text": [
            "4 5\n"
          ]
        }
      ]
    },
    {
      "cell_type": "markdown",
      "source": [
        "##5. **ENSURING DATA INTEGRITY**\n",
        "\n",
        "*   In situations where you want to ensure that the data cannot be modified, using a tuple is preferable over a list. This is common in cases where the data is passed between functions or modules that should not alter it.\n",
        "\n",
        "####***Example*** :\n",
        "\n"
      ],
      "metadata": {
        "id": "o0ZakxSr6_gJ"
      }
    },
    {
      "cell_type": "code",
      "source": [
        "user_data = (\"Alice\", 25, \"Engineer\")\n",
        "# user_data[1] = 26  # This would raise an error as tuples are immutable"
      ],
      "metadata": {
        "id": "QAZsXrv27oiK"
      },
      "execution_count": 106,
      "outputs": []
    },
    {
      "cell_type": "markdown",
      "source": [
        "#**USE CASES OF SETS IN PYTHON**\n",
        "Sets are unordered collections of unique elements, making them ideal for operations where the uniqueness of elements is crucial. Below are some common use cases of sets:\n",
        "\n",
        "##1. **REMOVING DUPLICATES FROM A COLLECTION**\n",
        "\n",
        "*  One of the primary uses of sets is to remove duplicate elements from a list or other iterable. Since sets inherently do not allow duplicate values, they can be used to filter out repeated items.\n",
        "\n",
        "####***Example*** :\n",
        "\n"
      ],
      "metadata": {
        "id": "LksWg5wv9MhU"
      }
    },
    {
      "cell_type": "code",
      "source": [
        "numbers = [1, 2, 2, 3, 4, 4, 5]\n",
        "unique_numbers = set(numbers)\n",
        "print(unique_numbers)"
      ],
      "metadata": {
        "colab": {
          "base_uri": "https://localhost:8080/"
        },
        "id": "QC7a-fE2-NbN",
        "outputId": "ac73a527-dc80-4cb3-f646-515d4b10f238"
      },
      "execution_count": 125,
      "outputs": [
        {
          "output_type": "stream",
          "name": "stdout",
          "text": [
            "{1, 2, 3, 4, 5}\n"
          ]
        }
      ]
    },
    {
      "cell_type": "markdown",
      "source": [
        "##2. **EFFICIENT MEMBERSHIP TESTING**\n",
        "\n",
        "*  Sets provide a highly efficient way to test whether an element is part of a collection. This is faster than using lists, especially for large datasets.\n",
        "\n",
        "####***Example*** :\n",
        "\n"
      ],
      "metadata": {
        "id": "AtgT1Gco-SDd"
      }
    },
    {
      "cell_type": "code",
      "source": [
        "vowels = {\"a\", \"e\", \"i\", \"o\", \"u\"}\n",
        "print(\"a\" in vowels)\n",
        "print(\"b\" in vowels)\n"
      ],
      "metadata": {
        "colab": {
          "base_uri": "https://localhost:8080/"
        },
        "id": "rdD-vObM-rVT",
        "outputId": "c70858fc-6b1d-4999-c336-69b8b3b81661"
      },
      "execution_count": 107,
      "outputs": [
        {
          "output_type": "stream",
          "name": "stdout",
          "text": [
            "True\n",
            "False\n"
          ]
        }
      ]
    },
    {
      "cell_type": "markdown",
      "source": [
        "##3. **MATHEMATICAL SET OPERATIONS**\n",
        "\n",
        "*  Sets are ideal for performing mathematical operations like union, intersection, difference, and symmetric difference. These operations are useful in scenarios like comparing datasets, filtering data, or combining unique items.\n",
        "\n",
        "####***Example*** :\n",
        "\n"
      ],
      "metadata": {
        "id": "Zepcn1NG-wuo"
      }
    },
    {
      "cell_type": "code",
      "source": [
        "set_a = {1, 2, 3, 4}\n",
        "set_b = {3, 4, 5, 6}\n",
        "\n",
        "union = set_a | set_b  # Union of set_a and set_b\n",
        "intersection = set_a & set_b  # Intersection of set_a and set_b\n",
        "difference = set_a - set_b  # Difference between set_a and set_b\n",
        "\n",
        "print(union)\n",
        "print(intersection)\n",
        "print(difference)\n"
      ],
      "metadata": {
        "colab": {
          "base_uri": "https://localhost:8080/"
        },
        "id": "-GktfI0F_Ktk",
        "outputId": "75df7b55-86d6-449a-d580-9736cda3ec43"
      },
      "execution_count": 108,
      "outputs": [
        {
          "output_type": "stream",
          "name": "stdout",
          "text": [
            "{1, 2, 3, 4, 5, 6}\n",
            "{3, 4}\n",
            "{1, 2}\n"
          ]
        }
      ]
    },
    {
      "cell_type": "markdown",
      "source": [
        "##4. **FINDING UNIQUE ELEMENTS ACROSS MULTIPLE COLLECTIONS**\n",
        "\n",
        "*   Sets can be used to find unique elements across multiple lists or other collections. This is particularly useful in scenarios like merging datasets or filtering out common elements.\n",
        "\n",
        "####***Example*** :\n",
        "\n"
      ],
      "metadata": {
        "id": "dmhERUMg_Pcj"
      }
    },
    {
      "cell_type": "code",
      "source": [
        "list1 = [1, 2, 3]\n",
        "list2 = [2, 3, 4]\n",
        "\n",
        "unique_elements = set(list1) ^ set(list2)  # Symmetric difference\n",
        "print(unique_elements)\n"
      ],
      "metadata": {
        "colab": {
          "base_uri": "https://localhost:8080/"
        },
        "id": "96j1cEry_wwT",
        "outputId": "baa899cd-1acd-4585-e3c0-5ce0f3f2f1e1"
      },
      "execution_count": 109,
      "outputs": [
        {
          "output_type": "stream",
          "name": "stdout",
          "text": [
            "{1, 4}\n"
          ]
        }
      ]
    },
    {
      "cell_type": "markdown",
      "source": [
        "##5. **USING SETS IN CONDITIONAL LOGIC**\n",
        "\n",
        "* Sets can simplify conditional logic by grouping elements into categories. For instance, you might use a set to represent a category of items and check if a specific item belongs to that category.\n",
        "\n",
        "####***Example*** :\n"
      ],
      "metadata": {
        "id": "PfEIWGnk_2Mq"
      }
    },
    {
      "cell_type": "code",
      "source": [
        "prime_numbers = {2, 3, 5, 7}\n",
        "number = 5\n",
        "\n",
        "if number in prime_numbers:\n",
        "    print(f\"{number} is a prime number.\")\n",
        "else:\n",
        "    print(f\"{number} is not a prime number.\")"
      ],
      "metadata": {
        "colab": {
          "base_uri": "https://localhost:8080/"
        },
        "id": "nwspFZ1NAM7Z",
        "outputId": "285ef538-4668-4f33-8406-9fa6328827c7"
      },
      "execution_count": 110,
      "outputs": [
        {
          "output_type": "stream",
          "name": "stdout",
          "text": [
            "5 is a prime number.\n"
          ]
        }
      ]
    },
    {
      "cell_type": "markdown",
      "source": [
        "#Q7. Describe how to add, modify, and delete items in a dictionary with examples.\n",
        "\n",
        "#ANS: Dictionaries in Python are unordered collections of key-value pairs, where each key is unique. They are mutable, meaning you can ***'add'***, ***'modify'***, or ***'delete'*** items after the dictionary is created. Below, we'll explore how to perform these operations with examples\n",
        "\n",
        "##1. **ADDING ITEMS IN DICTIONARY**\n",
        "You can add items to a dictionary by assigning a value to a new key. If the key already exists, its value will be updated.\n",
        "\n",
        "####***Example*** : Adding a New Key-Value Pair\n"
      ],
      "metadata": {
        "id": "SoPagYcRARoY"
      }
    },
    {
      "cell_type": "code",
      "source": [
        "student_grades = {\"Alice\": 85, \"Bob\": 90}\n",
        "student_grades[\"Charlie\"] = 88  # Adding a new student and their grade\n",
        "print(student_grades)"
      ],
      "metadata": {
        "colab": {
          "base_uri": "https://localhost:8080/"
        },
        "id": "CggybcGZBvlb",
        "outputId": "43937adf-e3d2-49cd-bc7c-0e282a09e175"
      },
      "execution_count": 111,
      "outputs": [
        {
          "output_type": "stream",
          "name": "stdout",
          "text": [
            "{'Alice': 85, 'Bob': 90, 'Charlie': 88}\n"
          ]
        }
      ]
    },
    {
      "cell_type": "markdown",
      "source": [
        "##2. **MODIFYING ITEMS IN DICTIONARY**\n",
        "To modify an existing item in a dictionary, you simply reassign a new value to the existing key.\n",
        "\n",
        "####***Example*** : Modifying an Existing Value"
      ],
      "metadata": {
        "id": "2uqNkqhPCNTv"
      }
    },
    {
      "cell_type": "code",
      "source": [
        "student_grades[\"Alice\"] = 95  # Updating Alice's grade\n",
        "print(student_grades)\n"
      ],
      "metadata": {
        "colab": {
          "base_uri": "https://localhost:8080/"
        },
        "id": "kH74W-fTCobn",
        "outputId": "184cffdd-6dd4-4856-86bb-75c7e700655f"
      },
      "execution_count": 112,
      "outputs": [
        {
          "output_type": "stream",
          "name": "stdout",
          "text": [
            "{'Alice': 95, 'Bob': 90, 'Charlie': 88}\n"
          ]
        }
      ]
    },
    {
      "cell_type": "markdown",
      "source": [
        "##3. **DELETING ITEMS FROM A DICTIONARY**\n",
        "\n",
        "You can delete a key-value pair from a dictionary using the ***'del '*** keyword or the ***'pop()'*** method.\n",
        "\n",
        "####***Example*** : Using **'del'**\n",
        "\n"
      ],
      "metadata": {
        "id": "8hdCE3ScCtCE"
      }
    },
    {
      "cell_type": "code",
      "source": [
        "# Existing dictionary\n",
        "student_grades = {'Alice': 95, 'Bob': 90}\n",
        "\n",
        "# Delete Alice's grade\n",
        "del student_grades['Alice']\n",
        "\n",
        "# Print the dictionary after deletion\n",
        "print(student_grades)\n"
      ],
      "metadata": {
        "colab": {
          "base_uri": "https://localhost:8080/"
        },
        "id": "tYdqLC336Nzt",
        "outputId": "be6cee54-3ad4-4da4-940e-6b3240534e7f"
      },
      "execution_count": 113,
      "outputs": [
        {
          "output_type": "stream",
          "name": "stdout",
          "text": [
            "{'Bob': 90}\n"
          ]
        }
      ]
    },
    {
      "cell_type": "markdown",
      "source": [
        "####***Example*** : Using ***'pop( )'***"
      ],
      "metadata": {
        "id": "zv3xtZBNNVhl"
      }
    },
    {
      "cell_type": "code",
      "source": [
        "# Existing dictionary\n",
        "student_grades = {'Alice': 95, 'Bob': 90}\n",
        "\n",
        "# Delete Bob's grade using pop\n",
        "removed_grade = student_grades.pop('Bob')\n",
        "\n",
        "# Print the dictionary after deletion and the removed grade\n",
        "print(student_grades)\n",
        "print(\"Removed grade:\", removed_grade)\n"
      ],
      "metadata": {
        "colab": {
          "base_uri": "https://localhost:8080/"
        },
        "id": "EKr4H90e6UmD",
        "outputId": "b473f87a-8aae-47b9-b25b-0a35fb0ac8af"
      },
      "execution_count": 114,
      "outputs": [
        {
          "output_type": "stream",
          "name": "stdout",
          "text": [
            "{'Alice': 95}\n",
            "Removed grade: 90\n"
          ]
        }
      ]
    },
    {
      "cell_type": "markdown",
      "source": [
        "Adding, modifying, and deleting items in a dictionary are straightforward operations in Python. By using the assignment operator, ***'del'*** keyword, and ***'pop()'*** method, you can efficiently manage the contents of a dictionary."
      ],
      "metadata": {
        "id": "9Ztn3xZAOnI8"
      }
    },
    {
      "cell_type": "markdown",
      "source": [
        "#Q8. Discuss the importance of dictionary keys being immutable and provide examples.\n",
        "\n",
        "#ANS:The immutability of dictionary keys in Python is a fundamental aspect of how dictionaries operate efficiently and reliably. Here’s why this is important:\n",
        "\n",
        "##1.**CONSISTENCY IN DATA RETRIEVAL**\n",
        "Dictionaries are implemented using a data structure known as a hash table, where each key is hashed to determine where its corresponding value is stored. For a dictionary to retrieve the correct value, the hash of the key must remain constant throughout its existence in the dictionary. If keys were mutable and could change, their hash value would also change, leading to an inconsistency in locating the stored values. This could cause the dictionary to lose track of the key-value pair or fail to find the value associated with a key, making the data retrieval process unreliable.\n",
        "\n",
        "####***Example*** :"
      ],
      "metadata": {
        "id": "0uXMJYbtOpXz"
      }
    },
    {
      "cell_type": "code",
      "source": [
        "# Immutable key example\n",
        "student_scores = {(2024, 'Alice'): 90}\n",
        "\n",
        "# Attempting to change the tuple (which is not possible as tuples are immutable)\n",
        "# student_scores[(2024, 'Alice')][0] = 2025  # This would raise an error if attempted\n",
        "\n",
        "# Accessing the value using the original immutable key\n",
        "print(student_scores[(2024, 'Alice')])\n"
      ],
      "metadata": {
        "colab": {
          "base_uri": "https://localhost:8080/"
        },
        "id": "vJA--BjnRFVM",
        "outputId": "76e0133b-f9a3-4f60-c199-eef88203699d"
      },
      "execution_count": null,
      "outputs": [
        {
          "output_type": "stream",
          "name": "stdout",
          "text": [
            "90\n"
          ]
        }
      ]
    },
    {
      "cell_type": "markdown",
      "source": [
        "In this example, the key is a tuple, which is immutable. This ensures that the key remains consistent, and the dictionary can reliably retrieve the associated value."
      ],
      "metadata": {
        "id": "9YNgjdoFRKQk"
      }
    },
    {
      "cell_type": "markdown",
      "source": [
        "##2.**PREVENTING UNPREDICTABLE BEHAVIOR**\n",
        "If keys could be mutable, modifying a key after it has been added to a dictionary would lead to unpredictable behavior. The dictionary might store the value in a different location or lose the key-value pair altogether because the original hash location would no longer correspond to the modified key.\n",
        "\n",
        "####***Example*** :\n"
      ],
      "metadata": {
        "id": "WxTZbM09RL8O"
      }
    },
    {
      "cell_type": "code",
      "source": [
        "# Mutable key example (hypothetical, Python does not allow this)\n",
        "my_dict = {[1, 2, 3]: \"value\"}  # Lists are mutable and cannot be used as keys\n",
        "\n",
        "# If lists were allowed as keys and then modified:\n",
        "# my_dict[[1, 2, 3]].append(4)\n",
        "# Now, my_dict cannot reliably find the key, leading to errors.\n"
      ],
      "metadata": {
        "colab": {
          "base_uri": "https://localhost:8080/",
          "height": 211
        },
        "id": "qA1JhEzjRo-h",
        "outputId": "692fe764-7988-42bc-ed8d-ebb83ca24e18"
      },
      "execution_count": null,
      "outputs": [
        {
          "output_type": "error",
          "ename": "TypeError",
          "evalue": "unhashable type: 'list'",
          "traceback": [
            "\u001b[0;31m---------------------------------------------------------------------------\u001b[0m",
            "\u001b[0;31mTypeError\u001b[0m                                 Traceback (most recent call last)",
            "\u001b[0;32m<ipython-input-56-10606ef38db2>\u001b[0m in \u001b[0;36m<cell line: 2>\u001b[0;34m()\u001b[0m\n\u001b[1;32m      1\u001b[0m \u001b[0;31m# Mutable key example (hypothetical, Python does not allow this)\u001b[0m\u001b[0;34m\u001b[0m\u001b[0;34m\u001b[0m\u001b[0m\n\u001b[0;32m----> 2\u001b[0;31m \u001b[0mmy_dict\u001b[0m \u001b[0;34m=\u001b[0m \u001b[0;34m{\u001b[0m\u001b[0;34m[\u001b[0m\u001b[0;36m1\u001b[0m\u001b[0;34m,\u001b[0m \u001b[0;36m2\u001b[0m\u001b[0;34m,\u001b[0m \u001b[0;36m3\u001b[0m\u001b[0;34m]\u001b[0m\u001b[0;34m:\u001b[0m \u001b[0;34m\"value\"\u001b[0m\u001b[0;34m}\u001b[0m  \u001b[0;31m# Lists are mutable and cannot be used as keys\u001b[0m\u001b[0;34m\u001b[0m\u001b[0;34m\u001b[0m\u001b[0m\n\u001b[0m\u001b[1;32m      3\u001b[0m \u001b[0;34m\u001b[0m\u001b[0m\n\u001b[1;32m      4\u001b[0m \u001b[0;31m# If lists were allowed as keys and then modified:\u001b[0m\u001b[0;34m\u001b[0m\u001b[0;34m\u001b[0m\u001b[0m\n\u001b[1;32m      5\u001b[0m \u001b[0;31m# my_dict[[1, 2, 3]].append(4)\u001b[0m\u001b[0;34m\u001b[0m\u001b[0;34m\u001b[0m\u001b[0m\n",
            "\u001b[0;31mTypeError\u001b[0m: unhashable type: 'list'"
          ]
        }
      ]
    },
    {
      "cell_type": "markdown",
      "source": [
        "Python prevents this issue by disallowing mutable types like lists from being used as dictionary keys, ensuring that keys remain constant and predictable."
      ],
      "metadata": {
        "id": "XsoZ1uwzR1s_"
      }
    },
    {
      "cell_type": "markdown",
      "source": [
        "#3.**MAINTAINING DATA INTEGRITY**\n",
        "The immutability of dictionary keys helps maintain the integrity of the data stored in dictionaries. When you use immutable keys, you can trust that the mapping between keys and values will remain intact, even if the program runs for a long time or is complex. This is particularly important in scenarios where data consistency is critical, such as in databases or caching mechanisms.\n",
        "\n",
        "####***Example*** :"
      ],
      "metadata": {
        "id": "xgP41fkGR5RP"
      }
    },
    {
      "cell_type": "code",
      "source": [
        "# Immutable keys ensure consistent data\n",
        "user_info = {\n",
        "    frozenset(['username', 'email']): \"JohnDoe@gmail.com\"\n",
        "}\n",
        "\n",
        "# The frozenset is immutable, ensuring that the key remains unchanged\n",
        "# and that 'JohnDoe@gmail.com' can always be accessed using this key\n",
        "print(user_info[frozenset(['username', 'email'])])\n"
      ],
      "metadata": {
        "colab": {
          "base_uri": "https://localhost:8080/"
        },
        "id": "GNP5LzmESKvo",
        "outputId": "35f5312f-761a-4048-c94a-b50ecb2e6219"
      },
      "execution_count": null,
      "outputs": [
        {
          "output_type": "stream",
          "name": "stdout",
          "text": [
            "JohnDoe@gmail.com\n"
          ]
        }
      ]
    },
    {
      "cell_type": "markdown",
      "source": [
        "In this example, a **'frozenset'**, which is immutable, is used as a key. This guarantees that the key will not change, preserving the integrity of the data stored in the dictionary.\n",
        "\n",
        "The requirement that dictionary keys be immutable in Python ensures that the hash-based lookup mechanism remains reliable, prevents unpredictable behavior, and maintains the integrity of the data. Immutable types like strings, numbers, and tuples are ideal as dictionary keys, allowing the dictionary to function efficiently and predictably."
      ],
      "metadata": {
        "id": "RIud4vPZSOX0"
      }
    }
  ]
}
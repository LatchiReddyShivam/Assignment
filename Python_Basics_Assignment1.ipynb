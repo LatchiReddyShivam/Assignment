{
  "nbformat": 4,
  "nbformat_minor": 0,
  "metadata": {
    "colab": {
      "provenance": []
    },
    "kernelspec": {
      "name": "python3",
      "display_name": "Python 3"
    },
    "language_info": {
      "name": "python"
    }
  },
  "cells": [
    {
      "cell_type": "markdown",
      "source": [
        "#Q1.Explain the key features of Python that make it a popular choice for programming.\n",
        "\n",
        "##ANS: A programming language's popularity is usually determined by a few key features that developers find appealing. The following crucial characteristics frequently influence the level of popularity of a programming language:\n",
        "\n",
        "###1. **Simplicity of Use and Learning**\n",
        "\n",
        "\n",
        "*\tSimple Syntax: Readability is a priority in the design of languages like Python, which makes them accessible to even the most inexperienced users. It is easier for developers to produce and comprehend code when the syntax is clear and uncomplicated.\n",
        "* Enormous Documentation: Well-known programming languages frequently have a wealth of tutorials and documentation that aid in the rapid comprehension of topics and the ability of both novice and expert programmers to code.\n",
        "\n",
        "###2. **Adaptability and Versatility**\n",
        "\n",
        "\n",
        "* Multi-paradigm Support: Well-liked programming languages frequently accommodate several paradigms, such as procedural, functional, and object-oriented programming, allowing developers to select the most appropriate method for their projects.\n",
        "*\tCross-platform Compatibility: It's essential to design apps for a variety of contexts because many popular languages may run on different operating systems without requiring any changes.\n",
        "\n",
        "###3. **Strong Community and Ecosystem**\n",
        "\n",
        "\n",
        "*   Active Community: A thriving community has a wealth of resources, including user groups, forums, and online education. It also implies that the language will always be updated, fixed, and enhanced.\n",
        "* Rich Library and Framework Support: Developers can use pre-existing tools for activities like data analysis, machine learning, and web development, which can greatly accelerate development time. This is made possible by the large ecosystem of libraries and frameworks available.\n",
        "\n",
        "###4. **Performance**\n",
        "\n",
        "*   Effective Operation: Programming languages that provide optimal performance, either via native execution (such as C++ or Rust) or through effective virtual machines (like Java), are preferred for jobs that need careful attention to timing and resource allocation.\n",
        "* Scalability: Popular languages often have built-in or easily accessible tools and frameworks that facilitate the development of scalable applications, making them suitable for both small and large projects.\n",
        "\n",
        "###5. **Strong Industry Adoption**\n",
        "\n",
        "\n",
        "*   Industry Support: A language that gains widespread use in the IT sector frequently becomes the preferred option for new projects because to the increased availability of talent, resources, and libraries.\n",
        "*   Corporate Backing: The development and progress of certain languages are aided by their development or heavy support from big tech organizations (e.g., Microsoft supports C#, and Google supports Go).\n",
        "\n",
        "###6. **Good Tooling and IDE Support**\n",
        "\n",
        "*   Integrated Development Environments (IDEs): By offering capabilities like code completion, debugging, and version control integration, languages with robust IDE support can significantly increase developer productivity.\n",
        "*   Tooling: Robust testing, debugging, and deployment tools facilitate faster and more efficient development, which raises the appeal of the language as a whole.\n",
        "\n",
        "###7. **Security Features**\n",
        "\n",
        "\n",
        "*   Safety Mechanisms: A lot of well-known programming languages provide memory safety, robust type systems, and integrated security libraries, among other security-focused features, that make coders' jobs safer.\n",
        "*   Frequent Updates: The language's reputation and use in delicate settings depend on active maintenance and security patches, which protect it from vulnerabilities.\n",
        "\n",
        "###8. **Community Contributions**\n",
        "\n",
        "*   Open Source Nature: Since many widely used languages are free to use, programmers are able to improve them. Rapid evolution and creativity are encouraged in this collaborative atmosphere.\n",
        "*   Package Managers: Programming languages that have strong package management systems (such as JavaScript's npm or Python's pip) make it simple to share and reuse code, which boosts creativity and productivity even more. When combined, these characteristics make a programming language more appealing and continue to be a popular choice for developers in a variety of fields.\n",
        "\n",
        "\n",
        "\n",
        "\n",
        "\n",
        "\n",
        "\n",
        "\n",
        "\n",
        "\n",
        "\n",
        "\n",
        "\n",
        "\n"
      ],
      "metadata": {
        "id": "Hxz0THRcrufW"
      }
    },
    {
      "cell_type": "markdown",
      "source": [
        "#Q2.Describe the role of predefined keywords in Python and provide examples how they are used in a program.\n",
        "\n",
        "##ANS: Python's syntax and organization are largely dependent on predefined keywords. Writing accurate and effective Python code requires the use of certain reserved words, which have a particular meaning for the Python interpreter. They serve as the fundamental components of Python's data management, control flow, and other features.\n",
        "\n",
        "##***Role of Predefined Keywords in Python***\n",
        "###Control Flow Management:\n",
        "\n",
        "\n",
        "*   **Conditional Statements:** 'If', 'elif', and 'else' are examples of keywords that are used to regulate a program's flow based on conditions. They enable conditional execution of specific code blocks and decision-making by the program.\n",
        "\n",
        "*   **Looping Constructs:** Loops are managed using keywords like 'for', 'while', and 'break', which allow code blocks to be executed repeatedly. 'Continue' and 'break' aid in regulating loop behavior, enabling more precise control over iterations.\n",
        "\n",
        "\n",
        "###Function and Class Definitions:\n",
        "\n",
        "\n",
        "*   **Defining Functions:** The 'def' keyword is used to define functions in Python. Functions are reusable blocks of code that perform specific tasks.\n",
        "*   **Class Definitions:** The 'class' keyword is used to define new classes, which are the blueprints for creating objects in object-oriented programming.\n",
        "\n",
        "###Data Handling:\n",
        "\n",
        "\n",
        "*   **Variable Assignment:** The '=' symbol isn't technically a keyword, but it works with keywords like 'True', 'False', and 'None' to assign values to variables.\n",
        "\n",
        "\n",
        "*   **Data Types:** Keywords like 'int', 'float', 'str', 'list', 'dict', etc., are used to define the types of data structures in Python.\n",
        "\n",
        "*   **Try-Except Blocks:** Keywords such as 'try', 'except', 'finally', and 'raise' are used to manage exceptions in Python. They help in handling errors gracefully without crashing the program.\n",
        "\n",
        "\n",
        "*   **Assertions:** The 'assert' keyword is used for debugging purposes, allowing the programmer to test assumptions in the code.\n",
        "\n",
        "\n",
        "###Importing Modules:\n",
        "\n",
        "\n",
        "*   **Import Statements:** The 'import' and 'from' keywords allow a Python program to use functions, classes, and variables from external modules or other Python files. This supports code modularity and reuse.\n",
        "\n",
        "###Logical and Membership Operations:\n",
        "\n",
        "\n",
        "*   **Boolean Logic:** Keywords like 'and', 'or', and 'not' are used to perform logical operations, essential for decision-making processes in code.\n",
        "\n",
        "\n",
        "*   **Membership Testing:** The 'in' and 'not in' keywords are used to check for membership within sequences like lists, tuples, or strings.\n",
        "\n",
        "##Examples of Predefined Keywords in Use\n",
        "Below are some examples demonstrating how these keywords are used in a Python program:\n",
        "\n",
        "#### Example 1: Control Flow with **'if'**, **'elif'**, and **'else'**\n"
      ],
      "metadata": {
        "id": "C74Qn_8U_gD_"
      }
    },
    {
      "cell_type": "code",
      "source": [
        "age = 22\n",
        "\n",
        "if age < 18:\n",
        "    print(\"You are a minor.\")\n",
        "elif age == 18:\n",
        "    print(\"You just became an adult!\")\n",
        "else:\n",
        "    print(\"You are an adult.\")\n"
      ],
      "metadata": {
        "colab": {
          "base_uri": "https://localhost:8080/"
        },
        "id": "OhZFyUIxBqHY",
        "outputId": "e24bda4f-e6b1-411d-8199-00b584bb5b61"
      },
      "execution_count": 32,
      "outputs": [
        {
          "output_type": "stream",
          "name": "stdout",
          "text": [
            "You are an adult.\n"
          ]
        }
      ]
    },
    {
      "cell_type": "markdown",
      "source": [
        "Explanation: Here, the **'if'**, **'elif'**, and **'else'** keywords control which block of code runs based on the value of 'age'."
      ],
      "metadata": {
        "id": "thhduUhfC5uB"
      }
    },
    {
      "cell_type": "markdown",
      "source": [
        "####Example 2: Defining a Function with **'def'** and using **'return'**"
      ],
      "metadata": {
        "id": "iUlRdNHfB2W1"
      }
    },
    {
      "cell_type": "code",
      "source": [
        "def add_numbers(a, b):\n",
        "    return a + b\n",
        "\n",
        "result = add_numbers(5, 3)\n",
        "print(result)\n"
      ],
      "metadata": {
        "colab": {
          "base_uri": "https://localhost:8080/"
        },
        "id": "LStT4rT7CRJv",
        "outputId": "12460b23-3907-4a67-a590-df5c4023ed70"
      },
      "execution_count": 33,
      "outputs": [
        {
          "output_type": "stream",
          "name": "stdout",
          "text": [
            "8\n"
          ]
        }
      ]
    },
    {
      "cell_type": "markdown",
      "source": [
        "Explanation: The **'def'** keyword defines a function named **'add_numbers'**, and **'return'** is used to output the result of adding **'a'** and **' b'**."
      ],
      "metadata": {
        "id": "k2pMYXsSDW3p"
      }
    },
    {
      "cell_type": "markdown",
      "source": [
        "####Example 3: Looping with **'for'** and using **'break'**\n"
      ],
      "metadata": {
        "id": "nbApotMsCl4F"
      }
    },
    {
      "cell_type": "code",
      "source": [
        "for i in range(10):\n",
        "    if i == 5:\n",
        "        break\n",
        "    print(i)\n"
      ],
      "metadata": {
        "colab": {
          "base_uri": "https://localhost:8080/"
        },
        "id": "r6Y2BvPoC1XO",
        "outputId": "77c8f27b-7244-4d23-c859-b55085e962ea"
      },
      "execution_count": 34,
      "outputs": [
        {
          "output_type": "stream",
          "name": "stdout",
          "text": [
            "0\n",
            "1\n",
            "2\n",
            "3\n",
            "4\n"
          ]
        }
      ]
    },
    {
      "cell_type": "markdown",
      "source": [
        "Explanation: The **'for'** keyword initiates a loop that prints numbers from 0 to 4. When **'i'** equals 5, the **'break'** keyword stops the loop."
      ],
      "metadata": {
        "id": "bCNWgo-MD9kx"
      }
    },
    {
      "cell_type": "markdown",
      "source": [
        "####Example 4: Exception Handling with **'try'**, **'except'**, and **'finally'**"
      ],
      "metadata": {
        "id": "hWN0WMBGDBPS"
      }
    },
    {
      "cell_type": "code",
      "source": [
        "try:\n",
        "    number = int(input(\"Enter a number: \"))\n",
        "    print(f\"The number you entered is {number}\")\n",
        "except ValueError:\n",
        "    print(\"That's not a valid number!\")\n",
        "finally:\n",
        "    print(\"Execution finished.\")\n"
      ],
      "metadata": {
        "colab": {
          "base_uri": "https://localhost:8080/"
        },
        "id": "YKifUnYgcO-z",
        "outputId": "34d2bac7-e858-4519-b126-e7fc33845c99"
      },
      "execution_count": 35,
      "outputs": [
        {
          "output_type": "stream",
          "name": "stdout",
          "text": [
            "Enter a number: 24\n",
            "The number you entered is 24\n",
            "Execution finished.\n"
          ]
        }
      ]
    },
    {
      "cell_type": "markdown",
      "source": [
        "Explanation: The **'try'** block attempts to convert user input into an integer. If a 'ValueError' occurs, the **'except'** block runs. The **'finally'** block executes regardless of the outcome."
      ],
      "metadata": {
        "id": "aNFffq35ETX5"
      }
    },
    {
      "cell_type": "markdown",
      "source": [
        "####Example 5: Importing Modules with **'import'**\n"
      ],
      "metadata": {
        "id": "BwMMZ4UZcgLj"
      }
    },
    {
      "cell_type": "code",
      "source": [
        "import math\n",
        "\n",
        "print(math.sqrt(100))\n"
      ],
      "metadata": {
        "colab": {
          "base_uri": "https://localhost:8080/"
        },
        "id": "unQtKSy2c4nC",
        "outputId": "4f8b5062-8ed0-4711-967d-d691587234f7"
      },
      "execution_count": 37,
      "outputs": [
        {
          "output_type": "stream",
          "name": "stdout",
          "text": [
            "10.0\n"
          ]
        }
      ]
    },
    {
      "cell_type": "markdown",
      "source": [
        "Explanation: The **'import'** keyword imports the 'math' module, allowing access to its functions, such as **'sqrt'** to calculate the square root."
      ],
      "metadata": {
        "id": "yozNBRMLE0Z7"
      }
    },
    {
      "cell_type": "markdown",
      "source": [
        "#Q3. Compare and contrast mutable and immutable objects in Python with examples.\n",
        "\n",
        "##ANS: In Python, objects fall into two categories: mutable and immutable objects, depending on whether or not their value can be altered after they are created. To manage data efficiently and prevent unexpected side effects in your programs, you must be aware of the distinction between mutable and immutable objects.\n",
        "\n",
        "###**MUTABLE OBJECTS**\n",
        "Objects that allow for changes to their state or value after creation are called mutable objects. This implies that you don't need to create new objects in order to change, add, or delete components from these objects.\n",
        "\n",
        "####EXAMPLES OF MUTABLE OBJECTS\n",
        "\n",
        "*   **Lists**: You can modify the content of a list without making a new one because lists are mutable.\n",
        "\n",
        "* **Dictionaries**: Dictionaries are also mutable, allowing you to add, remove, or modify key-value pairs.\n",
        "\n",
        "* **Sets**: Sets are mutable, and you can add or remove elements after the set has been created.\n",
        "\n",
        "####Example of a Mutable Object (List)\n",
        "\n",
        "\n",
        "\n",
        "\n",
        "\n",
        "\n",
        "\n",
        "\n",
        "\n"
      ],
      "metadata": {
        "id": "hs44eV5UdDnF"
      }
    },
    {
      "cell_type": "code",
      "source": [
        "my_list = [0, 1, 2]\n",
        "my_list.append(3)\n",
        "print(my_list)\n"
      ],
      "metadata": {
        "colab": {
          "base_uri": "https://localhost:8080/"
        },
        "id": "dF7bWX9ZALX0",
        "outputId": "19903267-9f6a-4d4f-b62b-4c791ccc98ab"
      },
      "execution_count": 38,
      "outputs": [
        {
          "output_type": "stream",
          "name": "stdout",
          "text": [
            "[0, 1, 2, 3]\n"
          ]
        }
      ]
    },
    {
      "cell_type": "markdown",
      "source": [
        "Explanation: In this example, '**my_list**' is a mutable object. The **'append'** method modifies the original list by adding a new element to it."
      ],
      "metadata": {
        "id": "Ve-NzTFxBX-e"
      }
    },
    {
      "cell_type": "markdown",
      "source": [
        "###**IMMUTABLE OBJECTS**\n",
        "When something is formed, its value or state cannot be altered, making it an immutable object. When an immutable object is modified, a new object with the altered value is created.\n",
        "\n",
        "####EXAMPLES OF IMMUTABLE OBJECTS\n",
        "\n",
        "* **Strings**: Because strings are immutable, any operation that changes a string also creates a new instance of the string object.\n",
        "\n",
        "*   **Tuples**: Tuples are immutable sequences, meaning their content cannot be changed once defined.\n",
        "* **Integers, Floats, Booleans**: These basic data types are unchangeable. For instance, altering an integer's value genuinely results in the creation of a new integer object.\n",
        "\n",
        "\n",
        "\n",
        "\n",
        "\n"
      ],
      "metadata": {
        "id": "2atpnohDik4y"
      }
    },
    {
      "cell_type": "markdown",
      "source": [
        "###Example of an Immutable Object (String)\n"
      ],
      "metadata": {
        "id": "SKNou7N_zQql"
      }
    },
    {
      "cell_type": "code",
      "source": [
        "my_string = \"Hello\"\n",
        "new_string = my_string + \" India\"\n",
        "print(my_string)\n",
        "print(new_string)\n"
      ],
      "metadata": {
        "colab": {
          "base_uri": "https://localhost:8080/"
        },
        "id": "Xkfi_1pKAo8Q",
        "outputId": "368026c2-8319-4b2d-dc2e-9b52e343e48a"
      },
      "execution_count": 5,
      "outputs": [
        {
          "output_type": "stream",
          "name": "stdout",
          "text": [
            "Hello\n",
            "Hello India\n"
          ]
        }
      ]
    },
    {
      "cell_type": "markdown",
      "source": [
        "Explanation: **'my_string'** is an immutable object. When we try to modify it by concatenating another string, a new string **'new_string'** is created, while **'my_string'** remains unchanged."
      ],
      "metadata": {
        "id": "gkj4TA-bFwMl"
      }
    },
    {
      "cell_type": "markdown",
      "source": [
        "#**KEY DIFFERENCE BETWEEN MUTABLE AND IMMUTABLE OBJECTS**\n",
        "\n",
        "**1.Modifications**\n",
        "\n",
        "* ***Mutable Objects*** : Modifiable after creation. A change is implemented that has an immediate impact on the original item.\n",
        "\n",
        "* ***Immutable Objects*** : Cannot be changed once it has been created. Every alteration generates a new item.\n",
        "\n",
        "**2.Memory Management**\n",
        "\n",
        "* ***Mutable Objects*** : Mutable objects can help speed up operations since they can be altered in real time. This is especially useful for huge data structures that require lots of updates.\n",
        "* ***Immutable Objects*** : Because they are immutable, immutable objects are frequently easier to comprehend and reason about. This immutability guarantees consistency for items used as elements in sets or as keys in dictionaries.\n",
        "\n",
        "**3.Use Cases**\n",
        "\n",
        "* ***Mutable Objects*** : Ideal for usage with data structures like lists, dictionaries, and sets that are subject to rapid changes.\n",
        "*  ***Immutable Objects*** : Practical for preventing issues caused by inadvertent data alterations by guaranteeing that data does not change. Tuples are a popular way to organize linked data that shouldn't be changed.\n",
        "\n",
        "**4.Assignment & Copying Behavior**\n",
        "\n",
        "*   ***Mutable Objects*** : The same object will be referenced by both variables if you assign a changeable object to one of them. Adjustments made to one will impact the other.\n",
        "* ***Immutable Objects*** : An immutable object can be assigned to another variable by simply copying its reference; nevertheless, as long as the object is unchangeable, the data integrity of both variables remains independent.\n",
        "\n",
        "#EXAMPLES OF COPYING BEHAVIOR\n",
        "###MUTABLE OBJECTS(LIST) :\n",
        "\n",
        "\n",
        "\n",
        "\n",
        "\n"
      ],
      "metadata": {
        "id": "cu97NHgUz5Kp"
      }
    },
    {
      "cell_type": "code",
      "source": [
        "list1 = [0, 1, 2]\n",
        "list2 = list1\n",
        "list2.append(3)\n",
        "\n",
        "print(list1)\n",
        "print(list2)\n"
      ],
      "metadata": {
        "colab": {
          "base_uri": "https://localhost:8080/"
        },
        "id": "SFtb_sf3BGje",
        "outputId": "d063bec0-099b-461d-8934-36857531101b"
      },
      "execution_count": 39,
      "outputs": [
        {
          "output_type": "stream",
          "name": "stdout",
          "text": [
            "[0, 1, 2, 3]\n",
            "[0, 1, 2, 3]\n"
          ]
        }
      ]
    },
    {
      "cell_type": "markdown",
      "source": [
        "Explanation: 'list1' and 'list2' point to the same list object. Modifying 'list2' also affects 'list1' because they reference the same object."
      ],
      "metadata": {
        "id": "xW8WrLGiGJOT"
      }
    },
    {
      "cell_type": "markdown",
      "source": [
        "###IMMUTABLE OBJECTS(TUPLE):\n"
      ],
      "metadata": {
        "id": "QIK4KNLi7usq"
      }
    },
    {
      "cell_type": "code",
      "source": [
        "tuple1 = (0, 1, 2)\n",
        "tuple2 = tuple1\n",
        "tuple2 = tuple2 + (3,)\n",
        "\n",
        "print(tuple1)\n",
        "print(tuple2)\n"
      ],
      "metadata": {
        "colab": {
          "base_uri": "https://localhost:8080/"
        },
        "id": "zMRRC1SUBaJk",
        "outputId": "fe56435e-e83c-4650-9722-676d9925c65b"
      },
      "execution_count": 10,
      "outputs": [
        {
          "output_type": "stream",
          "name": "stdout",
          "text": [
            "(0, 1, 2)\n",
            "(0, 1, 2, 3)\n"
          ]
        }
      ]
    },
    {
      "cell_type": "markdown",
      "source": [
        "Explanation: In this case, 'tuple2' references a new object after modification, so 'tuple1' remains unchanged.\n",
        "\n",
        "\n",
        "In Python, mutable and immutable objects have distinct uses and applications. While immutable objects give stability and predictability, guaranteeing that data stays consistent throughout the program's execution, mutable objects are adaptable and effective for dynamic data that changes often. Writing more dependable, efficient, and error-free code is made easier by having a solid understanding of these ideas."
      ],
      "metadata": {
        "id": "0uYPhfRZGdZY"
      }
    },
    {
      "cell_type": "markdown",
      "source": [
        "#Q4. Discuss the different types of operators in Python and provide examples of how they are used.\n",
        "\n",
        "##ANS : Operators in Python are unique characters or keywords that are used to manipulate variables and values. Numerous operators, each with a distinct function, are supported by Python. Arithmetic, comparison, logical, bitwise, assignment, identity, membership, and other sorts of operators are among the many categories into which they might be divided. Writing efficient Python programs and modifying data require an understanding of these operators.\n",
        "\n",
        "###**1.Arithmetic Operators**\n",
        "Arithmetic operators are used to perform mathematical operations like addition, subtraction, multiplication, division, and more.\n",
        "\n",
        "*  ***Addition('+')***\n",
        "\n"
      ],
      "metadata": {
        "id": "Er3lBR_B_BtO"
      }
    },
    {
      "cell_type": "code",
      "source": [
        "a = 51\n",
        "b = 32\n",
        "result = a + b\n",
        "print(result)\n"
      ],
      "metadata": {
        "colab": {
          "base_uri": "https://localhost:8080/"
        },
        "id": "Dahd4to1E_VU",
        "outputId": "2794020b-bf56-4da0-e77d-7e3384ff9c8e"
      },
      "execution_count": 11,
      "outputs": [
        {
          "output_type": "stream",
          "name": "stdout",
          "text": [
            "83\n"
          ]
        }
      ]
    },
    {
      "cell_type": "markdown",
      "source": [
        "\n",
        "* ***Subtraction('-')***\n",
        "\n",
        "\n"
      ],
      "metadata": {
        "id": "rC8KKgfRHBB7"
      }
    },
    {
      "cell_type": "code",
      "source": [
        "a = 106\n",
        "b = 45\n",
        "result = a - b\n",
        "print(result)\n"
      ],
      "metadata": {
        "colab": {
          "base_uri": "https://localhost:8080/"
        },
        "id": "Hau8YCOHHRx6",
        "outputId": "2f08ba76-320f-46c7-8ecd-124e6e0be2d0"
      },
      "execution_count": 12,
      "outputs": [
        {
          "output_type": "stream",
          "name": "stdout",
          "text": [
            "61\n"
          ]
        }
      ]
    },
    {
      "cell_type": "markdown",
      "source": [
        "\n",
        "\n",
        "*   ***Multiplication(' * ')***\n",
        "\n",
        "\n",
        "\n",
        "\n",
        "\n",
        "\n",
        "\n",
        "\n",
        "\n"
      ],
      "metadata": {
        "id": "BtoOiSxsHmLU"
      }
    },
    {
      "cell_type": "code",
      "source": [
        "a = 17\n",
        "b = 27\n",
        "result = a * b\n",
        "print(result)\n"
      ],
      "metadata": {
        "colab": {
          "base_uri": "https://localhost:8080/"
        },
        "id": "ap3FQkJUJX28",
        "outputId": "75d811ff-3fa0-4845-ac45-181cbcd63a85"
      },
      "execution_count": 13,
      "outputs": [
        {
          "output_type": "stream",
          "name": "stdout",
          "text": [
            "459\n"
          ]
        }
      ]
    },
    {
      "cell_type": "markdown",
      "source": [
        "\n",
        "* ***Division ('/')***\n",
        "\n"
      ],
      "metadata": {
        "id": "WmMozOszJmMW"
      }
    },
    {
      "cell_type": "code",
      "source": [
        "a = 138\n",
        "b = 2\n",
        "result = a / b\n",
        "print(result)\n"
      ],
      "metadata": {
        "colab": {
          "base_uri": "https://localhost:8080/"
        },
        "id": "HexfJ_7wKN25",
        "outputId": "a3f41ed9-f7bc-4378-e0a1-5f1ee0587109"
      },
      "execution_count": 14,
      "outputs": [
        {
          "output_type": "stream",
          "name": "stdout",
          "text": [
            "69.0\n"
          ]
        }
      ]
    },
    {
      "cell_type": "markdown",
      "source": [
        "\n",
        "* ***Floor Division('//')*** : Returns the largest integer less than or equal to the division result.\n",
        "\n",
        "\n"
      ],
      "metadata": {
        "id": "-FgYExehKY9-"
      }
    },
    {
      "cell_type": "code",
      "source": [
        "a = 9\n",
        "b = 2\n",
        "result = a // b\n",
        "print(result)\n"
      ],
      "metadata": {
        "colab": {
          "base_uri": "https://localhost:8080/"
        },
        "id": "AA2L-mjULZxR",
        "outputId": "81d965ac-67c5-4af6-9525-10b53531a1f4"
      },
      "execution_count": 15,
      "outputs": [
        {
          "output_type": "stream",
          "name": "stdout",
          "text": [
            "4\n"
          ]
        }
      ]
    },
    {
      "cell_type": "markdown",
      "source": [
        "\n",
        "* ***Modulus('%')*** :  Returns the remainder of the division.\n",
        "\n",
        "\n"
      ],
      "metadata": {
        "id": "NZBjMDpQLlpx"
      }
    },
    {
      "cell_type": "code",
      "source": [
        "a = 15\n",
        "b = 2\n",
        "result = a % b\n",
        "print(result)\n"
      ],
      "metadata": {
        "colab": {
          "base_uri": "https://localhost:8080/"
        },
        "id": "3nxY047SMNd9",
        "outputId": "bdce77d7-249c-4386-c669-90b68b64dbc3"
      },
      "execution_count": 16,
      "outputs": [
        {
          "output_type": "stream",
          "name": "stdout",
          "text": [
            "1\n"
          ]
        }
      ]
    },
    {
      "cell_type": "markdown",
      "source": [
        "\n",
        "* ***Exponential(' ** ')*** : Raises the first number to the power of the second\n",
        "\n",
        "\n"
      ],
      "metadata": {
        "id": "iQRBUDhQMYKU"
      }
    },
    {
      "cell_type": "code",
      "source": [
        "a = 5\n",
        "b = 6\n",
        "result = a ** b\n",
        "print(result)\n"
      ],
      "metadata": {
        "colab": {
          "base_uri": "https://localhost:8080/"
        },
        "id": "hbauye3LM6Rm",
        "outputId": "358b06ea-52c6-409b-a4a7-7f59b0484e1e"
      },
      "execution_count": 33,
      "outputs": [
        {
          "output_type": "stream",
          "name": "stdout",
          "text": [
            "15625\n"
          ]
        }
      ]
    },
    {
      "cell_type": "markdown",
      "source": [
        "##**2.Comparison Operators**\n",
        "###Comparison operators are used to compare two values. They return 'True' or 'False' based on the comparison.\n",
        "\n",
        "* ***Equal to('==')***\n",
        "\n",
        "\n"
      ],
      "metadata": {
        "id": "6W7w7f6CNfc-"
      }
    },
    {
      "cell_type": "code",
      "source": [
        "a = 20\n",
        "b = 20\n",
        "result = a == b\n",
        "print(result)\n"
      ],
      "metadata": {
        "colab": {
          "base_uri": "https://localhost:8080/"
        },
        "id": "PEo6jL7vPDle",
        "outputId": "215354ef-f3bd-4c19-eecb-0764c3db1442"
      },
      "execution_count": 40,
      "outputs": [
        {
          "output_type": "stream",
          "name": "stdout",
          "text": [
            "True\n"
          ]
        }
      ]
    },
    {
      "cell_type": "markdown",
      "source": [
        "\n",
        "* ***Not equal to(!=)***\n",
        "\n",
        "\n"
      ],
      "metadata": {
        "id": "UhYkoR99PSZi"
      }
    },
    {
      "cell_type": "code",
      "source": [
        "a = 5\n",
        "b = 3\n",
        "result = a != b\n",
        "print(result)\n"
      ],
      "metadata": {
        "colab": {
          "base_uri": "https://localhost:8080/"
        },
        "id": "7MfshQZiPl53",
        "outputId": "c5b7d473-3261-4965-abde-0c89d8faaa36"
      },
      "execution_count": 41,
      "outputs": [
        {
          "output_type": "stream",
          "name": "stdout",
          "text": [
            "True\n"
          ]
        }
      ]
    },
    {
      "cell_type": "markdown",
      "source": [
        "\n",
        "*   ***Greater than('>')***\n",
        "\n",
        "\n"
      ],
      "metadata": {
        "id": "ofLymPC0PsgZ"
      }
    },
    {
      "cell_type": "code",
      "source": [
        "a = 70\n",
        "b = 46\n",
        "result = a > b\n",
        "print(result)\n"
      ],
      "metadata": {
        "colab": {
          "base_uri": "https://localhost:8080/"
        },
        "id": "4csm9Wv2P8qS",
        "outputId": "c226be16-397a-4336-9fa4-0136a97fa380"
      },
      "execution_count": 42,
      "outputs": [
        {
          "output_type": "stream",
          "name": "stdout",
          "text": [
            "True\n"
          ]
        }
      ]
    },
    {
      "cell_type": "markdown",
      "source": [
        "\n",
        "* ***Less than('<')***\n",
        "\n",
        "\n"
      ],
      "metadata": {
        "id": "FXBSQXQBQCiR"
      }
    },
    {
      "cell_type": "code",
      "source": [
        "a = 33\n",
        "b = 56\n",
        "result = a < b\n",
        "print(result)\n"
      ],
      "metadata": {
        "colab": {
          "base_uri": "https://localhost:8080/"
        },
        "id": "2JzZmX1XQ2Pz",
        "outputId": "2c616046-abf0-45a9-8d21-753e49ea1a12"
      },
      "execution_count": 43,
      "outputs": [
        {
          "output_type": "stream",
          "name": "stdout",
          "text": [
            "True\n"
          ]
        }
      ]
    },
    {
      "cell_type": "markdown",
      "source": [
        "\n",
        "* ***Greater than or equal to('>=')***\n",
        "\n",
        "\n"
      ],
      "metadata": {
        "id": "Hxsfq2dMRBd0"
      }
    },
    {
      "cell_type": "code",
      "source": [
        "a = 7\n",
        "b = 7\n",
        "result = a >= b\n",
        "print(result)\n"
      ],
      "metadata": {
        "colab": {
          "base_uri": "https://localhost:8080/"
        },
        "id": "ir6SVJfHRZET",
        "outputId": "3971b3df-831d-4808-c704-f518339fec05"
      },
      "execution_count": 44,
      "outputs": [
        {
          "output_type": "stream",
          "name": "stdout",
          "text": [
            "True\n"
          ]
        }
      ]
    },
    {
      "cell_type": "markdown",
      "source": [
        "\n",
        "* ***Less than or equal to('<=')***\n",
        "\n",
        "\n"
      ],
      "metadata": {
        "id": "j92-OKcZRj0r"
      }
    },
    {
      "cell_type": "code",
      "source": [
        "a = 2\n",
        "b = 5\n",
        "result = a <= b\n",
        "print(result)\n"
      ],
      "metadata": {
        "colab": {
          "base_uri": "https://localhost:8080/"
        },
        "id": "JwClUqG-RxZS",
        "outputId": "edc1c577-3c90-4cb9-925d-f1158f05a1db"
      },
      "execution_count": 45,
      "outputs": [
        {
          "output_type": "stream",
          "name": "stdout",
          "text": [
            "True\n"
          ]
        }
      ]
    },
    {
      "cell_type": "markdown",
      "source": [
        "##**3.Logical Operators**\n",
        "###Conditional statements are combined using logical operators. Among them are 'and', 'or', and 'not'.\n",
        "\n",
        "* ***AND('and')*** : Returns 'True' if both operands are true.\n",
        "\n",
        "\n"
      ],
      "metadata": {
        "id": "7F41iHncR43v"
      }
    },
    {
      "cell_type": "code",
      "source": [
        "a = True\n",
        "b = False\n",
        "result = a and b\n",
        "print(result)\n"
      ],
      "metadata": {
        "colab": {
          "base_uri": "https://localhost:8080/"
        },
        "id": "pQumkDx0S_4W",
        "outputId": "93b87e86-2e58-4cf5-a61e-f92578d5a061"
      },
      "execution_count": 46,
      "outputs": [
        {
          "output_type": "stream",
          "name": "stdout",
          "text": [
            "False\n"
          ]
        }
      ]
    },
    {
      "cell_type": "markdown",
      "source": [
        "\n",
        "* ***OR('or')*** : Returns 'True' if at least one of the operands is true.\n",
        "\n"
      ],
      "metadata": {
        "id": "1HgaAcTZTLI4"
      }
    },
    {
      "cell_type": "code",
      "source": [
        "a = True\n",
        "b = False\n",
        "result = a or b\n",
        "print(result)\n"
      ],
      "metadata": {
        "colab": {
          "base_uri": "https://localhost:8080/"
        },
        "id": "p-hMMAgWTjGy",
        "outputId": "9b45b08f-48ac-4b11-f0c7-2c3e7011094c"
      },
      "execution_count": 47,
      "outputs": [
        {
          "output_type": "stream",
          "name": "stdout",
          "text": [
            "True\n"
          ]
        }
      ]
    },
    {
      "cell_type": "markdown",
      "source": [
        "\n",
        "* ***NOT('not')*** :  Reverses the logical state of its operand.\n",
        "\n"
      ],
      "metadata": {
        "id": "yGsTfZS3TpXV"
      }
    },
    {
      "cell_type": "code",
      "source": [
        "a = True\n",
        "result = not a\n",
        "print(result)\n"
      ],
      "metadata": {
        "colab": {
          "base_uri": "https://localhost:8080/"
        },
        "id": "opNdaV55T_sm",
        "outputId": "f0ac94a9-14e1-474f-ba7d-7033fa95d1d6"
      },
      "execution_count": 48,
      "outputs": [
        {
          "output_type": "stream",
          "name": "stdout",
          "text": [
            "False\n"
          ]
        }
      ]
    },
    {
      "cell_type": "markdown",
      "source": [
        "##**4.Bitwise Operators**\n",
        "###Bitwise operators perform operations on binary representations of integers.\n",
        "\n",
        "* ***AND('&')*** :  Sets each bit to 1 if both bits are 1.\n",
        "\n",
        "\n"
      ],
      "metadata": {
        "id": "R8dqb9ArUNLi"
      }
    },
    {
      "cell_type": "code",
      "source": [
        "a = 5\n",
        "b = 3\n",
        "result = a & b\n",
        "print(result)\n"
      ],
      "metadata": {
        "colab": {
          "base_uri": "https://localhost:8080/"
        },
        "id": "fERYtpVEV3Aj",
        "outputId": "89047a6a-ec8c-47ae-d106-d5859f48e394"
      },
      "execution_count": 17,
      "outputs": [
        {
          "output_type": "stream",
          "name": "stdout",
          "text": [
            "1\n"
          ]
        }
      ]
    },
    {
      "cell_type": "markdown",
      "source": [
        "\n",
        "* ***XOR('^')*** :  Sets each bit to 1 if only one of the two bits is 1.\n",
        "\n",
        "\n"
      ],
      "metadata": {
        "id": "DWh5E-g5V9yk"
      }
    },
    {
      "cell_type": "code",
      "source": [
        "a = 5\n",
        "b = 3\n",
        "result = a ^ b\n",
        "print(result)\n"
      ],
      "metadata": {
        "colab": {
          "base_uri": "https://localhost:8080/"
        },
        "id": "CttmA0vMWr80",
        "outputId": "de213125-b601-42e2-d25e-4464062d1146"
      },
      "execution_count": 18,
      "outputs": [
        {
          "output_type": "stream",
          "name": "stdout",
          "text": [
            "6\n"
          ]
        }
      ]
    },
    {
      "cell_type": "markdown",
      "source": [
        "\n",
        "* ***NOT ('~')*** : Inverts all the bits.\n",
        "\n",
        "\n"
      ],
      "metadata": {
        "id": "pC0HnD3pWyfm"
      }
    },
    {
      "cell_type": "code",
      "source": [
        "a = 5\n",
        "result = ~a\n",
        "print(result)\n"
      ],
      "metadata": {
        "colab": {
          "base_uri": "https://localhost:8080/"
        },
        "id": "XrwEI3xmYdBR",
        "outputId": "580f5dd9-d819-454c-bb88-fb1a589556f4"
      },
      "execution_count": 47,
      "outputs": [
        {
          "output_type": "stream",
          "name": "stdout",
          "text": [
            "-6\n"
          ]
        }
      ]
    },
    {
      "cell_type": "markdown",
      "source": [
        "\n",
        "* ***LEFT SHIFT('<<')*** :  Shifts bits to the left by the specified number of positions.\n",
        "\n",
        "\n"
      ],
      "metadata": {
        "id": "sCriYS_uY5mE"
      }
    },
    {
      "cell_type": "code",
      "source": [
        "a = 5\n",
        "result = a << 1\n",
        "print(result)\n"
      ],
      "metadata": {
        "colab": {
          "base_uri": "https://localhost:8080/"
        },
        "id": "69Hmni1MZRFX",
        "outputId": "78a5637a-67cf-4ebf-9620-2c53b19e9cd5"
      },
      "execution_count": 46,
      "outputs": [
        {
          "output_type": "stream",
          "name": "stdout",
          "text": [
            "10\n"
          ]
        }
      ]
    },
    {
      "cell_type": "markdown",
      "source": [
        "\n",
        "* ***RIGHT SHIFT('>>')*** : Shifts bits to the right by the specified number of positions.\n",
        "\n"
      ],
      "metadata": {
        "id": "m9iraNtSZqQ3"
      }
    },
    {
      "cell_type": "code",
      "source": [
        "a = 5\n",
        "result = a >> 1\n",
        "print(result)\n"
      ],
      "metadata": {
        "colab": {
          "base_uri": "https://localhost:8080/"
        },
        "id": "5rNtdkgqa93H",
        "outputId": "d9044d36-3be5-4468-febe-e14557912030"
      },
      "execution_count": 45,
      "outputs": [
        {
          "output_type": "stream",
          "name": "stdout",
          "text": [
            "2\n"
          ]
        }
      ]
    },
    {
      "cell_type": "markdown",
      "source": [
        "##**5.Assignment Operators**\n",
        "###Variable values are assigned using assignment operators, which are frequently combined with other operations.\n",
        "\n",
        "* ***Simple Assignment ('=')***\n",
        "\n",
        "\n"
      ],
      "metadata": {
        "id": "YKQkwPC5bCZs"
      }
    },
    {
      "cell_type": "code",
      "source": [
        "a = 5\n",
        "print(a)\n"
      ],
      "metadata": {
        "colab": {
          "base_uri": "https://localhost:8080/"
        },
        "id": "kseucrAycIka",
        "outputId": "382f99ce-6155-4bbe-ccd7-80b82af1d152"
      },
      "execution_count": 19,
      "outputs": [
        {
          "output_type": "stream",
          "name": "stdout",
          "text": [
            "5\n"
          ]
        }
      ]
    },
    {
      "cell_type": "markdown",
      "source": [
        "\n",
        "* ***Add and Assign ('+=')***\n",
        "\n"
      ],
      "metadata": {
        "id": "8gf-UjUbcPEo"
      }
    },
    {
      "cell_type": "code",
      "source": [
        "a = 8\n",
        "a += 3\n",
        "print(a)\n"
      ],
      "metadata": {
        "colab": {
          "base_uri": "https://localhost:8080/"
        },
        "id": "oZboWCFtcf44",
        "outputId": "150711bc-ffcd-4ac6-dd91-b40004f411cd"
      },
      "execution_count": 20,
      "outputs": [
        {
          "output_type": "stream",
          "name": "stdout",
          "text": [
            "11\n"
          ]
        }
      ]
    },
    {
      "cell_type": "markdown",
      "source": [
        "\n",
        "* ***Subtract and Assign ('-=')***\n",
        "\n",
        "\n"
      ],
      "metadata": {
        "id": "-E7e3kpbc07O"
      }
    },
    {
      "cell_type": "code",
      "source": [
        "a = 55\n",
        "a -= 28\n",
        "print(a)\n"
      ],
      "metadata": {
        "colab": {
          "base_uri": "https://localhost:8080/"
        },
        "id": "-hHtQlOhdFfL",
        "outputId": "19e4f771-429f-494f-bc86-b97d74881af0"
      },
      "execution_count": 21,
      "outputs": [
        {
          "output_type": "stream",
          "name": "stdout",
          "text": [
            "27\n"
          ]
        }
      ]
    },
    {
      "cell_type": "markdown",
      "source": [
        "\n",
        "* ***Multiply and Assign (' *=')***\n",
        "\n",
        "\n"
      ],
      "metadata": {
        "id": "vTc1VXfVdfyd"
      }
    },
    {
      "cell_type": "code",
      "source": [
        "a = 40\n",
        "a *= 2\n",
        "print(a)\n"
      ],
      "metadata": {
        "colab": {
          "base_uri": "https://localhost:8080/"
        },
        "id": "QGbNiIZzd1iZ",
        "outputId": "d8ce7260-6958-46fd-a3a3-a99f6a8323cb"
      },
      "execution_count": 22,
      "outputs": [
        {
          "output_type": "stream",
          "name": "stdout",
          "text": [
            "80\n"
          ]
        }
      ]
    },
    {
      "cell_type": "markdown",
      "source": [
        "\n",
        "* ***Divide and Assign ('/=')***\n",
        "\n"
      ],
      "metadata": {
        "id": "UqZVaKnsd9lR"
      }
    },
    {
      "cell_type": "code",
      "source": [
        "a = 10\n",
        "a /= 2\n",
        "print(a)\n"
      ],
      "metadata": {
        "colab": {
          "base_uri": "https://localhost:8080/"
        },
        "id": "kVO8m480eUTI",
        "outputId": "a21feae5-a8c6-4e39-9e49-309887fcfbf2"
      },
      "execution_count": 23,
      "outputs": [
        {
          "output_type": "stream",
          "name": "stdout",
          "text": [
            "5.0\n"
          ]
        }
      ]
    },
    {
      "cell_type": "markdown",
      "source": [
        "##**6.Identity Opeators**\n",
        "###Identity operators compare the memory locations of two objects.\n",
        "\n",
        "* ***'is'*** : Returns 'True' if the operands refer to the same object.\n",
        "\n"
      ],
      "metadata": {
        "id": "WePOzbGmekIY"
      }
    },
    {
      "cell_type": "code",
      "source": [
        "a = [1, 2, 3]\n",
        "b = a\n",
        "result = a is b\n",
        "print(result)\n"
      ],
      "metadata": {
        "colab": {
          "base_uri": "https://localhost:8080/"
        },
        "id": "XKdIzARAflFm",
        "outputId": "972c2818-913d-42b3-e907-91596d9984ae"
      },
      "execution_count": 59,
      "outputs": [
        {
          "output_type": "stream",
          "name": "stdout",
          "text": [
            "True\n"
          ]
        }
      ]
    },
    {
      "cell_type": "markdown",
      "source": [
        "\n",
        "* ***'is not'*** : Returns 'True' if the operands do not refer to the same object.\n",
        "\n",
        "\n"
      ],
      "metadata": {
        "id": "1MlKfb_DfyrG"
      }
    },
    {
      "cell_type": "code",
      "source": [
        "a = [1, 2, 3]\n",
        "b = [1, 2, 3]\n",
        "result = a is not b\n",
        "print(result)\n"
      ],
      "metadata": {
        "colab": {
          "base_uri": "https://localhost:8080/"
        },
        "id": "ymRZoqYdgJ9a",
        "outputId": "279f30d8-df8e-45e1-88f8-4d75f9a17c09"
      },
      "execution_count": 33,
      "outputs": [
        {
          "output_type": "stream",
          "name": "stdout",
          "text": [
            "True\n"
          ]
        }
      ]
    },
    {
      "cell_type": "markdown",
      "source": [
        "##**7.Membership Operators**\n",
        "###Membership operators are used to test if a sequence contains a certain element.\n",
        "\n",
        "* ***'in'*** :  Returns 'True' if the element is found in the sequence.\n",
        "\n"
      ],
      "metadata": {
        "id": "lB2rKxMCgbWz"
      }
    },
    {
      "cell_type": "code",
      "source": [
        "a = [1, 2, 3, 4]\n",
        "result = 3 in a\n",
        "print(result)\n"
      ],
      "metadata": {
        "colab": {
          "base_uri": "https://localhost:8080/"
        },
        "id": "P7DB6MOMhjD9",
        "outputId": "8b40ce4c-37f4-498f-faa7-42476d9c9160"
      },
      "execution_count": 61,
      "outputs": [
        {
          "output_type": "stream",
          "name": "stdout",
          "text": [
            "True\n"
          ]
        }
      ]
    },
    {
      "cell_type": "markdown",
      "source": [
        "\n",
        "* ***'not in'*** :  Returns 'True' if the element is not found in the sequence.\n",
        "\n",
        "\n"
      ],
      "metadata": {
        "id": "epNASO1zh2YS"
      }
    },
    {
      "cell_type": "code",
      "source": [
        "a = [1, 2, 3, 4]\n",
        "result = 5 not in a\n",
        "print(result)\n"
      ],
      "metadata": {
        "colab": {
          "base_uri": "https://localhost:8080/"
        },
        "id": "bFS-jOfjiWJB",
        "outputId": "f65cb258-017a-4dea-99fd-fbf1ebf2120e"
      },
      "execution_count": 49,
      "outputs": [
        {
          "output_type": "stream",
          "name": "stdout",
          "text": [
            "True\n"
          ]
        }
      ]
    },
    {
      "cell_type": "markdown",
      "source": [
        "##**8.Special Operators**\n",
        "\n",
        "* ***Ternary (Conditional) Operator***\n",
        " * Syntax: **'value_if_true if condition else value_if_false'**\n",
        "\n",
        "\n",
        "\n",
        "\n",
        "\n",
        "\n",
        "\n"
      ],
      "metadata": {
        "id": "MPc0wJKhib74"
      }
    },
    {
      "cell_type": "code",
      "source": [
        "age = 22\n",
        "eligibility = \"Eligible\" if age >= 18 else \"Not eligible\"\n",
        "print(eligibility)\n"
      ],
      "metadata": {
        "colab": {
          "base_uri": "https://localhost:8080/"
        },
        "id": "w9g09bN4kFpq",
        "outputId": "ba818000-69c2-4162-e544-92cd24906174"
      },
      "execution_count": 65,
      "outputs": [
        {
          "output_type": "stream",
          "name": "stdout",
          "text": [
            "Eligible\n"
          ]
        }
      ]
    },
    {
      "cell_type": "code",
      "source": [
        "age = 17\n",
        "eligibility = \"Eligible\" if age >= 18 else \"Not eligible\"\n",
        "print(eligibility)\n"
      ],
      "metadata": {
        "colab": {
          "base_uri": "https://localhost:8080/"
        },
        "id": "Ab754e4YkYe3",
        "outputId": "6a1b8d40-1a7d-4263-adfd-7fcf798d59f8"
      },
      "execution_count": 66,
      "outputs": [
        {
          "output_type": "stream",
          "name": "stdout",
          "text": [
            "Not eligible\n"
          ]
        }
      ]
    },
    {
      "cell_type": "markdown",
      "source": [
        "#Q5.Explain the concept of type casting in Python with examples.\n",
        "\n",
        "##ANS:In Python, the process of transforming one data type into another is called type casting. This comes in very handy when you need to make sure a variable is the right type for an operation or when you need to run operations on variables of multiple types. Python has a number of built-in functions that make type casting easier.\n",
        "##Type casting can be done in two ways:\n",
        "\n",
        "***1.Implicit Type Casting(Automatic)***\n",
        "\n",
        "***2.   Explicit Type Casting(Manual)***\n",
        "\n",
        "##**1.IMPLICIT TYPE CASTING(Automatic)**\n",
        "####In implicit type casting, Python automatically converts one data type to another without any explicit instruction from the programmer. This usually happens when you perform operations between different types, and Python tries to avoid data loss by converting to a compatible data type.\n",
        "####EXAMPLE OF IMPLICIT TYPE CASTING:\n"
      ],
      "metadata": {
        "id": "oPB6Ft6pkpW6"
      }
    },
    {
      "cell_type": "code",
      "source": [
        "a = 6\n",
        "b = 2.5\n",
        "\n",
        "result = a + b\n",
        "print(result)\n",
        "print(type(result))\n"
      ],
      "metadata": {
        "colab": {
          "base_uri": "https://localhost:8080/"
        },
        "id": "wlp9WGylor0F",
        "outputId": "9118037f-ec4f-466a-d0a4-09af889893de"
      },
      "execution_count": 44,
      "outputs": [
        {
          "output_type": "stream",
          "name": "stdout",
          "text": [
            "8.5\n",
            "<class 'float'>\n"
          ]
        }
      ]
    },
    {
      "cell_type": "markdown",
      "source": [
        "######Explanation: In this example, Python implicitly converts the integer **'a'** to a float to perform the addition with the float **'b'**. The result is a float."
      ],
      "metadata": {
        "id": "2or8-fCgo8Y4"
      }
    },
    {
      "cell_type": "markdown",
      "source": [
        "##**2.EXPLICIT TYPE CASTING(Manual)**\n",
        "When you manually change a data type using one of Python's built-in methods to another, this is known as explicit type casting. This is frequently required when you want to guarantee a particular type or when Python is unable to carry out the conversion automatically.\n",
        "\n",
        "#####***Common Functions for Explicit Type Casting***\n",
        "\n",
        "* **'int()'** : Converts a value to an integer.\n",
        "* **'float()'** : Converts a value to a float.\n",
        "* **'str()'** : Converts a value to a string.\n",
        "* **'list()'** : Converts a value (such as a tuple or string) to a list.\n",
        "* **'tuple()'** : Converts a value (such as a list or string) to a tuple.\n",
        "* **'set()'** : Converts a value (such as a list or tuple) to a set.\n",
        "\n",
        "####EXAMPLES OF EXPLICIT TYPE CASTING:\n",
        "* Integer to float:\n",
        "\n",
        "\n",
        "\n",
        "\n",
        "\n",
        "\n"
      ],
      "metadata": {
        "id": "qUE_V1JopN1g"
      }
    },
    {
      "cell_type": "code",
      "source": [
        "a = 10\n",
        "b = float(a)\n",
        "print(b)\n",
        "print(type(b))\n"
      ],
      "metadata": {
        "colab": {
          "base_uri": "https://localhost:8080/"
        },
        "id": "479Pi-EhvGYZ",
        "outputId": "43ca9e56-df3c-42c0-85d9-984b430946e2"
      },
      "execution_count": 31,
      "outputs": [
        {
          "output_type": "stream",
          "name": "stdout",
          "text": [
            "10.0\n",
            "<class 'float'>\n"
          ]
        }
      ]
    },
    {
      "cell_type": "markdown",
      "source": [
        "\n",
        "\n",
        "* Float to integer:\n",
        "\n",
        "\n"
      ],
      "metadata": {
        "id": "-MYMcXvovSCi"
      }
    },
    {
      "cell_type": "code",
      "source": [
        "a = 8.7\n",
        "b = int(a)\n",
        "print(b)\n",
        "print(type(b))\n"
      ],
      "metadata": {
        "colab": {
          "base_uri": "https://localhost:8080/"
        },
        "id": "Nx2toJx1vai9",
        "outputId": "0385ba15-bd7a-4bc8-daee-f9ef655e4e08"
      },
      "execution_count": 42,
      "outputs": [
        {
          "output_type": "stream",
          "name": "stdout",
          "text": [
            "8\n",
            "<class 'int'>\n"
          ]
        }
      ]
    },
    {
      "cell_type": "markdown",
      "source": [
        "######Explanation: When converting a float to an integer using **'int()'**, Python truncates the decimal part and keeps only the integer portion."
      ],
      "metadata": {
        "id": "RzA9JDiDwMRc"
      }
    },
    {
      "cell_type": "markdown",
      "source": [
        "\n",
        "* Integer to String:\n",
        "\n",
        "\n"
      ],
      "metadata": {
        "id": "lpu0sakgwb18"
      }
    },
    {
      "cell_type": "code",
      "source": [
        "a = 42\n",
        "b = str(a)\n",
        "print(b)\n",
        "print(type(b))\n"
      ],
      "metadata": {
        "colab": {
          "base_uri": "https://localhost:8080/"
        },
        "id": "OT2rg6EQwuhg",
        "outputId": "20b71986-93dd-4e2e-cfa8-bfc0fbd5f4b5"
      },
      "execution_count": 41,
      "outputs": [
        {
          "output_type": "stream",
          "name": "stdout",
          "text": [
            "42\n",
            "<class 'str'>\n"
          ]
        }
      ]
    },
    {
      "cell_type": "markdown",
      "source": [
        "######Explanation: Converting an integer to a string is useful when you need to concatenate numbers with text."
      ],
      "metadata": {
        "id": "5veE7GWDw6tF"
      }
    },
    {
      "cell_type": "markdown",
      "source": [
        "\n",
        "* String to Integer:\n",
        "\n",
        "\n",
        "\n"
      ],
      "metadata": {
        "id": "JsRpN3NHxHvA"
      }
    },
    {
      "cell_type": "code",
      "source": [
        "a = \"123\"\n",
        "b = int(a)\n",
        "print(b)\n",
        "print(type(b))\n"
      ],
      "metadata": {
        "colab": {
          "base_uri": "https://localhost:8080/"
        },
        "id": "GHb82kNTxRjm",
        "outputId": "a88cf6a6-ac9e-41fe-a6ed-d03a73d7bb75"
      },
      "execution_count": 38,
      "outputs": [
        {
          "output_type": "stream",
          "name": "stdout",
          "text": [
            "123\n",
            "<class 'int'>\n"
          ]
        }
      ]
    },
    {
      "cell_type": "markdown",
      "source": [
        "######Explanation: You can convert a string that represents a numeric value to an integer, enabling arithmetic operations on the result."
      ],
      "metadata": {
        "id": "8UPEpoFPxZHs"
      }
    },
    {
      "cell_type": "markdown",
      "source": [
        "\n",
        "* List to Tuple:\n",
        "\n",
        "\n"
      ],
      "metadata": {
        "id": "Q7EjL24qxl9q"
      }
    },
    {
      "cell_type": "code",
      "source": [
        "a = [1, 2, 3]\n",
        "b = tuple(a)\n",
        "print(b)\n",
        "print(type(b))\n"
      ],
      "metadata": {
        "colab": {
          "base_uri": "https://localhost:8080/"
        },
        "id": "aWrQKDgmyNwX",
        "outputId": "4b845bca-982a-4a50-89e8-9ecbca351a22"
      },
      "execution_count": 39,
      "outputs": [
        {
          "output_type": "stream",
          "name": "stdout",
          "text": [
            "(1, 2, 3)\n",
            "<class 'tuple'>\n"
          ]
        }
      ]
    },
    {
      "cell_type": "markdown",
      "source": [
        "######Explanation: This conversion is helpful when you want to ensure that the sequence of values cannot be altered, as tuples are immutable."
      ],
      "metadata": {
        "id": "u7zPSZ3kyQog"
      }
    },
    {
      "cell_type": "markdown",
      "source": [
        "\n",
        "* String to list:\n",
        "\n",
        "\n"
      ],
      "metadata": {
        "id": "HLOoSgpZyXMn"
      }
    },
    {
      "cell_type": "code",
      "source": [
        "a = \"hello\"\n",
        "b = list(a)\n",
        "print(b)\n",
        "print(type(b))\n"
      ],
      "metadata": {
        "colab": {
          "base_uri": "https://localhost:8080/"
        },
        "id": "emzGXmwiyoCi",
        "outputId": "4792ef6f-42ab-4167-ff2b-24790cba228e"
      },
      "execution_count": 75,
      "outputs": [
        {
          "output_type": "stream",
          "name": "stdout",
          "text": [
            "['h', 'e', 'l', 'l', 'o']\n",
            "<class 'list'>\n"
          ]
        }
      ]
    },
    {
      "cell_type": "markdown",
      "source": [
        "######Explanation: Converting a string to a list separates each character of the string into individual list elements."
      ],
      "metadata": {
        "id": "eyc_c62myvEt"
      }
    },
    {
      "cell_type": "markdown",
      "source": [
        "#Q6.How do conditional statements work in Python? Illustrate with examples.\n",
        "\n",
        "##ANS:In Python, conditional statements are used to run particular code blocks according to the truth value of a given condition. These statements provide your software the ability to decide what to do and how to do it based on the inputs and data it processes.\n",
        "\n",
        "###Python provides three main types of conditional statements:\n",
        "\n",
        "1.   ***'if' statement***\n",
        "\n",
        "1.   ***'if-else' statement***\n",
        "2.   ***'if-elif-else' statement***\n",
        "\n",
        "##**1.'if' Statement**\n",
        "The most basic type of conditional statement is the ***'if'*** statement. It assesses a condition, which is an expression with a 'True' or 'False' response. The code block enclosed by the ***'if'*** statement is run if the condition is 'True'. The code block is skipped in the event that the condition is 'False'.\n",
        "\n",
        "####Example of 'if' statement\n",
        "\n"
      ],
      "metadata": {
        "id": "E8-kJCxG5yND"
      }
    },
    {
      "cell_type": "code",
      "source": [
        "age = 18\n",
        "\n",
        "if age >= 18:\n",
        "    print(\"You are eligible to vote.\")\n"
      ],
      "metadata": {
        "colab": {
          "base_uri": "https://localhost:8080/"
        },
        "id": "fDZKIszUAyV-",
        "outputId": "960d5b27-723d-4686-f8c4-4dae60038828"
      },
      "execution_count": 1,
      "outputs": [
        {
          "output_type": "stream",
          "name": "stdout",
          "text": [
            "You are eligible to vote.\n"
          ]
        }
      ]
    },
    {
      "cell_type": "markdown",
      "source": [
        "Explanation: In this example, the condition checks if the value of **'age'** is greater than or equal to 18. Since the condition is 'True', the program prints \"You are eligible to vote.\""
      ],
      "metadata": {
        "id": "6UaB5k1J6F3a"
      }
    },
    {
      "cell_type": "markdown",
      "source": [
        "##**2.'if-else' statement**\n",
        "In the event that the condition is False, the ***'if-else'*** statement adds an additional action. The code block under ***'if'*** is performed if the condition is 'True'. The code block under ***'else'*** is run if the condition is 'False'.\n",
        "\n",
        "####Example of 'if-else' statement"
      ],
      "metadata": {
        "id": "UT08mbfEA_6_"
      }
    },
    {
      "cell_type": "code",
      "source": [
        "age = 17\n",
        "\n",
        "if age >= 18:\n",
        "    print(\"You are eligible to vote.\")\n",
        "else:\n",
        "    print(\"You are not eligible to vote.\")\n"
      ],
      "metadata": {
        "colab": {
          "base_uri": "https://localhost:8080/"
        },
        "id": "bZaR1UPuC9pv",
        "outputId": "483f69fc-fc3c-48c0-8ff3-4357d3a2ef46"
      },
      "execution_count": 50,
      "outputs": [
        {
          "output_type": "stream",
          "name": "stdout",
          "text": [
            "You are not eligible to vote.\n"
          ]
        }
      ]
    },
    {
      "cell_type": "markdown",
      "source": [
        "Explanation: Here, the condition checks if **'age'** is greater than or equal to 18. Since the condition is 'False', the program executes the code under ***'else'*** and prints \"You are not eligible to vote.\""
      ],
      "metadata": {
        "id": "70D4yq4FDLw7"
      }
    },
    {
      "cell_type": "markdown",
      "source": [
        "##**3.'if-elif-else' statement**\n",
        "When there are several conditions to evaluate, the ***'if-elif-else'*** statement is employed. Every condition is checked sequentially by the software. The related code block is performed and the remaining conditions are ignored if a condition is found to be 'True'. The ***'else'*** code block is run if none of the conditions are 'True'.\n",
        "\n",
        "####Example of 'if-elif-else' statement"
      ],
      "metadata": {
        "id": "iX-3UXI4DgIb"
      }
    },
    {
      "cell_type": "code",
      "source": [
        "marks = 92\n",
        "\n",
        "if marks >= 90:\n",
        "    print(\"Grade: A\")\n",
        "elif marks >= 80:\n",
        "    print(\"Grade: B\")\n",
        "elif marks >= 70:\n",
        "    print(\"Grade: C\")\n",
        "else:\n",
        "    print(\"Grade: D\")\n"
      ],
      "metadata": {
        "colab": {
          "base_uri": "https://localhost:8080/"
        },
        "id": "Hkv9VvwsEwtN",
        "outputId": "84267129-75ce-4325-8d6d-055e67bc1391"
      },
      "execution_count": 51,
      "outputs": [
        {
          "output_type": "stream",
          "name": "stdout",
          "text": [
            "Grade: A\n"
          ]
        }
      ]
    },
    {
      "cell_type": "markdown",
      "source": [
        "Explanation: In this example, the program checks the value of marks against multiple conditions:\n",
        "\n",
        "*  If 'marks' is 90 or above, it prints \"***Grade: A***\".\n",
        "\n",
        "*  If 'marks' is between 80 and 89, it prints \"***Grade: B*** \".\n",
        "* If 'marks' is between 70 and 79, it prints \"***Grade: C*** \".\n",
        "\n",
        "\n",
        "*  If 'marks' are below 70, it prints \"***Grade: D*** \".\n",
        "\n",
        "Since marks is ***92***, the program prints '***Grade: A*** '.\n",
        "\n"
      ],
      "metadata": {
        "id": "BzLu5oibFAnh"
      }
    },
    {
      "cell_type": "markdown",
      "source": [
        "##**4.Nested 'if' statement**\n",
        "Python creates nested structures by allowing you to stack ***'if'*** statements inside of other ***'if'*** statements. This is helpful when you need to check several conditions in an orderly fashion.\n",
        "\n",
        "####Example of Nested 'if' statement"
      ],
      "metadata": {
        "id": "ilyWqT6wGZfy"
      }
    },
    {
      "cell_type": "code",
      "source": [
        "number = 10\n",
        "\n",
        "if number > 0:\n",
        "    print(\"The number is positive.\")\n",
        "    if number % 2 == 0:\n",
        "        print(\"The number is even.\")\n",
        "    else:\n",
        "        print(\"The number is odd.\")\n",
        "else:\n",
        "    print(\"The number is not positive.\")\n"
      ],
      "metadata": {
        "colab": {
          "base_uri": "https://localhost:8080/"
        },
        "id": "Ainu-SELHZ2W",
        "outputId": "b562016f-de9b-4f2c-b19d-75af54d5f35f"
      },
      "execution_count": 16,
      "outputs": [
        {
          "output_type": "stream",
          "name": "stdout",
          "text": [
            "The number is positive.\n",
            "The number is even.\n"
          ]
        }
      ]
    },
    {
      "cell_type": "markdown",
      "source": [
        "Explanation: In this example:\n",
        "\n",
        "*   The first ***'if'*** statement checks if **'number'** is positive.\n",
        "\n",
        "*   If the number is positive, it enters a nested ***'if'*** structure to check if the number is even or odd.\n",
        "*   If the first condition (**'number > 0'**) is 'False', it prints that the number is not positive.\n",
        "\n",
        "Since number is **10**, the program first prints \"The number is positive\" and then \"The number is even.\"\n"
      ],
      "metadata": {
        "id": "EtW5tPeSHudi"
      }
    },
    {
      "cell_type": "markdown",
      "source": [
        "##**5.Conditional Expressions(Ternary Operator)**\n",
        "A ternary operator can be used in Python to create ***'if-else'*** sentences in a condensed fashion. Simple conditions that can be stated in a single line benefit greatly from this.\n",
        "\n",
        "####Example of Ternary Operator"
      ],
      "metadata": {
        "id": "cijq_Y2LVIS3"
      }
    },
    {
      "cell_type": "code",
      "source": [
        "age = 28\n",
        "status = \"Eligible\" if age >= 18 else \"Not Eligible\"\n",
        "print(status)\n"
      ],
      "metadata": {
        "colab": {
          "base_uri": "https://localhost:8080/"
        },
        "id": "VjgyctEHWbd6",
        "outputId": "7037a00c-4eeb-4fe7-c451-4ddbefbd3a36"
      },
      "execution_count": 17,
      "outputs": [
        {
          "output_type": "stream",
          "name": "stdout",
          "text": [
            "Eligible\n"
          ]
        }
      ]
    },
    {
      "cell_type": "markdown",
      "source": [
        "Explanation: In this example, the ternary operator checks if **'age'** is 18 or above. If 'True', **'status'** is set to \"Eligible\"; otherwise, it is set to \"Not Eligible\". Since **'age'** is 28, the program prints \"Eligible\".\n",
        "\n",
        "Python's conditional statements lay the groundwork for your programs' decision-making. You may make your programs dynamic and responsive to various inputs by controlling the flow of execution depending on various conditions by using the **'if'**, **'if-else'**, and **'if-elif-else'** structures. To write Python code that is both effective and efficient, one must grasp these ideas."
      ],
      "metadata": {
        "id": "sOx9rZOuWm-t"
      }
    },
    {
      "cell_type": "markdown",
      "source": [
        "#Q7.Describe the different types of loops in Python and their use cases with examples.\n",
        "\n",
        "##ANS: Python loops are basic control structures that let you repeat a code block several times.***'For'*** loops and ***'while'*** loops are the two primary forms of loops available in Python. Each has a distinct function and is applied in various contexts.\n",
        "\n",
        "##**1.'for' loops**\n",
        "When executing a piece of code for each element in a sequence (which could be a list, tuple, dictionary, string, or range), the ***'for'*** loop is utilized to iterate over the sequence. When you know ahead of time how many iterations there will be, it is really helpful.\n",
        "\n",
        "####*Syntax*"
      ],
      "metadata": {
        "id": "tOEF0VRiXiTq"
      }
    },
    {
      "cell_type": "code",
      "source": [
        "for variable in sequence:\n",
        "\n"
      ],
      "metadata": {
        "id": "wgZaIg3DaP3z"
      },
      "execution_count": null,
      "outputs": []
    },
    {
      "cell_type": "markdown",
      "source": [
        "###***Example 1*** : Iterating Over a list"
      ],
      "metadata": {
        "id": "hu1Jp6DZaTgp"
      }
    },
    {
      "cell_type": "code",
      "source": [
        "fruits = [\"apple\", \"banana\", \"cherry\"]\n",
        "\n",
        "for fruit in fruits:\n",
        "    print(fruit)\n"
      ],
      "metadata": {
        "colab": {
          "base_uri": "https://localhost:8080/"
        },
        "id": "BiVWLz76a3bB",
        "outputId": "2ca4c5ea-3ad2-43a1-fc2f-902cae04a622"
      },
      "execution_count": 1,
      "outputs": [
        {
          "output_type": "stream",
          "name": "stdout",
          "text": [
            "apple\n",
            "banana\n",
            "cherry\n"
          ]
        }
      ]
    },
    {
      "cell_type": "markdown",
      "source": [
        "Explanation: The ***'for'*** loop iterates over each element in the list **'fruits'**, assigning each element to the variable **'fruit'** and then printing it."
      ],
      "metadata": {
        "id": "GVZya3ThbbE7"
      }
    },
    {
      "cell_type": "markdown",
      "source": [
        "###***Example 2*** :  Using **'range()'** with a **'for'** Loop"
      ],
      "metadata": {
        "id": "JGlXQ631bO7J"
      }
    },
    {
      "cell_type": "code",
      "source": [
        "for i in range(6):\n",
        "    print(i)\n"
      ],
      "metadata": {
        "colab": {
          "base_uri": "https://localhost:8080/"
        },
        "id": "5MbHrG3tcPYZ",
        "outputId": "d18c6dc9-59d8-4f67-e6b6-16441770e6b0"
      },
      "execution_count": 22,
      "outputs": [
        {
          "output_type": "stream",
          "name": "stdout",
          "text": [
            "0\n",
            "1\n",
            "2\n",
            "3\n",
            "4\n",
            "5\n"
          ]
        }
      ]
    },
    {
      "cell_type": "markdown",
      "source": [
        "Explanation: The **'range(6)'** function generates a sequence of numbers from 0 to 5. The **'for'** loop iterates over this sequence, printing each number."
      ],
      "metadata": {
        "id": "2vPA-7Clcale"
      }
    },
    {
      "cell_type": "markdown",
      "source": [
        "##Use Cases for ***'for'*** Loops\n",
        "\n",
        "* *Iterating over elements in a list, tuple, or dictionary*\n",
        "\n",
        "* *Performing an action a specific number of times.*\n",
        "* *Iterating over a sequence of numbers.*\n",
        "*  *Traversing characters in a string.*\n",
        "\n",
        "\n",
        "\n"
      ],
      "metadata": {
        "id": "d8LqzlNLcfoK"
      }
    },
    {
      "cell_type": "markdown",
      "source": [
        "##**2. 'while' Loop**\n",
        "As long as a certain condition is 'True', a block of code is repeatedly executed using the ***'while'*** loop. It's perfect for situations when you want to keep looping until a condition changes, but you're not sure how many times you need to iterate.\n",
        "\n",
        "####*Syntax*"
      ],
      "metadata": {
        "id": "tip2tCrVdsPc"
      }
    },
    {
      "cell_type": "code",
      "source": [
        "while condition:\n",
        "\n"
      ],
      "metadata": {
        "id": "tjVSQCZkepoQ"
      },
      "execution_count": null,
      "outputs": []
    },
    {
      "cell_type": "markdown",
      "source": [
        "###***Example 1*** : Basic **'while'** loop"
      ],
      "metadata": {
        "id": "BnuM22HEeskW"
      }
    },
    {
      "cell_type": "code",
      "source": [
        "count = 0\n",
        "\n",
        "while count < 6:\n",
        "    print(\"Count is:\", count)\n",
        "    count += 1\n"
      ],
      "metadata": {
        "colab": {
          "base_uri": "https://localhost:8080/"
        },
        "id": "5XGF-T83fCmI",
        "outputId": "b1a8ef35-1033-4429-bddb-59b3287c9b26"
      },
      "execution_count": 24,
      "outputs": [
        {
          "output_type": "stream",
          "name": "stdout",
          "text": [
            "Count is: 0\n",
            "Count is: 1\n",
            "Count is: 2\n",
            "Count is: 3\n",
            "Count is: 4\n",
            "Count is: 5\n"
          ]
        }
      ]
    },
    {
      "cell_type": "markdown",
      "source": [
        "Explanation: The ***'while'*** loop continues to execute as long as ***'count'*** is less than 6. Each iteration, ***'count'*** is incremented by 1."
      ],
      "metadata": {
        "id": "qolVl4G4fTO7"
      }
    },
    {
      "cell_type": "markdown",
      "source": [
        "###***Example 2*** : Infinite Loop (With Break Condition)"
      ],
      "metadata": {
        "id": "goaY9edXftTr"
      }
    },
    {
      "cell_type": "code",
      "source": [
        "i = 1\n",
        "\n",
        "while True:\n",
        "    print(\"i =\", i)\n",
        "    i += 1\n",
        "    if i > 8:\n",
        "        break\n"
      ],
      "metadata": {
        "colab": {
          "base_uri": "https://localhost:8080/"
        },
        "id": "sc6VOCQDgBlH",
        "outputId": "29ff0641-e829-4cc5-a046-bbd2166778e6"
      },
      "execution_count": 3,
      "outputs": [
        {
          "output_type": "stream",
          "name": "stdout",
          "text": [
            "i = 1\n",
            "i = 2\n",
            "i = 3\n",
            "i = 4\n",
            "i = 5\n",
            "i = 6\n",
            "i = 7\n",
            "i = 8\n"
          ]
        }
      ]
    },
    {
      "cell_type": "markdown",
      "source": [
        "Explanation: This is an example of an infinite loop using ***'while True'***. The loop will continue to run indefinitely until the ***'break'*** statement is encountered. The loop stops when **'i'** becomes greater than 8."
      ],
      "metadata": {
        "id": "imIKNiyRhWDE"
      }
    },
    {
      "cell_type": "markdown",
      "source": [
        "##Use Cases for ***'while'*** Loops\n",
        "\n",
        "* *Repeating an action until a certain condition is met.*\n",
        "\n",
        "* *Implementing loops where the number of iterations is not known beforehand.*\n",
        "*   *Creating infinite loops with controlled exit conditions.*\n",
        "*  *Waiting for an external condition to change before proceeding*\n",
        "\n",
        "\n",
        "\n"
      ],
      "metadata": {
        "id": "JbjyDj1AiI6S"
      }
    },
    {
      "cell_type": "markdown",
      "source": [
        "##**3.Nested Loops**\n",
        "You can nest loops inside of one another using the ***'for'*** and ***'while'*** looping constructs. When working with multi-dimensional data structures or carrying out intricate iterations, this is helpful.\n",
        "\n",
        "####Example of Nested **'for'** Loops"
      ],
      "metadata": {
        "id": "bIMMZ-mWjXIC"
      }
    },
    {
      "cell_type": "code",
      "source": [
        "matrix = [\n",
        "    [1, 2, 3],\n",
        "    [4, 5, 6],\n",
        "    [7, 8, 9]\n",
        "]\n",
        "for row in matrix:\n",
        "    for num in row:\n",
        "        print(num, end=\" \")\n",
        "    print()\n",
        "\n"
      ],
      "metadata": {
        "colab": {
          "base_uri": "https://localhost:8080/"
        },
        "id": "gBGNG2X2knBK",
        "outputId": "f1a1d7ed-b70e-4b09-96cf-d0eddb16a683"
      },
      "execution_count": 30,
      "outputs": [
        {
          "output_type": "stream",
          "name": "stdout",
          "text": [
            "1 2 3 \n",
            "4 5 6 \n",
            "7 8 9 \n"
          ]
        }
      ]
    },
    {
      "cell_type": "markdown",
      "source": [
        "Explanation: This nested loop iterates over each row in the matrix, and within each row, it iterates over each number."
      ],
      "metadata": {
        "id": "h1XIYZ9mk6YX"
      }
    },
    {
      "cell_type": "markdown",
      "source": [
        "####Example of Nested **'while'** and **'for'** loops\n"
      ],
      "metadata": {
        "id": "4G8QiY9nlTJj"
      }
    },
    {
      "cell_type": "code",
      "source": [
        "i = 1\n",
        "\n",
        "while i <= 3:\n",
        "    for j in range(1, 4):\n",
        "        print(f\"i = {i}, j = {j}\")\n",
        "    i += 1\n"
      ],
      "metadata": {
        "colab": {
          "base_uri": "https://localhost:8080/"
        },
        "id": "ozRzvnlMlsyR",
        "outputId": "00ac7822-2d73-4cc8-a770-faf6ab9a462c"
      },
      "execution_count": 35,
      "outputs": [
        {
          "output_type": "stream",
          "name": "stdout",
          "text": [
            "i = 1, j = 1\n",
            "i = 1, j = 2\n",
            "i = 1, j = 3\n",
            "i = 2, j = 1\n",
            "i = 2, j = 2\n",
            "i = 2, j = 3\n",
            "i = 3, j = 1\n",
            "i = 3, j = 2\n",
            "i = 3, j = 3\n"
          ]
        }
      ]
    },
    {
      "cell_type": "markdown",
      "source": [
        "Explanation: The ***'while'*** loop controls the outer iteration, while the ***'for'*** loop handles the inner iteration."
      ],
      "metadata": {
        "id": "Kp7kZuoAl5hl"
      }
    },
    {
      "cell_type": "markdown",
      "source": [
        "##**4.Control Statements in Loops**\n",
        "Python provides control statements like 'break', 'continue', and 'pass' to control the flow of loops:\n",
        "*  ***break*** : *Exits the loop prematurely.*\n",
        "* ***continue*** : *Skips the rest of the loop and proceeds with the next iteration.*\n",
        "*  ***pass*** : *Does nothing; it's a placeholder.*\n",
        "\n",
        "####Example Using **'continue'**"
      ],
      "metadata": {
        "id": "TBWt8aCDmG_f"
      }
    },
    {
      "cell_type": "code",
      "source": [
        "for i in range(5):\n",
        "    if i == 3:\n",
        "        continue\n",
        "    print(i)\n"
      ],
      "metadata": {
        "colab": {
          "base_uri": "https://localhost:8080/"
        },
        "id": "sJkNQxg9oSxR",
        "outputId": "1ce0568f-eb35-44ea-d39c-7c67ffcce853"
      },
      "execution_count": 34,
      "outputs": [
        {
          "output_type": "stream",
          "name": "stdout",
          "text": [
            "0\n",
            "1\n",
            "2\n",
            "4\n"
          ]
        }
      ]
    },
    {
      "cell_type": "markdown",
      "source": [
        "Explanation: When ***'i'*** equals 3, the ***'continue'*** statement is executed, which skips the current iteration.\n",
        "\n",
        "Python loops are effective tools for processing data sequences and automating repetitive activities. The ***'while'*** loop works well in scenarios where the outcome is dependent on dynamic variables, whereas the ***'for'*** loop is most appropriate for iterating over a predetermined sequence or range. Writing excellent Python programs requires knowing how to utilize these loops and control statements like ***'break'*** and ***'continue.'***"
      ],
      "metadata": {
        "id": "QGSYY6JNosUH"
      }
    }
  ]
}
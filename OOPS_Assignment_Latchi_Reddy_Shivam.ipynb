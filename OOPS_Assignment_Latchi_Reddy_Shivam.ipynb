{
  "nbformat": 4,
  "nbformat_minor": 0,
  "metadata": {
    "colab": {
      "provenance": []
    },
    "kernelspec": {
      "name": "python3",
      "display_name": "Python 3"
    },
    "language_info": {
      "name": "python"
    }
  },
  "cells": [
    {
      "cell_type": "markdown",
      "source": [
        "#Q1.What are the five key concepts of Object-Oriented Programming(OOP)?\n",
        "\n",
        "#ANS: Object-Oriented Programming (OOP) is a programming paradigm that revolves around the concept of \"objects,\" which are instances of classes. Here are the five key concepts of OOP explained in a clear, original way:\n",
        "\n",
        "##1. **Encapsulation**\n",
        "Encapsulation is the bundling of data (attributes) and methods (functions) that operate on that data into a single unit, called a class. It restricts direct access to some of the object's components, usually by marking certain variables or methods as private. This ensures that the internal workings of an object are hidden from the outside, only allowing controlled interaction through public methods, thus protecting the object's integrity.\n",
        "\n",
        "##2. **Abstraction**\n",
        "Abstraction simplifies complex systems by modeling classes based on the essential characteristics relevant to the system, hiding the unnecessary details. It allows the user to interact with objects without knowing the full complexity of how they work internally. In essence, abstraction focuses on “what” an object does rather than “how” it does it, making the design more manageable and the code more user-friendly.\n",
        "\n",
        "##3. **Inheritance**\n",
        "Inheritance allows a new class, called a subclass or derived class, to inherit properties and behaviors (methods) from an existing class, known as the superclass or base class. This concept promotes reusability, as common functionality can be defined in one place and then extended or modified in other classes without duplicating code. Inheritance also fosters a hierarchical relationship between classes.\n",
        "\n",
        "##4. **Polymorphism**\n",
        "Polymorphism allows objects of different classes to be treated as objects of a common superclass. It enables a single function or method to work in different ways depending on the object it is acting upon. There are two types of polymorphism: compile-time (method overloading) and runtime (method overriding). This flexibility makes code more dynamic and easier to extend or modify without altering the overall structure.\n",
        "\n",
        "##5. **Classes and Objects**\n",
        "The foundational concepts of OOP are classes and objects. A class is a blueprint that defines the structure and behavior (attributes and methods) of objects. An object is an instance of a class and represents a concrete entity in the program. Classes allow for the creation of multiple objects with similar characteristics, but each object can maintain its own state. This idea of creating and interacting with objects is central to the object-oriented design.\n",
        "\n",
        "Together, these concepts form the backbone of object-oriented programming, making it a powerful and modular way to develop software systems."
      ],
      "metadata": {
        "id": "NPY0RB2W6hmJ"
      }
    },
    {
      "cell_type": "markdown",
      "source": [
        "#Q2.Write a Python class for a 'Car' with attributes for 'make', 'model', and 'year'.\n",
        "#ANS: Here's a Python class for a ***'Car'*** that includes the attributes ***'make'***, ***'model'***, and ***'year'***, along with a method to display the car's information:"
      ],
      "metadata": {
        "id": "qCge0sZpY9FY"
      }
    },
    {
      "cell_type": "code",
      "execution_count": null,
      "metadata": {
        "colab": {
          "base_uri": "https://localhost:8080/"
        },
        "id": "2rwyoZi_kSme",
        "outputId": "3d50ceb0-04a6-4fc3-c7c9-227d03deccea"
      },
      "outputs": [
        {
          "output_type": "stream",
          "name": "stdout",
          "text": [
            "Car Information: 2020 Toyota Corolla\n"
          ]
        }
      ],
      "source": [
        "class Car:\n",
        "    def __init__(self, make, model, year):\n",
        "        # Initialize the attributes for make, model, and year\n",
        "        self.make = make\n",
        "        self.model = model\n",
        "        self.year = year\n",
        "\n",
        "    def display_info(self):\n",
        "        # Method to display the car's details in a formatted way\n",
        "        print(f\"Car Information: {self.year} {self.make} {self.model}\")\n",
        "\n",
        "# Example of creating a Car object and displaying its info\n",
        "my_car = Car(\"Toyota\", \"Corolla\", 2020)\n",
        "my_car.display_info()\n"
      ]
    },
    {
      "cell_type": "markdown",
      "source": [
        "##***Explanation*** :\n",
        "\n",
        "*   __init__ method: This constructor method initializes the ***'make'***, ***'model'***, and ***'year'*** attributes when a new ***'Car'*** object is created.\n",
        "* **display_info** method: This method prints the car's information in a formatted string, displaying the ***'year'***, ***'make'***, and ***'model'***.\n",
        "\n",
        "* **Object creation**: The example demonstrates creating an object ***my_car*** using the ***Car*** class and then calling the ***display_info*** method to show the car's details.\n",
        "\n",
        "\n",
        "\n"
      ],
      "metadata": {
        "id": "NHCktdKMZ_hu"
      }
    },
    {
      "cell_type": "markdown",
      "source": [
        "#Q3.Explain the difference between instance methods and class methods. Provide an example of each.\n",
        "\n",
        "#ANS: Difference Between Instance Methods and Class Methods\n",
        "\n",
        "##1.***Instance methods*** :\n",
        "\n",
        "*   Instance methods are tied to a specific object (instance) of a class.\n",
        "\n",
        "*  They can access and modify the instance's attributes, as well as call other instance methods.\n",
        "*  These methods require the **self** parameter, which refers to the instance calling the method.\n",
        "\n",
        "##2.***Class methods*** :\n",
        "\n",
        "*   Class methods are bound to the class itself, not to any particular object.\n",
        "\n",
        "*  They can access and modify class-level attributes (shared by all instances), but not instance-specific data unless passed explicitly.\n",
        "*  These methods use **cls** as the first parameter (referring to the class itself) and are marked with the **@classmethod** decorator.\n",
        "\n",
        "###***Example*** :"
      ],
      "metadata": {
        "id": "9k4qQC-wbTAQ"
      }
    },
    {
      "cell_type": "code",
      "source": [
        "class MyClass:\n",
        "    # Class attribute (shared by all instances)\n",
        "    class_variable = \"Class Level Attribute\"\n",
        "\n",
        "    def __init__(self, instance_variable):\n",
        "        # Instance attribute (unique to each object)\n",
        "        self.instance_variable = instance_variable\n",
        "\n",
        "    # Instance method\n",
        "    def instance_method(self):\n",
        "        print(f\"Instance Method: Instance Variable = {self.instance_variable}\")\n",
        "        print(f\"Instance Method: Class Variable = {MyClass.class_variable}\")\n",
        "\n",
        "    # Class method\n",
        "    @classmethod\n",
        "    def class_method(cls):\n",
        "        print(f\"Class Method: Class Variable = {cls.class_variable}\")\n",
        "\n",
        "# Example Usage:\n",
        "# Creating an object of MyClass\n",
        "obj = MyClass(\"Instance Level Attribute\")\n",
        "\n",
        "# Calling instance method (works with object)\n",
        "obj.instance_method()\n",
        "\n",
        "# Calling class method (works with class or object)\n",
        "MyClass.class_method()\n",
        "obj.class_method()  # Class methods can also be called through an instance\n"
      ],
      "metadata": {
        "colab": {
          "base_uri": "https://localhost:8080/"
        },
        "id": "vOg2P-Kbk1iF",
        "outputId": "14f97c14-c544-431e-a0c9-adc1864f9325"
      },
      "execution_count": null,
      "outputs": [
        {
          "output_type": "stream",
          "name": "stdout",
          "text": [
            "Instance Method: Instance Variable = Instance Level Attribute\n",
            "Instance Method: Class Variable = Class Level Attribute\n",
            "Class Method: Class Variable = Class Level Attribute\n",
            "Class Method: Class Variable = Class Level Attribute\n"
          ]
        }
      ]
    },
    {
      "cell_type": "markdown",
      "source": [
        "##***Explanation*** :\n",
        "\n",
        "*  ***Instance method*** :\n",
        "The method **instance_method** accesses both instance **(self.instance_variable)** and class **(MyClass.class_variable)** attributes. It’s tied to the specific instance of ***MyClass*** and is called through an object **(obj.instance_method())**.\n",
        "*  ***Class method*** :\n",
        "The method **class_method**, marked with **@classmethod**, can only access class-level attributes through **cls**. It doesn’t need an instance to be called and can be invoked either via the class **(MyClass.class_method())** or via an object **(obj.class_method())**, but it focuses on class-level data.\n",
        "\n"
      ],
      "metadata": {
        "id": "rmpyu2jcdSv_"
      }
    },
    {
      "cell_type": "markdown",
      "source": [
        "#Q4.How does Python implement method overloading? Give an example.\n",
        "\n",
        "#ANS: In Python, method overloading (the ability to define multiple methods with the same name but different parameters) is not directly supported like in some other programming languages. Instead, Python handles this in a more flexible way using default arguments, ***args**, or ****kwargs** to simulate the behavior of method overloading.\n",
        "\n",
        "#Since Python allows only one method with a given name in a class, the latest defined method will overwrite any previous ones if they share the same name. However, we can mimic method overloading by using:\n",
        "\n",
        "##1.**Defaulter Parameters** : Assign default values to parameters, allowing the method to work with a variable number of arguments.\n",
        "\n",
        "##2.**Variable-Length Arguments** : Use ***args** (non-keyword arguments) and ****kwargs** (keyword arguments) to accept a flexible number of inputs.\n",
        "\n",
        "##***Example*** : Using Default Arguments and ***args** for Methods Overloading"
      ],
      "metadata": {
        "id": "IiKxs7gzfwML"
      }
    },
    {
      "cell_type": "code",
      "source": [
        "class Calculator:\n",
        "    # Simulate method overloading by using default values and *args\n",
        "    def add(self, a=0, b=0, *args):\n",
        "        result = a + b\n",
        "        for num in args:\n",
        "            result += num\n",
        "        return result\n",
        "\n",
        "# Example usage\n",
        "calc = Calculator()\n",
        "\n",
        "# Calling add with two arguments\n",
        "print(calc.add(5, 10))\n",
        "\n",
        "# Calling add with three arguments\n",
        "print(calc.add(5, 10, 20))\n",
        "\n",
        "# Calling add with no arguments (defaults will be used)\n",
        "print(calc.add())\n"
      ],
      "metadata": {
        "colab": {
          "base_uri": "https://localhost:8080/"
        },
        "id": "yyFnj99MmJYV",
        "outputId": "9c62832f-9e31-4326-98a6-27bb59871db6"
      },
      "execution_count": null,
      "outputs": [
        {
          "output_type": "stream",
          "name": "stdout",
          "text": [
            "15\n",
            "35\n",
            "0\n"
          ]
        }
      ]
    },
    {
      "cell_type": "markdown",
      "source": [
        "##***Explanation*** :\n",
        "*   ***Default Parameters*** : In the ***add*** method, **a** and **b** have default values of 0. This allows the method to be called with no arguments or with only one or two arguments.\n",
        "*  ***Variable-Length Arguments(****args***)*** : The ****args*** parameter allows for any number of additional arguments to be passed. These extra arguments are summed up in a loop inside the method.\n",
        "\n",
        "This approach provides flexibility and mimics method overloading, as the method can behave differently depending on how many and what kind of arguments are provided.\n",
        "\n"
      ],
      "metadata": {
        "id": "GedU-Hb4jRKB"
      }
    },
    {
      "cell_type": "markdown",
      "source": [
        "#Q5.What are the three types of access modifiers in Python? How are they denoted?\n",
        "\n",
        "#ANS: In Python, access modifiers control the visibility of class attributes and methods. Though Python does not enforce strict access control like some other programming languages, it follows naming conventions to denote the visibility of class members. These are:\n",
        "\n",
        "##1.**Public**\n",
        "\n",
        "*   ***Denoted by*** : No special symbol (default)\n",
        "*   ***Description*** : Public members (attributes or methods) can be accessed from anywhere, both inside and outside the class. By default, all class members in Python are public unless explicitly specified otherwise.\n",
        "\n",
        "###***Example*** :"
      ],
      "metadata": {
        "id": "62Y226MnmBwu"
      }
    },
    {
      "cell_type": "code",
      "source": [
        "class Car:\n",
        "    def __init__(self, make):\n",
        "        self.make = make  # Public attribute\n",
        "\n",
        "    def display_make(self):\n",
        "        return self.make  # Public method\n",
        "\n",
        "car = Car(\"Toyota\")\n",
        "print(car.make)  # Accessing public attribute\n",
        "print(car.display_make())  # Calling public method"
      ],
      "metadata": {
        "colab": {
          "base_uri": "https://localhost:8080/"
        },
        "id": "fY9oTtSvmxcq",
        "outputId": "2e2893f3-789d-4c82-b1f2-29604b8d28df"
      },
      "execution_count": null,
      "outputs": [
        {
          "output_type": "stream",
          "name": "stdout",
          "text": [
            "Toyota\n",
            "Toyota\n"
          ]
        }
      ]
    },
    {
      "cell_type": "markdown",
      "source": [
        "##2.**Protected**\n",
        "\n",
        "*  ***Denoted by*** : A single underscore _ before the attribute or method name.\n",
        "\n",
        "*  ***Description*** : Protected members are meant to be accessed only within the class and its subclasses. While Python does not strictly enforce this, by convention, attributes or methods prefixed with a single underscore should not be accessed directly outside the class.\n",
        "\n",
        "###***Example*** :"
      ],
      "metadata": {
        "id": "WrFm_bWaqqJG"
      }
    },
    {
      "cell_type": "code",
      "source": [
        "class Car:\n",
        "    def __init__(self, make):\n",
        "        self._make = make  # Protected attribute\n",
        "\n",
        "    def _display_make(self):\n",
        "        return self._make  # Protected method\n",
        "\n",
        "car = Car(\"Honda\")\n",
        "print(car._make)  # Not recommended, but accessible\n",
        "print(car._display_make())  # Not recommended, but accessible\n"
      ],
      "metadata": {
        "colab": {
          "base_uri": "https://localhost:8080/"
        },
        "id": "pO8WVmg1nGOs",
        "outputId": "fb3d0a5c-cae4-4417-f938-05934fcfdfdd"
      },
      "execution_count": null,
      "outputs": [
        {
          "output_type": "stream",
          "name": "stdout",
          "text": [
            "Honda\n",
            "Honda\n"
          ]
        }
      ]
    },
    {
      "cell_type": "markdown",
      "source": [
        "##3.**Private**\n",
        "\n",
        "*   ***Denoted by*** : A double underscore __ before the attribute or method name.\n",
        "*   ***Description*** : Private members are intended to be inaccessible from outside the class. Python implements name mangling for private members by prefixing the class name to the variable or method, which helps avoid accidental access or modification from outside the class.\n",
        "\n",
        "###***Example*** :\n",
        "\n"
      ],
      "metadata": {
        "id": "BgKECz6NrieK"
      }
    },
    {
      "cell_type": "code",
      "source": [
        "class Car:\n",
        "    def __init__(self, make):\n",
        "        self.__make = make  # Private attribute\n",
        "\n",
        "    def __display_make(self):\n",
        "        return self.__make  # Private method\n",
        "\n",
        "    def get_make(self):  # Public method to access private attribute\n",
        "        return self.__make\n",
        "\n",
        "car = Car(\"Ford\")\n",
        "# print(car.__make)  # This will raise an AttributeError\n",
        "print(car.get_make())  # Accessing private attribute via public method\n"
      ],
      "metadata": {
        "colab": {
          "base_uri": "https://localhost:8080/"
        },
        "id": "REXLkSCwnIeA",
        "outputId": "95bbebac-8705-4ca1-acf6-b2ded13ce18d"
      },
      "execution_count": null,
      "outputs": [
        {
          "output_type": "stream",
          "name": "stdout",
          "text": [
            "Ford\n"
          ]
        }
      ]
    },
    {
      "cell_type": "markdown",
      "source": [
        "***Summary of Access Modifiers*** :\n",
        "\n",
        "*   ***Public*** : No special symbol, accessible from anywhere.\n",
        "\n",
        "*  ***Protected*** : Single underscore _, should be accessed within the class or subclasses.\n",
        "*   ***Private*** : Double underscore __, intended to be accessed only within the class (name-mangled to prevent accidental access)."
      ],
      "metadata": {
        "id": "45NJQx65sOue"
      }
    },
    {
      "cell_type": "markdown",
      "source": [
        "#Q6.Describe the five types of inheritance in Python. Provide a simple example of multiple inheritance.\n",
        "#ANS: Inheritance allows a class to inherit properties and behaviors (attributes and methods) from another class. Python supports various types of inheritance to cater to different design needs.\n",
        "\n",
        "##1.**Single inheritance**\n",
        "A subclass inherits from one base class. This is the most straightforward form of inheritance.\n",
        "\n",
        "###***Example*** :"
      ],
      "metadata": {
        "id": "PZhNknidtiqp"
      }
    },
    {
      "cell_type": "code",
      "source": [
        "class Animal:\n",
        "    def sound(self):\n",
        "        print(\"Animal sound\")\n",
        "\n",
        "class Dog(Animal):\n",
        "    pass\n",
        "\n",
        "dog = Dog()\n",
        "dog.sound()\n"
      ],
      "metadata": {
        "colab": {
          "base_uri": "https://localhost:8080/"
        },
        "id": "fB3j8NGfnRx6",
        "outputId": "6c40805e-438d-4bca-d106-42cce7349c42"
      },
      "execution_count": null,
      "outputs": [
        {
          "output_type": "stream",
          "name": "stdout",
          "text": [
            "Animal sound\n"
          ]
        }
      ]
    },
    {
      "cell_type": "markdown",
      "source": [
        "##2.**Multiple inheritance**\n",
        "A subclass inherits from more than one base class. This allows the child class to access attributes and methods from multiple parent classes.\n",
        "\n",
        "###***Example*** :"
      ],
      "metadata": {
        "id": "LPzjWjweukba"
      }
    },
    {
      "cell_type": "code",
      "source": [
        "class Mammal:\n",
        "    def has_hair(self):\n",
        "        print(\"Has hair\")\n",
        "\n",
        "class Bird:\n",
        "    def can_fly(self):\n",
        "        print(\"Can fly\")\n",
        "\n",
        "class Bat(Mammal, Bird):\n",
        "    pass\n",
        "\n",
        "bat = Bat()\n",
        "bat.has_hair()\n",
        "bat.can_fly()\n"
      ],
      "metadata": {
        "colab": {
          "base_uri": "https://localhost:8080/"
        },
        "id": "F4qcuoYXnyiN",
        "outputId": "274a0d47-4d4b-4013-bf15-87b34bc35b0d"
      },
      "execution_count": null,
      "outputs": [
        {
          "output_type": "stream",
          "name": "stdout",
          "text": [
            "Has hair\n",
            "Can fly\n"
          ]
        }
      ]
    },
    {
      "cell_type": "markdown",
      "source": [
        "##3.**Multilevel inheritance**\n",
        "A class inherits from a base class, and another class inherits from that derived class. This forms a chain of inheritance across multiple levels.\n",
        "\n",
        "###***Example*** :"
      ],
      "metadata": {
        "id": "_ohvBJqWvSLo"
      }
    },
    {
      "cell_type": "code",
      "source": [
        "class Animal:\n",
        "    def sound(self):\n",
        "        print(\"Animal sound\")\n",
        "\n",
        "class Mammal(Animal):\n",
        "    pass\n",
        "\n",
        "class Dog(Mammal):\n",
        "    pass\n",
        "\n",
        "dog = Dog()\n",
        "dog.sound()\n"
      ],
      "metadata": {
        "colab": {
          "base_uri": "https://localhost:8080/"
        },
        "id": "rAH4VOqBn36j",
        "outputId": "5bb32835-6082-498b-e533-b2fd82f0fe90"
      },
      "execution_count": null,
      "outputs": [
        {
          "output_type": "stream",
          "name": "stdout",
          "text": [
            "Animal sound\n"
          ]
        }
      ]
    },
    {
      "cell_type": "markdown",
      "source": [
        "##4.**Hierarchical Inheritance**\n",
        "Multiple subclasses inherit from a single base class. This allows different subclasses to share the properties of the common parent class.\n",
        "\n",
        "###***Example*** :"
      ],
      "metadata": {
        "id": "l1WL2vMrvwHK"
      }
    },
    {
      "cell_type": "code",
      "source": [
        "class Animal:\n",
        "    def sound(self):\n",
        "        print(\"Animal sound\")\n",
        "\n",
        "class Dog(Animal):\n",
        "    pass\n",
        "\n",
        "class Cat(Animal):\n",
        "    pass\n",
        "\n",
        "dog = Dog()\n",
        "cat = Cat()\n",
        "dog.sound()\n",
        "cat.sound()\n"
      ],
      "metadata": {
        "colab": {
          "base_uri": "https://localhost:8080/"
        },
        "id": "0cGsiuDAn_y7",
        "outputId": "153aa85e-91ed-494e-9dc3-5ed7c1fa3f35"
      },
      "execution_count": null,
      "outputs": [
        {
          "output_type": "stream",
          "name": "stdout",
          "text": [
            "Animal sound\n",
            "Animal sound\n"
          ]
        }
      ]
    },
    {
      "cell_type": "markdown",
      "source": [
        "##5.**Hybrid inheritance**\n",
        "A combination of more than one type of inheritance (e.g., multiple and hierarchical inheritance). This provides flexibility in complex designs but may introduce challenges like the \"diamond problem\" (resolved in Python by the Method Resolution Order, or MRO).\n",
        "\n",
        "###***Example*** :"
      ],
      "metadata": {
        "id": "NWAys6kowkBH"
      }
    },
    {
      "cell_type": "code",
      "source": [
        "class Animal:\n",
        "    def sound(self):\n",
        "        print(\"Animal sound\")\n",
        "\n",
        "class Mammal(Animal):\n",
        "    pass\n",
        "\n",
        "class Bird(Animal):\n",
        "    pass\n",
        "\n",
        "class Bat(Mammal, Bird):\n",
        "    pass\n",
        "\n",
        "bat = Bat()\n",
        "bat.sound()\n"
      ],
      "metadata": {
        "colab": {
          "base_uri": "https://localhost:8080/"
        },
        "id": "Nv1WFkW7oImO",
        "outputId": "4f831a01-50ee-4a23-8c0a-65e1689c9f70"
      },
      "execution_count": null,
      "outputs": [
        {
          "output_type": "stream",
          "name": "stdout",
          "text": [
            "Animal sound\n"
          ]
        }
      ]
    },
    {
      "cell_type": "markdown",
      "source": [
        "#Example of Multiple inheritance"
      ],
      "metadata": {
        "id": "0OUFjhlyw3TG"
      }
    },
    {
      "cell_type": "code",
      "source": [
        "class Engine:\n",
        "    def start(self):\n",
        "        print(\"Engine started\")\n",
        "\n",
        "class Wheels:\n",
        "    def roll(self):\n",
        "        print(\"Wheels are rolling\")\n",
        "\n",
        "class Car(Engine, Wheels):\n",
        "    pass\n",
        "\n",
        "# Creating an object of Car class\n",
        "my_car = Car()\n",
        "\n",
        "# Accessing methods from both parent classes\n",
        "my_car.start()\n",
        "my_car.roll()\n"
      ],
      "metadata": {
        "colab": {
          "base_uri": "https://localhost:8080/"
        },
        "id": "fEs4q_aMoLz_",
        "outputId": "2c8c2ac8-7608-4318-8c01-e33ec7994307"
      },
      "execution_count": null,
      "outputs": [
        {
          "output_type": "stream",
          "name": "stdout",
          "text": [
            "Engine started\n",
            "Wheels are rolling\n"
          ]
        }
      ]
    },
    {
      "cell_type": "markdown",
      "source": [
        "##***Explanation*** :\n",
        "\n",
        "*   ***Multiple inheritance*** : The class **Car** inherits from two parent classes, **Engine** and **Wheels**. As a result, it can access methods from both classes (**start** from **Engine** and **roll** from **Wheels**).\n",
        "*  ***Output*** : When calling methods on the **Car** object, we can access the functionality of both the **Engine** and **Wheels** classes. This is an example of how multiple inheritance allows a class to combine behaviors from multiple sources.\n",
        "\n"
      ],
      "metadata": {
        "id": "PFwDAiGgxSOw"
      }
    },
    {
      "cell_type": "markdown",
      "source": [
        "#Q7.What is the Method Resolution Order (MRO) in Python? How can you retrieve it programmatically?\n",
        "\n",
        "#ANS: **The Method Resolution Order (MRO)** in Python defines the order in which a class's methods and attributes are inherited when dealing with inheritance, particularly in the context of **multiple inheritance**. MRO ensures that Python knows the correct sequence to look for methods or attributes when they are invoked, especially if they exist in multiple parent classes. This order prevents ambiguity and conflicts that could arise from inheriting from multiple classes.\n",
        "\n",
        "#Python uses the **C3 Linearization algorithm** (or C3 superclass linearization) to compute the MRO. This ensures a consistent and predictable method resolution order while maintaining a hierarchy that adheres to inheritance rules. It is particularly useful in resolving the \"diamond problem,\" where multiple inheritance paths might converge at a single ancestor class.\n",
        "\n",
        "##***Key Rules Of MRO*** :\n",
        "\n",
        "###1.   A class is prioritized before its parents.\n",
        "###2.   Among the parents, classes are prioritized based on their order in the class definition.\n",
        "###3. MRO ensures that a class only appears once in the linearized hierarchy, even if multiple inheritance paths converge.\n",
        "\n",
        "##***Retrieving MRO Programmatically***\n",
        "####You can retrieve the MRO of a class programmatically using either of the following methods:\n",
        "\n",
        "###1.mro() **Method**: This method is available directly on the class and returns a list of classes in the MRO.\n",
        "\n",
        "\n",
        "\n"
      ],
      "metadata": {
        "id": "d4ZnDN8oynbz"
      }
    },
    {
      "cell_type": "code",
      "source": [
        "class A:\n",
        "    pass\n",
        "\n",
        "class B(A):\n",
        "    pass\n",
        "\n",
        "class C(A):\n",
        "    pass\n",
        "\n",
        "class D(B, C):\n",
        "    pass\n",
        "\n",
        "# Get the MRO of class D\n",
        "print(D.mro())\n"
      ],
      "metadata": {
        "colab": {
          "base_uri": "https://localhost:8080/"
        },
        "id": "Y7RiMU09o3Qe",
        "outputId": "96eb2bb3-5477-49e6-f3e2-10a3bc1ddd87"
      },
      "execution_count": null,
      "outputs": [
        {
          "output_type": "stream",
          "name": "stdout",
          "text": [
            "[<class '__main__.D'>, <class '__main__.B'>, <class '__main__.C'>, <class '__main__.A'>, <class 'object'>]\n"
          ]
        }
      ]
    },
    {
      "cell_type": "markdown",
      "source": [
        "###2.__mro__ Attribute: This attribute directly provides the MRO of a class as a tuple of classes.\n"
      ],
      "metadata": {
        "id": "wSAwvy4k1MT5"
      }
    },
    {
      "cell_type": "code",
      "source": [
        "class A:\n",
        "    pass\n",
        "\n",
        "class B(A):\n",
        "    pass\n",
        "\n",
        "class C(A):\n",
        "    pass\n",
        "\n",
        "class D(B, C):\n",
        "    pass\n",
        "\n",
        "# Get the MRO of class D using the __mro__ attribute\n",
        "print(D.__mro__)\n",
        "\n"
      ],
      "metadata": {
        "colab": {
          "base_uri": "https://localhost:8080/"
        },
        "id": "lkVOuTMZpDVN",
        "outputId": "be71e258-4307-42fb-90f2-ab7f655c858e"
      },
      "execution_count": null,
      "outputs": [
        {
          "output_type": "stream",
          "name": "stdout",
          "text": [
            "(<class '__main__.D'>, <class '__main__.B'>, <class '__main__.C'>, <class '__main__.A'>, <class 'object'>)\n"
          ]
        }
      ]
    },
    {
      "cell_type": "markdown",
      "source": [
        "#Example of MRO with Multiple Inheritance"
      ],
      "metadata": {
        "id": "fi04-21u2XgH"
      }
    },
    {
      "cell_type": "code",
      "source": [
        "class X:\n",
        "    def method(self):\n",
        "        print(\"Method in X\")\n",
        "\n",
        "class Y(X):\n",
        "    def method(self):\n",
        "        print(\"Method in Y\")\n",
        "\n",
        "class Z(X):\n",
        "    def method(self):\n",
        "        print(\"Method in Z\")\n",
        "\n",
        "class A(Y, Z):\n",
        "    pass\n",
        "\n",
        "# Create an instance of class A\n",
        "a = A()\n",
        "\n",
        "# Call method, MRO determines which method to execute\n",
        "a.method()\n",
        "\n",
        "# Retrieve MRO\n",
        "print(A.mro())\n"
      ],
      "metadata": {
        "colab": {
          "base_uri": "https://localhost:8080/"
        },
        "id": "z7NNZdgtpWtj",
        "outputId": "5e92b770-208b-4188-ca06-0e448ee117ac"
      },
      "execution_count": null,
      "outputs": [
        {
          "output_type": "stream",
          "name": "stdout",
          "text": [
            "Method in Y\n",
            "[<class '__main__.A'>, <class '__main__.Y'>, <class '__main__.Z'>, <class '__main__.X'>, <class 'object'>]\n"
          ]
        }
      ]
    },
    {
      "cell_type": "markdown",
      "source": [
        "##***Explanation*** :\n",
        "\n",
        "*   MRO determines that **A** inherits from **Y**, then **Z**, and finally **X**, so when calling **a.method()**, the method from **Y** is executed.\n",
        "*  Using A.mro() or A.__mro__, we can see the exact order in which classes are searched:\n",
        "***[A, Y, Z, X, object]**. This ensures that **Y's** method is called before **Z's** or **X's**."
      ],
      "metadata": {
        "id": "OaOS-Avd4Ciq"
      }
    },
    {
      "cell_type": "markdown",
      "source": [
        "#Q8.Create an abstract base class Shape with an abstract method area().Then create two subclasses  Circle and Rectangle that implement the area() method.\n",
        "\n",
        "#ANS: ***Step-by-Step Implementation***\n",
        "\n",
        "1.   ***Abstract Base Class(Shape)*** : Use the ***abc*** (Abstract Base Class) module to create the abstract base class. This class will contain the abstract method ***area***() that must be implemented by all subclasses.\n",
        "2.   ***Subclasses(Circle and Rectangle)*** : These subclasses will inherit from the ***Shape*** class and provide their own implementation of the ***area***() method."
      ],
      "metadata": {
        "id": "yTNL1v195olW"
      }
    },
    {
      "cell_type": "code",
      "source": [
        "from abc import ABC, abstractmethod\n",
        "import math\n",
        "\n",
        "# Abstract Base Class\n",
        "class Shape(ABC):\n",
        "    # Abstract method to be implemented by subclasses\n",
        "    @abstractmethod\n",
        "    def area(self):\n",
        "        pass\n",
        "\n",
        "# Subclass Circle implementing the area method\n",
        "class Circle(Shape):\n",
        "    def __init__(self, radius):\n",
        "        self.radius = radius\n",
        "\n",
        "    # Implementing the area method for Circle\n",
        "    def area(self):\n",
        "        return math.pi * (self.radius ** 2)\n",
        "\n",
        "# Subclass Rectangle implementing the area method\n",
        "class Rectangle(Shape):\n",
        "    def __init__(self, width, height):\n",
        "        self.width = width\n",
        "        self.height = height\n",
        "\n",
        "    # Implementing the area method for Rectangle\n",
        "    def area(self):\n",
        "        return self.width * self.height\n",
        "\n",
        "# Example usage\n",
        "circle = Circle(5)\n",
        "print(f\"Area of the circle: {circle.area():.2f}\")\n",
        "\n",
        "rectangle = Rectangle(4, 6)\n",
        "print(f\"Area of the rectangle: {rectangle.area()}\")\n",
        "\n"
      ],
      "metadata": {
        "colab": {
          "base_uri": "https://localhost:8080/"
        },
        "id": "SBP9f8tzp6fr",
        "outputId": "05d036d2-c987-42d8-e8ec-6d0c9b3f8750"
      },
      "execution_count": null,
      "outputs": [
        {
          "output_type": "stream",
          "name": "stdout",
          "text": [
            "Area of the circle: 78.54\n",
            "Area of the rectangle: 24\n"
          ]
        }
      ]
    },
    {
      "cell_type": "markdown",
      "source": [
        "##***Explanation***\n",
        "1.***Abstract Class(shape)*** :\n",
        "\n",
        "*   The class ***Shape*** inherits from **ABC** (from the abc module) to become an abstract base class.\n",
        "*   The method ***area***() is defined with the **@abstractmethod** decorator, making it mandatory for subclasses to implement it.\n",
        "2.***Subclass*** Circle :\n",
        " *   The Circle class inherits from ***Shape*** and implements the ***area***() method, which calculates the area of a circle using the formula 𝜋×$radius^{2}$\n",
        "\n",
        "3.***Subclass*** Rectangle :\n",
        "\n",
        "*  The Rectangle class also inherits from ***Shape*** and implements the ***area***() method, which calculates the area of a rectangle using the formula **width\n",
        "×\n",
        "height**\n",
        "\n",
        "This design promotes code reusability and forces consistency in how different shapes calculate their area, adhering to the principles of ***polymorphism***.\n",
        "\n",
        "\n",
        "\n",
        "\n"
      ],
      "metadata": {
        "id": "ZzSSa3fs8URw"
      }
    },
    {
      "cell_type": "markdown",
      "source": [
        "#Q9.Demonstrate polymorphism by creating a function that can work with different shape objects to calculate and print their areas.\n",
        "\n",
        "#ANS: Polymorphism allows functions to operate on objects of different classes as long as those objects follow a common interface or behavior (in this case, the ***area***() method). Here, we will create a function that can accept any shape object (like ***Circle***, ***Rectangle***, or any other shape with an ***area***() method) and print its area."
      ],
      "metadata": {
        "id": "eXCuJnhoHFL4"
      }
    },
    {
      "cell_type": "code",
      "source": [
        "from abc import ABC, abstractmethod\n",
        "import math\n",
        "\n",
        "# Abstract Base Class\n",
        "class Shape(ABC):\n",
        "    # Abstract method to be implemented by subclasses\n",
        "    @abstractmethod\n",
        "    def area(self):\n",
        "        pass\n",
        "\n",
        "# Subclass Circle implementing the area method\n",
        "class Circle(Shape):\n",
        "    def __init__(self, radius):\n",
        "        self.radius = radius\n",
        "\n",
        "    # Implementing the area method for Circle\n",
        "    def area(self):\n",
        "        return math.pi * (self.radius ** 2)\n",
        "\n",
        "# Subclass Rectangle implementing the area method\n",
        "class Rectangle(Shape):\n",
        "    def __init__(self, width, height):\n",
        "        self.width = width\n",
        "        self.height = height\n",
        "\n",
        "    # Implementing the area method for Rectangle\n",
        "    def area(self):\n",
        "        return self.width * self.height\n",
        "\n",
        "# Function demonstrating polymorphism\n",
        "def print_area(shape: Shape):\n",
        "    print(f\"The area is: {shape.area()}\")\n",
        "\n",
        "# Example usage\n",
        "circle = Circle(5)\n",
        "rectangle = Rectangle(4, 6)\n",
        "\n",
        "# Polymorphic function call\n",
        "print_area(circle)\n",
        "print_area(rectangle)\n"
      ],
      "metadata": {
        "colab": {
          "base_uri": "https://localhost:8080/"
        },
        "id": "IguRdXN6qlID",
        "outputId": "2f812419-7838-4750-992e-19b47c4b04c0"
      },
      "execution_count": null,
      "outputs": [
        {
          "output_type": "stream",
          "name": "stdout",
          "text": [
            "The area is: 78.53981633974483\n",
            "The area is: 24\n"
          ]
        }
      ]
    },
    {
      "cell_type": "markdown",
      "source": [
        "###***Explanation*** :\n",
        "\n",
        "1.   ***Polymorphic Function*** (***print_area()***):\n",
        "\n",
        "*   This function takes a parameter shape of type ***Shape***, meaning it can accept any object that is a subclass of ***Shape***.\n",
        "*   It then calls the ***area***() method on the object, which will execute the appropriate implementation depending on the class of the object passed.\n",
        "\n",
        "2.   ***Polymorphism in Action*** :\n",
        "\n",
        "*   When ***print_area(circle)*** is called, Python uses the ***area***() method of the ***Circle*** class.\n",
        "*   When ***print_area(rectangle)*** is called, Python uses the ***area***() method of the Rectangle class.\n",
        "\n",
        "\n",
        "\n"
      ],
      "metadata": {
        "id": "kp9XYdtOIjys"
      }
    },
    {
      "cell_type": "markdown",
      "source": [
        "#Q10.Implement encapsulation in a ***BankAccount*** class with private attributes for ***balance*** and ***account_number***. Include methods for deposit, withdrawal, and balance inquiry.\n",
        "\n",
        "#ANS: Encapsulation involves bundling data (attributes) and methods that operate on that data into a single unit and restricting access to some of the object's components. In Python, this is typically achieved by making attributes private and providing public methods to interact with those attributes."
      ],
      "metadata": {
        "id": "3moTwLB8KFrF"
      }
    },
    {
      "cell_type": "code",
      "source": [
        "class BankAccount:\n",
        "    def __init__(self, account_number, initial_balance=0):\n",
        "        self.__account_number = account_number  # Private attribute\n",
        "        self.__balance = initial_balance        # Private attribute\n",
        "\n",
        "    def deposit(self, amount):\n",
        "        if amount > 0:\n",
        "            self.__balance += amount\n",
        "            print(f\"Deposited: ${amount}\")\n",
        "        else:\n",
        "            print(\"Deposit amount must be positive.\")\n",
        "\n",
        "    def withdraw(self, amount):\n",
        "        if amount > 0:\n",
        "            if amount <= self.__balance:\n",
        "                self.__balance -= amount\n",
        "                print(f\"Withdrawn: ${amount}\")\n",
        "            else:\n",
        "                print(\"Insufficient funds.\")\n",
        "        else:\n",
        "            print(\"Withdrawal amount must be positive.\")\n",
        "\n",
        "    def get_balance(self):\n",
        "        return self.__balance\n",
        "\n",
        "    def get_account_number(self):\n",
        "        return self.__account_number\n",
        "\n",
        "# Example usage\n",
        "account = BankAccount(\"123456789\", 1000)\n",
        "\n",
        "# Perform operations\n",
        "print(f\"Initial Balance: ${account.get_balance()}\")\n",
        "\n",
        "account.deposit(500)\n",
        "print(f\"Balance after deposit: ${account.get_balance()}\")\n",
        "\n",
        "account.withdraw(200)\n",
        "print(f\"Balance after withdrawal: ${account.get_balance()}\")\n",
        "\n",
        "account.withdraw(1500)\n"
      ],
      "metadata": {
        "colab": {
          "base_uri": "https://localhost:8080/"
        },
        "id": "LH8Vq7EVqm89",
        "outputId": "ccac29fa-e7b1-4c2e-9fcc-979c24d7aac9"
      },
      "execution_count": null,
      "outputs": [
        {
          "output_type": "stream",
          "name": "stdout",
          "text": [
            "Initial Balance: $1000\n",
            "Deposited: $500\n",
            "Balance after deposit: $1500\n",
            "Withdrawn: $200\n",
            "Balance after withdrawal: $1300\n",
            "Insufficient funds.\n"
          ]
        }
      ]
    },
    {
      "cell_type": "markdown",
      "source": [
        "##***Explanation*** :\n",
        "\n",
        "1.   ***Private Attributes*** :\n",
        "\n",
        "*  ***__account_number*** and ***__balance*** are private attributes, indicated by the double underscores. These attributes cannot be accessed directly from outside the class.\n",
        "\n",
        "2.   ***Public Attributes*** :\n",
        "\n",
        "*   ***deposit(amount)*** : Adds a specified amount to the balance if it is positive.\n",
        "*  ***withdraw(amount)*** : Subtracts a specified amount from the balance if there are sufficient funds and the amount is positive.\n",
        "*   ***get_balance***(): Returns the current balance. This method allows controlled access to the ***private __balance*** attribute.\n",
        "* ***get_account_number***(): Returns the account number. This method provides controlled access to the private ***__account_number*** attribute.\n",
        "\n",
        "\n",
        "\n",
        "* ***Encapsulation*** : By using private attributes and providing public methods to interact with these attributes, the ***BankAccount*** class hides the internal state and enforces controlled access, which helps maintain data integrity.\n",
        "*  ***Controlled Access*** : The public methods ensure that only valid operations are performed on the account's balance and that the account number can be retrieved but not modified directly.\n",
        "\n",
        "\n",
        "\n",
        "\n",
        "\n"
      ],
      "metadata": {
        "id": "UghfZhWUL65v"
      }
    },
    {
      "cell_type": "markdown",
      "source": [
        "#Q11.Write a class that overrides the __str__ and __add__ magic methods. What will these methods allow you to do?\n",
        "\n",
        "#ANS: The __str__ and __add__ magic methods in Python allow you to customize how objects of a class are represented as strings and how they interact with the addition operator, respectively. Here’s a brief overview and a class implementation that demonstrates how to override these methods.\n",
        "\n",
        "###1.__str__ Method\n",
        "\n",
        "*   ***Purpose*** : The __str__ method is used to define a human-readable string representation of an object. When you print an object or use **str()** on it, Python calls this method to get the string that represents the object.\n",
        "\n",
        "###2.__add__ Method\n",
        "\n",
        "* ***Purpose*** : The __add__ method allows you to define custom behavior for the addition operator **(+)** when used with objects of your class. This method should return the result of the addition operation.\n",
        "\n",
        "###***Example Class***\n",
        "\n",
        "\n",
        "\n"
      ],
      "metadata": {
        "id": "avFP41-GNfxZ"
      }
    },
    {
      "cell_type": "code",
      "source": [
        "class ComplexNumber:\n",
        "    def __init__(self, real, imaginary):\n",
        "        self.real = real\n",
        "        self.imaginary = imaginary\n",
        "\n",
        "    def __str__(self):\n",
        "        if self.imaginary >= 0:\n",
        "            return f\"{self.real} + {self.imaginary}i\"\n",
        "        else:\n",
        "            return f\"{self.real} - {abs(self.imaginary)}i\"\n",
        "\n",
        "    def __add__(self, other):\n",
        "        if isinstance(other, ComplexNumber):\n",
        "            return ComplexNumber(self.real + other.real, self.imaginary + other.imaginary)\n",
        "        return NotImplemented\n",
        "\n",
        "# Example usage\n",
        "c1 = ComplexNumber(3, 2)\n",
        "c2 = ComplexNumber(1, -4)\n",
        "\n",
        "print(c1)\n",
        "print(c2)\n",
        "c3 = c1 + c2\n",
        "print(c3)\n"
      ],
      "metadata": {
        "colab": {
          "base_uri": "https://localhost:8080/"
        },
        "id": "hGW8UqcHr6hP",
        "outputId": "6c28d919-2b80-42a5-dd77-03de261e85a2"
      },
      "execution_count": null,
      "outputs": [
        {
          "output_type": "stream",
          "name": "stdout",
          "text": [
            "3 + 2i\n",
            "1 - 4i\n",
            "4 - 2i\n"
          ]
        }
      ]
    },
    {
      "cell_type": "markdown",
      "source": [
        "##***Explanation*** :\n",
        "\n",
        "1. __str__ Method:\n",
        "\n",
        "*   The __str__ method is overridden to provide a readable string representation of a ***ComplexNumber*** object. It formats the complex number in a way that’s familiar to humans, showing the real and imaginary parts.\n",
        "*  When ***print(c1)*** is called, Python uses ***c1.__str__()*** to determine the string representation of **c1**.\n",
        "\n",
        "2.   __add__ Method:\n",
        "\n",
        "*   The __add__ method is overridden to define how two ***ComplexNumber*** objects should be added together. It returns a new ***ComplexNumber*** object whose real and imaginary parts are the sum of the respective parts of the two objects\n",
        "*   When ***c1 + c2*** is executed, Python calls ***c1.__add__(c2)***, which adds the two complex numbers and returns a new ***ComplexNumber*** object.\n",
        "\n",
        "\n",
        "\n"
      ],
      "metadata": {
        "id": "JQl0AzfnUVPM"
      }
    },
    {
      "cell_type": "markdown",
      "source": [
        "#Q12.Create a decorator that measures and prints the execution time of a function.\n",
        "#ANS: A decorator in Python is a special type of function that modifies the behavior of another function or method without changing its actual code. In this case, we'll create a decorator that measures and prints the execution time of a function."
      ],
      "metadata": {
        "id": "00QmzNgdWCPJ"
      }
    },
    {
      "cell_type": "code",
      "source": [
        "import time\n",
        "\n",
        "def timeit(func):\n",
        "    def wrapper(*args, **kwargs):\n",
        "        start_time = time.time()  # Record the start time\n",
        "        result = func(*args, **kwargs)  # Call the original function\n",
        "        end_time = time.time()  # Record the end time\n",
        "        execution_time = end_time - start_time  # Calculate the execution time\n",
        "        print(f\"Execution time for {func.__name__}: {execution_time:.4f} seconds\")\n",
        "        return result  # Return the result of the original function\n",
        "    return wrapper\n",
        "\n",
        "# Example usage of the decorator\n",
        "@timeit\n",
        "def slow_function(n):\n",
        "    total = 0\n",
        "    for i in range(n):\n",
        "        total += i\n",
        "    return total\n",
        "\n",
        "# Call the decorated function\n",
        "result = slow_function(1000000)\n",
        "print(f\"Result: {result}\")\n"
      ],
      "metadata": {
        "colab": {
          "base_uri": "https://localhost:8080/"
        },
        "id": "goW-ATmWsTHk",
        "outputId": "ffaa0c5b-65da-4746-f475-c5d24a51b722"
      },
      "execution_count": null,
      "outputs": [
        {
          "output_type": "stream",
          "name": "stdout",
          "text": [
            "Execution time for slow_function: 0.0761 seconds\n",
            "Result: 499999500000\n"
          ]
        }
      ]
    },
    {
      "cell_type": "markdown",
      "source": [
        "##***Explanation*** :\n",
        "\n",
        "1.  ***timeit*** Decorator:\n",
        "\n",
        "*  The ***timeit*** function takes another function ***func*** as an argument and defines an inner function ***wrapper*** to wrap around ***func***.\n",
        "*   ***Measuring Time*** :\n",
        "\n",
        " *   ***start_time = time.time()*** : Records the current time before the function starts executing.\n",
        " *   ***result = func( args, **kwargs)*** : Calls the original function with any arguments and keyword arguments it received.\n",
        "\n",
        " *   ***end_time = time.time()*** : Records the time after the function has completed execution.\n",
        " *  ***execution_time = end_time - start_time*** : Computes the difference between the end and start times to determine the execution duration.\n",
        "\n",
        "\n",
        "*   ***Return*** : The ***wrapper*** function returns the result of the original function.\n",
        "2.  ***Example Usage*** :\n",
        "\n",
        "*  ***@timeit*** : This syntax applies the ***timeit*** decorator to the ***slow_function***.\n",
        "* ***slow_function(n)*** : A sample function that performs a slow computation (summing integers up to ***n***).\n",
        "\n",
        "\n"
      ],
      "metadata": {
        "id": "glo422nUZVTv"
      }
    },
    {
      "cell_type": "markdown",
      "source": [
        "#Q13.Explain the concept of the Diamond Problem in multiple inheritance. How does Python resolve it?\n",
        "#ANS: The **Diamond Problem** is a complication that arises in object-oriented programming when dealing with multiple inheritance. It occurs when a class inherits from two classes that have a common base class, creating a diamond-shaped inheritance structure. This can lead to ambiguity and inconsistencies regarding which methods or attributes should be inherited from the common base class.\n",
        "\n",
        "#Consider the following class hierarchy:"
      ],
      "metadata": {
        "id": "N354Rs_QczEW"
      }
    },
    {
      "cell_type": "code",
      "source": [
        "       A\n",
        "      / \\\n",
        "     B   C\n",
        "      \\ /\n",
        "       D\n"
      ],
      "metadata": {
        "id": "g9_Aez7b6Gmp"
      },
      "execution_count": null,
      "outputs": []
    },
    {
      "cell_type": "markdown",
      "source": [
        "#In this hierarchy:\n",
        "\n",
        "* **Class A** is the base class.\n",
        "* **Class B** and Class **C** both inherit from **A**.\n",
        "\n",
        "* **Class D** inherits from both **B** and **C**.\n",
        "\n",
        "###The problem arises when **D** tries to inherit methods or attributes from **A**. The ambiguity is which version of **A**'s methods or attributes should **D** inherit—whether it should come from **B** or **C**.\n",
        "\n",
        "#Python uses the **C3 Linearization algorithm** (or C3 superclass linearization) to resolve the diamond problem. This algorithm provides a consistent and predictable order in which classes are searched when looking up methods and attributes. Here’s how Python handles it:\n",
        "\n",
        "##1.***Method Resolution Order (MRO)*** : Python computes a linear order for the classes, known as the MRO, which determines the sequence in which base classes are considered. This order ensures that each class appears only once in the hierarchy and follows a consistent path.\n",
        "##2.***MRO Calculation*** : The C3 Linearization algorithm combines the linearization of the base classes and resolves conflicts by maintaining a consistent method resolution order. It ensures that the classes are considered in the right order and that the inheritance is unambiguous.\n",
        "##3.***Class __mro__ Attribute*** : Each class in Python has an __mro__ attribute that lists the classes in the order they are considered. This attribute is useful for understanding the MRO and debugging inheritance issues.\n",
        "\n",
        "##***Example*** :\n",
        "\n",
        "\n",
        "\n"
      ],
      "metadata": {
        "id": "KmwCSfdOeGXG"
      }
    },
    {
      "cell_type": "code",
      "source": [
        "class A:\n",
        "    def method(self):\n",
        "        print(\"Method in A\")\n",
        "\n",
        "class B(A):\n",
        "    def method(self):\n",
        "        print(\"Method in B\")\n",
        "\n",
        "class C(A):\n",
        "    def method(self):\n",
        "        print(\"Method in C\")\n",
        "\n",
        "class D(B, C):\n",
        "    pass\n",
        "\n",
        "# Create an instance of D\n",
        "d = D()\n",
        "\n",
        "# Call method\n",
        "d.method()\n",
        "\n",
        "# Print MRO\n",
        "print(D.__mro__)\n"
      ],
      "metadata": {
        "colab": {
          "base_uri": "https://localhost:8080/"
        },
        "id": "wLxDKy5OsrCr",
        "outputId": "dd73fd35-6252-4970-cb08-cd05918de7ed"
      },
      "execution_count": null,
      "outputs": [
        {
          "output_type": "stream",
          "name": "stdout",
          "text": [
            "Method in B\n",
            "(<class '__main__.D'>, <class '__main__.B'>, <class '__main__.C'>, <class '__main__.A'>, <class 'object'>)\n"
          ]
        }
      ]
    },
    {
      "cell_type": "markdown",
      "source": [
        "##***Explanation*** :\n",
        "\n",
        "*   ***d.method()*** : The MRO determines that **D** inherits from **B** first and then **C**. Since **B** appears before **C** in the MRO, the method from **B** is used.\n",
        "*  ***D.__mro__*** : This prints the MRO for class **D**, showing the order in which classes are considered: **D**, **B**, **C**, **A**, and ***object***.\n",
        "\n",
        "This approach ensures that multiple inheritance in Python is both manageable and predictable, avoiding the pitfalls of the diamond problem.\n"
      ],
      "metadata": {
        "id": "fv1ttg4nh1c2"
      }
    },
    {
      "cell_type": "markdown",
      "source": [
        "#Q14.Write a class method that keeps track of the number of instances created from a class.\n",
        "#ANS: To keep track of the number of instances created from a class, you can use a class variable that counts instances and a class method to retrieve this count. The class variable is shared among all instances of the class, and the class method allows access to this count.\n",
        "\n",
        "#Here’s how you can implement this:\n",
        "\n",
        "###1.***Class Variable*** : Define a class variable to keep track of the instance count.\n",
        "###2.***Constructor (__init__)*** : Increment the instance count each time a new instance is created.\n",
        "###3.***Class Method*** : Define a class method to access the instance count.\n",
        "\n",
        "###***Example*** :\n"
      ],
      "metadata": {
        "id": "ej109sN6i6jn"
      }
    },
    {
      "cell_type": "code",
      "source": [
        "class InstanceTracker:\n",
        "    instance_count = 0  # Class variable to keep track of instances\n",
        "\n",
        "    def __init__(self):\n",
        "        InstanceTracker.instance_count += 1  # Increment count when a new instance is created\n",
        "\n",
        "    @classmethod\n",
        "    def get_instance_count(cls):\n",
        "        return cls.instance_count  # Return the class variable\n",
        "\n",
        "# Example usage\n",
        "a = InstanceTracker()\n",
        "b = InstanceTracker()\n",
        "c = InstanceTracker()\n",
        "\n",
        "print(f\"Number of instances created: {InstanceTracker.get_instance_count()}\")\n"
      ],
      "metadata": {
        "colab": {
          "base_uri": "https://localhost:8080/"
        },
        "id": "JChnDCb0tHni",
        "outputId": "98b014e0-e2c8-4478-c33a-775541111823"
      },
      "execution_count": null,
      "outputs": [
        {
          "output_type": "stream",
          "name": "stdout",
          "text": [
            "Number of instances created: 3\n"
          ]
        }
      ]
    },
    {
      "cell_type": "markdown",
      "source": [
        "##***Explanation*** :\n",
        "\n",
        "1.   ***Class Variable (instance_count)*** :\n",
        "\n",
        " *   ***instance_count***  is a class variable that stores the number of instances created. It is shared among all instances of the class.\n",
        "\n",
        "2.  ***Constructor (__init__)*** :\n",
        "\n",
        " *   Each time an instance of ***InstanceTracker*** is created, the constructor (__init__) is called. It increments the ***instance_count*** by 1, reflecting the creation of a new instance.\n",
        "\n",
        "3. ***Class Method (get_instance_count)*** :\n",
        "\n",
        " *  ***get_instance_count*** is a class method defined with the ***@classmethod*** decorator. It takes ***cls*** as its first parameter, which represents the class itself.\n",
        " *   This method returns the current value of the ***instance_count*** class variable, allowing users to retrieve the number of instances created.\n",
        "\n",
        "This approach allows you to easily keep track of how many instances of a class have been created, which can be useful for monitoring and debugging purposes.\n",
        "\n",
        "\n"
      ],
      "metadata": {
        "id": "PHv_n1I63C_9"
      }
    },
    {
      "cell_type": "markdown",
      "source": [
        "#Q15.Implement a static method in a class that checks if a given year is a leap year.\n",
        "#ANS: A static method in a class is a method that does not access or modify the class or instance attributes. It behaves like a regular function but belongs to the class's namespace. You use a static method when you need a function that is related to the class but does not require access to class-specific data.\n",
        "\n",
        "#In this case, we’ll implement a static method in a class that determines if a given year is a leap year. A leap year is defined as follows:\n",
        "\n",
        "###1.*It is divisible by 4*.\n",
        "\n",
        "###2.*However, if it is divisible by 100, it is not a leap year unless* :\n",
        "\n",
        "###3.*It is also divisible by 400*.\n",
        "\n",
        "###***Example*** :\n"
      ],
      "metadata": {
        "id": "u1RAifST59ln"
      }
    },
    {
      "cell_type": "code",
      "source": [
        "class YearUtils:\n",
        "    @staticmethod\n",
        "    def is_leap_year(year):\n",
        "        \"\"\"\n",
        "        Check if a given year is a leap year.\n",
        "\n",
        "        :param year: Year to check\n",
        "        :return: True if the year is a leap year, False otherwise\n",
        "        \"\"\"\n",
        "        if (year % 4 == 0):\n",
        "            if (year % 100 == 0):\n",
        "                if (year % 400 == 0):\n",
        "                    return True\n",
        "                else:\n",
        "                    return False\n",
        "            else:\n",
        "                return True\n",
        "        else:\n",
        "            return False\n",
        "\n",
        "# Example usage\n",
        "year = 2024\n",
        "print(f\"Is {year} a leap year? {'Yes' if YearUtils.is_leap_year(year) else 'No'}\")\n",
        "\n",
        "year = 1900\n",
        "print(f\"Is {year} a leap year? {'Yes' if YearUtils.is_leap_year(year) else 'No'}\")\n"
      ],
      "metadata": {
        "colab": {
          "base_uri": "https://localhost:8080/"
        },
        "id": "oWa3l0x_teZE",
        "outputId": "9e96ecfb-d5a1-4d55-a7ec-86c1314a29a3"
      },
      "execution_count": null,
      "outputs": [
        {
          "output_type": "stream",
          "name": "stdout",
          "text": [
            "Is 2024 a leap year? Yes\n",
            "Is 1900 a leap year? No\n"
          ]
        }
      ]
    },
    {
      "cell_type": "markdown",
      "source": [
        "##***Explanation*** :\n",
        "\n",
        "1.   ***Static Method*** (is_leap_year):\n",
        "\n",
        "*  The ***is_leap_year*** method is defined with the ***@staticmethod*** decorator. It takes a single parameter ***year*** and does not access or modify any class or instance attributes.\n",
        "*  ***Logic*** : The method implements the rules for determining a leap year:\n",
        "\n",
        " *   It first checks if the year is divisible by 4.\n",
        "\n",
        " *  If it is, it further checks if it is divisible by 100.\n",
        " * If it is divisible by 100, it then checks if it is also divisible by 400.\n",
        "\n",
        "\n",
        "* ***Return*** : The method returns True if the year is a leap year, otherwise False.\n",
        "\n",
        "*   ***YearUtils.is_leap_year(year)*** : Calls the static method to check if the specified year is a leap year.\n",
        "\n",
        "\n",
        "\n"
      ],
      "metadata": {
        "id": "ESsHPKdj7VpU"
      }
    }
  ]
}
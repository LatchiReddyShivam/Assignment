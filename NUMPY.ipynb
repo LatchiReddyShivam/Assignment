{
  "nbformat": 4,
  "nbformat_minor": 0,
  "metadata": {
    "colab": {
      "provenance": []
    },
    "kernelspec": {
      "name": "python3",
      "display_name": "Python 3"
    },
    "language_info": {
      "name": "python"
    }
  },
  "cells": [
    {
      "cell_type": "markdown",
      "source": [
        "##**THEORETICAL QUESTION**\n",
        "\n",
        "\n",
        "##Q1. Explain the purpose and advantages of NumPy in scientific computing and data analysis. How does it enhance Python’s capabilities for numerical operations?\n",
        "\n",
        "\n",
        "\n",
        "##Ans-NumPy (Numerical Python) is a powerful library in Python used for numerical computations. It provides support for large, multi-dimensional arrays and matrices along with a rich collection of mathematical functions to operate on these arrays. The key advantages of NumPy include:\n",
        "\n",
        "\n",
        "\n",
        "\n",
        "##1.   **Speed and Performance:** Operations in NumPy are implemented in C, which makes them faster than native Python lists.\n",
        "\n",
        "##2.   **Memory Efficiency:** NumPy arrays consume less memory as they are densely packed with data of the same type.\n",
        "\n",
        "##3.   **bold text**Convenient Mathematical Functions: Functions like linear algebra, Fourier transforms, and statistics are built-in.\n",
        "\n",
        "##4.   **Broadcasting and Vectorization:** NumPy enables element-wise operations without using explicit loops, which improves code efficiency and readability.\n",
        "\n",
        "\n",
        "##These features make NumPy ideal for scientific computing, data analysis, machine learning, and more.\n",
        "\n",
        "\n",
        "\n",
        "\n",
        "\n",
        "##Q2. Compare and contrast np.mean() and np.average() functions in NumPy. When would you use one over the other?\n",
        "\n",
        "\n",
        "\n",
        "\n",
        "##Ans-Both **np.mean()** and **np.average()** are used to calculate the average of elements in an array, but they differ slightly:\n",
        "\n",
        "##1.   **np.mean()** calculates the arithmetic mean and treats all elements equally.\n",
        "\n",
        "\n",
        "##2.   **np.average()** allows assigning weights to elements, making it suitable for calculating weighted averages.\n",
        "\n",
        "\n",
        "\n",
        "##Use **np.mean()** when all elements contribute equally to the mean.\n",
        "\n",
        "##Use **np.average()** when certain elements have more significance and should be given higher weights.\n",
        "\n",
        "\n",
        "\n",
        "##**Example:**\n",
        "\n",
        "\n"
      ],
      "metadata": {
        "id": "b4wCiGx9ySZn"
      }
    },
    {
      "cell_type": "code",
      "source": [
        "import numpy as np\n",
        "a = np.array([1, 2, 3])\n",
        "print(np.mean(a))         # Output: 2.0\n",
        "print(np.average(a, weights=[1, 1, 2]))  # Output: 2.25\n"
      ],
      "metadata": {
        "colab": {
          "base_uri": "https://localhost:8080/"
        },
        "id": "QWFAWo8K0kmU",
        "outputId": "713f1ccb-7c5f-4eef-d8fe-218f5ac083c5"
      },
      "execution_count": 1,
      "outputs": [
        {
          "output_type": "stream",
          "name": "stdout",
          "text": [
            "2.0\n",
            "2.25\n"
          ]
        }
      ]
    },
    {
      "cell_type": "markdown",
      "source": [
        "##Q3. Describe the methods for reversing a NumPy array along different axes. Provide examples for 1D and 2D arrays.\n",
        "\n",
        "\n",
        "\n",
        "\n",
        "\n",
        "##Ans-To reverse NumPy arrays, slicing or specific functions can be used:\n",
        "\n",
        "\n",
        "\n",
        "\n",
        "##1.   **1D Array:** Use slicing [::-1] to reverse the elements.\n",
        "\n",
        "\n",
        "##2.   **2D Array:** Reverse rows or columns using slicing along specific axes.\n",
        "\n",
        "\n",
        "##**Example:**\n",
        "\n"
      ],
      "metadata": {
        "id": "uyOkEDUU0nic"
      }
    },
    {
      "cell_type": "code",
      "source": [
        "import numpy as np\n",
        "\n",
        "# 1D Array\n",
        "arr1d = np.array([1, 2, 3, 4])\n",
        "print(arr1d[::-1])  # Output: [4 3 2 1]\n",
        "\n",
        "# 2D Array\n",
        "arr2d = np.array([[1, 2], [3, 4]])\n",
        "\n",
        "# Reverse rows\n",
        "print(arr2d[::-1])\n",
        "# Output:\n",
        "# [[3 4]\n",
        "#  [1 2]]\n",
        "\n",
        "# Reverse columns\n",
        "print(arr2d[:, ::-1])\n",
        "# Output:\n",
        "# [[2 1]\n",
        "#  [4 3]]\n"
      ],
      "metadata": {
        "colab": {
          "base_uri": "https://localhost:8080/"
        },
        "id": "kOzo0zHz051b",
        "outputId": "6fb03759-1fe4-4c44-bc4f-c6e5e82543ac"
      },
      "execution_count": 2,
      "outputs": [
        {
          "output_type": "stream",
          "name": "stdout",
          "text": [
            "[4 3 2 1]\n",
            "[[3 4]\n",
            " [1 2]]\n",
            "[[2 1]\n",
            " [4 3]]\n"
          ]
        }
      ]
    },
    {
      "cell_type": "markdown",
      "source": [
        "##Q4. How can you determine the data type of elements in a NumPy array? Discuss the importance of data types in memory management and performance.\n",
        "\n",
        "\n",
        "\n",
        "\n",
        "##Ans- WE can determine the data type of a NumPy array using the **.dtype** attribute:"
      ],
      "metadata": {
        "id": "Eor5fVMY1BvL"
      }
    },
    {
      "cell_type": "code",
      "source": [
        "arr = np.array([1, 2, 3])\n",
        "print(arr.dtype)  # Output: int64 (or similar depending on system)\n"
      ],
      "metadata": {
        "colab": {
          "base_uri": "https://localhost:8080/"
        },
        "id": "Sma5sS7F1WYD",
        "outputId": "e8d1e684-e198-44d1-87aa-e4566558a6bf"
      },
      "execution_count": 3,
      "outputs": [
        {
          "output_type": "stream",
          "name": "stdout",
          "text": [
            "int64\n"
          ]
        }
      ]
    },
    {
      "cell_type": "markdown",
      "source": [
        "##**Q4 Continue....**\n",
        "\n",
        "\n",
        "##**Importance of Data Types:**\n",
        "\n",
        "\n",
        "\n",
        "\n",
        "\n",
        "##1.   Choosing appropriate data types helps minimize memory usage.\n",
        "\n",
        "##2.   Fixed-type arrays (unlike Python lists) allow faster computation.\n",
        "\n",
        "##3.   Specific types (e.g., float32 vs float64) can optimize performance in large datasets.\n",
        "\n",
        "\n",
        "##Efficient data type selection leads to better performance and scalability in data-intensive applications.\n",
        "\n",
        "\n",
        "\n",
        "\n",
        "##Q5. Define ndarrays in NumPy and explain their key features. How do they differ from standard Python\n",
        "\n",
        "\n",
        "\n",
        "\n",
        "##Ans- In NumPy, an **ndarray** is a multi-dimensional, homogeneous array object that forms the core of the library. Unlike standard Python lists that can hold elements of varying types, ndarrays store items of the same type, which enables fast mathematical and logical operations. They support vectorized operations, broadcasting, and a wide variety of mathematical functions, making them suitable for high-performance tasks. The uniformity and efficiency of ndarrays significantly enhance speed and reduce memory usage, making them more powerful than Python lists for numerical and scientific computations.\n",
        "\n",
        "\n",
        "\n",
        "##**Example:**"
      ],
      "metadata": {
        "id": "-hdd97Bs1Zex"
      }
    },
    {
      "cell_type": "code",
      "source": [
        "import numpy as np\n",
        "arr = np.array([1, 2, 3])\n",
        "print(arr * 2)  # Output: [2 4 6]\n",
        "\n",
        "lst = [1, 2, 3]\n",
        "print([x * 2 for x in lst])  # Output: [2, 4, 6]\n"
      ],
      "metadata": {
        "colab": {
          "base_uri": "https://localhost:8080/"
        },
        "id": "Pcx6doiQ2PDh",
        "outputId": "be9bea68-df6d-4d25-b921-40a26a62961d"
      },
      "execution_count": 4,
      "outputs": [
        {
          "output_type": "stream",
          "name": "stdout",
          "text": [
            "[2 4 6]\n",
            "[2, 4, 6]\n"
          ]
        }
      ]
    },
    {
      "cell_type": "markdown",
      "source": [
        "##Q6. Analyze the performance benefits of NumPy arrays over Python lists for large-scale numerical operations.\n",
        "\n",
        "\n",
        "\n",
        "\n",
        "##Ans-NumPy arrays outperform Python lists due to:\n",
        "\n",
        "\n",
        "\n",
        "##1.   Vectorization: Element-wise operations are performed without explicit loops.\n",
        "\n",
        "\n",
        "##2.   Contiguous Memory Allocation: Enhances CPU cache efficiency.\n",
        "\n",
        "##3.   Compiled Backend: Operations are implemented in optimized C code.\n",
        "\n",
        "\n",
        "##**Benchmark Example:**\n",
        "\n"
      ],
      "metadata": {
        "id": "sDAmffQz2mgZ"
      }
    },
    {
      "cell_type": "code",
      "source": [
        "import numpy as np\n",
        "import time\n",
        "\n",
        "a = list(range(1000000))\n",
        "b = np.array(a)\n",
        "\n",
        "# Python list\n",
        "start = time.time()\n",
        "a = [x * 2 for x in a]\n",
        "print(\"List time:\", time.time() - start)\n",
        "\n",
        "# NumPy array\n",
        "start = time.time()\n",
        "b = b * 2\n",
        "print(\"NumPy time:\", time.time() - start)\n"
      ],
      "metadata": {
        "colab": {
          "base_uri": "https://localhost:8080/"
        },
        "id": "ovAP1glo2-dQ",
        "outputId": "a0d68955-4b87-4a79-c8d2-91da359b9060"
      },
      "execution_count": 5,
      "outputs": [
        {
          "output_type": "stream",
          "name": "stdout",
          "text": [
            "List time: 0.12122058868408203\n",
            "NumPy time: 0.004073143005371094\n"
          ]
        }
      ]
    },
    {
      "cell_type": "markdown",
      "source": [
        "##Q7. Compare vstack() and hstack() functions in NumPy. Provide examples demonstrating their usage and output.\n",
        "\n",
        "\n",
        "\n",
        "\n",
        "##Ans-The **vstack()** and **hstack()** functions in NumPy are used to stack arrays vertically and horizontally, respectively. **vstack()** adds new rows by stacking arrays on top of one another, while **hstack()** appends arrays side by side by adding new columns. These functions are helpful in combining datasets, reshaping matrices, and constructing larger arrays from smaller components. For example, stacking **[1, 2]** and **[3, 4]** using **vstack()** results in a 2x2 matrix, whereas using **hstack()** produces a single row with four elements. These operations are essential in data transformation and matrix manipulation.\n",
        "\n",
        "\n",
        "##**Example:**"
      ],
      "metadata": {
        "id": "pKBit_0b3Ac5"
      }
    },
    {
      "cell_type": "code",
      "source": [
        "import numpy as np\n",
        "a = np.array([1, 2])\n",
        "b = np.array([3, 4])\n",
        "\n",
        "# Vertical stack\n",
        "print(np.vstack((a, b)))\n",
        "# Output:\n",
        "# [[1 2]\n",
        "#  [3 4]]\n",
        "\n",
        "# Horizontal stack\n",
        "print(np.hstack((a, b)))\n",
        "# Output: [1 2 3 4]\n"
      ],
      "metadata": {
        "colab": {
          "base_uri": "https://localhost:8080/"
        },
        "id": "WnNKznB63d52",
        "outputId": "84fdb364-9454-41b9-b090-199eea012318"
      },
      "execution_count": 6,
      "outputs": [
        {
          "output_type": "stream",
          "name": "stdout",
          "text": [
            "[[1 2]\n",
            " [3 4]]\n",
            "[1 2 3 4]\n"
          ]
        }
      ]
    },
    {
      "cell_type": "markdown",
      "source": [
        "##Q8. Explain the differences between flip() and fliplr() methods in NumPy, including their effects on various array dimensions.\n",
        "\n",
        "\n",
        "\n",
        "\n",
        "##Ans-The **flip()** and **fliplr()** functions in NumPy both reverse elements in an array, but they differ in application. **flip()** can reverse elements along any specified axis, or all axes if no axis is mentioned, making it versatile for various array types. On the other hand, **fliplr()** is specifically designed for 2D arrays and flips the elements from left to right, i.e., it reverses the order of columns. These functions are useful in image processing, data augmentation, and matrix manipulation tasks where directional reversal is required.\n",
        "\n",
        "\n",
        "##**Example:**"
      ],
      "metadata": {
        "id": "obkxWsto3ow_"
      }
    },
    {
      "cell_type": "code",
      "source": [
        "arr = np.array([[1, 2], [3, 4]])\n",
        "\n",
        "print(np.flip(arr))\n",
        "# Output: [[4 3]\n",
        "#          [2 1]]\n",
        "\n",
        "print(np.fliplr(arr))\n",
        "# Output: [[2 1]\n",
        "#          [4 3]]\n"
      ],
      "metadata": {
        "colab": {
          "base_uri": "https://localhost:8080/"
        },
        "id": "GMM3sVi230t3",
        "outputId": "85e0e19e-ac7e-44c2-e91c-d7349091ea6b"
      },
      "execution_count": 7,
      "outputs": [
        {
          "output_type": "stream",
          "name": "stdout",
          "text": [
            "[[4 3]\n",
            " [2 1]]\n",
            "[[2 1]\n",
            " [4 3]]\n"
          ]
        }
      ]
    },
    {
      "cell_type": "markdown",
      "source": [
        "##Q9. Discuss the functionality of the array_split() method in NumPy. How does it handle uneven splits?\n",
        "\n",
        "\n",
        "\n",
        "\n",
        "\n",
        "##Ans-**np.array_split()** divides an array into sub-arrays. Unlike **np.split()**, it can handle cases where the array does not divide evenly.\n",
        "\n",
        "\n",
        "\n",
        "##**Example:**"
      ],
      "metadata": {
        "id": "jj3pgOb-4BG3"
      }
    },
    {
      "cell_type": "code",
      "source": [
        "arr = np.array([1, 2, 3, 4, 5])\n",
        "print(np.array_split(arr, 3))\n",
        "# Output: [array([1, 2]), array([3, 4]), array([5])]\n"
      ],
      "metadata": {
        "colab": {
          "base_uri": "https://localhost:8080/"
        },
        "id": "KPzcMHbp4KPO",
        "outputId": "98a3a7e1-2b6c-4454-de7b-b476866e48fe"
      },
      "execution_count": 8,
      "outputs": [
        {
          "output_type": "stream",
          "name": "stdout",
          "text": [
            "[array([1, 2]), array([3, 4]), array([5])]\n"
          ]
        }
      ]
    },
    {
      "cell_type": "markdown",
      "source": [
        "##Q10. Explain the concepts of vectorization and broadcasting in NumPy. How do they contribute to efficient array operations?\n",
        "\n",
        "\n",
        "\n",
        "##Ans- Vectorization and broadcasting are two powerful concepts in NumPy that greatly enhance computational efficiency. Vectorization refers to the process of applying operations to entire arrays rather than individual elements, which eliminates the need for loops and results in faster execution. Broadcasting allows arrays of different shapes to be combined in operations by automatically expanding one of the arrays to match the shape of the other. Together, these features simplify code and boost performance, making NumPy highly effective for numerical computations and large-scale data processing tasks.\n",
        "\n",
        "\n",
        "\n",
        "\n",
        "##**Example:**"
      ],
      "metadata": {
        "id": "VOwDx77Q4UvG"
      }
    },
    {
      "cell_type": "code",
      "source": [
        "import numpy as np\n",
        "a = np.array([1, 2, 3])\n",
        "b = 2\n",
        "print(a * b)  # Broadcasting scalar across array\n"
      ],
      "metadata": {
        "colab": {
          "base_uri": "https://localhost:8080/"
        },
        "id": "lVdHSSHl4cRG",
        "outputId": "159e75cb-7e70-48f9-bdc8-bc9eacdffb56"
      },
      "execution_count": 9,
      "outputs": [
        {
          "output_type": "stream",
          "name": "stdout",
          "text": [
            "[2 4 6]\n"
          ]
        }
      ]
    },
    {
      "cell_type": "markdown",
      "source": [
        "##**PRACTICAL QUESTION**\n",
        "\n",
        "#Q1.Create a 3x3 NumPy array with random integers between 1 and 100. Then, interchange its rows and columns."
      ],
      "metadata": {
        "id": "DfjQbHmtIj9f"
      }
    },
    {
      "cell_type": "code",
      "execution_count": null,
      "metadata": {
        "colab": {
          "base_uri": "https://localhost:8080/"
        },
        "id": "4tdVGGXGEmPU",
        "outputId": "3fe103d4-2239-4069-e0d2-caecd29a1b11"
      },
      "outputs": [
        {
          "output_type": "stream",
          "name": "stdout",
          "text": [
            "Original:\n",
            " [[14  9 35]\n",
            " [46 26 16]\n",
            " [ 8 12 62]]\n",
            "Transposed:\n",
            " [[14 46  8]\n",
            " [ 9 26 12]\n",
            " [35 16 62]]\n"
          ]
        }
      ],
      "source": [
        "import numpy as np\n",
        "\n",
        "arr1 = np.random.randint(1, 101, (3, 3))\n",
        "transposed_arr1 = arr1.T\n",
        "print(\"Original:\\n\", arr1)\n",
        "print(\"Transposed:\\n\", transposed_arr1)\n"
      ]
    },
    {
      "cell_type": "markdown",
      "source": [
        "#Q2.Generate a 1D NumPy array with 10 elements. Reshape it into a 2x5 array, then into a 5x2 array."
      ],
      "metadata": {
        "id": "6wSJFcRlImTX"
      }
    },
    {
      "cell_type": "code",
      "source": [
        "arr2 = np.arange(10)\n",
        "reshaped_2x5 = arr2.reshape(2, 5)\n",
        "reshaped_5x2 = reshaped_2x5.reshape(5, 2)\n",
        "print(\"5x2 reshaped:\\n\", reshaped_5x2)\n"
      ],
      "metadata": {
        "colab": {
          "base_uri": "https://localhost:8080/"
        },
        "id": "Kq9I7qkbImsN",
        "outputId": "61b9cdc6-435e-4e77-849c-4596eb96b784"
      },
      "execution_count": null,
      "outputs": [
        {
          "output_type": "stream",
          "name": "stdout",
          "text": [
            "5x2 reshaped:\n",
            " [[0 1]\n",
            " [2 3]\n",
            " [4 5]\n",
            " [6 7]\n",
            " [8 9]]\n"
          ]
        }
      ]
    },
    {
      "cell_type": "markdown",
      "source": [
        "#Q3.Create a 4x4 NumPy array with random float values. Add a border of zeros around it, resulting in a 6x6 array."
      ],
      "metadata": {
        "id": "kEMjx_0RIquV"
      }
    },
    {
      "cell_type": "code",
      "source": [
        "arr3 = np.random.rand(4, 4)\n",
        "arr3_with_border = np.pad(arr3, pad_width=1, mode='constant', constant_values=0)\n",
        "print(\"With border:\\n\", arr3_with_border)\n"
      ],
      "metadata": {
        "colab": {
          "base_uri": "https://localhost:8080/"
        },
        "id": "ecqm2HkVIrFf",
        "outputId": "3ba8648d-cc0f-47e2-ee7b-53225bfbb61d"
      },
      "execution_count": null,
      "outputs": [
        {
          "output_type": "stream",
          "name": "stdout",
          "text": [
            "With border:\n",
            " [[0.         0.         0.         0.         0.         0.        ]\n",
            " [0.         0.22418586 0.25323251 0.32084247 0.43961841 0.        ]\n",
            " [0.         0.40438298 0.88392448 0.08699336 0.46985082 0.        ]\n",
            " [0.         0.31035677 0.83396844 0.60999253 0.71835327 0.        ]\n",
            " [0.         0.79023027 0.01872053 0.5919136  0.33278947 0.        ]\n",
            " [0.         0.         0.         0.         0.         0.        ]]\n"
          ]
        }
      ]
    },
    {
      "cell_type": "markdown",
      "source": [
        "#Q4.Using NumPy, create an array of integers from 10 to 60 with a step of 5."
      ],
      "metadata": {
        "id": "NtbVvLnjIuRf"
      }
    },
    {
      "cell_type": "code",
      "source": [
        "arr4 = np.arange(10, 61, 5)\n",
        "print(arr4)\n"
      ],
      "metadata": {
        "colab": {
          "base_uri": "https://localhost:8080/"
        },
        "id": "jM6AosSCIunY",
        "outputId": "71dc87c0-b25e-4975-8201-08f61cf7d0c6"
      },
      "execution_count": null,
      "outputs": [
        {
          "output_type": "stream",
          "name": "stdout",
          "text": [
            "[10 15 20 25 30 35 40 45 50 55 60]\n"
          ]
        }
      ]
    },
    {
      "cell_type": "markdown",
      "source": [
        "#Q5.Create a NumPy array of strings ['python', 'numpy', 'pandas']. Apply different case transformations (uppercase, lowercase, title case, etc.) to each element."
      ],
      "metadata": {
        "id": "WGJ8sCaNI9Kg"
      }
    },
    {
      "cell_type": "code",
      "source": [
        "arr5 = np.array(['python', 'numpy', 'pandas'])\n",
        "print(\"Uppercase:\", np.char.upper(arr5))\n",
        "print(\"Lowercase:\", np.char.lower(arr5))\n",
        "print(\"Title Case:\", np.char.title(arr5))\n"
      ],
      "metadata": {
        "colab": {
          "base_uri": "https://localhost:8080/"
        },
        "id": "uRwdSszWI-9k",
        "outputId": "8f1c43da-f6d0-4da7-ffb1-63e9db0c45a5"
      },
      "execution_count": null,
      "outputs": [
        {
          "output_type": "stream",
          "name": "stdout",
          "text": [
            "Uppercase: ['PYTHON' 'NUMPY' 'PANDAS']\n",
            "Lowercase: ['python' 'numpy' 'pandas']\n",
            "Title Case: ['Python' 'Numpy' 'Pandas']\n"
          ]
        }
      ]
    },
    {
      "cell_type": "markdown",
      "source": [
        "#Q6.Generate a NumPy array of words. Insert a space between each character of every word in the array."
      ],
      "metadata": {
        "id": "VX7fS3RRJCuX"
      }
    },
    {
      "cell_type": "code",
      "source": [
        "arr6 = np.array(['data', 'science', 'numpy'])\n",
        "spaced = np.char.join(' ', arr6)\n",
        "print(spaced)\n"
      ],
      "metadata": {
        "colab": {
          "base_uri": "https://localhost:8080/"
        },
        "id": "mFl73ii6JESy",
        "outputId": "a1153e31-febd-4922-fa11-5526cfac80de"
      },
      "execution_count": null,
      "outputs": [
        {
          "output_type": "stream",
          "name": "stdout",
          "text": [
            "['d a t a' 's c i e n c e' 'n u m p y']\n"
          ]
        }
      ]
    },
    {
      "cell_type": "markdown",
      "source": [
        "#Q7.Create two 2D NumPy arrays and perform element-wise addition, subtraction, multiplication, and division."
      ],
      "metadata": {
        "id": "FdZJYSnMJIch"
      }
    },
    {
      "cell_type": "code",
      "source": [
        "a = np.random.randint(1, 10, (3, 3))\n",
        "b = np.random.randint(1, 10, (3, 3))\n",
        "\n",
        "print(\"Addition:\\n\", a + b)\n",
        "print(\"Subtraction:\\n\", a - b)\n",
        "print(\"Multiplication:\\n\", a * b)\n",
        "print(\"Division:\\n\", a / b)\n"
      ],
      "metadata": {
        "colab": {
          "base_uri": "https://localhost:8080/"
        },
        "id": "sSYpcm4PJJ_x",
        "outputId": "2aa0ec35-a571-42b0-f788-a01274e05e5d"
      },
      "execution_count": null,
      "outputs": [
        {
          "output_type": "stream",
          "name": "stdout",
          "text": [
            "Addition:\n",
            " [[ 9  8 11]\n",
            " [13  6 15]\n",
            " [13 12  9]]\n",
            "Subtraction:\n",
            " [[-5  0 -5]\n",
            " [-1 -4 -1]\n",
            " [ 3  6 -5]]\n",
            "Multiplication:\n",
            " [[14 16 24]\n",
            " [42  5 56]\n",
            " [40 27 14]]\n",
            "Division:\n",
            " [[0.28571429 1.         0.375     ]\n",
            " [0.85714286 0.2        0.875     ]\n",
            " [1.6        3.         0.28571429]]\n"
          ]
        }
      ]
    },
    {
      "cell_type": "markdown",
      "source": [
        "#Q8.Use NumPy to create a 5x5 identity matrix, then extract its diagonal elements."
      ],
      "metadata": {
        "id": "4oywnNuMJOlZ"
      }
    },
    {
      "cell_type": "code",
      "source": [
        "identity = np.eye(5)\n",
        "diagonal = np.diag(identity)\n",
        "print(\"Diagonal elements:\", diagonal)\n"
      ],
      "metadata": {
        "colab": {
          "base_uri": "https://localhost:8080/"
        },
        "id": "n7fwYA5-JTjB",
        "outputId": "87ec81ee-baf6-4022-9f95-b72b952e75cd"
      },
      "execution_count": null,
      "outputs": [
        {
          "output_type": "stream",
          "name": "stdout",
          "text": [
            "Diagonal elements: [1. 1. 1. 1. 1.]\n"
          ]
        }
      ]
    },
    {
      "cell_type": "markdown",
      "source": [
        "#Q9.Generate a NumPy array of 100 random integers between 0 and 1000. Find and display all prime numbers in this array."
      ],
      "metadata": {
        "id": "GOn_X-qqJWag"
      }
    },
    {
      "cell_type": "code",
      "source": [
        "def is_prime(n):\n",
        "    if n < 2:\n",
        "        return False\n",
        "    for i in range(2, int(np.sqrt(n)) + 1):\n",
        "        if n % i == 0:\n",
        "            return False\n",
        "    return True\n",
        "\n",
        "arr9 = np.random.randint(0, 1000, 100)\n",
        "primes = np.array([x for x in arr9 if is_prime(x)])\n",
        "print(\"Prime numbers:\\n\", primes)\n"
      ],
      "metadata": {
        "colab": {
          "base_uri": "https://localhost:8080/"
        },
        "id": "iorlo4yNJYQZ",
        "outputId": "2fd0acf7-30ab-4891-ba22-f299726fa9ec"
      },
      "execution_count": null,
      "outputs": [
        {
          "output_type": "stream",
          "name": "stdout",
          "text": [
            "Prime numbers:\n",
            " [757 317   2 457 557 929 857 457 853 211 971 557 853   5  73 619 541  41\n",
            " 883 601]\n"
          ]
        }
      ]
    },
    {
      "cell_type": "markdown",
      "source": [
        "#Q10. Create a NumPy array representing daily temperatures for a month. Calculate and display the weekly averages."
      ],
      "metadata": {
        "id": "l2MQqcQaJbpM"
      }
    },
    {
      "source": [
        "temps = np.random.uniform(15, 35, 28)  # daily temps for a month, adjusted to 28 days\n",
        "weekly_avg = temps.reshape(4, 7).mean(axis=1)  # Reshape to 4 weeks and calculate weekly averages\n",
        "print(\"Weekly averages:\", weekly_avg)"
      ],
      "cell_type": "code",
      "metadata": {
        "colab": {
          "base_uri": "https://localhost:8080/"
        },
        "id": "xQebk5OkJoTB",
        "outputId": "676ff973-920a-4135-fa2f-f633889e8118"
      },
      "execution_count": null,
      "outputs": [
        {
          "output_type": "stream",
          "name": "stdout",
          "text": [
            "Weekly averages: [23.00150513 28.0077057  22.87252872 25.2730223 ]\n"
          ]
        }
      ]
    }
  ]
}
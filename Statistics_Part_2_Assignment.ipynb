{
  "nbformat": 4,
  "nbformat_minor": 0,
  "metadata": {
    "colab": {
      "provenance": []
    },
    "kernelspec": {
      "name": "python3",
      "display_name": "Python 3"
    },
    "language_info": {
      "name": "python"
    }
  },
  "cells": [
    {
      "cell_type": "markdown",
      "source": [
        "##Q1. What is hypothesis testing in statistics?\n",
        "\n",
        "\n",
        "\n",
        "\n",
        "##Ans- Hypothesis testing is a statistical method used to make decisions or inferences about population parameters based on sample data. It involves formulating a null hypothesis (H₀) and an alternative hypothesis (H₁), then using data to determine whether there is enough evidence to reject the null hypothesis.\n",
        "\n",
        "\n",
        "\n",
        "\n",
        "##Q2. What is the null hypothesis, and how does it differ from the alternative hypothesis?\n",
        "\n",
        "\n",
        "\n",
        "##Ans- The null hypothesis (H₀) is a statement that there is no effect or no difference, and it serves as the default or starting assumption. The alternative hypothesis (H₁ or Ha) contradicts the null and proposes that there is an effect or difference. Hypothesis testing determines which of the two statements is supported by the sample data.\n",
        "\n",
        "\n",
        "\n",
        "##Q3. What is the significance level in hypothesis testing, and why is it important?\n",
        "\n",
        "\n",
        "\n",
        "##Ans-The significance level (denoted as α) is the probability of rejecting the null hypothesis when it is actually true. Common values are 0.05 or 0.01. It represents the threshold for determining statistical significance and controls the likelihood of making a Type I error.\n",
        "\n",
        "\n",
        "\n",
        "\n",
        "##Q4. What does a P-value represent in hypothesis testing?\n",
        "\n",
        "\n",
        "\n",
        "\n",
        "##Ans- The P-value is the probability of obtaining a result as extreme as, or more extreme than, the observed result, assuming the null hypothesis is true. A small P-value (typically less than α) indicates strong evidence against the null hypothesis.\n",
        "\n",
        "\n",
        "\n",
        "\n",
        "\n",
        "\n",
        "##Q5. How do you interpret the P-value in hypothesis testing?\n",
        "\n",
        "\n",
        "\n",
        "\n",
        "##Ans- If the P-value is less than or equal to the chosen significance level (α), we reject the null hypothesis, indicating that the results are statistically significant. If the P-value is greater than α, we fail to reject the null hypothesis, implying insufficient evidence to support the alternative hypothesis.\n",
        "\n",
        "\n",
        "\n",
        "##Q6. What are Type 1 and Type 2 errors in hypothesis testing?\n",
        "\n",
        "\n",
        "\n",
        "##Ans- A Type 1 error occurs when the null hypothesis is rejected when it is actually true. A Type 2 error occurs when the null hypothesis is not rejected when the alternative hypothesis is true. Type 1 errors are controlled by the significance level, while Type 2 errors are influenced by sample size and effect size.\n",
        "\n",
        "\n",
        "\n",
        "\n",
        "\n",
        "##Q7. What is the difference between a one-tailed and a two-tailed test in hypothesis testing?\n",
        "\n",
        "\n",
        "\n",
        "\n",
        "##Ans-A one-tailed test assesses the direction of the effect (greater than or less than), while a two-tailed test evaluates whether the effect is simply different, regardless of direction. One-tailed tests have more power to detect an effect in one direction, but cannot detect effects in the opposite direction.\n",
        "\n",
        "\n",
        "\n",
        "\n",
        "\n",
        "\n",
        "##Q8. What is the Z-test, and when is it used in hypothesis testing?\n",
        "\n",
        "\n",
        "\n",
        "##Ans- A Z-test is used to test hypotheses about population means when the population variance is known and the sample size is large (typically n > 30). It uses the standard normal distribution to determine the test statistic and associated P-value.\n",
        "\n",
        "\n",
        "\n",
        "\n",
        "\n",
        "##Q9. How do you calculate the Z-score, and what does it represent in hypothesis testing?\n",
        "\n",
        "\n",
        "\n",
        "##Ans-The Z-score is calculated as:"
      ],
      "metadata": {
        "id": "mdoNTK3C1Iud"
      }
    },
    {
      "cell_type": "code",
      "source": [
        "from IPython.display import display, Math\n",
        "\n",
        "# Use raw string (r'...') for LaTeX syntax\n",
        "display(Math(r'Z = \\frac{\\bar{x} - \\mu}{\\frac{\\sigma}{\\sqrt{n}}}'))\n"
      ],
      "metadata": {
        "colab": {
          "base_uri": "https://localhost:8080/",
          "height": 59
        },
        "id": "Oeb8870d4Ftp",
        "outputId": "b33a31fb-e499-4457-c799-1fa538f1dbf4"
      },
      "execution_count": null,
      "outputs": [
        {
          "output_type": "display_data",
          "data": {
            "text/plain": [
              "<IPython.core.display.Math object>"
            ],
            "text/latex": "$\\displaystyle Z = \\frac{\\bar{x} - \\mu}{\\frac{\\sigma}{\\sqrt{n}}}$"
          },
          "metadata": {}
        }
      ]
    },
    {
      "cell_type": "markdown",
      "source": [
        "##Where:  \n",
        "- \\( \\bar{x} \\) = Sample mean  \n",
        "- \\( \\mu \\) = Population mean  \n",
        "- \\( \\sigma \\) = Population standard deviation  \n",
        "- \\( n \\) = Sample size"
      ],
      "metadata": {
        "id": "EkesHBb45Au5"
      }
    },
    {
      "cell_type": "markdown",
      "source": [
        "##Q10. What is the T-distribution, and when should it be used instead of the normal distribution?\n",
        "\n",
        "\n",
        "\n",
        "\n",
        "##Ans-The T-distribution is used when the sample size is small (n < 30) and the population standard deviation is unknown. It is similar to the normal distribution but has heavier tails, allowing for more variability in small samples.\n",
        "\n",
        "\n",
        "\n",
        "##Q11. What is the difference between a Z-test and a T-test?\n",
        "\n",
        "\n",
        "\n",
        "\n",
        "##Ans-A Z-test is used when the population variance is known and sample size is large, whereas a T-test is used when the population variance is unknown and the sample size is small. The T-test relies on the T-distribution, which adjusts for smaller sample sizes.\n",
        "\n",
        "\n",
        "\n",
        "\n",
        "##Q12. What is the T-test, and how is it used in hypothesis testing?\n",
        "\n",
        "\n",
        "\n",
        "##Ans- A T-test evaluates whether the means of two groups are statistically different from each other. There are several types of T-tests (e.g., one-sample, two-sample, paired) used depending on the data structure and hypothesis being tested.\n",
        "\n",
        "\n",
        "\n",
        "\n",
        "\n",
        "##Q13. What is the relationship between Z-test and T-test in hypothesis testing?\n",
        "\n",
        "\n",
        "\n",
        "\n",
        "##Ans- Both Z-test and T-test are used to compare means, but they differ in their assumptions. The Z-test assumes known population variance and large sample size, while the T-test is appropriate for small samples and unknown population variance.\n",
        "\n",
        "\n",
        "\n",
        "##Q14. What is a confidence interval, and how is it used to interpret statistical results?\n",
        "\n",
        "\n",
        "\n",
        "##Ans- A confidence interval provides a range of values within which the population parameter is expected to lie, with a certain level of confidence (e.g., 95%). It helps in understanding the precision of an estimate and whether a hypothesized value lies within this range.\n",
        "\n",
        "\n",
        "\n",
        "\n",
        "\n",
        "\n",
        "##Q15. What is the margin of error, and how does it affect the confidence interval?\n",
        "\n",
        "\n",
        "\n",
        "\n",
        "##Ans- The margin of error represents the maximum expected difference between the sample estimate and the true population value. A larger margin results in a wider confidence interval, indicating less precision. It depends on the sample size, variability, and confidence level.\n",
        "\n",
        "\n",
        "\n",
        "\n",
        "##Q16. How is Bayes’ Theorem used in statistics, and what is its significance?\n",
        "\n",
        "\n",
        "\n",
        "\n",
        "##Ans- Bayes’ Theorem calculates the probability of an event based on prior knowledge of related conditions. It is significant in updating probabilities as more evidence or information becomes available and is widely used in machine learning and decision-making.\n",
        "\n",
        "\n",
        "\n",
        "\n",
        "\n",
        "##Q17. What is the Chi-square distribution, and when is it used?\n",
        "\n",
        "\n",
        "\n",
        "\n",
        "##Ans- The Chi-square distribution is used in tests of independence and goodness-of-fit for categorical data. It assesses whether observed frequencies differ significantly from expected frequencies under a specific hypothesis.\n",
        "\n",
        "\n",
        "\n",
        "\n",
        "\n",
        "##Q18. What is the Chi-square goodness of fit test, and how is it applied?\n",
        "\n",
        "\n",
        "\n",
        "\n",
        "##Ans- The Chi-square goodness of fit test evaluates whether a sample distribution matches an expected distribution. It compares observed counts to expected counts and calculates the Chi-square statistic to determine if differences are due to chance.\n",
        "\n",
        "\n",
        "\n",
        "\n",
        "\n",
        "##Q19. What is the F-distribution, and when is it used in hypothesis testing?\n",
        "\n",
        "\n",
        "\n",
        "\n",
        "##The F-distribution is used primarily in comparing variances between two or more groups, such as in ANOVA tests. It is a right-skewed distribution used when testing the ratio of two variances.\n",
        "\n",
        "\n",
        "\n",
        "\n",
        "##Q20. What is an ANOVA test, and what are its assumptions?\n",
        "\n",
        "\n",
        "\n",
        "\n",
        "##Ans- ANOVA (Analysis of Variance) tests whether there are significant differences among group means. It assumes that samples are independent, populations are normally distributed, and have equal variances.\n",
        "\n",
        "\n",
        "\n",
        "\n",
        "\n",
        "##Q21. What are the different types of ANOVA tests?\n",
        "\n",
        "\n",
        "\n",
        "\n",
        "##Ans- The main types of ANOVA tests include:\n",
        "\n",
        "\n",
        "\n",
        "\n",
        "\n",
        "*   One-way ANOVA (one independent variable)\n",
        "\n",
        "*   Two-way ANOVA (two independent variables)\n",
        "\n",
        "*   Repeated measures ANOVA (same subjects measured multiple times)\n",
        "\n",
        "\n",
        "\n",
        "##Q22. What is the F-test, and how does it relate to hypothesis testing?\n",
        "\n",
        "\n",
        "\n",
        "\n",
        "##Ans-The F-test evaluates whether two populations have different variances. In hypothesis testing, it is used in ANOVA to compare group variances and determine whether group means are significantly different.\n"
      ],
      "metadata": {
        "id": "6ImLJHwJ4bU4"
      }
    },
    {
      "cell_type": "markdown",
      "source": [
        "#**PRACTICAL**:\n",
        "#Q1.Write a Python program to perform a Z-test for comparing a sample mean to a known population mean and interpret the results."
      ],
      "metadata": {
        "id": "q-1-PDvh1G6q"
      }
    },
    {
      "cell_type": "code",
      "source": [
        "from scipy import stats\n",
        "import numpy as np\n",
        "\n",
        "# Sample data\n",
        "sample = np.array([100, 102, 98, 101, 99, 97, 103, 104])\n",
        "pop_mean = 100\n",
        "pop_std = 2  # known population standard deviation\n",
        "\n",
        "# Z-test\n",
        "z_score = (np.mean(sample) - pop_mean) / (pop_std / np.sqrt(len(sample)))\n",
        "p_value = 2 * (1 - stats.norm.cdf(abs(z_score)))\n",
        "\n",
        "print(\"Z-score:\", z_score)\n",
        "print(\"P-value:\", p_value)\n",
        "\n",
        "if p_value < 0.05:\n",
        "    print(\"Reject the null hypothesis.\")\n",
        "else:\n",
        "    print(\"Fail to reject the null hypothesis.\")\n"
      ],
      "metadata": {
        "colab": {
          "base_uri": "https://localhost:8080/"
        },
        "id": "HbWxLYa1LX8k",
        "outputId": "d521faca-dc01-4804-88a7-0b190f50ee6d"
      },
      "execution_count": 19,
      "outputs": [
        {
          "output_type": "stream",
          "name": "stdout",
          "text": [
            "Z-score: 0.7071067811865476\n",
            "P-value: 0.47950012218695326\n",
            "Fail to reject the null hypothesis.\n"
          ]
        }
      ]
    },
    {
      "cell_type": "markdown",
      "source": [
        "#Q2.Simulate random data to perform hypothesis testing and calculate the corresponding P-value using Python."
      ],
      "metadata": {
        "id": "u9TnCOOaLfAS"
      }
    },
    {
      "cell_type": "code",
      "source": [
        "import numpy as np\n",
        "from scipy import stats\n",
        "\n",
        "# Simulate data\n",
        "np.random.seed(42)\n",
        "data = np.random.normal(loc=50, scale=10, size=100)\n",
        "\n",
        "# Null hypothesis: mean = 50\n",
        "t_stat, p_val = stats.ttest_1samp(data, 50)\n",
        "\n",
        "print(\"T-statistic:\", t_stat)\n",
        "print(\"P-value:\", p_val)\n"
      ],
      "metadata": {
        "colab": {
          "base_uri": "https://localhost:8080/"
        },
        "id": "a-LgBJkuLtal",
        "outputId": "94d46dd6-4576-4eb3-f2b0-33c8e5769b13"
      },
      "execution_count": 20,
      "outputs": [
        {
          "output_type": "stream",
          "name": "stdout",
          "text": [
            "T-statistic: -1.1434720057588346\n",
            "P-value: 0.2556001762530408\n"
          ]
        }
      ]
    },
    {
      "cell_type": "markdown",
      "source": [
        "#Q3. Implement a one-sample Z-test using Python to compare the sample mean with the population mean."
      ],
      "metadata": {
        "id": "Drn_7w1wL0Rd"
      }
    },
    {
      "cell_type": "code",
      "source": [
        "import numpy as np\n",
        "from scipy.stats import norm\n",
        "\n",
        "# One-sample Z-test\n",
        "def one_sample_z_test(sample_data, population_mean, population_std):\n",
        "    sample_mean = np.mean(sample_data)\n",
        "    sample_size = len(sample_data)\n",
        "    z = (sample_mean - population_mean) / (population_std / np.sqrt(sample_size))\n",
        "    p = 2 * (1 - norm.cdf(abs(z)))\n",
        "    return z, p\n",
        "\n",
        "# Example\n",
        "sample = np.array([102, 100, 98, 97, 99, 101, 103, 105])\n",
        "z_val, p_val = one_sample_z_test(sample, 100, 2)\n",
        "print(\"Z-statistic:\", z_val)\n",
        "print(\"P-value:\", p_val)\n"
      ],
      "metadata": {
        "colab": {
          "base_uri": "https://localhost:8080/"
        },
        "id": "zfOhk_EOL12d",
        "outputId": "6a45ff6a-60cb-4327-8ef8-2de11325df37"
      },
      "execution_count": 21,
      "outputs": [
        {
          "output_type": "stream",
          "name": "stdout",
          "text": [
            "Z-statistic: 0.8838834764831844\n",
            "P-value: 0.3767591178115821\n"
          ]
        }
      ]
    },
    {
      "cell_type": "markdown",
      "source": [
        "#Q4. Perform a two-tailed Z-test using Python and visualize the decision region on a plot."
      ],
      "metadata": {
        "id": "haO_0sdhL6qR"
      }
    },
    {
      "cell_type": "code",
      "source": [
        "import numpy as np\n",
        "import matplotlib.pyplot as plt\n",
        "from scipy.stats import norm\n",
        "\n",
        "def two_tailed_z_test_plot(sample, pop_mean, pop_std, alpha=0.05):\n",
        "    sample_mean = np.mean(sample)\n",
        "    n = len(sample)\n",
        "    z = (sample_mean - pop_mean) / (pop_std / np.sqrt(n))\n",
        "    p = 2 * (1 - norm.cdf(abs(z)))\n",
        "\n",
        "    # Plot decision region\n",
        "    x = np.linspace(-4, 4, 1000)\n",
        "    y = norm.pdf(x)\n",
        "    z_crit = norm.ppf(1 - alpha/2)\n",
        "\n",
        "    plt.plot(x, y)\n",
        "    plt.fill_between(x, y, where=(x < -z_crit) | (x > z_crit), color='red', alpha=0.3, label='Rejection region')\n",
        "    plt.axvline(z, color='black', linestyle='--', label=f'Z = {z:.2f}')\n",
        "    plt.title(\"Two-Tailed Z-Test\")\n",
        "    plt.legend()\n",
        "    plt.show()\n",
        "\n",
        "    return z, p\n",
        "\n",
        "# Example\n",
        "sample = np.random.normal(100, 10, 30)\n",
        "z, p = two_tailed_z_test_plot(sample, 100, 10)\n",
        "print(f\"Z = {z:.2f}, P = {p:.4f}\")\n"
      ],
      "metadata": {
        "colab": {
          "base_uri": "https://localhost:8080/",
          "height": 469
        },
        "id": "FbVKyxiRL81p",
        "outputId": "de03a45f-c334-4ef8-bcd9-f8ef463cb89f"
      },
      "execution_count": 22,
      "outputs": [
        {
          "output_type": "display_data",
          "data": {
            "text/plain": [
              "<Figure size 640x480 with 1 Axes>"
            ],
            "image/png": "[encoded data removed]"
          },
          "metadata": {}
        },
        {
          "output_type": "stream",
          "name": "stdout",
          "text": [
            "Z = 0.29, P = 0.7725\n"
          ]
        }
      ]
    },
    {
      "cell_type": "markdown",
      "source": [
        "#Q5. Create a Python function that calculates and visualizes Type 1 and Type 2 errors during hypothesis testing."
      ],
      "metadata": {
        "id": "-HyVCfrXMbVS"
      }
    },
    {
      "cell_type": "code",
      "source": [
        "def visualize_type_errors(mu0=0, mu1=1, sigma=1, n=30, alpha=0.05):\n",
        "    se = sigma / np.sqrt(n)\n",
        "    x = np.linspace(-4, 4, 1000)\n",
        "\n",
        "    y0 = norm.pdf(x, mu0, se)\n",
        "    y1 = norm.pdf(x, mu1, se)\n",
        "    z_alpha = norm.ppf(1 - alpha)\n",
        "\n",
        "    beta = norm.cdf((z_alpha * se - (mu1 - mu0)) / se)\n",
        "\n",
        "    plt.plot(x, y0, label='Null Hypothesis (H0)', color='blue')\n",
        "    plt.plot(x, y1, label='Alternative Hypothesis (H1)', color='green')\n",
        "    plt.fill_between(x, y0, where=(x >= z_alpha), color='red', alpha=0.3, label='Type I Error')\n",
        "    plt.fill_between(x, y1, where=(x < z_alpha), color='orange', alpha=0.3, label='Type II Error')\n",
        "\n",
        "    plt.title(\"Type I and Type II Errors\")\n",
        "    plt.legend()\n",
        "    plt.show()\n",
        "\n",
        "    print(f\"Type II error (Beta) = {beta:.4f}, Power = {1 - beta:.4f}\")\n"
      ],
      "metadata": {
        "id": "o-XJhWQbMc8S"
      },
      "execution_count": 23,
      "outputs": []
    },
    {
      "cell_type": "markdown",
      "source": [
        "#Q6. Write a Python program to perform an independent T-test and interpret the results."
      ],
      "metadata": {
        "id": "SCNsppRNMipK"
      }
    },
    {
      "cell_type": "code",
      "source": [
        "from scipy.stats import ttest_ind\n",
        "\n",
        "def independent_t_test(data1, data2):\n",
        "    t_stat, p_value = ttest_ind(data1, data2)\n",
        "    print(f\"T-statistic: {t_stat:.2f}, P-value: {p_value:.4f}\")\n",
        "    if p_value < 0.05:\n",
        "        print(\"Reject the null hypothesis.\")\n",
        "    else:\n",
        "        print(\"Fail to reject the null hypothesis.\")\n",
        "\n",
        "# Example\n",
        "group1 = np.random.normal(50, 5, 30)\n",
        "group2 = np.random.normal(53, 5, 30)\n",
        "independent_t_test(group1, group2)\n"
      ],
      "metadata": {
        "colab": {
          "base_uri": "https://localhost:8080/"
        },
        "id": "V9XJglhoMpDk",
        "outputId": "6cd7020c-2f88-438f-a3f0-446e8df8c506"
      },
      "execution_count": 24,
      "outputs": [
        {
          "output_type": "stream",
          "name": "stdout",
          "text": [
            "T-statistic: -3.33, P-value: 0.0015\n",
            "Reject the null hypothesis.\n"
          ]
        }
      ]
    },
    {
      "cell_type": "markdown",
      "source": [
        "#Q7. Perform a paired sample T-test using Python and visualize the comparison results."
      ],
      "metadata": {
        "id": "9vT4kvLRMtvF"
      }
    },
    {
      "cell_type": "code",
      "source": [
        "import numpy as np\n",
        "from scipy.stats import ttest_rel\n",
        "import matplotlib.pyplot as plt\n",
        "\n",
        "# Simulated before and after data\n",
        "before = np.random.normal(50, 5, 30)\n",
        "after = before + np.random.normal(2, 2, 30)  # Slight improvement\n",
        "\n",
        "# Paired T-test\n",
        "t_stat, p_val = ttest_rel(before, after)\n",
        "print(f\"T-statistic: {t_stat:.2f}, P-value: {p_val:.4f}\")\n",
        "\n",
        "if p_val < 0.05:\n",
        "    print(\"Reject the null hypothesis: Significant difference.\")\n",
        "else:\n",
        "    print(\"Fail to reject the null hypothesis: No significant difference.\")\n",
        "\n",
        "# Visualization\n",
        "plt.plot(before, label='Before', marker='o')\n",
        "plt.plot(after, label='After', marker='x')\n",
        "plt.title(\"Before vs After - Paired Sample\")\n",
        "plt.legend()\n",
        "plt.show()\n"
      ],
      "metadata": {
        "colab": {
          "base_uri": "https://localhost:8080/",
          "height": 487
        },
        "id": "VQ1Tu3oLMvSU",
        "outputId": "fb944e79-00c2-4d6a-b9c5-96674d5a0163"
      },
      "execution_count": 25,
      "outputs": [
        {
          "output_type": "stream",
          "name": "stdout",
          "text": [
            "T-statistic: -4.91, P-value: 0.0000\n",
            "Reject the null hypothesis: Significant difference.\n"
          ]
        },
        {
          "output_type": "display_data",
          "data": {
            "text/plain": [
              "<Figure size 640x480 with 1 Axes>"
            ],
            "image/png": "[encoded data removed]"
          },
          "metadata": {}
        }
      ]
    },
    {
      "cell_type": "markdown",
      "source": [
        "#Q8. Simulate data and perform both Z-test and T-test, then compare the results using Python."
      ],
      "metadata": {
        "id": "FLrhFsNUMzrY"
      }
    },
    {
      "cell_type": "code",
      "source": [
        "import numpy as np\n",
        "from scipy.stats import ttest_1samp, norm\n",
        "\n",
        "# Simulate sample data\n",
        "np.random.seed(1)\n",
        "sample = np.random.normal(100, 10, 25)\n",
        "population_mean = 100\n",
        "population_std = 10  # known std for Z-test\n",
        "\n",
        "# --- Z-test ---\n",
        "z_score = (np.mean(sample) - population_mean) / (population_std / np.sqrt(len(sample)))\n",
        "z_p_value = 2 * (1 - norm.cdf(abs(z_score)))\n",
        "\n",
        "# --- T-test ---\n",
        "t_stat, t_p_value = ttest_1samp(sample, population_mean)\n",
        "\n",
        "# Results\n",
        "print(f\"Z-test: Z = {z_score:.2f}, P-value = {z_p_value:.4f}\")\n",
        "print(f\"T-test: T = {t_stat:.2f}, P-value = {t_p_value:.4f}\")\n",
        "\n",
        "if z_p_value < 0.05:\n",
        "    print(\"Z-test: Significant difference.\")\n",
        "else:\n",
        "    print(\"Z-test: Not significant.\")\n",
        "\n",
        "if t_p_value < 0.05:\n",
        "    print(\"T-test: Significant difference.\")\n",
        "else:\n",
        "    print(\"T-test: Not significant.\")\n"
      ],
      "metadata": {
        "colab": {
          "base_uri": "https://localhost:8080/"
        },
        "id": "2ghERkCiM1-j",
        "outputId": "d18e6135-bd6d-45c0-bf84-ce76634f3e3b"
      },
      "execution_count": 26,
      "outputs": [
        {
          "output_type": "stream",
          "name": "stdout",
          "text": [
            "Z-test: Z = -0.06, P-value = 0.9492\n",
            "T-test: T = -0.06, P-value = 0.9543\n",
            "Z-test: Not significant.\n",
            "T-test: Not significant.\n"
          ]
        }
      ]
    },
    {
      "cell_type": "markdown",
      "source": [
        "#Q9. Write a Python function to calculate the confidence interval for a sample mean and explain its significance."
      ],
      "metadata": {
        "id": "fq1oPPZLM7JW"
      }
    },
    {
      "cell_type": "code",
      "source": [
        "import numpy as np\n",
        "from scipy.stats import t\n",
        "\n",
        "def confidence_interval(sample, confidence=0.95):\n",
        "    n = len(sample)\n",
        "    mean = np.mean(sample)\n",
        "    se = np.std(sample, ddof=1) / np.sqrt(n)\n",
        "    t_crit = t.ppf((1 + confidence) / 2, df=n-1)\n",
        "\n",
        "    margin_of_error = t_crit * se\n",
        "    lower = mean - margin_of_error\n",
        "    upper = mean + margin_of_error\n",
        "\n",
        "    print(f\"Sample mean: {mean:.2f}\")\n",
        "    print(f\"{int(confidence*100)}% Confidence Interval: ({lower:.2f}, {upper:.2f})\")\n",
        "    return (lower, upper)\n",
        "\n",
        "# Example\n",
        "data = np.random.normal(100, 15, 40)\n",
        "confidence_interval(data)\n"
      ],
      "metadata": {
        "colab": {
          "base_uri": "https://localhost:8080/"
        },
        "id": "8WVvNYGzM8ys",
        "outputId": "bc927ae2-906e-4deb-ba53-45bffb165b6e"
      },
      "execution_count": 27,
      "outputs": [
        {
          "output_type": "stream",
          "name": "stdout",
          "text": [
            "Sample mean: 100.76\n",
            "95% Confidence Interval: (96.90, 104.61)\n"
          ]
        },
        {
          "output_type": "execute_result",
          "data": {
            "text/plain": [
              "(np.float64(96.90208486697458), np.float64(104.61211460483054))"
            ]
          },
          "metadata": {},
          "execution_count": 27
        }
      ]
    },
    {
      "cell_type": "markdown",
      "source": [
        "#Q10. Write a Python program to calculate the margin of error for a given confidence level using sample data."
      ],
      "metadata": {
        "id": "9KAXKoEqNExO"
      }
    },
    {
      "cell_type": "code",
      "source": [
        "import numpy as np\n",
        "from scipy.stats import t\n",
        "\n",
        "def calculate_margin_of_error(sample, confidence_level=0.95):\n",
        "    n = len(sample)\n",
        "    mean = np.mean(sample)\n",
        "    std_dev = np.std(sample, ddof=1)  # sample standard deviation\n",
        "    standard_error = std_dev / np.sqrt(n)\n",
        "\n",
        "    # t-critical value for the given confidence level\n",
        "    t_crit = t.ppf((1 + confidence_level) / 2, df=n-1)\n",
        "\n",
        "    margin_of_error = t_crit * standard_error\n",
        "\n",
        "    print(f\"Sample Mean: {mean:.2f}\")\n",
        "    print(f\"Sample Size: {n}\")\n",
        "    print(f\"Standard Deviation: {std_dev:.2f}\")\n",
        "    print(f\"Standard Error: {standard_error:.2f}\")\n",
        "    print(f\"t-Critical Value: {t_crit:.3f}\")\n",
        "    print(f\"Margin of Error at {int(confidence_level * 100)}% confidence level: {margin_of_error:.2f}\")\n",
        "\n",
        "    return margin_of_error\n",
        "\n",
        "# Example usage\n",
        "sample_data = [12, 15, 14, 10, 13, 12, 16, 14, 15, 11]\n",
        "calculate_margin_of_error(sample_data, confidence_level=0.95)\n"
      ],
      "metadata": {
        "colab": {
          "base_uri": "https://localhost:8080/"
        },
        "id": "aoW1CUtvCK5V",
        "outputId": "f19934f1-877e-45a7-aff4-7141c81bcbd4"
      },
      "execution_count": 28,
      "outputs": [
        {
          "output_type": "stream",
          "name": "stdout",
          "text": [
            "Sample Mean: 13.20\n",
            "Sample Size: 10\n",
            "Standard Deviation: 1.93\n",
            "Standard Error: 0.61\n",
            "t-Critical Value: 2.262\n",
            "Margin of Error at 95% confidence level: 1.38\n"
          ]
        },
        {
          "output_type": "execute_result",
          "data": {
            "text/plain": [
              "np.float64(1.3822008576887275)"
            ]
          },
          "metadata": {},
          "execution_count": 28
        }
      ]
    },
    {
      "cell_type": "markdown",
      "source": [
        "#Q11. Implement a Bayesian inference method using Bayes' Theorem in Python and explain the process."
      ],
      "metadata": {
        "id": "DjReWtDKNLwJ"
      }
    },
    {
      "cell_type": "code",
      "source": [
        "def bayesian_inference(prior_disease, sensitivity, false_positive_rate):\n",
        "    # Complementary probabilities\n",
        "    prior_no_disease = 1 - prior_disease\n",
        "    specificity = 1 - false_positive_rate\n",
        "\n",
        "    # Bayes' theorem\n",
        "    numerator = sensitivity * prior_disease\n",
        "    denominator = (sensitivity * prior_disease) + (false_positive_rate * prior_no_disease)\n",
        "\n",
        "    posterior = numerator / denominator\n",
        "    print(f\"Probability of disease given a positive test: {posterior:.4f}\")\n",
        "    return posterior\n",
        "\n",
        "# Example inputs\n",
        "P_disease = 0.01              # Prior: 1% of people have the disease\n",
        "P_positive_given_disease = 0.99   # Sensitivity\n",
        "P_positive_given_no_disease = 0.05  # False positive rate\n",
        "\n",
        "# Run inference\n",
        "bayesian_inference(P_disease, P_positive_given_disease, P_positive_given_no_disease)\n"
      ],
      "metadata": {
        "colab": {
          "base_uri": "https://localhost:8080/"
        },
        "id": "Hdzo1UvyC0Mp",
        "outputId": "e31eaaaf-3b28-4c49-e534-14ebdb188d03"
      },
      "execution_count": 29,
      "outputs": [
        {
          "output_type": "stream",
          "name": "stdout",
          "text": [
            "Probability of disease given a positive test: 0.1667\n"
          ]
        },
        {
          "output_type": "execute_result",
          "data": {
            "text/plain": [
              "0.16666666666666669"
            ]
          },
          "metadata": {},
          "execution_count": 29
        }
      ]
    },
    {
      "cell_type": "markdown",
      "source": [
        "#**EXPLANATION**:\n",
        "Even though the test is accurate, the **base rate (prior)** is very low.\n",
        "So even with a positive test result, there's only a **16.67%** chance the person has the disease.\n",
        "This is the essence of **Bayesian reasoning** — we **update our belief**(posterior) based on new evidence (the test result) and prior knowledge (base rate)."
      ],
      "metadata": {
        "id": "ObiMMEDoDMcv"
      }
    },
    {
      "cell_type": "markdown",
      "source": [
        "#Q12. Perform a Chi-square test for independence between two categorical variables in Python\n",
        "\n",
        "#ANS:We have a survey of people based on **gender** and whether they prefer **coffee or tea**. The goal is to check whether ***drink preference is independent of gender.***"
      ],
      "metadata": {
        "id": "tWsISeMKNShp"
      }
    },
    {
      "cell_type": "code",
      "source": [
        "import numpy as np\n",
        "import pandas as pd\n",
        "from scipy.stats import chi2_contingency\n",
        "\n",
        "# Step 1: Create a contingency table\n",
        "# Rows = Gender, Columns = Drink Preference\n",
        "data = pd.DataFrame({\n",
        "    'Coffee': [20, 30],\n",
        "    'Tea':    [25, 25]\n",
        "}, index=['Male', 'Female'])\n",
        "\n",
        "print(\"Contingency Table:\")\n",
        "print(data)\n",
        "\n",
        "# Step 2: Perform Chi-Square test\n",
        "chi2_stat, p_value, dof, expected = chi2_contingency(data)\n",
        "\n",
        "# Step 3: Output results\n",
        "print(f\"\\nChi-square Statistic = {chi2_stat:.4f}\")\n",
        "print(f\"Degrees of Freedom = {dof}\")\n",
        "print(f\"P-value = {p_value:.4f}\")\n",
        "print(\"\\nExpected Frequencies:\")\n",
        "print(pd.DataFrame(expected, index=data.index, columns=data.columns))\n",
        "\n",
        "# Step 4: Interpretation\n",
        "alpha = 0.05\n",
        "if p_value < alpha:\n",
        "    print(\"\\nConclusion: Reject the null hypothesis. Variables are dependent.\")\n",
        "else:\n",
        "    print(\"\\nConclusion: Fail to reject the null hypothesis. Variables are independent.\")\n"
      ],
      "metadata": {
        "colab": {
          "base_uri": "https://localhost:8080/"
        },
        "id": "viMCZaTcEdY_",
        "outputId": "183fc3f9-32a3-4fcd-e018-28e960da4fd9"
      },
      "execution_count": 30,
      "outputs": [
        {
          "output_type": "stream",
          "name": "stdout",
          "text": [
            "Contingency Table:\n",
            "        Coffee  Tea\n",
            "Male        20   25\n",
            "Female      30   25\n",
            "\n",
            "Chi-square Statistic = 0.6465\n",
            "Degrees of Freedom = 1\n",
            "P-value = 0.4214\n",
            "\n",
            "Expected Frequencies:\n",
            "        Coffee   Tea\n",
            "Male      22.5  22.5\n",
            "Female    27.5  27.5\n",
            "\n",
            "Conclusion: Fail to reject the null hypothesis. Variables are independent.\n"
          ]
        }
      ]
    },
    {
      "cell_type": "markdown",
      "source": [
        "#**EXPLANATION:**\n",
        "\n",
        "*   ***Null hypothesis (H₀)***: Gender and drink preference are independent.\n",
        "\n",
        "*  ***Alternative hypothesis (H₁)***: They are dependent.\n",
        "*  We compare the observed and expected frequencies.\n",
        "\n",
        "\n"
      ],
      "metadata": {
        "id": "U9HwAzX6Efbr"
      }
    },
    {
      "cell_type": "markdown",
      "source": [
        "#Q13.Write a Python program to calculate the expected frequencies for a Chi-square test based on observed data?"
      ],
      "metadata": {
        "id": "e1M-y_jBNX24"
      }
    },
    {
      "cell_type": "code",
      "source": [
        "import numpy as np\n",
        "import pandas as pd\n",
        "\n",
        "# Step 1: Define observed data (contingency table)\n",
        "observed = pd.DataFrame({\n",
        "    'Coffee': [20, 30],\n",
        "    'Tea':    [25, 25]\n",
        "}, index=['Male', 'Female'])\n",
        "\n",
        "print(\"Observed Frequencies:\")\n",
        "print(observed)\n",
        "\n",
        "# Step 2: Compute row sums, column sums, and grand total\n",
        "row_totals = observed.sum(axis=1)\n",
        "col_totals = observed.sum(axis=0)\n",
        "grand_total = observed.values.sum()\n",
        "\n",
        "# Step 3: Calculate expected frequencies\n",
        "expected = pd.DataFrame(index=observed.index, columns=observed.columns)\n",
        "\n",
        "for row in observed.index:\n",
        "    for col in observed.columns:\n",
        "        expected.loc[row, col] = (row_totals[row] * col_totals[col]) / grand_total\n",
        "\n",
        "expected = expected.astype(float)\n",
        "\n",
        "# Step 4: Display expected frequencies\n",
        "print(\"\\nExpected Frequencies (under independence):\")\n",
        "print(expected.round(2))\n"
      ],
      "metadata": {
        "colab": {
          "base_uri": "https://localhost:8080/"
        },
        "id": "UNtTLGngFwqH",
        "outputId": "1adafc26-5db6-412c-d129-e4e0cb97ac21"
      },
      "execution_count": 31,
      "outputs": [
        {
          "output_type": "stream",
          "name": "stdout",
          "text": [
            "Observed Frequencies:\n",
            "        Coffee  Tea\n",
            "Male        20   25\n",
            "Female      30   25\n",
            "\n",
            "Expected Frequencies (under independence):\n",
            "        Coffee   Tea\n",
            "Male      22.5  22.5\n",
            "Female    27.5  27.5\n"
          ]
        }
      ]
    },
    {
      "cell_type": "markdown",
      "source": [
        "#Q14.Perform a goodness-of-fit test using Python to compare the observed data to an expected distribution?\n",
        "\n",
        "#ANS: Suppose a die is rolled 60 times and we get the following observed results:\n",
        "\n",
        "*  **Observed counts:** [10, 8, 9, 11, 12, 10]\n",
        "\n",
        "#Assuming it's a **fair die**, we would expect each face to occur 10 times (since 60 rolls / 6 sides = 10)."
      ],
      "metadata": {
        "id": "coT6MEO5F3vh"
      }
    },
    {
      "cell_type": "code",
      "source": [
        "from scipy.stats import chisquare\n",
        "\n",
        "# Observed frequencies from rolling a die 60 times\n",
        "observed = [10, 8, 9, 11, 12, 10]\n",
        "\n",
        "# Expected frequencies assuming fair die (uniform distribution)\n",
        "expected = [10] * 6\n",
        "\n",
        "# Perform Chi-square goodness-of-fit test\n",
        "chi_stat, p_value = chisquare(f_obs=observed, f_exp=expected)\n",
        "\n",
        "# Output the results\n",
        "print(f\"Chi-square Statistic: {chi_stat:.2f}\")\n",
        "print(f\"P-value: {p_value:.4f}\")\n",
        "\n",
        "# Interpretation\n",
        "alpha = 0.05\n",
        "if p_value < alpha:\n",
        "    print(\"Reject the null hypothesis — observed data does not fit expected distribution.\")\n",
        "else:\n",
        "    print(\"Fail to reject the null hypothesis — observed data fits the expected distribution.\")\n"
      ],
      "metadata": {
        "colab": {
          "base_uri": "https://localhost:8080/"
        },
        "id": "G9rmN4OqHYrB",
        "outputId": "6a746e8c-f48f-4080-f475-09bb697a23a1"
      },
      "execution_count": 32,
      "outputs": [
        {
          "output_type": "stream",
          "name": "stdout",
          "text": [
            "Chi-square Statistic: 1.00\n",
            "P-value: 0.9626\n",
            "Fail to reject the null hypothesis — observed data fits the expected distribution.\n"
          ]
        }
      ]
    },
    {
      "cell_type": "markdown",
      "source": [
        "#Q15.Create a Python script to simulate and visualize the Chi-square distribution and discuss its characteristics."
      ],
      "metadata": {
        "id": "VDoHGXduH4P7"
      }
    },
    {
      "cell_type": "code",
      "source": [
        "import numpy as np\n",
        "import matplotlib.pyplot as plt\n",
        "import seaborn as sns\n",
        "from scipy.stats import chi2\n",
        "\n",
        "# Step 1: Parameters\n",
        "df = 4                  # degrees of freedom\n",
        "sample_size = 10000     # number of samples\n",
        "\n",
        "# Step 2: Simulate Chi-square distributed data\n",
        "data = np.random.chisquare(df, sample_size)\n",
        "\n",
        "# Step 3: Plot\n",
        "plt.figure(figsize=(10, 6))\n",
        "sns.histplot(data, bins=50, kde=True, stat='density', color='skyblue', label=\"Simulated Data\")\n",
        "\n",
        "# Overlay the theoretical chi-square distribution\n",
        "x = np.linspace(0, np.max(data), 500)\n",
        "plt.plot(x, chi2.pdf(x, df), 'r-', lw=2, label=f'Theoretical PDF (df={df})')\n",
        "\n",
        "plt.title(f\"Chi-Square Distribution (df={df})\")\n",
        "plt.xlabel(\"Value\")\n",
        "plt.ylabel(\"Density\")\n",
        "plt.legend()\n",
        "plt.grid(True)\n",
        "plt.tight_layout()\n",
        "plt.show()\n"
      ],
      "metadata": {
        "colab": {
          "base_uri": "https://localhost:8080/",
          "height": 607
        },
        "id": "kVxJbdzcH5GC",
        "outputId": "c9bd2cf4-ecfd-4626-e1cd-0cd0a153b2ba"
      },
      "execution_count": 33,
      "outputs": [
        {
          "output_type": "display_data",
          "data": {
            "text/plain": [
              "<Figure size 1000x600 with 1 Axes>"
            ],
            "image/png": "[encoded data removed]"
          },
          "metadata": {}
        }
      ]
    },
    {
      "cell_type": "markdown",
      "source": [
        "#***Characteristics of the Chi-square Distribution*** :\n",
        "\n",
        "*    ***Non-negative*** : Values range from 0 to ∞.\n",
        "\n",
        "*   ***Right-skewed*** : Especially for small degrees of freedom.\n",
        "*   ***Shape depends on degrees of freedom (df)*** :\n",
        "\n",
        " *   As df increases, the distribution becomes more symmetric and bell-shaped.\n",
        " *   For df > 30, it begins to resemble a normal distribution.\n",
        "\n",
        "\n",
        "\n",
        "\n",
        "\n",
        "\n",
        "\n",
        "\n",
        "\n"
      ],
      "metadata": {
        "id": "DwdtbjkKIOYc"
      }
    },
    {
      "cell_type": "markdown",
      "source": [
        "#Q16.Implement an F-test using Python to compare the variances of two random samples?"
      ],
      "metadata": {
        "id": "AKI-cTUuKZzo"
      }
    },
    {
      "cell_type": "code",
      "source": [
        "import numpy as np\n",
        "from scipy.stats import f\n",
        "\n",
        "def f_test_variances(sample1, sample2, alpha=0.05):\n",
        "    # Step 1: Calculate variances\n",
        "    var1 = np.var(sample1, ddof=1)\n",
        "    var2 = np.var(sample2, ddof=1)\n",
        "\n",
        "    # Step 2: Assign larger variance to numerator\n",
        "    if var1 > var2:\n",
        "        f_stat = var1 / var2\n",
        "        dfn, dfd = len(sample1) - 1, len(sample2) - 1\n",
        "    else:\n",
        "        f_stat = var2 / var1\n",
        "        dfn, dfd = len(sample2) - 1, len(sample1) - 1\n",
        "\n",
        "    # Step 3: Calculate p-value\n",
        "    p_value = 2 * min(f.cdf(f_stat, dfn, dfd), 1 - f.cdf(f_stat, dfn, dfd))\n",
        "\n",
        "    # Step 4: Conclusion\n",
        "    print(f\"F-statistic: {f_stat:.4f}\")\n",
        "    print(f\"Degrees of freedom: {dfn}, {dfd}\")\n",
        "    print(f\"P-value: {p_value:.4f}\")\n",
        "\n",
        "    if p_value < alpha:\n",
        "        print(\"Reject the null hypothesis: Variances are significantly different.\")\n",
        "    else:\n",
        "        print(\"Fail to reject the null hypothesis: Variances are not significantly different.\")\n",
        "\n",
        "# Example usage\n",
        "np.random.seed(0)\n",
        "sample_a = np.random.normal(10, 2, 30)\n",
        "sample_b = np.random.normal(10, 3, 30)\n",
        "\n",
        "f_test_variances(sample_a, sample_b)\n"
      ],
      "metadata": {
        "colab": {
          "base_uri": "https://localhost:8080/"
        },
        "id": "A8APOy2LKxDi",
        "outputId": "17cf9c46-1d7a-4238-ece0-323b018481ad"
      },
      "execution_count": 34,
      "outputs": [
        {
          "output_type": "stream",
          "name": "stdout",
          "text": [
            "F-statistic: 1.5533\n",
            "Degrees of freedom: 29, 29\n",
            "P-value: 0.2416\n",
            "Fail to reject the null hypothesis: Variances are not significantly different.\n"
          ]
        }
      ]
    },
    {
      "cell_type": "markdown",
      "source": [
        "#Q17. Write a Python program to perform an ANOVA test to compare means between multiple groups and interpret the results?"
      ],
      "metadata": {
        "id": "Kx5hexptK03E"
      }
    },
    {
      "cell_type": "code",
      "source": [
        "import numpy as np\n",
        "from scipy.stats import f_oneway\n",
        "\n",
        "# Step 1: Create sample groups (normally distributed data)\n",
        "np.random.seed(42)\n",
        "group1 = np.random.normal(loc=50, scale=5, size=30)\n",
        "group2 = np.random.normal(loc=52, scale=5, size=30)\n",
        "group3 = np.random.normal(loc=58, scale=5, size=30)\n",
        "\n",
        "# Step 2: Perform ANOVA test\n",
        "f_stat, p_value = f_oneway(group1, group2, group3)\n",
        "\n",
        "# Step 3: Display results\n",
        "print(\"One-Way ANOVA Test Results:\")\n",
        "print(f\"F-statistic: {f_stat:.4f}\")\n",
        "print(f\"P-value: {p_value:.4f}\")\n",
        "\n",
        "# Step 4: Interpret results\n",
        "alpha = 0.05\n",
        "if p_value < alpha:\n",
        "    print(\"Reject the null hypothesis: At least one group mean is significantly different.\")\n",
        "else:\n",
        "    print(\"Fail to reject the null hypothesis: No significant difference between group means.\")\n"
      ],
      "metadata": {
        "colab": {
          "base_uri": "https://localhost:8080/"
        },
        "id": "877bewF7LGMs",
        "outputId": "e509b3ee-6149-4882-8948-f762facd3b2f"
      },
      "execution_count": 35,
      "outputs": [
        {
          "output_type": "stream",
          "name": "stdout",
          "text": [
            "One-Way ANOVA Test Results:\n",
            "F-statistic: 29.5461\n",
            "P-value: 0.0000\n",
            "Reject the null hypothesis: At least one group mean is significantly different.\n"
          ]
        }
      ]
    },
    {
      "cell_type": "markdown",
      "source": [
        "#Q18. Perform a one-way ANOVA test using Python to compare the means of different groups and plot the results?"
      ],
      "metadata": {
        "id": "eoiZAXZcLRnT"
      }
    },
    {
      "cell_type": "code",
      "source": [
        "import numpy as np\n",
        "import pandas as pd\n",
        "import seaborn as sns\n",
        "import matplotlib.pyplot as plt\n",
        "from scipy.stats import f_oneway\n",
        "\n",
        "# Step 1: Create sample data for 3 groups\n",
        "np.random.seed(1)\n",
        "group_A = np.random.normal(50, 5, 30)\n",
        "group_B = np.random.normal(52, 5, 30)\n",
        "group_C = np.random.normal(60, 5, 30)\n",
        "\n",
        "# Step 2: Perform one-way ANOVA\n",
        "f_stat, p_value = f_oneway(group_A, group_B, group_C)\n",
        "\n",
        "print(\"One-Way ANOVA Results:\")\n",
        "print(f\"F-statistic: {f_stat:.4f}\")\n",
        "print(f\"P-value: {p_value:.4f}\")\n",
        "\n",
        "# Step 3: Combine data into a DataFrame for plotting\n",
        "data = pd.DataFrame({\n",
        "    'Score': np.concatenate([group_A, group_B, group_C]),\n",
        "    'Group': ['A']*30 + ['B']*30 + ['C']*30\n",
        "})\n",
        "\n",
        "# Step 4: Create boxplot\n",
        "plt.figure(figsize=(8, 6))\n",
        "sns.boxplot(x='Group', y='Score', data=data, palette='Set2')\n",
        "plt.title('Comparison of Group Means (Boxplot)')\n",
        "plt.ylabel('Scores')\n",
        "plt.xlabel('Group')\n",
        "plt.grid(True)\n",
        "plt.tight_layout()\n",
        "plt.show()\n",
        "\n",
        "# Step 5: Interpretation\n",
        "alpha = 0.05\n",
        "if p_value < alpha:\n",
        "    print(\"Result: Reject the null hypothesis. At least one group mean is significantly different.\")\n",
        "else:\n",
        "    print(\"Result: Fail to reject the null hypothesis. No significant difference among group means.\")\n"
      ],
      "metadata": {
        "colab": {
          "base_uri": "https://localhost:8080/",
          "height": 763
        },
        "id": "1qBnt2JbLmkK",
        "outputId": "cf3aa2cb-c217-4f0e-c14d-8000c62bbbe5"
      },
      "execution_count": 36,
      "outputs": [
        {
          "output_type": "stream",
          "name": "stdout",
          "text": [
            "One-Way ANOVA Results:\n",
            "F-statistic: 47.2144\n",
            "P-value: 0.0000\n"
          ]
        },
        {
          "output_type": "stream",
          "name": "stderr",
          "text": [
            "<ipython-input-36-74d35afc5d77>:28: FutureWarning: \n",
            "\n",
            "Passing `palette` without assigning `hue` is deprecated and will be removed in v0.14.0. Assign the `x` variable to `hue` and set `legend=False` for the same effect.\n",
            "\n",
            "  sns.boxplot(x='Group', y='Score', data=data, palette='Set2')\n"
          ]
        },
        {
          "output_type": "display_data",
          "data": {
            "text/plain": [
              "<Figure size 800x600 with 1 Axes>"
            ],
            "image/png": "[encoded data removed]"
          },
          "metadata": {}
        },
        {
          "output_type": "stream",
          "name": "stdout",
          "text": [
            "Result: Reject the null hypothesis. At least one group mean is significantly different.\n"
          ]
        }
      ]
    },
    {
      "cell_type": "markdown",
      "source": [
        "#Q19. Write a Python function to check the assumptions (normality, independence, and equal variance) for ANOVA?\n",
        "\n",
        "#ANS: ANOVA Assumptions:\n",
        "\n",
        "1.   ***Normality*** – Each group should follow a normal distribution.\n",
        "\n",
        "2.  ***Independence*** – Observations are independent (usually assumed if data are properly collected).\n",
        "3.   ***Homogeneity of variances (equal variance)*** – All groups have similar variance.\n",
        "\n",
        "\n",
        "\n",
        "\n",
        "\n"
      ],
      "metadata": {
        "id": "p_JCsLOlLzUo"
      }
    },
    {
      "cell_type": "code",
      "source": [
        "import numpy as np\n",
        "from scipy.stats import shapiro, levene\n",
        "\n",
        "def check_anova_assumptions(*groups, alpha=0.05):\n",
        "    print(\"Checking ANOVA assumptions...\\n\")\n",
        "\n",
        "    # 1. Normality test (Shapiro-Wilk)\n",
        "    print(\"Normality (Shapiro-Wilk Test):\")\n",
        "    for i, group in enumerate(groups):\n",
        "        stat, p = shapiro(group)\n",
        "        print(f\"  Group {i+1}: W={stat:.4f}, p={p:.4f} ->\",\n",
        "              \"Normal\" if p > alpha else \"Not normal\")\n",
        "\n",
        "    # 2. Homogeneity of variances (Levene's Test)\n",
        "    stat, p = levene(*groups)\n",
        "    print(f\"\\nEqual Variance (Levene's Test): F={stat:.4f}, p={p:.4f} ->\",\n",
        "          \"Equal variances\" if p > alpha else \"Unequal variances\")\n",
        "\n",
        "    print(\"\\nIndependence: This must be ensured by study design (not tested here).\")\n",
        "\n",
        "# ✅ Example Usage\n",
        "if __name__ == \"__main__\":\n",
        "    np.random.seed(0)\n",
        "    g1 = np.random.normal(50, 5, 30)\n",
        "    g2 = np.random.normal(52, 5, 30)\n",
        "    g3 = np.random.normal(58, 5, 30)\n",
        "\n",
        "    check_anova_assumptions(g1, g2, g3)\n"
      ],
      "metadata": {
        "colab": {
          "base_uri": "https://localhost:8080/"
        },
        "id": "jYcXuNYPL7c7",
        "outputId": "262c9c15-6514-43cc-c344-6897b7a45c2e"
      },
      "execution_count": 37,
      "outputs": [
        {
          "output_type": "stream",
          "name": "stdout",
          "text": [
            "Checking ANOVA assumptions...\n",
            "\n",
            "Normality (Shapiro-Wilk Test):\n",
            "  Group 1: W=0.9695, p=0.5254 -> Normal\n",
            "  Group 2: W=0.9835, p=0.9085 -> Normal\n",
            "  Group 3: W=0.9763, p=0.7204 -> Normal\n",
            "\n",
            "Equal Variance (Levene's Test): F=0.3936, p=0.6758 -> Equal variances\n",
            "\n",
            "Independence: This must be ensured by study design (not tested here).\n"
          ]
        }
      ]
    },
    {
      "cell_type": "markdown",
      "source": [
        "#Q20.Perform a two-way ANOVA test using Python to study the interaction between two factors and visualize the results."
      ],
      "metadata": {
        "id": "30dJ_amKNlGR"
      }
    },
    {
      "cell_type": "code",
      "source": [
        "import pandas as pd\n",
        "import statsmodels.api as sm\n",
        "from statsmodels.formula.api import ols\n",
        "import seaborn as sns\n",
        "import matplotlib.pyplot as plt\n",
        "\n",
        "# Simulate data\n",
        "np.random.seed(0)\n",
        "data = pd.DataFrame({\n",
        "    'FactorA': np.repeat(['Low', 'High'], 30),\n",
        "    'FactorB': ['X'] * 15 + ['Y'] * 15 + ['X'] * 15 + ['Y'] * 15,\n",
        "    'Value': np.random.normal(50, 5, 60)\n",
        "})\n",
        "data['Value'] += data['FactorA'].map({'Low': 0, 'High': 5})\n",
        "data['Value'] += data['FactorB'].map({'X': 0, 'Y': 3})\n",
        "\n",
        "# ANOVA model\n",
        "model = ols('Value ~ C(FactorA) * C(FactorB)', data=data).fit()\n",
        "anova_table = sm.stats.anova_lm(model, typ=2)\n",
        "print(anova_table)\n",
        "\n",
        "# Visualization\n",
        "sns.boxplot(x='FactorA', y='Value', hue='FactorB', data=data)\n",
        "plt.title(\"Two-Way ANOVA: Interaction Between Factors A and B\")\n",
        "plt.show()\n"
      ],
      "metadata": {
        "colab": {
          "base_uri": "https://localhost:8080/",
          "height": 559
        },
        "id": "3aCJDdD6QEMy",
        "outputId": "4123ee22-c67b-4103-d9f9-46d879226dbd"
      },
      "execution_count": 38,
      "outputs": [
        {
          "output_type": "stream",
          "name": "stdout",
          "text": [
            "                            sum_sq    df         F    PR(>F)\n",
            "C(FactorA)               26.858015   1.0  1.046823  0.310640\n",
            "C(FactorB)               33.939362   1.0  1.322827  0.254973\n",
            "C(FactorA):C(FactorB)    13.415819   1.0  0.522897  0.472618\n",
            "Residual               1436.775153  56.0       NaN       NaN\n"
          ]
        },
        {
          "output_type": "display_data",
          "data": {
            "text/plain": [
              "<Figure size 640x480 with 1 Axes>"
            ],
            "image/png": "[encoded data removed]"
          },
          "metadata": {}
        }
      ]
    },
    {
      "cell_type": "markdown",
      "source": [
        "#Q21. Write a Python program to visualize the F-distribution and discuss its use in hypothesis testing."
      ],
      "metadata": {
        "id": "5m14ihpbScMW"
      }
    },
    {
      "cell_type": "code",
      "source": [
        "import numpy as np\n",
        "import matplotlib.pyplot as plt\n",
        "from scipy.stats import f\n",
        "\n",
        "x = np.linspace(0, 5, 1000)\n",
        "dof1, dof2 = 5, 20\n",
        "y = f.pdf(x, dof1, dof2)\n",
        "\n",
        "plt.plot(x, y, label=f'F-distribution df1={dof1}, df2={dof2}')\n",
        "plt.title(\"F-distribution\")\n",
        "plt.xlabel(\"F-value\")\n",
        "plt.ylabel(\"Probability Density\")\n",
        "plt.axvline(f.ppf(0.95, dof1, dof2), color='red', linestyle='--', label=\"Critical value (0.05)\")\n",
        "plt.legend()\n",
        "plt.grid(True)\n",
        "plt.show()\n"
      ],
      "metadata": {
        "colab": {
          "base_uri": "https://localhost:8080/",
          "height": 472
        },
        "id": "kvQYIYbbSd12",
        "outputId": "86a43690-aacd-4a62-e9da-7204a50d1f17"
      },
      "execution_count": 39,
      "outputs": [
        {
          "output_type": "display_data",
          "data": {
            "text/plain": [
              "<Figure size 640x480 with 1 Axes>"
            ],
            "image/png": "[encoded data removed]"
          },
          "metadata": {}
        }
      ]
    },
    {
      "cell_type": "markdown",
      "source": [
        "#Q22. Perform a one-way ANOVA test in Python and visualize the results with boxplots to compare group means."
      ],
      "metadata": {
        "id": "V3OxBPreSi3y"
      }
    },
    {
      "source": [
        "import numpy as np\n",
        "import seaborn as sns\n",
        "import matplotlib.pyplot as plt\n",
        "\n",
        "# Assuming group1, group2, group3 were created in a previous step\n",
        "# If not, you need to create them like this:\n",
        "np.random.seed(42)  # For reproducibility\n",
        "group1 = np.random.normal(loc=50, scale=5, size=30)\n",
        "group2 = np.random.normal(loc=52, scale=5, size=30)\n",
        "group3 = np.random.normal(loc=58, scale=5, size=30)\n",
        "\n",
        "sns.boxplot(data=[group1, group2, group3])\n",
        "plt.xticks([0, 1, 2], ['Group1', 'Group2', 'Group3'])\n",
        "plt.title('Boxplot of Group Means (One-Way ANOVA)')\n",
        "plt.ylabel('Values')\n",
        "plt.show()"
      ],
      "cell_type": "code",
      "metadata": {
        "colab": {
          "base_uri": "https://localhost:8080/",
          "height": 452
        },
        "id": "52sQdqOuSv4C",
        "outputId": "040b57ad-87a8-4ce6-fc6a-aa6b8cf20da7"
      },
      "execution_count": 40,
      "outputs": [
        {
          "output_type": "display_data",
          "data": {
            "text/plain": [
              "<Figure size 640x480 with 1 Axes>"
            ],
            "image/png": "[encoded data removed]"
          },
          "metadata": {}
        }
      ]
    },
    {
      "cell_type": "markdown",
      "source": [
        "#Q23. Simulate random data from a normal distribution, then perform hypothesis testing to evaluate the means."
      ],
      "metadata": {
        "id": "hrOhy5WFSynq"
      }
    },
    {
      "cell_type": "code",
      "source": [
        "sample = np.random.normal(loc=50, scale=5, size=50)\n",
        "from scipy.stats import ttest_1samp\n",
        "t_stat, p = ttest_1samp(sample, popmean=50)\n",
        "print(f\"T-stat: {t_stat:.4f}, P-value: {p:.4f}\")\n"
      ],
      "metadata": {
        "colab": {
          "base_uri": "https://localhost:8080/"
        },
        "id": "WB7jSL-RS2uU",
        "outputId": "a69a09c1-6902-4e06-c5d5-203f37a28f25"
      },
      "execution_count": 41,
      "outputs": [
        {
          "output_type": "stream",
          "name": "stdout",
          "text": [
            "T-stat: -0.4200, P-value: 0.6763\n"
          ]
        }
      ]
    },
    {
      "cell_type": "markdown",
      "source": [
        "#Q24. Perform a hypothesis test for population variance using a Chi-square distribution and interpret the results."
      ],
      "metadata": {
        "id": "otR1hT91S8T3"
      }
    },
    {
      "cell_type": "code",
      "source": [
        "from scipy.stats import chi2\n",
        "\n",
        "sample = np.random.normal(10, 2, 30)\n",
        "sample_var = np.var(sample, ddof=1)\n",
        "n = len(sample)\n",
        "sigma2_0 = 4  # Claimed population variance\n",
        "\n",
        "chi2_stat = (n - 1) * sample_var / sigma2_0\n",
        "p_val = 2 * min(chi2.cdf(chi2_stat, df=n-1), 1 - chi2.cdf(chi2_stat, df=n-1))\n",
        "print(f\"Chi-square stat: {chi2_stat:.4f}, P-value: {p_val:.4f}\")\n"
      ],
      "metadata": {
        "colab": {
          "base_uri": "https://localhost:8080/"
        },
        "id": "jStIzyEfS9_h",
        "outputId": "4419dca4-3e95-45e2-9581-6edaf599f973"
      },
      "execution_count": 42,
      "outputs": [
        {
          "output_type": "stream",
          "name": "stdout",
          "text": [
            "Chi-square stat: 24.5422, P-value: 0.5965\n"
          ]
        }
      ]
    },
    {
      "cell_type": "markdown",
      "source": [
        "#Q25. Write a Python script to perform a Z-test for comparing proportions between two datasets or groups."
      ],
      "metadata": {
        "id": "MDMTJoaNTCUv"
      }
    },
    {
      "cell_type": "code",
      "source": [
        "from statsmodels.stats.proportion import proportions_ztest\n",
        "\n",
        "count = np.array([45, 30])  # successes in two groups\n",
        "nobs = np.array([100, 90])  # total observations\n",
        "\n",
        "z_stat, p_value = proportions_ztest(count, nobs)\n",
        "print(f\"Z-statistic: {z_stat:.4f}, P-value: {p_value:.4f}\")\n"
      ],
      "metadata": {
        "colab": {
          "base_uri": "https://localhost:8080/"
        },
        "id": "465rw2ZNTD_6",
        "outputId": "92a906fc-e989-4a72-c343-d202181d2fee"
      },
      "execution_count": 43,
      "outputs": [
        {
          "output_type": "stream",
          "name": "stdout",
          "text": [
            "Z-statistic: 1.6427, P-value: 0.1004\n"
          ]
        }
      ]
    },
    {
      "cell_type": "markdown",
      "source": [
        "#Q26. Implement an F-test for comparing the variances of two datasets, then interpret and visualize the results."
      ],
      "metadata": {
        "id": "Tt_9qxPOTJki"
      }
    },
    {
      "cell_type": "code",
      "source": [
        "plt.hist(sample_a, bins=10, alpha=0.5, label='Sample A')\n",
        "plt.hist(sample_b, bins=10, alpha=0.5, label='Sample B')\n",
        "plt.legend()\n",
        "plt.title(\"F-Test Variance Comparison: Histograms of Two Samples\")\n",
        "plt.show()\n"
      ],
      "metadata": {
        "colab": {
          "base_uri": "https://localhost:8080/",
          "height": 452
        },
        "id": "KWehOPaNTLFr",
        "outputId": "fa3904ec-04b8-4160-8a62-fe2231a6dbd8"
      },
      "execution_count": 44,
      "outputs": [
        {
          "output_type": "display_data",
          "data": {
            "text/plain": [
              "<Figure size 640x480 with 1 Axes>"
            ],
            "image/png": "[encoded data removed]"
          },
          "metadata": {}
        }
      ]
    },
    {
      "cell_type": "markdown",
      "source": [
        "#Q27. Perform a Chi-square test for goodness of fit with simulated data and analyze the results."
      ],
      "metadata": {
        "id": "koYwQ4fCTRFz"
      }
    },
    {
      "cell_type": "code",
      "source": [
        "from scipy.stats import chisquare\n",
        "\n",
        "# Simulated observed frequencies\n",
        "observed = np.array([50, 30, 20])\n",
        "expected = np.array([40, 40, 20])  # hypothetical expected distribution\n",
        "\n",
        "chi2_stat, p_value = chisquare(observed, expected)\n",
        "print(f\"Chi-square statistic: {chi2_stat:.4f}, P-value: {p_value:.4f}\")\n"
      ],
      "metadata": {
        "colab": {
          "base_uri": "https://localhost:8080/"
        },
        "id": "uS7sS6K5TTTd",
        "outputId": "389fe929-34bb-4534-a237-a2454ca8e02d"
      },
      "execution_count": 45,
      "outputs": [
        {
          "output_type": "stream",
          "name": "stdout",
          "text": [
            "Chi-square statistic: 5.0000, P-value: 0.0821\n"
          ]
        }
      ]
    }
  ]
}
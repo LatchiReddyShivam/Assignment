{
  "nbformat": 4,
  "nbformat_minor": 0,
  "metadata": {
    "colab": {
      "provenance": []
    },
    "kernelspec": {
      "name": "python3",
      "display_name": "Python 3"
    },
    "language_info": {
      "name": "python"
    }
  },
  "cells": [
    {
      "cell_type": "markdown",
      "source": [
        "#**THEORETICAL**\n",
        "\n",
        "#Q1. What is a Decision Tree, and how does it work?\n",
        "\n",
        "##ANS: A Decision Tree is a supervised learning algorithm used for classification and regression tasks. It works by recursively splitting the dataset into subsets based on the most significant attribute, forming a tree structure where each node represents a decision based on a feature, and the leaves represent the final outcomes."
      ],
      "metadata": {
        "id": "7PXgkB4vZykY"
      }
    },
    {
      "cell_type": "markdown",
      "source": [
        "#Q2. What are impurity measures in Decision Trees?\n",
        "\n",
        "##ANS: Impurity measures are metrics used to determine how mixed a dataset is at a node. The commonly used impurity measures include:\n",
        "\n",
        "*   **Gini Impurity**: Measures the probability of misclassification.\n",
        "\n",
        "*   **Entropy**: Measures the level of disorder in the data.\n",
        "\n"
      ],
      "metadata": {
        "id": "Zz2e3ta5fSNW"
      }
    },
    {
      "cell_type": "markdown",
      "source": [
        "#Q3. What is the mathematical formula for Gini Impurity?\n",
        "\n",
        "![Screenshot 2025-03-12 140600.png](data:image/png;base64,iVBORw0KGgoAAAANSUhEUgAAAVAAAABoCAYAAACntqitAAAAAXNSR0IArs4c6QAAAARnQU1BAACxjwv8YQUAAAAJcEhZcwAADsMAAA7DAcdvqGQAABBTSURBVHhe7d1xTJtnfgfw702R4ql661QZJVJIuYugTnKkpHcEbhvB2qBG2QF3OyCpGuq10KRqgUwrkLWl6G5hue1CrkttWjVuaVqWailmlwaqpvhySk1PaXFOSUiaLE4VhLuL5jdqJN6oiLcq0rM/bIP9YoN5bffA/X4k//O87+soGH95nt/zPO/7HSGEABERLdqfaRuIiCg+DFAiIp0YoEREOjFAiYh0YoASEenEACUi0okBSkSkEwOUiEgnBigRkU4MUCIinRigREQ6MUCJiHRigBIR6cQAJUqQcnUAjtcHMHobAFT4hp2wH7DDOeyDqj2Z0goDlCgRN3vR2A0UTdqwzVyHpj2NGEAhdjy6Bh/UbMYT/YzQdMYAJUqAr38Apt1VWAUF+NwHU2sPmkuykXlfIbasB7w3Ze0llEYYoEQJyHysB20PqvCc9QIPd6D5/uCBSQ/cV4HstZmaKyidMECJEmAwGmGYHsYHpwDzX+XPHhj+AC5YsHO7Ifx0SjMMUKJEXR7BMEywlIR6myqcx5xA5U5U3iXD9boLHMinJwYoUYJ8Z12QDWYUrQ+1DMM9CFj+vhKGCw7Y5WxwIJ+eGKBECfKOjsJQV4nCmRYTTA8CE2e7UHc4E4f+2RRxPqWP7/CpnEQJmlSgrjTCsCK8UYUif4WVmUawCpq+GKBERDpxCE9EpBMDlIhIJwYoEZFODFAiIp0YoEREOnEWniiCD47qMnRd1banVvnBy+iu5IKn5YYBSqThaVuHsiNKWEs2rLYDsBjDmhbFj9EzlyDLoxg674UsR7nF3dZD+Ox3e1KzY0lV4PW44f+LImxZnwkjczppGKBEWtNe2Eu3ov3CbJPx4X586rBAd4aGUxV4Pe+g92AX7MOhXfLZaPvkMjo2ac5NkHKqCRUvAzt+aoLXaUPvuVVofvc0DpQk5X/yrccAJYrmuh3bCtoxGtZktn2GwceS20dUxwbQuqMOvdcBwxODuPWiWXuKfnIvKosvofXyIZgNAKDAuXMdGk6Z0f0/g7Cu1V5Ai8VJJKJo7m/Ge29YIprce2tgvx7RlDDD+ip0/+F/MfhkNtTXX4NzUntGAs674ZYdqHzGFWwworLWAsAN5295f6hkYIASxWCs6UH/w+FD3VG0W7vgnQ5rSgojzF2/R//Dbhw5lsRgK3kSB2pq0fZw0UyTYSWH7snEAE2EKmP0hB1NFVuRuzE3+NqGhiMeKKEv2XU7tj0d6gHQ8mKE5T96YA3PnKudKNvrSsHD4oywdL2IVYe64ElWQN9ViOY3etARVu90nxkEYEbtQ8ktRXxrCVq8ryfEyOFdIuceSUj35IiKZpvoc18Tfr9f+K8MCZs1T0glNnHtik0US5KoOOrXvoMQQohrR3eJgg0VwubVHknUhPjw2WKR88NGMTShPbZ0TN04KRrzJdHo0h5ZYrwHRYEkCWnmlSXq31/CP9hYvAdFgZQlKo5e0x4hnRigizXxoXj+h4EvUt5TJ8X4lPYEIYSYEEO7s4Jfthyx/7z2uBBCDIn64BdylzPqm+h3wxb8wueJ/Ve0B/+U/OLib/qE7dlGUf3XGTOBVP++9ryl59rh4rAAlYQkVYu+5ZShE0OiPitL7HJG/2NO+nAIvxiKCw15lbBfN8JsO4fLr1QhO+qaOiMsz+6DCQAMP0H5g9rjAFAE68+taO46jZdror6JfvdZsK/Rira3Tyd9WUxi/Bg944YXJuz85TG0hR7AtgyY/rEf3SXhLS40VNlTUA9NgWkv7D9rxz1vf4pjNZnAtAolmZNV32baRKUYvr4mbCXBnucvLmqPRjEiWjIkIe3oE0nuX6aJcWErWj49UCFCvbjwXqgkig8v9eHwhBh6qlrs94R1lwfqRf1A+DmkF3ugcfI8VxZYWG3cg572sKcvxpSJ7PWAeXsJ70ieLowWvOiojVhMP9pRhtaPwxqWFAXutmK03FgD+T/b0bS3CU17m1D3Kx828CkjScEAjceYHY3BrX2FL7ShMOLRDbHI8I1lojBfM9s5rWD0WCea9nai91L4dsHQcRnul9rR9JwdrrHQXK8K+UIvOvc2Ba67IEefBVZ9cM25lpLJuL0H77Vkh7UocOxogCvKR5kS0wo8R9rRtLcTA6HPWPXB/XonmvY2ofPY6OwKkN+2o/KID76Pe9H75uxr4NIqfJeL6JOCARoHd3cnvACAKjxZF+/yj0IcuvUZOiLqnz70Vheg5Uo+qta60VScp+m9KHA9XYHX7jLjgbFO1GypRe9VDzpLc1FxVEV+ZRUsK11oMufioZd94RcCkx60F5ehF2YUTtoC196MPIWSI7+9HwfCP1fFibp/GkDqM1SFa28BWvxmFH5pR92Wh9B1wo6y3Bo4UYLdjxdCPrQN68qDtdmHunHnzp0or37U3qV9b9JFO6YnrWAtU0q8nuk/WiFyWkeEEEJMOauFJEmi4PD47AlX9ou8vz0i/EKI8cMFgX/zntLI+tXXJwOz90U2EXalGGnNmVkudfEXOYurLfr7xK4NOSJH78vaJxY/t7sMa6DhbgSWqEXUQ7vDP5EU+OMRUfr9/eJa+O9HVr04+UXYOQP1Qppn6RwlFwN0ITNLgiRRcCiRCYNxYSsqFUf+KIQQU6JvhzRnidP44YKZX/yTj8f4Un7ZJ6q1Afr1kKjPahEffi2EEBfF/pzgMpsvI66c19QX/sA6Vh2viUX8O7OWeYAKISYG6kVGRIgWp2BN7yz/q6Uzf3CHnorxs3s/EKDS7iHNAUoF3kxkIacacPdOJwCg9p076NmuPSEwfLY/1xsc5muYrDjUWAgDFHiH/VhTYoLxpgNlG1vhua8N5z7tCCx3AqBcdcO/1gyT0YPWe8vgUC3o+T/NcOvjVtxb7oBacwx33qgKtE3L8FwACrdmAsOtuLfCAbWyB7ferl3CE1g+2H+0Ge1X5/m5xnLTgwGPX9sahzUoqixEZlw17HgocO3JQ83xsMH7fW346GIH8pP2b8xSrrowbrQgf+0oOnO3oUs2o/uzQVjDqkq+l7dh83OjwPYe3HpnKX/+6YE10IWs+HNty1yyD6Gvs384VKx3ww/AmJkZ/CU2wlRighGA/F4fPABMu60z4QkAxk1mmIwArrvhVgGUVKFEU6vy/KYXKgDL34Xd6GJFZiA8AbjfDRyvreOXJ/WMsLzy39gTPi2/elXKfu7GTRbkrwXw+TBcMoBNFpg1JXnvaPD+Uas1z6OfVLj2MxW0XVLS8M3WuuYMl6IIDa1i10uvif3fl4QkhYbzc/mPVghJkkTOnPWmoXpshXgrWonryz6xS5KElBEazsePQ/gEXAlu9cyq/0a2zobq5xnBevqs2Xp95O62EfF8liSkR2L9TpJeDNAFhQJPM+ETVaj+OM+55/eLHEkS0o/fCky83OgTzx+NDMpA/TNDtJyNaBbC3RKouYW+CDf6xPOvjsx8KbRfrKmzNnHQFS1pNTiJlIDgtt17SlNa/wwXs/4Z+t3KahEjEX9AJ8TIqzZxMsYfbNKPARqHUI9wwR7G+f0iT5LmTA6FG2kN7AEP9RCu/WueKH01PH5CvYi5k0DzX+sXb/1YCtv/PiX6HskSLe7wd1hK0iNAA3vkUzt5FCn0R7pA2G6Et0+Jod0Zy/dGJ8sUa6BxyHzsWOC+kIoTNeZWuKI800Yd60VdVRd8KwCgHEVR978DE4oKwAzLNgNwuxftb5bjlw1hhayxkRj1TxW+z1UAJhT9wAB87kDrm2bsm1mXqkL5AoChHOWbAPVcJw4qB9AWsX/7T0+9LUOWZcife+G9HWhTbvoCbbIMZe6PdslSTjWgrGMcte+8h+Zval9/qP4JL3pPzE5bKoONaDiuovDfTqNne1hR9qYHjpe4sSJltIlKsUyIkcPVgSGSJImM/ApR39woGpvrRUV+hsjYsEvYzk6IKa9NlFpj15qmXI0iR8oQxdZqUZAVZdgXXIYSrQQQuFYSeT+rFgUbKsRbmmvHXy0VkpQnKh4vFTkbluKt7GZ7nbFey6U3OnXloCj+E+yFnynTPN4iGnMyRMGORlFvyRFSTrWwndV84Ddsotr6lrjmahFZUr0YWmRdnBbGZUyLFXzC4aULI3DfMOCBvylCUWEJ8tcuYu51UoH8JWBcbYRBu9xlWoVy+yuszNTMoobMdy0AVZGhqAYYY11PiQs+L2niyUH8vsucnAfNxcm1527UHA8t/VKhyApURP+83c80wPfzHpSfqETuPhNO3zqEQs05lBgGKNFiKC405NXAtT2JT+mMW+z1n9GoigqDUYGjNBcv/OA0bnUxPpONNVCieE17Ya+qgXP9AZx+5ZsOTwBjwxiQAdxfgqIFwhMADEYDMNaH185lovkRhmcqMECJ4jEtw/kPZWgfq0X/QDNMUconCVOcqFnXCvecmzTLGD3hhL3DEdjttkLGpRMDcF9feGLI+18OeO+zYseDKjxHnNF3y5FuDFCiBSlwPV2AhuEt6P5dDywp6XoqcLU9g9EnHoVZG86qDyNn3PCuNsP6mBXWQhXuMy54J7VVTy0fXIO+wI43ZRC949kRO98ocayBEi3A+9I2bO0ADvzhoxQtV1Lg+ZcKlP16Am2fXE7iY1hUuJ7ORbthH4que1H1dneKwv/biwFKNA/lVAPydrpgeefTyPWVyXLbA3t9NdrPKMCmA7j8STPCb9ecOBWK/BVWxli1QYnhEJ4oBuVUEwp2OvHdTs3i9ERNq5AvDMC+Zyvu/l5ZIDwBFD6+I8nhCSC0xInhmRLsgRJFE1zrOfrAHnS3lGCV9njc/Bg9cwkygKmxEQx7fZCj7GQD4luaREsLA5RIK7jW05n6Z3TMWvL3b6VoGKBEERQM7ClGy0fReompU37wMrorGZ/LDQOUiEgnTiIREenEACUi0okBSkSkEwOUiEgnBihRnNTbCtQ5N/rQS4Fv7JtcJ0WpwAAlise5duR+bx2eeDeB5U3TKhTZC/dxOxoK1mHzv49oz6BlhgFKFI/7f4KOzmP49U8TWKt5exiOwy7cWr0Ga7THaFniOlCib5wP9h9tRvsD/bjjsGgP0jLCHijRAuRzDthfcsGXwOid0hMDlGgevpdr0OI1w+RrwOa9rpl2VQk+njmOlzIZ8ZaURjiEJ4pl2o3WPT50vFGOkxW5aN04+2A2+cIARsa1F0RnMJlh2RR+OzwO4dMFA5QolmkVylcGGCccKNv4ArYM3cKhv9SepAcDNF1wCE8UywoDjHcBvv7X4MlsxqNJCU9KJwxQonl50fuaF9mP7UD+pAeO44HnWo7+ahtyN+bG9Sp7ic/CTFccwhPNZ8yOrVt6Yb14DtbzTTi4thsHEu6JcgifLtgDJZpPpglFRsA32IS64SrsSyg83WjfmIvc3K1ovwrgeF2gl1rtgE97Ki0L7IESLURVIE+uRObqBHYhUVpigBIR6cQhPBGRTgxQIiKdGKBERDoxQImIdGKAEhHpxAAlItKJAUpEpBMDlIhIJwYoEZFODFAiIp0YoEREOjFAiYh0YoASEenEACUi0okBSkSkEwOUiEgnBigRkU4MUCIinRigREQ6MUCJiHRigBIR6cQAJSLS6f8B8urwX84kMswAAAAASUVORK5CYII=)\n",
        "#where 𝑝𝑖 is the proportion of class 𝑖 in the node."
      ],
      "metadata": {
        "id": "7xZ3jJJQfoIb"
      }
    },
    {
      "cell_type": "markdown",
      "source": [
        "#Q4. What is the mathematical formula for Entropy?\n",
        "\n",
        "##ANS: ![Screenshot 2025-03-12 140851.png](data:image/png;base64,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)\n",
        "\n",
        "#where 𝑝𝑖 is the proportion of class 𝑖 in the node."
      ],
      "metadata": {
        "id": "DExvtkCogP7t"
      }
    },
    {
      "cell_type": "markdown",
      "source": [
        "#Q5. What is Information Gain, and how is it used in Decision Trees?\n",
        "\n",
        "##ANS: Information Gain is the reduction in entropy after a dataset is split on a feature. It is used in Decision Trees to select the feature that provides the best split at each step. The formula is:\n",
        "![Screenshot 2025-03-12 141137.png](data:image/png;base64,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)"
      ],
      "metadata": {
        "id": "EXxcjkWCgz6n"
      }
    },
    {
      "cell_type": "markdown",
      "source": [
        "#Q6. What is the difference between Gini Impurity and Entropy?\n",
        "\n",
        "*  ***Gini Impurity*** focuses on misclassification probability, making it computationally faster.\n",
        "\n",
        "*  ***Entropy measures*** disorder and is more sensitive to changes in probabilities.\n",
        "*   Both methods yield similar results but may lead to slightly different tree structures.\n",
        "\n"
      ],
      "metadata": {
        "id": "8ct4sXrYhMNl"
      }
    },
    {
      "cell_type": "markdown",
      "source": [
        "#Q7. What is the mathematical explanation behind Decision Trees?\n",
        "\n",
        "##ANS: Decision Trees use a recursive binary partitioning approach to minimize impurity measures. Each split maximizes Information Gain or minimizes impurity, leading to a hierarchical division of data until a stopping criterion is met."
      ],
      "metadata": {
        "id": "KJrJ27Sahkcz"
      }
    },
    {
      "cell_type": "markdown",
      "source": [
        "#Q8. What is Pre-Pruning in Decision Trees?\n",
        "\n",
        "##ANS: Pre-Pruning is a technique that stops tree growth early by setting conditions like:\n",
        "\n",
        "*   Maximum tree depth\n",
        "*   Minimum number of samples required at a node\n",
        "This prevents overfitting by limiting unnecessary complexity.\n",
        "\n"
      ],
      "metadata": {
        "id": "XB6EPDsIh7C3"
      }
    },
    {
      "cell_type": "markdown",
      "source": [
        "#Q9. What is Post-Pruning in Decision Trees?\n",
        "\n",
        "##ANS: Post-Pruning involves growing a full Decision Tree first and then removing branches that do not contribute significantly to the accuracy. It helps in reducing overfitting and improving generalization."
      ],
      "metadata": {
        "id": "vX7RknyEiT9W"
      }
    },
    {
      "cell_type": "markdown",
      "source": [
        "#Q10. What is the difference between Pre-Pruning and Post-Pruning?\n",
        "\n",
        "##ANS:\n",
        "\n",
        "*   ***Pre-Pruning*** stops the tree growth early, based on predefined constraints.\n",
        "*   ***Post-Pruning*** allows the tree to grow fully and then trims unnecessary branches based on performance evaluation.\n",
        "\n"
      ],
      "metadata": {
        "id": "r8-qkinkieve"
      }
    },
    {
      "cell_type": "markdown",
      "source": [
        "#Q11. What is a Decision Tree Regressor?\n",
        "\n",
        "##ANS: A Decision Tree Regressor is a variation of the Decision Tree used for continuous numerical predictions. Instead of classification labels, the leaves store numerical values, and the splits minimize the variance in target values."
      ],
      "metadata": {
        "id": "123IWDqYiyrX"
      }
    },
    {
      "cell_type": "markdown",
      "source": [
        "#Q12. What are the advantages and disadvantages of Decision Trees?\n",
        "\n",
        "##ANS:\n",
        "\n",
        "###**Advantages**:\n",
        "\n",
        "*   Easy to interpret and visualize.\n",
        "\n",
        "*  Works with both categorical and numerical data.\n",
        "*  Requires minimal data preprocessing.\n",
        "\n",
        "###**Disadvantage** :\n",
        "\n",
        "*   Prone to overfitting.\n",
        "\n",
        "*  Sensitive to small variations in data.\n",
        "*  Can create biased trees if some classes dominate.\n",
        "\n",
        "\n",
        "\n",
        "\n",
        "\n",
        "\n",
        "\n"
      ],
      "metadata": {
        "id": "Mwjjoh1Oi7DX"
      }
    },
    {
      "cell_type": "markdown",
      "source": [
        "#Q13. How does a Decision Tree handle missing values?\n",
        "\n",
        "##ANS:\n",
        "\n",
        "*  Uses surrogate splits, where another feature acts as a substitute.\n",
        "\n",
        "*   Assigns missing values to the most frequent category in categorical variables.\n",
        "*  Uses median or mean imputation for numerical values.\n",
        "\n",
        "\n",
        "\n"
      ],
      "metadata": {
        "id": "Y0dLPM__kRrZ"
      }
    },
    {
      "cell_type": "markdown",
      "source": [
        "#Q14. How does a Decision Tree handle categorical features?\n",
        "\n",
        "##ANS:\n",
        "\n",
        "*   Converts categorical features into numerical values using label encoding or one-hot encoding.\n",
        "\n",
        "*   Uses frequency-based or probability-based encoding.\n",
        "\n",
        "*   Splits nodes based on categories if the model natively supports categorical features.\n",
        "\n",
        "\n",
        "\n"
      ],
      "metadata": {
        "id": "lppV2V6CkneN"
      }
    },
    {
      "cell_type": "markdown",
      "source": [
        "#Q15. What are some real-world applications of Decision Trees?\n",
        "\n",
        "##ANS:\n",
        "\n",
        "*  Medical Diagnosis: Identifying diseases based on symptoms.\n",
        "\n",
        "*   Credit Scoring: Assessing loan eligibility.\n",
        "\n",
        "*   Fraud Detection: Identifying suspicious transactions.\n",
        "*   Customer Segmentation: Grouping customers based on purchasing behavior.\n",
        "\n",
        "\n",
        "*  Spam Filtering: Classifying emails as spam or not.\n",
        "\n",
        "\n",
        "\n",
        "\n",
        "\n"
      ],
      "metadata": {
        "id": "K1n-T0XglCpQ"
      }
    },
    {
      "cell_type": "markdown",
      "source": [
        "##**PRACTICAL**\n",
        "\n",
        "\n",
        "\n",
        "##Q16: Write a Python program to train a Decision Tree Classifier on the Iris dataset and print the model accuracy."
      ],
      "metadata": {
        "id": "YejCl5ZpySWK"
      }
    },
    {
      "cell_type": "code",
      "source": [
        "from sklearn.datasets import load_iris\n",
        "from sklearn.tree import DecisionTreeClassifier\n",
        "from sklearn.model_selection import train_test_split\n",
        "from sklearn.metrics import accuracy_score\n",
        "\n",
        "iris = load_iris()\n",
        "X_train, X_test, y_train, y_test = train_test_split(iris.data, iris.target, test_size=0.2, random_state=42)\n",
        "\n",
        "clf = DecisionTreeClassifier()\n",
        "clf.fit(X_train, y_train)\n",
        "\n",
        "y_pred = clf.predict(X_test)\n",
        "print(\"Accuracy:\", accuracy_score(y_test, y_pred))\n"
      ],
      "metadata": {
        "colab": {
          "base_uri": "https://localhost:8080/"
        },
        "id": "s0FRkp0KydZB",
        "outputId": "38542022-17cc-4b69-f40e-25d938e08c31"
      },
      "execution_count": 1,
      "outputs": [
        {
          "output_type": "stream",
          "name": "stdout",
          "text": [
            "Accuracy: 1.0\n"
          ]
        }
      ]
    },
    {
      "cell_type": "markdown",
      "source": [
        "##Q17: Write a Python program to train a Decision Tree Classifier using Gini Impurity as the criterion and print the feature importances."
      ],
      "metadata": {
        "id": "nf39Q-zXyokS"
      }
    },
    {
      "cell_type": "code",
      "source": [
        "clf = DecisionTreeClassifier(criterion=\"gini\")\n",
        "clf.fit(X_train, y_train)\n",
        "\n",
        "print(\"Feature Importances:\", clf.feature_importances_)\n"
      ],
      "metadata": {
        "colab": {
          "base_uri": "https://localhost:8080/"
        },
        "id": "FnCXq47ByqfZ",
        "outputId": "ea955019-7a2f-4f1a-dbb2-8237ca0a06c7"
      },
      "execution_count": 2,
      "outputs": [
        {
          "output_type": "stream",
          "name": "stdout",
          "text": [
            "Feature Importances: [0.         0.01667014 0.90614339 0.07718647]\n"
          ]
        }
      ]
    },
    {
      "cell_type": "markdown",
      "source": [
        "##Q18: Write a Python program to train a Decision Tree Classifier using Entropy as the splitting criterion and print the model accuracy."
      ],
      "metadata": {
        "id": "pQBbeyBoytNq"
      }
    },
    {
      "cell_type": "code",
      "source": [
        "clf = DecisionTreeClassifier(criterion=\"entropy\")\n",
        "clf.fit(X_train, y_train)\n",
        "\n",
        "y_pred = clf.predict(X_test)\n",
        "print(\"Accuracy:\", accuracy_score(y_test, y_pred))\n"
      ],
      "metadata": {
        "colab": {
          "base_uri": "https://localhost:8080/"
        },
        "id": "FCX-8Ygyyuvp",
        "outputId": "df9dc3cd-01ec-490a-f474-d0d8e0785156"
      },
      "execution_count": 3,
      "outputs": [
        {
          "output_type": "stream",
          "name": "stdout",
          "text": [
            "Accuracy: 1.0\n"
          ]
        }
      ]
    },
    {
      "cell_type": "markdown",
      "source": [
        "##Q19: Write a Python program to train a Decision Tree Regressor on a housing dataset and evaluate using Mean Squared Error (MSE)."
      ],
      "metadata": {
        "id": "C-IriT54yx3A"
      }
    },
    {
      "cell_type": "code",
      "source": [
        "from sklearn.tree import DecisionTreeRegressor\n",
        "from sklearn.metrics import mean_squared_error\n",
        "from sklearn.datasets import fetch_california_housing\n",
        "\n",
        "data = fetch_california_housing()\n",
        "X_train, X_test, y_train, y_test = train_test_split(data.data, data.target, test_size=0.2, random_state=42)\n",
        "\n",
        "regressor = DecisionTreeRegressor()\n",
        "regressor.fit(X_train, y_train)\n",
        "\n",
        "y_pred = regressor.predict(X_test)\n",
        "print(\"MSE:\", mean_squared_error(y_test, y_pred))\n"
      ],
      "metadata": {
        "colab": {
          "base_uri": "https://localhost:8080/"
        },
        "id": "UWG0DHVTyzJp",
        "outputId": "5a99fc11-741f-472d-e592-09212e3497a7"
      },
      "execution_count": 4,
      "outputs": [
        {
          "output_type": "stream",
          "name": "stdout",
          "text": [
            "MSE: 0.48537769607492726\n"
          ]
        }
      ]
    },
    {
      "cell_type": "markdown",
      "source": [
        "##Q20: Write a Python program to train a Decision Tree Classifier and visualize the tree using graphviz."
      ],
      "metadata": {
        "id": "_X9I-UkVy3Ka"
      }
    },
    {
      "cell_type": "code",
      "source": [
        "from sklearn.tree import export_graphviz\n",
        "import graphviz\n",
        "\n",
        "dot_data = export_graphviz(clf, out_file=None, feature_names=iris.feature_names, class_names=iris.target_names, filled=True)\n",
        "graph = graphviz.Source(dot_data)\n",
        "graph.render(\"decision_tree\")\n"
      ],
      "metadata": {
        "colab": {
          "base_uri": "https://localhost:8080/",
          "height": 36
        },
        "id": "Ueag2ia_y5GY",
        "outputId": "f374fbc1-cbc3-4d02-9db1-bde4bafbfc7b"
      },
      "execution_count": 5,
      "outputs": [
        {
          "output_type": "execute_result",
          "data": {
            "text/plain": [
              "'decision_tree.pdf'"
            ],
            "application/vnd.google.colaboratory.intrinsic+json": {
              "type": "string"
            }
          },
          "metadata": {},
          "execution_count": 5
        }
      ]
    },
    {
      "cell_type": "markdown",
      "source": [
        "##Q21: Write a Python program to train a Decision Tree Classifier with a maximum depth of 3 and compare its accuracy with a fully grown tree."
      ],
      "metadata": {
        "id": "STOBO41Ky7_h"
      }
    },
    {
      "cell_type": "code",
      "source": [
        "from sklearn.datasets import load_iris\n",
        "from sklearn.tree import DecisionTreeClassifier\n",
        "from sklearn.model_selection import train_test_split\n",
        "from sklearn.metrics import accuracy_score\n",
        "\n",
        "# Load the dataset\n",
        "iris = load_iris()\n",
        "X_train, X_test, y_train, y_test = train_test_split(iris.data, iris.target, test_size=0.2, random_state=42)\n",
        "\n",
        "# Train Decision Tree with max_depth=3\n",
        "clf_limited = DecisionTreeClassifier(max_depth=3)\n",
        "clf_limited.fit(X_train, y_train)\n",
        "y_pred_limited = clf_limited.predict(X_test)\n",
        "\n",
        "# Train fully grown Decision Tree\n",
        "clf_full = DecisionTreeClassifier()\n",
        "clf_full.fit(X_train, y_train)\n",
        "y_pred_full = clf_full.predict(X_test)\n",
        "\n",
        "# Print accuracies\n",
        "print(\"Accuracy (Max Depth=3):\", accuracy_score(y_test, y_pred_limited))\n",
        "print(\"Accuracy (Fully Grown Tree):\", accuracy_score(y_test, y_pred_full))\n"
      ],
      "metadata": {
        "colab": {
          "base_uri": "https://localhost:8080/"
        },
        "id": "1FkKEKN1zToB",
        "outputId": "76fb21b1-caa1-4840-f217-50419e759f0b"
      },
      "execution_count": 6,
      "outputs": [
        {
          "output_type": "stream",
          "name": "stdout",
          "text": [
            "Accuracy (Max Depth=3): 1.0\n",
            "Accuracy (Fully Grown Tree): 1.0\n"
          ]
        }
      ]
    },
    {
      "cell_type": "markdown",
      "source": [
        "##Q22: Write a Python program to train a Decision Tree Classifier using min_samples_split=5 and compare its accuracy with a default tree."
      ],
      "metadata": {
        "id": "8qhkmhVnzXqh"
      }
    },
    {
      "cell_type": "code",
      "source": [
        "from sklearn.datasets import load_iris\n",
        "from sklearn.tree import DecisionTreeClassifier\n",
        "from sklearn.model_selection import train_test_split\n",
        "from sklearn.metrics import accuracy_score\n",
        "\n",
        "# Load dataset\n",
        "iris = load_iris()\n",
        "X_train, X_test, y_train, y_test = train_test_split(iris.data, iris.target, test_size=0.2, random_state=42)\n",
        "\n",
        "# Train Decision Tree with min_samples_split=5\n",
        "clf_min_samples = DecisionTreeClassifier(min_samples_split=5)\n",
        "clf_min_samples.fit(X_train, y_train)\n",
        "y_pred_min_samples = clf_min_samples.predict(X_test)\n",
        "\n",
        "# Train Default Decision Tree\n",
        "clf_default = DecisionTreeClassifier()\n",
        "clf_default.fit(X_train, y_train)\n",
        "y_pred_default = clf_default.predict(X_test)\n",
        "\n",
        "# Print accuracies\n",
        "print(\"Accuracy (Min Samples Split=5):\", accuracy_score(y_test, y_pred_min_samples))\n",
        "print(\"Accuracy (Default Tree):\", accuracy_score(y_test, y_pred_default))\n"
      ],
      "metadata": {
        "colab": {
          "base_uri": "https://localhost:8080/"
        },
        "id": "hxKNH8OxzhZ4",
        "outputId": "277b29c3-99b8-49f6-830a-5de4aaae5098"
      },
      "execution_count": 7,
      "outputs": [
        {
          "output_type": "stream",
          "name": "stdout",
          "text": [
            "Accuracy (Min Samples Split=5): 1.0\n",
            "Accuracy (Default Tree): 1.0\n"
          ]
        }
      ]
    },
    {
      "cell_type": "markdown",
      "source": [
        "##Q23: Write a Python program to apply feature scaling before training a Decision Tree Classifier and compare its accuracy with unscaled data."
      ],
      "metadata": {
        "id": "vrE5ft4nzl4Q"
      }
    },
    {
      "cell_type": "code",
      "source": [
        "from sklearn.datasets import load_iris\n",
        "from sklearn.tree import DecisionTreeClassifier\n",
        "from sklearn.model_selection import train_test_split\n",
        "from sklearn.preprocessing import StandardScaler\n",
        "from sklearn.metrics import accuracy_score\n",
        "\n",
        "# Load dataset\n",
        "iris = load_iris()\n",
        "X_train, X_test, y_train, y_test = train_test_split(iris.data, iris.target, test_size=0.2, random_state=42)\n",
        "\n",
        "# Apply feature scaling\n",
        "scaler = StandardScaler()\n",
        "X_train_scaled = scaler.fit_transform(X_train)\n",
        "X_test_scaled = scaler.transform(X_test)\n",
        "\n",
        "# Train Decision Tree with scaled data\n",
        "clf_scaled = DecisionTreeClassifier()\n",
        "clf_scaled.fit(X_train_scaled, y_train)\n",
        "y_pred_scaled = clf_scaled.predict(X_test_scaled)\n",
        "\n",
        "# Train Decision Tree without scaling\n",
        "clf_unscaled = DecisionTreeClassifier()\n",
        "clf_unscaled.fit(X_train, y_train)\n",
        "y_pred_unscaled = clf_unscaled.predict(X_test)\n",
        "\n",
        "# Print accuracies\n",
        "print(\"Accuracy with Scaling:\", accuracy_score(y_test, y_pred_scaled))\n",
        "print(\"Accuracy without Scaling:\", accuracy_score(y_test, y_pred_unscaled))\n"
      ],
      "metadata": {
        "colab": {
          "base_uri": "https://localhost:8080/"
        },
        "id": "fFMrXZImzzOo",
        "outputId": "baead54c-9dbf-4aa8-b405-8ce44b0a9c87"
      },
      "execution_count": 8,
      "outputs": [
        {
          "output_type": "stream",
          "name": "stdout",
          "text": [
            "Accuracy with Scaling: 1.0\n",
            "Accuracy without Scaling: 1.0\n"
          ]
        }
      ]
    },
    {
      "cell_type": "markdown",
      "source": [
        "##Q24: Write a Python program to train a Decision Tree Classifier using One-vs-Rest (OvR) strategy for multiclass classification."
      ],
      "metadata": {
        "id": "6ApCCfikz4np"
      }
    },
    {
      "cell_type": "code",
      "source": [
        "from sklearn.multiclass import OneVsRestClassifier\n",
        "\n",
        "ovr_clf = OneVsRestClassifier(DecisionTreeClassifier())\n",
        "ovr_clf.fit(X_train, y_train)\n",
        "\n",
        "y_pred_ovr = ovr_clf.predict(X_test)\n",
        "print(\"Accuracy (OvR):\", accuracy_score(y_test, y_pred_ovr))\n"
      ],
      "metadata": {
        "colab": {
          "base_uri": "https://localhost:8080/"
        },
        "id": "JOrqL7A0z6N3",
        "outputId": "cbf12e17-5a6e-449d-ca57-975082583433"
      },
      "execution_count": 9,
      "outputs": [
        {
          "output_type": "stream",
          "name": "stdout",
          "text": [
            "Accuracy (OvR): 1.0\n"
          ]
        }
      ]
    },
    {
      "cell_type": "markdown",
      "source": [
        "##Q25: Write a Python program to train a Decision Tree Classifier and display the feature importance scores."
      ],
      "metadata": {
        "id": "qyKwAKkTz8vp"
      }
    },
    {
      "cell_type": "code",
      "source": [
        "print(\"Feature Importances:\", clf.feature_importances_)\n"
      ],
      "metadata": {
        "colab": {
          "base_uri": "https://localhost:8080/"
        },
        "id": "3QtdZ9m4z-Rw",
        "outputId": "6c46c303-f8b2-4a37-83b0-ad5b0d680aa4"
      },
      "execution_count": 10,
      "outputs": [
        {
          "output_type": "stream",
          "name": "stdout",
          "text": [
            "Feature Importances: [0.01448725 0.         0.89540577 0.09010698]\n"
          ]
        }
      ]
    },
    {
      "cell_type": "markdown",
      "source": [
        "##Q26: Write a Python program to train a Decision Tree Regressor with max_depth=5 and compare its performance with an unrestricted tree."
      ],
      "metadata": {
        "id": "90i4y2tZ0DGY"
      }
    },
    {
      "cell_type": "code",
      "source": [
        "from sklearn.datasets import fetch_california_housing\n",
        "from sklearn.tree import DecisionTreeRegressor\n",
        "from sklearn.model_selection import train_test_split\n",
        "from sklearn.metrics import mean_squared_error\n",
        "\n",
        "# Load dataset\n",
        "data = fetch_california_housing()\n",
        "X_train, X_test, y_train, y_test = train_test_split(data.data, data.target, test_size=0.2, random_state=42)\n",
        "\n",
        "# Train Decision Tree Regressor with max_depth=5\n",
        "regressor_limited = DecisionTreeRegressor(max_depth=5)\n",
        "regressor_limited.fit(X_train, y_train)\n",
        "y_pred_limited = regressor_limited.predict(X_test)\n",
        "\n",
        "# Train Unrestricted Decision Tree Regressor\n",
        "regressor_unrestricted = DecisionTreeRegressor()\n",
        "regressor_unrestricted.fit(X_train, y_train)\n",
        "y_pred_unrestricted = regressor_unrestricted.predict(X_test)\n",
        "\n",
        "# Print Mean Squared Error (MSE)\n",
        "print(\"MSE (Max Depth=5):\", mean_squared_error(y_test, y_pred_limited))\n",
        "print(\"MSE (Unrestricted Tree):\", mean_squared_error(y_test, y_pred_unrestricted))\n"
      ],
      "metadata": {
        "colab": {
          "base_uri": "https://localhost:8080/"
        },
        "id": "my3KBDHu0fZ3",
        "outputId": "fd9b9666-c9ce-41e6-ef08-f521d5d67fb7"
      },
      "execution_count": 11,
      "outputs": [
        {
          "output_type": "stream",
          "name": "stdout",
          "text": [
            "MSE (Max Depth=5): 0.5245146178314735\n",
            "MSE (Unrestricted Tree): 0.49311497066795057\n"
          ]
        }
      ]
    },
    {
      "cell_type": "markdown",
      "source": [
        "##Q27: Write a Python program to train a Decision Tree Classifier, apply Cost Complexity Pruning (CCP), and visualize its effect on accuracy."
      ],
      "metadata": {
        "id": "ihEeCl2k0j3Q"
      }
    },
    {
      "cell_type": "code",
      "source": [
        "from sklearn.tree import DecisionTreeClassifier\n",
        "from sklearn.model_selection import train_test_split\n",
        "from sklearn.datasets import load_iris\n",
        "from sklearn.metrics import accuracy_score\n",
        "\n",
        "# Load dataset\n",
        "iris = load_iris()\n",
        "X_train, X_test, y_train, y_test = train_test_split(iris.data, iris.target, test_size=0.2, random_state=42)\n",
        "\n",
        "# Train initial Decision Tree to get ccp_alphas\n",
        "clf = DecisionTreeClassifier()\n",
        "clf.fit(X_train, y_train)\n",
        "\n",
        "# Get Cost Complexity Pruning path\n",
        "ccp_alphas = clf.cost_complexity_pruning_path(X_train, y_train)['ccp_alphas']\n",
        "\n",
        "# Train pruned classifiers with different alpha values\n",
        "for alpha in ccp_alphas:\n",
        "    pruned_clf = DecisionTreeClassifier(ccp_alpha=alpha)\n",
        "    pruned_clf.fit(X_train, y_train)\n",
        "    y_pred_pruned = pruned_clf.predict(X_test)\n",
        "    print(f\"Alpha: {alpha:.6f}, Accuracy: {accuracy_score(y_test, y_pred_pruned):.4f}\")\n"
      ],
      "metadata": {
        "colab": {
          "base_uri": "https://localhost:8080/"
        },
        "id": "-sTgA7tz0xiR",
        "outputId": "8956b57c-0271-4eb3-8021-d9199b2c3e7f"
      },
      "execution_count": 12,
      "outputs": [
        {
          "output_type": "stream",
          "name": "stdout",
          "text": [
            "Alpha: 0.000000, Accuracy: 1.0000\n",
            "Alpha: 0.008095, Accuracy: 1.0000\n",
            "Alpha: 0.011111, Accuracy: 1.0000\n",
            "Alpha: 0.011111, Accuracy: 1.0000\n",
            "Alpha: 0.016216, Accuracy: 1.0000\n",
            "Alpha: 0.024120, Accuracy: 0.9667\n",
            "Alpha: 0.243265, Accuracy: 0.6333\n",
            "Alpha: 0.333403, Accuracy: 0.3000\n"
          ]
        }
      ]
    },
    {
      "cell_type": "markdown",
      "source": [
        "##Q28: Write a Python program to train a Decision Tree Classifier and evaluate its performance using Precision, Recall, and F1-Score."
      ],
      "metadata": {
        "id": "xmxy51-N02FH"
      }
    },
    {
      "cell_type": "code",
      "source": [
        "from sklearn.metrics import precision_score, recall_score, f1_score\n",
        "\n",
        "# Ensure y_test and y_pred are defined\n",
        "y_pred = clf.predict(X_test)  # Assuming clf is a trained classifier\n",
        "\n",
        "print(\"Precision:\", precision_score(y_test, y_pred, average=\"weighted\"))\n",
        "print(\"Recall:\", recall_score(y_test, y_pred, average=\"weighted\"))\n",
        "print(\"F1-Score:\", f1_score(y_test, y_pred, average=\"weighted\"))\n"
      ],
      "metadata": {
        "colab": {
          "base_uri": "https://localhost:8080/"
        },
        "id": "y_pmrGMr1jDG",
        "outputId": "d87c2787-c786-41c6-ab4a-5050a878227b"
      },
      "execution_count": 13,
      "outputs": [
        {
          "output_type": "stream",
          "name": "stdout",
          "text": [
            "Precision: 1.0\n",
            "Recall: 1.0\n",
            "F1-Score: 1.0\n"
          ]
        }
      ]
    },
    {
      "cell_type": "markdown",
      "source": [
        "##Q29: Write a Python program to train a Decision Tree Classifier and visualize the confusion matrix using seaborn."
      ],
      "metadata": {
        "id": "HzYaBLf606ro"
      }
    },
    {
      "cell_type": "code",
      "source": [
        "import seaborn as sns\n",
        "import matplotlib.pyplot as plt\n",
        "from sklearn.metrics import confusion_matrix\n",
        "\n",
        "# Ensure y_pred is defined\n",
        "y_pred = clf.predict(X_test)  # Assuming clf is a trained classifier\n",
        "\n",
        "# Compute confusion matrix\n",
        "cm = confusion_matrix(y_test, y_pred)\n",
        "\n",
        "# Plot confusion matrix\n",
        "plt.figure(figsize=(6, 4))\n",
        "sns.heatmap(cm, annot=True, cmap=\"Blues\", fmt=\"d\", cbar=False)\n",
        "plt.xlabel(\"Predicted\")\n",
        "plt.ylabel(\"Actual\")\n",
        "plt.title(\"Confusion Matrix\")\n",
        "plt.show()\n"
      ],
      "metadata": {
        "colab": {
          "base_uri": "https://localhost:8080/",
          "height": 410
        },
        "id": "Ld_l_5091lh-",
        "outputId": "0fe45b3b-77de-4ebe-ae28-6e72faadc27d"
      },
      "execution_count": 14,
      "outputs": [
        {
          "output_type": "display_data",
          "data": {
            "text/plain": [
              "<Figure size 600x400 with 1 Axes>"
            ],
            "image/png": "[encoded data removed]"
          },
          "metadata": {}
        }
      ]
    },
    {
      "cell_type": "markdown",
      "source": [
        "##Q30: Write a Python program to train a Decision Tree Classifier and use GridSearchCV to find the optimal values for max_depth and min_samples_split."
      ],
      "metadata": {
        "id": "20bi9ezv1CIG"
      }
    },
    {
      "cell_type": "code",
      "source": [
        "from sklearn.model_selection import GridSearchCV\n",
        "\n",
        "param_grid = {\n",
        "    \"max_depth\": [3, 5, 10, None],\n",
        "    \"min_samples_split\": [2, 5, 10]\n",
        "}\n",
        "\n",
        "grid_search = GridSearchCV(DecisionTreeClassifier(), param_grid, cv=5)\n",
        "grid_search.fit(X_train, y_train)\n",
        "\n",
        "print(\"Best Parameters:\", grid_search.best_params_)\n"
      ],
      "metadata": {
        "colab": {
          "base_uri": "https://localhost:8080/"
        },
        "id": "DOqdboxD1EGf",
        "outputId": "e1cd5570-0a81-4fc5-d21f-88ad5dc17c69"
      },
      "execution_count": 16,
      "outputs": [
        {
          "output_type": "stream",
          "name": "stdout",
          "text": [
            "Best Parameters: {'max_depth': 10, 'min_samples_split': 2}\n"
          ]
        }
      ]
    }
  ]
}
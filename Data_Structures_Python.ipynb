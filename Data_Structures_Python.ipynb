{
  "nbformat": 4,
  "nbformat_minor": 0,
  "metadata": {
    "colab": {
      "provenance": []
    },
    "kernelspec": {
      "name": "python3",
      "display_name": "Python 3"
    },
    "language_info": {
      "name": "python"
    }
  },
  "cells": [
    {
      "cell_type": "markdown",
      "source": [
        "#Q1. Write a code to reverse a string."
      ],
      "metadata": {
        "id": "fneDjYISjTzQ"
      }
    },
    {
      "cell_type": "code",
      "execution_count": null,
      "metadata": {
        "id": "Raje507gge8z"
      },
      "outputs": [],
      "source": [
        "def reverse_string(s):\n",
        "    return s[::-1]\n"
      ]
    },
    {
      "cell_type": "markdown",
      "source": [
        "#Q2. Write a code to count the number of vowels in a string."
      ],
      "metadata": {
        "id": "PiKsljcwkX2j"
      }
    },
    {
      "cell_type": "code",
      "source": [
        "def count_vowels(s):\n",
        "    return sum(1 for ch in s.lower() if ch in 'aeiou')\n"
      ],
      "metadata": {
        "id": "2syRH6kNkf7C"
      },
      "execution_count": null,
      "outputs": []
    },
    {
      "cell_type": "markdown",
      "source": [
        "#Q3. Write a code to check if a given string is a palindrome or not."
      ],
      "metadata": {
        "id": "hJXihhWmk5_e"
      }
    },
    {
      "cell_type": "code",
      "source": [
        "def is_palindrome(s):\n",
        "    return s == s[::-1]\n"
      ],
      "metadata": {
        "id": "oDz_Q-dilHBY"
      },
      "execution_count": null,
      "outputs": []
    },
    {
      "cell_type": "markdown",
      "source": [
        "#Q4. Write a code to check if two given strings are anagrams of each other."
      ],
      "metadata": {
        "id": "97jY8KcvlJeV"
      }
    },
    {
      "cell_type": "code",
      "source": [
        "def are_anagrams(str1, str2):\n",
        "    return sorted(str1) == sorted(str2)\n"
      ],
      "metadata": {
        "id": "ZtglxxvQlPtW"
      },
      "execution_count": null,
      "outputs": []
    },
    {
      "cell_type": "markdown",
      "source": [
        "#Q5. Write a code to find all occurrences of a given substring within another string."
      ],
      "metadata": {
        "id": "QuwYiDJvlb-S"
      }
    },
    {
      "cell_type": "code",
      "source": [
        "def find_substring_occurrences(main_str, sub_str):\n",
        "    indices = []\n",
        "    index = main_str.find(sub_str)\n",
        "    while index != -1:\n",
        "        indices.append(index)\n",
        "        index = main_str.find(sub_str, index + 1)\n",
        "    return indices\n"
      ],
      "metadata": {
        "id": "s4MUDZQFlkqm"
      },
      "execution_count": null,
      "outputs": []
    },
    {
      "cell_type": "markdown",
      "source": [
        "#Q6. Write a code to perform basic string compression using the counts of repeated characters."
      ],
      "metadata": {
        "id": "RbZKmrCHluvu"
      }
    },
    {
      "cell_type": "code",
      "source": [
        "def compress_string(s):\n",
        "    if not s:\n",
        "        return \"\"\n",
        "    result = []\n",
        "    count = 1\n",
        "    for i in range(1, len(s)):\n",
        "        if s[i] == s[i-1]:\n",
        "            count += 1\n",
        "        else:\n",
        "            result.append(s[i-1] + str(count))\n",
        "            count = 1\n",
        "    result.append(s[-1] + str(count))\n",
        "    return ''.join(result)\n"
      ],
      "metadata": {
        "id": "ORptkXSilxJO"
      },
      "execution_count": null,
      "outputs": []
    },
    {
      "cell_type": "markdown",
      "source": [
        "#Q7.  Write a code to determine if a string has all unique characters."
      ],
      "metadata": {
        "id": "B6f0WPRvl1_B"
      }
    },
    {
      "cell_type": "code",
      "source": [
        "def has_all_unique_chars(s):\n",
        "    seen = set()\n",
        "    for char in s:\n",
        "        if char in seen:\n",
        "            return False\n",
        "        seen.add(char)\n",
        "    return True\n"
      ],
      "metadata": {
        "id": "uPI3AiNlmJZP"
      },
      "execution_count": null,
      "outputs": []
    },
    {
      "cell_type": "markdown",
      "source": [
        "#Q8. Write a code to convert a given string to uppercase or lowercase."
      ],
      "metadata": {
        "id": "37WKlGIamXld"
      }
    },
    {
      "cell_type": "code",
      "source": [
        "def convert_case(s, to_upper=True):\n",
        "    return s.upper() if to_upper else s.lower()"
      ],
      "metadata": {
        "id": "KUJl76LQmfPz"
      },
      "execution_count": null,
      "outputs": []
    },
    {
      "cell_type": "markdown",
      "source": [
        "#Q9. Write a code to count the number of words in a string."
      ],
      "metadata": {
        "id": "TRnGodDDmyiO"
      }
    },
    {
      "cell_type": "code",
      "source": [
        "def count_words(s):\n",
        "    return len(s.split())\n"
      ],
      "metadata": {
        "id": "AOgyKJnnm4Ir"
      },
      "execution_count": null,
      "outputs": []
    },
    {
      "cell_type": "markdown",
      "source": [
        "#Q10. Write a code to concatenate two strings without using the + operator."
      ],
      "metadata": {
        "id": "vSsNQcYEm7-C"
      }
    },
    {
      "cell_type": "code",
      "source": [
        "def concat_strings(str1, str2):\n",
        "    return ''.join([str1, str2])\n"
      ],
      "metadata": {
        "id": "IZqHmAIXnBCq"
      },
      "execution_count": null,
      "outputs": []
    },
    {
      "cell_type": "markdown",
      "source": [
        "#Q11. Write a code to remove all occurrences of a specific element from a list."
      ],
      "metadata": {
        "id": "zYSCG8Ignmrf"
      }
    },
    {
      "cell_type": "code",
      "source": [
        "def remove_element(lst, target):\n",
        "    return [item for item in lst if item != target]\n"
      ],
      "metadata": {
        "id": "c96Qwo8Tnpbc"
      },
      "execution_count": null,
      "outputs": []
    },
    {
      "cell_type": "markdown",
      "source": [
        "#Q12. Implement a code to find the second largest number in a given list of integers."
      ],
      "metadata": {
        "id": "6z3-fE5Mnt7f"
      }
    },
    {
      "cell_type": "code",
      "source": [
        "def second_largest(numbers):\n",
        "    unique = list(set(numbers))\n",
        "    if len(unique) < 2:\n",
        "        return None\n",
        "    unique.sort()\n",
        "    return unique[-2]\n"
      ],
      "metadata": {
        "id": "6JMhQW5Kny-A"
      },
      "execution_count": null,
      "outputs": []
    },
    {
      "cell_type": "markdown",
      "source": [
        "#Q13.Create a code to count the occurrences of each element in a list and return a dictionary with elements as keys and their counts as values."
      ],
      "metadata": {
        "id": "CcY0N2tvn3A7"
      }
    },
    {
      "cell_type": "code",
      "source": [
        "def count_elements(lst):\n",
        "    counts = {}\n",
        "    for item in lst:\n",
        "        counts[item] = counts.get(item, 0) + 1\n",
        "    return counts\n"
      ],
      "metadata": {
        "id": "luTOpTPRoJEa"
      },
      "execution_count": null,
      "outputs": []
    },
    {
      "cell_type": "markdown",
      "source": [
        "#Q14. Write a code to reverse a list in-place without using any built-in reverse functions."
      ],
      "metadata": {
        "id": "-tNqT3WeoKz6"
      }
    },
    {
      "cell_type": "code",
      "source": [
        "def reverse_list(lst):\n",
        "    for i in range(len(lst) // 2):\n",
        "        lst[i], lst[-i-1] = lst[-i-1], lst[i]\n",
        "    return lst\n"
      ],
      "metadata": {
        "id": "_vTYTBg3oUPu"
      },
      "execution_count": null,
      "outputs": []
    },
    {
      "cell_type": "markdown",
      "source": [
        "#Q15. Implement a code to find and remove duplicates from a list while preserving the original order of elements."
      ],
      "metadata": {
        "id": "0xmkzvkEoYPH"
      }
    },
    {
      "cell_type": "code",
      "source": [
        "def remove_duplicates(lst):\n",
        "    seen = set()\n",
        "    result = []\n",
        "    for item in lst:\n",
        "        if item not in seen:\n",
        "            seen.add(item)\n",
        "            result.append(item)\n",
        "    return result\n"
      ],
      "metadata": {
        "id": "bspqDbBdoj2z"
      },
      "execution_count": null,
      "outputs": []
    },
    {
      "cell_type": "markdown",
      "source": [
        "#Q16. Create a code to check if a given list is sorted (either in ascending or descending order) or not."
      ],
      "metadata": {
        "id": "vqQbPo5EoljU"
      }
    },
    {
      "cell_type": "code",
      "source": [
        "def is_sorted(lst):\n",
        "    return lst == sorted(lst) or lst == sorted(lst, reverse=True)\n"
      ],
      "metadata": {
        "id": "EOfncA_mowao"
      },
      "execution_count": null,
      "outputs": []
    },
    {
      "cell_type": "markdown",
      "source": [
        "#Q17. Write a code to merge two sorted lists into a single sorted list."
      ],
      "metadata": {
        "id": "eOeuj1O9oy_F"
      }
    },
    {
      "cell_type": "code",
      "source": [
        "def merge_sorted_lists(a, b):\n",
        "    i = j = 0\n",
        "    merged = []\n",
        "    while i < len(a) and j < len(b):\n",
        "        if a[i] <= b[j]:\n",
        "            merged.append(a[i])\n",
        "            i += 1\n",
        "        else:\n",
        "            merged.append(b[j])\n",
        "            j += 1\n",
        "    merged.extend(a[i:])\n",
        "    merged.extend(b[j:])\n",
        "    return merged\n"
      ],
      "metadata": {
        "id": "Fmp5QK8eo42E"
      },
      "execution_count": null,
      "outputs": []
    },
    {
      "cell_type": "markdown",
      "source": [
        "#Q18. Implement a code to find the intersection of two given lists."
      ],
      "metadata": {
        "id": "MNGmOkZuo90P"
      }
    },
    {
      "cell_type": "code",
      "source": [
        "def list_intersection(list1, list2):\n",
        "    return list(set(list1) & set(list2))\n"
      ],
      "metadata": {
        "id": "DfQybMh6pDur"
      },
      "execution_count": null,
      "outputs": []
    },
    {
      "cell_type": "markdown",
      "source": [
        "##Q19: Create a code to find the union of two lists without duplicates."
      ],
      "metadata": {
        "id": "I0hotTRM60NP"
      }
    },
    {
      "cell_type": "code",
      "source": [
        "def union_of_lists(list1, list2):\n",
        "    return list(set(list1 + list2))\n"
      ],
      "metadata": {
        "id": "AVmk5Tc27BMO"
      },
      "execution_count": null,
      "outputs": []
    },
    {
      "cell_type": "markdown",
      "source": [
        "##Q20: Write a code to shuffle a given list randomly without using any built-in shuffle functions."
      ],
      "metadata": {
        "id": "WqDyV7ha7Emf"
      }
    },
    {
      "cell_type": "code",
      "source": [
        "import random\n",
        "def shuffle_list(lst):\n",
        "    shuffled = lst[:]\n",
        "    for i in range(len(shuffled) - 1, 0, -1):\n",
        "        j = random.randint(0, i)\n",
        "        shuffled[i], shuffled[j] = shuffled[j], shuffled[i]\n",
        "    return shuffled\n"
      ],
      "metadata": {
        "id": "spBouvYE7HZ3"
      },
      "execution_count": null,
      "outputs": []
    },
    {
      "cell_type": "markdown",
      "source": [
        "##Q21: Write a code that takes two tuples as input and returns a new tuple containing elements that are common to both input tuples."
      ],
      "metadata": {
        "id": "kQTQvfMb7KsG"
      }
    },
    {
      "cell_type": "code",
      "source": [
        "def common_elements_in_tuples(t1, t2):\n",
        "    return tuple(set(t1) & set(t2))\n"
      ],
      "metadata": {
        "id": "peXrGh577MJ_"
      },
      "execution_count": null,
      "outputs": []
    },
    {
      "cell_type": "markdown",
      "source": [
        "##Q22: Create a code that prompts the user to enter two sets of integers separated by commas. Then, print the intersection of these two sets."
      ],
      "metadata": {
        "id": "2a-rPf0I7PJH"
      }
    },
    {
      "cell_type": "code",
      "source": [
        "def intersection_from_input():\n",
        "    set1 = set(map(int, input(\"Enter first set of integers: \").split(',')))\n",
        "    set2 = set(map(int, input(\"Enter second set of integers: \").split(',')))\n",
        "    print(set1 & set2)\n"
      ],
      "metadata": {
        "id": "WhHlqYlY7Qvf"
      },
      "execution_count": null,
      "outputs": []
    },
    {
      "cell_type": "markdown",
      "source": [
        "##Q23: Write a code to concatenate two tuples."
      ],
      "metadata": {
        "id": "PUAWRaqA7Wxf"
      }
    },
    {
      "cell_type": "code",
      "source": [
        "def concatenate_tuples(t1, t2):\n",
        "    return t1 + t2\n"
      ],
      "metadata": {
        "id": "qhGE1Yxt7YtP"
      },
      "execution_count": null,
      "outputs": []
    },
    {
      "cell_type": "markdown",
      "source": [
        "##Q24: Develop a code that prompts the user to input two sets of strings. Then, print the elements that are present in the first set but not in the second set."
      ],
      "metadata": {
        "id": "JKTyjTl17aSN"
      }
    },
    {
      "cell_type": "code",
      "source": [
        "def difference_in_string_sets():\n",
        "    s1 = set(input(\"Enter first set of strings: \").split(','))\n",
        "    s2 = set(input(\"Enter second set of strings: \").split(','))\n",
        "    print(s1 - s2)\n"
      ],
      "metadata": {
        "id": "Q4tQi-F27cum"
      },
      "execution_count": null,
      "outputs": []
    },
    {
      "cell_type": "markdown",
      "source": [
        "##Q25: Create a code that takes a tuple and two integers as input and returns a new tuple from the specified range.\n"
      ],
      "metadata": {
        "id": "mjegIaVt7erl"
      }
    },
    {
      "cell_type": "code",
      "source": [
        "def slice_tuple(tup, start, end):\n",
        "    return tup[start:end]\n"
      ],
      "metadata": {
        "id": "UThKi39j7iCl"
      },
      "execution_count": null,
      "outputs": []
    },
    {
      "cell_type": "markdown",
      "source": [
        "##Q26: Write a code that prompts the user to input two sets of characters. Then, print the union of these two sets."
      ],
      "metadata": {
        "id": "deRo1EBf7j6t"
      }
    },
    {
      "cell_type": "code",
      "source": [
        "def union_of_character_sets():\n",
        "    s1 = set(input(\"Enter first set of characters: \"))\n",
        "    s2 = set(input(\"Enter second set of characters: \"))\n",
        "    print(s1 | s2)\n"
      ],
      "metadata": {
        "id": "DkEzD8xB7mMC"
      },
      "execution_count": null,
      "outputs": []
    },
    {
      "cell_type": "markdown",
      "source": [
        "##Q27: Develop a code that takes a tuple of integers as input. Return max and min values using tuple unpacking.\n"
      ],
      "metadata": {
        "id": "TL4AjFl57pRz"
      }
    },
    {
      "cell_type": "code",
      "source": [
        "def min_max_from_tuple(tup):\n",
        "    return max(tup), min(tup)\n"
      ],
      "metadata": {
        "id": "Xz2ai-0U7zES"
      },
      "execution_count": null,
      "outputs": []
    },
    {
      "cell_type": "markdown",
      "source": [
        "##Q28: Create a code that defines two sets of integers and prints union, intersection, and difference."
      ],
      "metadata": {
        "id": "IfP30Zjv7204"
      }
    },
    {
      "cell_type": "code",
      "source": [
        "def set_operations():\n",
        "    s1 = {1, 2, 3, 4}\n",
        "    s2 = {3, 4, 5, 6}\n",
        "    print(\"Union:\", s1 | s2)\n",
        "    print(\"Intersection:\", s1 & s2)\n",
        "    print(\"Difference:\", s1 - s2)\n"
      ],
      "metadata": {
        "id": "M2V4Gbfs734I"
      },
      "execution_count": null,
      "outputs": []
    },
    {
      "cell_type": "markdown",
      "source": [
        "##Q29: Write a code that takes a tuple and an element as input and returns the count of occurrences.\n"
      ],
      "metadata": {
        "id": "tkyk66cl75kw"
      }
    },
    {
      "cell_type": "code",
      "source": [
        "def count_element(tup, elem):\n",
        "    return tup.count(elem)\n"
      ],
      "metadata": {
        "id": "Kc0pgowd78rg"
      },
      "execution_count": null,
      "outputs": []
    },
    {
      "cell_type": "markdown",
      "source": [
        "##Q30: Develop a code that prompts the user to input two sets of strings. Print the symmetric difference."
      ],
      "metadata": {
        "id": "TZ_L3p6t7-K4"
      }
    },
    {
      "cell_type": "code",
      "source": [
        "def symmetric_difference_strings():\n",
        "    s1 = set(input(\"Enter first set of strings: \").split(','))\n",
        "    s2 = set(input(\"Enter second set of strings: \").split(','))\n",
        "    print(s1 ^ s2)\n"
      ],
      "metadata": {
        "id": "7tPo15pB8A6w"
      },
      "execution_count": null,
      "outputs": []
    },
    {
      "cell_type": "markdown",
      "source": [
        "##Q31: Write a code that takes a list of words and returns a dictionary of word frequencies."
      ],
      "metadata": {
        "id": "KcLJrRca8DeN"
      }
    },
    {
      "cell_type": "code",
      "source": [
        "def word_frequency(words):\n",
        "    freq = {}\n",
        "    for word in words:\n",
        "        freq[word] = freq.get(word, 0) + 1\n",
        "    return freq\n"
      ],
      "metadata": {
        "id": "1c7JUOeo8EZm"
      },
      "execution_count": null,
      "outputs": []
    },
    {
      "cell_type": "markdown",
      "source": [
        "##Q32: Write a code that takes two dictionaries as input and merges them. Add values of common keys."
      ],
      "metadata": {
        "id": "7TYoNxXY8F9l"
      }
    },
    {
      "cell_type": "code",
      "source": [
        "def merge_dictionaries(d1, d2):\n",
        "    result = d1.copy()\n",
        "    for k, v in d2.items():\n",
        "        if k in result:\n",
        "            result[k] += v\n",
        "        else:\n",
        "            result[k] = v\n",
        "    return result\n"
      ],
      "metadata": {
        "id": "MIoHMMZ58JG1"
      },
      "execution_count": null,
      "outputs": []
    },
    {
      "cell_type": "markdown",
      "source": [
        "##Q33: Write a code to access a value in a nested dictionary using a list of keys."
      ],
      "metadata": {
        "id": "ruAMVIT28L3e"
      }
    },
    {
      "cell_type": "code",
      "source": [
        "def access_nested_dict(d, keys):\n",
        "    for key in keys:\n",
        "        if isinstance(d, dict) and key in d:\n",
        "            d = d[key]\n",
        "        else:\n",
        "            return None\n",
        "    return d\n"
      ],
      "metadata": {
        "id": "i34czq3C8Oru"
      },
      "execution_count": null,
      "outputs": []
    },
    {
      "cell_type": "markdown",
      "source": [
        "##Q34: Write a code that takes a dictionary as input and returns a sorted version by values."
      ],
      "metadata": {
        "id": "dre96nbp8QQu"
      }
    },
    {
      "cell_type": "code",
      "source": [
        "def sort_dict_by_value(d, descending=False):\n",
        "    return dict(sorted(d.items(), key=lambda item: item[1], reverse=descending))\n"
      ],
      "metadata": {
        "id": "sp_Fiw5_8Ta6"
      },
      "execution_count": null,
      "outputs": []
    },
    {
      "cell_type": "markdown",
      "source": [
        "##Q35: Write a code that inverts a dictionary, swapping keys and values. Group keys with same value."
      ],
      "metadata": {
        "id": "OUyS28ri8WFr"
      }
    },
    {
      "cell_type": "code",
      "source": [
        "def invert_dictionary(d):\n",
        "    inv = {}\n",
        "    for k, v in d.items():\n",
        "        if v in inv:\n",
        "            inv[v].append(k)\n",
        "        else:\n",
        "            inv[v] = [k]\n",
        "    return inv\n"
      ],
      "metadata": {
        "id": "Waj7B4ST8X7b"
      },
      "execution_count": null,
      "outputs": []
    }
  ]
}